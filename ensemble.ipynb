{
 "cells": [
  {
   "cell_type": "code",
   "execution_count": null,
   "metadata": {},
   "outputs": [],
   "source": [
    "from brew.base import Ensemble\n",
    "from brew.stacking import EnsembleStackClassifier,EnsembleStack\n",
    "import sklearn\n",
    "\n",
    "class EnsembleStackClassifierEx(EnsembleStackClassifier):\n",
    "    def __init__(self, stack, combiner=None):\n",
    "        EnsembleStackClassifier.__init__(self, stack,combiner)\n",
    "        \n",
    "    def score(self, X, y, sample_weight=None):\n",
    "        return (self.predict(X)==y).astype(float).sum()/len(X)\n",
    "    \n",
    "    def get_params(self, deep=True):\n",
    "        return {'stack':self.stack}\n",
    "    "
   ]
  },
  {
   "cell_type": "markdown",
   "metadata": {},
   "source": [
    "[stacked regressor](https://www.otexts.org/1536)"
   ]
  },
  {
   "cell_type": "code",
   "execution_count": null,
   "metadata": {
    "collapsed": true
   },
   "outputs": [],
   "source": [
    "from sklearn.base import RegressorMixin\n",
    "class StackRegressor(RegressorMixin):\n",
    "    def __init__(self,base_regs,second_reg):\n",
    "        self.base_regs=base_regs\n",
    "        self.second_reg=second_reg\n",
    "        \n",
    "    def fit(self,X,y):\n",
    "        base_regs.fit(X)\n",
    "        new_y=base_regs.predict(new_X)\n",
    "        \n",
    "    \n",
    "    def predict(self,X):\n",
    "        pass\n",
    "    "
   ]
  },
  {
   "cell_type": "code",
   "execution_count": null,
   "metadata": {},
   "outputs": [],
   "source": [
    "from sklearn.linear_model import LinearRegression\n",
    "help(LinearRegression)"
   ]
  }
 ],
 "metadata": {
  "kernelspec": {
   "display_name": "Python 3",
   "language": "python",
   "name": "python3"
  },
  "language_info": {
   "codemirror_mode": {
    "name": "ipython",
    "version": 3
   },
   "file_extension": ".py",
   "mimetype": "text/x-python",
   "name": "python",
   "nbconvert_exporter": "python",
   "pygments_lexer": "ipython3",
   "version": "3.5.3"
  }
 },
 "nbformat": 4,
 "nbformat_minor": 2
}
