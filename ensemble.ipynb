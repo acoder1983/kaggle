{
 "cells": [
  {
   "cell_type": "code",
   "execution_count": null,
   "metadata": {
    "collapsed": true
   },
   "outputs": [],
   "source": [
    "from brew.base import Ensemble\n",
    "from brew.stacking import EnsembleStackClassifier,EnsembleStack\n",
    "import sklearn\n",
    "\n",
    "class EnsembleStackClassifierEx(EnsembleStackClassifier):\n",
    "    def __init__(self, stack, combiner=None):\n",
    "        EnsembleStackClassifier.__init__(self, stack,combiner)\n",
    "        \n",
    "    def score(self, X, y, sample_weight=None):\n",
    "        return (self.predict(X)==y).astype(float).sum()/len(X)\n",
    "    \n",
    "    def get_params(self, deep=True):\n",
    "        return {'stack':self.stack}\n",
    "    "
   ]
  },
  {
   "cell_type": "markdown",
   "metadata": {},
   "source": [
    "[stacked regressor](https://www.otexts.org/1536)"
   ]
  },
  {
   "cell_type": "code",
   "execution_count": 4,
   "metadata": {
    "collapsed": true
   },
   "outputs": [],
   "source": [
    "from sklearn.base import RegressorMixin\n",
    "from sklearn.model_selection import train_test_split\n",
    "import pandas as pd\n",
    "\n",
    "class StackRegressor(RegressorMixin):\n",
    "    def __init__(self,base_regs,second_reg,train_size):\n",
    "        self.base_regs=base_regs\n",
    "        self.second_reg=second_reg\n",
    "        self.train_size=train_size\n",
    "        \n",
    "    def fit(self,X,y):\n",
    "        X_train, X_test, y_train, y_test=train_test_split(X,y,train_size=self.train_size)\n",
    "        df=pd.DataFrame()\n",
    "        for r in self.base_regs:\n",
    "            r.fit(X_train,y_train)\n",
    "            df[r.__class__.__name__]=r.predict(X_test)\n",
    "        self.second_reg.fit(df,y_test)\n",
    "    \n",
    "    def predict(self,X):\n",
    "        df=pd.DataFrame()\n",
    "        for r in self.base_regs:\n",
    "            df[r.__class__.__name__]=r.predict(X)\n",
    "        return self.second_reg.predict(df)\n",
    "        \n",
    "    def get_params(self,deep=True):\n",
    "        return {'base_regs':self.base_regs,'second_reg':self.second_reg,'train_size':self.train_size}"
   ]
  }
 ],
 "metadata": {
  "kernelspec": {
   "display_name": "Python 3",
   "language": "python",
   "name": "python3"
  },
  "language_info": {
   "codemirror_mode": {
    "name": "ipython",
    "version": 3
   },
   "file_extension": ".py",
   "mimetype": "text/x-python",
   "name": "python",
   "nbconvert_exporter": "python",
   "pygments_lexer": "ipython3",
   "version": "3.5.3"
  }
 },
 "nbformat": 4,
 "nbformat_minor": 2
}
