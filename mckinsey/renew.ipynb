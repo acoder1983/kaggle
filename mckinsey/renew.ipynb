{
 "cells": [
  {
   "cell_type": "code",
   "execution_count": 11,
   "metadata": {},
   "outputs": [],
   "source": [
    "import numpy as np\n",
    "import pandas as pd\n",
    "import sklearn\n",
    "import keras\n",
    "from sklearn.preprocessing import LabelEncoder\n",
    "from sklearn.model_selection import cross_val_score,GridSearchCV,train_test_split\n",
    "from sklearn.metrics import accuracy_score,roc_auc_score\n",
    "from brew.base import Ensemble\n",
    "from brew.stacking import EnsembleStackClassifier,EnsembleStack\n",
    "from sklearn.linear_model import LogisticRegression\n",
    "from sklearn.neighbors import KNeighborsClassifier\n",
    "from sklearn.naive_bayes import GaussianNB\n",
    "from sklearn.svm import SVC,LinearSVR\n",
    "from sklearn.neural_network import MLPClassifier\n",
    "from sklearn.ensemble import RandomForestClassifier, AdaBoostClassifier, ExtraTreesClassifier\n",
    "from sklearn.ensemble import GradientBoostingClassifier\n",
    "from xgboost import XGBClassifier\n",
    "from lightgbm import LGBMClassifier\n",
    "from util import *\n",
    "import matplotlib.pyplot as plt\n",
    "%matplotlib inline"
   ]
  },
  {
   "cell_type": "code",
   "execution_count": 2,
   "metadata": {},
   "outputs": [
    {
     "data": {
      "text/html": [
       "<div>\n",
       "<style>\n",
       "    .dataframe thead tr:only-child th {\n",
       "        text-align: right;\n",
       "    }\n",
       "\n",
       "    .dataframe thead th {\n",
       "        text-align: left;\n",
       "    }\n",
       "\n",
       "    .dataframe tbody tr th {\n",
       "        vertical-align: top;\n",
       "    }\n",
       "</style>\n",
       "<table border=\"1\" class=\"dataframe\">\n",
       "  <thead>\n",
       "    <tr style=\"text-align: right;\">\n",
       "      <th></th>\n",
       "      <th>id</th>\n",
       "      <th>perc_premium_paid_by_cash_credit</th>\n",
       "      <th>age_in_days</th>\n",
       "      <th>Income</th>\n",
       "      <th>Count_3-6_months_late</th>\n",
       "      <th>Count_6-12_months_late</th>\n",
       "      <th>Count_more_than_12_months_late</th>\n",
       "      <th>application_underwriting_score</th>\n",
       "      <th>no_of_premiums_paid</th>\n",
       "      <th>premium</th>\n",
       "      <th>renewal</th>\n",
       "    </tr>\n",
       "  </thead>\n",
       "  <tbody>\n",
       "    <tr>\n",
       "      <th>count</th>\n",
       "      <td>79853.000000</td>\n",
       "      <td>79853.000000</td>\n",
       "      <td>79853.000000</td>\n",
       "      <td>7.985300e+04</td>\n",
       "      <td>79756.000000</td>\n",
       "      <td>79756.000000</td>\n",
       "      <td>79756.000000</td>\n",
       "      <td>76879.000000</td>\n",
       "      <td>79853.000000</td>\n",
       "      <td>79853.000000</td>\n",
       "      <td>79853.000000</td>\n",
       "    </tr>\n",
       "    <tr>\n",
       "      <th>mean</th>\n",
       "      <td>57167.166368</td>\n",
       "      <td>0.314288</td>\n",
       "      <td>18846.696906</td>\n",
       "      <td>2.088472e+05</td>\n",
       "      <td>0.248671</td>\n",
       "      <td>0.078188</td>\n",
       "      <td>0.060008</td>\n",
       "      <td>99.067291</td>\n",
       "      <td>10.863887</td>\n",
       "      <td>10924.507533</td>\n",
       "      <td>0.937410</td>\n",
       "    </tr>\n",
       "    <tr>\n",
       "      <th>std</th>\n",
       "      <td>32928.970160</td>\n",
       "      <td>0.334915</td>\n",
       "      <td>5208.719136</td>\n",
       "      <td>4.965826e+05</td>\n",
       "      <td>0.691468</td>\n",
       "      <td>0.436507</td>\n",
       "      <td>0.312023</td>\n",
       "      <td>0.739799</td>\n",
       "      <td>5.170687</td>\n",
       "      <td>9401.676542</td>\n",
       "      <td>0.242226</td>\n",
       "    </tr>\n",
       "    <tr>\n",
       "      <th>min</th>\n",
       "      <td>2.000000</td>\n",
       "      <td>0.000000</td>\n",
       "      <td>7670.000000</td>\n",
       "      <td>2.403000e+04</td>\n",
       "      <td>0.000000</td>\n",
       "      <td>0.000000</td>\n",
       "      <td>0.000000</td>\n",
       "      <td>91.900000</td>\n",
       "      <td>2.000000</td>\n",
       "      <td>1200.000000</td>\n",
       "      <td>0.000000</td>\n",
       "    </tr>\n",
       "    <tr>\n",
       "      <th>25%</th>\n",
       "      <td>28640.000000</td>\n",
       "      <td>0.034000</td>\n",
       "      <td>14974.000000</td>\n",
       "      <td>1.080100e+05</td>\n",
       "      <td>0.000000</td>\n",
       "      <td>0.000000</td>\n",
       "      <td>0.000000</td>\n",
       "      <td>98.810000</td>\n",
       "      <td>7.000000</td>\n",
       "      <td>5400.000000</td>\n",
       "      <td>1.000000</td>\n",
       "    </tr>\n",
       "    <tr>\n",
       "      <th>50%</th>\n",
       "      <td>57262.000000</td>\n",
       "      <td>0.167000</td>\n",
       "      <td>18625.000000</td>\n",
       "      <td>1.665600e+05</td>\n",
       "      <td>0.000000</td>\n",
       "      <td>0.000000</td>\n",
       "      <td>0.000000</td>\n",
       "      <td>99.210000</td>\n",
       "      <td>10.000000</td>\n",
       "      <td>7500.000000</td>\n",
       "      <td>1.000000</td>\n",
       "    </tr>\n",
       "    <tr>\n",
       "      <th>75%</th>\n",
       "      <td>85632.000000</td>\n",
       "      <td>0.538000</td>\n",
       "      <td>22636.000000</td>\n",
       "      <td>2.520900e+05</td>\n",
       "      <td>0.000000</td>\n",
       "      <td>0.000000</td>\n",
       "      <td>0.000000</td>\n",
       "      <td>99.540000</td>\n",
       "      <td>14.000000</td>\n",
       "      <td>13800.000000</td>\n",
       "      <td>1.000000</td>\n",
       "    </tr>\n",
       "    <tr>\n",
       "      <th>max</th>\n",
       "      <td>114076.000000</td>\n",
       "      <td>1.000000</td>\n",
       "      <td>37602.000000</td>\n",
       "      <td>9.026260e+07</td>\n",
       "      <td>13.000000</td>\n",
       "      <td>17.000000</td>\n",
       "      <td>11.000000</td>\n",
       "      <td>99.890000</td>\n",
       "      <td>60.000000</td>\n",
       "      <td>60000.000000</td>\n",
       "      <td>1.000000</td>\n",
       "    </tr>\n",
       "  </tbody>\n",
       "</table>\n",
       "</div>"
      ],
      "text/plain": [
       "                  id  perc_premium_paid_by_cash_credit   age_in_days  \\\n",
       "count   79853.000000                      79853.000000  79853.000000   \n",
       "mean    57167.166368                          0.314288  18846.696906   \n",
       "std     32928.970160                          0.334915   5208.719136   \n",
       "min         2.000000                          0.000000   7670.000000   \n",
       "25%     28640.000000                          0.034000  14974.000000   \n",
       "50%     57262.000000                          0.167000  18625.000000   \n",
       "75%     85632.000000                          0.538000  22636.000000   \n",
       "max    114076.000000                          1.000000  37602.000000   \n",
       "\n",
       "             Income  Count_3-6_months_late  Count_6-12_months_late  \\\n",
       "count  7.985300e+04           79756.000000            79756.000000   \n",
       "mean   2.088472e+05               0.248671                0.078188   \n",
       "std    4.965826e+05               0.691468                0.436507   \n",
       "min    2.403000e+04               0.000000                0.000000   \n",
       "25%    1.080100e+05               0.000000                0.000000   \n",
       "50%    1.665600e+05               0.000000                0.000000   \n",
       "75%    2.520900e+05               0.000000                0.000000   \n",
       "max    9.026260e+07              13.000000               17.000000   \n",
       "\n",
       "       Count_more_than_12_months_late  application_underwriting_score  \\\n",
       "count                    79756.000000                    76879.000000   \n",
       "mean                         0.060008                       99.067291   \n",
       "std                          0.312023                        0.739799   \n",
       "min                          0.000000                       91.900000   \n",
       "25%                          0.000000                       98.810000   \n",
       "50%                          0.000000                       99.210000   \n",
       "75%                          0.000000                       99.540000   \n",
       "max                         11.000000                       99.890000   \n",
       "\n",
       "       no_of_premiums_paid       premium       renewal  \n",
       "count         79853.000000  79853.000000  79853.000000  \n",
       "mean             10.863887  10924.507533      0.937410  \n",
       "std               5.170687   9401.676542      0.242226  \n",
       "min               2.000000   1200.000000      0.000000  \n",
       "25%               7.000000   5400.000000      1.000000  \n",
       "50%              10.000000   7500.000000      1.000000  \n",
       "75%              14.000000  13800.000000      1.000000  \n",
       "max              60.000000  60000.000000      1.000000  "
      ]
     },
     "execution_count": 2,
     "metadata": {},
     "output_type": "execute_result"
    }
   ],
   "source": [
    "train_data=pd.read_csv(\"raw/train.csv\")\n",
    "test_data=pd.read_csv(\"raw/test.csv\")\n",
    "Y=train_data.renewal\n",
    "results=test_data[['id']].copy()\n",
    "train_data.describe()"
   ]
  },
  {
   "cell_type": "code",
   "execution_count": 3,
   "metadata": {},
   "outputs": [],
   "source": [
    "# not_renew_cnt=train_data[train_data.renewal==0].shape[0]\n",
    "# train_data=pd.concat([train_data[train_data.renewal==1].sample(not_renew_cnt),train_data[train_data.renewal==0]])\n",
    "# Y=train_data.renewal\n",
    "# train_data.shape"
   ]
  },
  {
   "cell_type": "code",
   "execution_count": 4,
   "metadata": {},
   "outputs": [
    {
     "data": {
      "text/html": [
       "<div>\n",
       "<style>\n",
       "    .dataframe thead tr:only-child th {\n",
       "        text-align: right;\n",
       "    }\n",
       "\n",
       "    .dataframe thead th {\n",
       "        text-align: left;\n",
       "    }\n",
       "\n",
       "    .dataframe tbody tr th {\n",
       "        vertical-align: top;\n",
       "    }\n",
       "</style>\n",
       "<table border=\"1\" class=\"dataframe\">\n",
       "  <thead>\n",
       "    <tr style=\"text-align: right;\">\n",
       "      <th></th>\n",
       "      <th>perc_premium_paid_by_cash_credit</th>\n",
       "      <th>age_in_days</th>\n",
       "      <th>Income</th>\n",
       "      <th>Count_3-6_months_late</th>\n",
       "      <th>Count_6-12_months_late</th>\n",
       "      <th>Count_more_than_12_months_late</th>\n",
       "      <th>application_underwriting_score</th>\n",
       "      <th>no_of_premiums_paid</th>\n",
       "      <th>sourcing_channel</th>\n",
       "      <th>residence_area_type</th>\n",
       "      <th>premium</th>\n",
       "    </tr>\n",
       "  </thead>\n",
       "  <tbody>\n",
       "    <tr>\n",
       "      <th>count</th>\n",
       "      <td>79853.000000</td>\n",
       "      <td>79853.000000</td>\n",
       "      <td>7.985300e+04</td>\n",
       "      <td>79853.000000</td>\n",
       "      <td>79853.000000</td>\n",
       "      <td>79853.000000</td>\n",
       "      <td>79853.000000</td>\n",
       "      <td>79853.000000</td>\n",
       "      <td>79853.000000</td>\n",
       "      <td>79853.000000</td>\n",
       "      <td>79853.000000</td>\n",
       "    </tr>\n",
       "    <tr>\n",
       "      <th>mean</th>\n",
       "      <td>0.314288</td>\n",
       "      <td>18846.696906</td>\n",
       "      <td>2.088472e+05</td>\n",
       "      <td>0.248369</td>\n",
       "      <td>0.078093</td>\n",
       "      <td>0.059935</td>\n",
       "      <td>98.729594</td>\n",
       "      <td>10.863887</td>\n",
       "      <td>0.822799</td>\n",
       "      <td>0.603396</td>\n",
       "      <td>10924.507533</td>\n",
       "    </tr>\n",
       "    <tr>\n",
       "      <th>std</th>\n",
       "      <td>0.334915</td>\n",
       "      <td>5208.719136</td>\n",
       "      <td>4.965826e+05</td>\n",
       "      <td>0.691102</td>\n",
       "      <td>0.436251</td>\n",
       "      <td>0.311840</td>\n",
       "      <td>1.864112</td>\n",
       "      <td>5.170687</td>\n",
       "      <td>1.052060</td>\n",
       "      <td>0.489195</td>\n",
       "      <td>9401.676542</td>\n",
       "    </tr>\n",
       "    <tr>\n",
       "      <th>min</th>\n",
       "      <td>0.000000</td>\n",
       "      <td>7670.000000</td>\n",
       "      <td>2.403000e+04</td>\n",
       "      <td>0.000000</td>\n",
       "      <td>0.000000</td>\n",
       "      <td>0.000000</td>\n",
       "      <td>90.000000</td>\n",
       "      <td>2.000000</td>\n",
       "      <td>0.000000</td>\n",
       "      <td>0.000000</td>\n",
       "      <td>1200.000000</td>\n",
       "    </tr>\n",
       "    <tr>\n",
       "      <th>25%</th>\n",
       "      <td>0.034000</td>\n",
       "      <td>14974.000000</td>\n",
       "      <td>1.080100e+05</td>\n",
       "      <td>0.000000</td>\n",
       "      <td>0.000000</td>\n",
       "      <td>0.000000</td>\n",
       "      <td>98.750000</td>\n",
       "      <td>7.000000</td>\n",
       "      <td>0.000000</td>\n",
       "      <td>0.000000</td>\n",
       "      <td>5400.000000</td>\n",
       "    </tr>\n",
       "    <tr>\n",
       "      <th>50%</th>\n",
       "      <td>0.167000</td>\n",
       "      <td>18625.000000</td>\n",
       "      <td>1.665600e+05</td>\n",
       "      <td>0.000000</td>\n",
       "      <td>0.000000</td>\n",
       "      <td>0.000000</td>\n",
       "      <td>99.180000</td>\n",
       "      <td>10.000000</td>\n",
       "      <td>0.000000</td>\n",
       "      <td>1.000000</td>\n",
       "      <td>7500.000000</td>\n",
       "    </tr>\n",
       "    <tr>\n",
       "      <th>75%</th>\n",
       "      <td>0.538000</td>\n",
       "      <td>22636.000000</td>\n",
       "      <td>2.520900e+05</td>\n",
       "      <td>0.000000</td>\n",
       "      <td>0.000000</td>\n",
       "      <td>0.000000</td>\n",
       "      <td>99.520000</td>\n",
       "      <td>14.000000</td>\n",
       "      <td>2.000000</td>\n",
       "      <td>1.000000</td>\n",
       "      <td>13800.000000</td>\n",
       "    </tr>\n",
       "    <tr>\n",
       "      <th>max</th>\n",
       "      <td>1.000000</td>\n",
       "      <td>37602.000000</td>\n",
       "      <td>9.026260e+07</td>\n",
       "      <td>13.000000</td>\n",
       "      <td>17.000000</td>\n",
       "      <td>11.000000</td>\n",
       "      <td>99.890000</td>\n",
       "      <td>60.000000</td>\n",
       "      <td>4.000000</td>\n",
       "      <td>1.000000</td>\n",
       "      <td>60000.000000</td>\n",
       "    </tr>\n",
       "  </tbody>\n",
       "</table>\n",
       "</div>"
      ],
      "text/plain": [
       "       perc_premium_paid_by_cash_credit   age_in_days        Income  \\\n",
       "count                      79853.000000  79853.000000  7.985300e+04   \n",
       "mean                           0.314288  18846.696906  2.088472e+05   \n",
       "std                            0.334915   5208.719136  4.965826e+05   \n",
       "min                            0.000000   7670.000000  2.403000e+04   \n",
       "25%                            0.034000  14974.000000  1.080100e+05   \n",
       "50%                            0.167000  18625.000000  1.665600e+05   \n",
       "75%                            0.538000  22636.000000  2.520900e+05   \n",
       "max                            1.000000  37602.000000  9.026260e+07   \n",
       "\n",
       "       Count_3-6_months_late  Count_6-12_months_late  \\\n",
       "count           79853.000000            79853.000000   \n",
       "mean                0.248369                0.078093   \n",
       "std                 0.691102                0.436251   \n",
       "min                 0.000000                0.000000   \n",
       "25%                 0.000000                0.000000   \n",
       "50%                 0.000000                0.000000   \n",
       "75%                 0.000000                0.000000   \n",
       "max                13.000000               17.000000   \n",
       "\n",
       "       Count_more_than_12_months_late  application_underwriting_score  \\\n",
       "count                    79853.000000                    79853.000000   \n",
       "mean                         0.059935                       98.729594   \n",
       "std                          0.311840                        1.864112   \n",
       "min                          0.000000                       90.000000   \n",
       "25%                          0.000000                       98.750000   \n",
       "50%                          0.000000                       99.180000   \n",
       "75%                          0.000000                       99.520000   \n",
       "max                         11.000000                       99.890000   \n",
       "\n",
       "       no_of_premiums_paid  sourcing_channel  residence_area_type  \\\n",
       "count         79853.000000      79853.000000         79853.000000   \n",
       "mean             10.863887          0.822799             0.603396   \n",
       "std               5.170687          1.052060             0.489195   \n",
       "min               2.000000          0.000000             0.000000   \n",
       "25%               7.000000          0.000000             0.000000   \n",
       "50%              10.000000          0.000000             1.000000   \n",
       "75%              14.000000          2.000000             1.000000   \n",
       "max              60.000000          4.000000             1.000000   \n",
       "\n",
       "            premium  \n",
       "count  79853.000000  \n",
       "mean   10924.507533  \n",
       "std     9401.676542  \n",
       "min     1200.000000  \n",
       "25%     5400.000000  \n",
       "50%     7500.000000  \n",
       "75%    13800.000000  \n",
       "max    60000.000000  "
      ]
     },
     "execution_count": 4,
     "metadata": {},
     "output_type": "execute_result"
    }
   ],
   "source": [
    "lbl_encoders={}\n",
    "drop_cols=['id','renewal']\n",
    "cate_cols=train_data.describe(include=['O']).columns\n",
    "log_cols=['Income','premium']\n",
    "for df in train_data,test_data:\n",
    "    df.application_underwriting_score.fillna(90,inplace=True)\n",
    "#     df.application_underwriting_score-=90\n",
    "    df.fillna(0,inplace=True)\n",
    "    \n",
    "    for c in drop_cols:\n",
    "        if c in df.columns:\n",
    "            df.drop(c,axis=1,inplace=True)\n",
    "    \n",
    "    for c in cate_cols:\n",
    "#         df[c]=df[c].astype('category')\n",
    "        if c not in lbl_encoders:\n",
    "            lbl_encoders[c]=LabelEncoder()\n",
    "            lbl_encoders[c].fit(df[c])\n",
    "        df[c]=lbl_encoders[c].transform(df[c])\n",
    "        \n",
    "#     for c in log_cols:\n",
    "#         df[c]=df[c].map(np.log)\n",
    "        \n",
    "#     df['prem_total']=df.premium*df.no_of_premiums_paid\n",
    "#     df['cash']=df.perc_premium_paid_by_cash_credit*df.premium\n",
    "train_data.describe()"
   ]
  },
  {
   "cell_type": "code",
   "execution_count": null,
   "metadata": {},
   "outputs": [],
   "source": []
  },
  {
   "cell_type": "code",
   "execution_count": 6,
   "metadata": {},
   "outputs": [
    {
     "name": "stdout",
     "output_type": "stream",
     "text": [
      "0.8365684913689323 0.004115113851856034\n"
     ]
    }
   ],
   "source": [
    "lgb = LGBMClassifier()\n",
    "scores=cross_val_score(lgb,train_data,Y,scoring=score_auc2,cv=5,n_jobs=-1)\n",
    "print(scores.mean(),scores.std())\n"
   ]
  },
  {
   "cell_type": "code",
   "execution_count": 244,
   "metadata": {},
   "outputs": [
    {
     "data": {
      "text/plain": [
       "(34224, 0.07909654043945769)"
      ]
     },
     "execution_count": 244,
     "metadata": {},
     "output_type": "execute_result"
    }
   ],
   "source": [
    "lgb.fit(train_data,Y)\n",
    "p=(lgb.predict_proba(test_data)[:,1]*100).astype('int')\n",
    "p.shape[0],np.sum(p<80)/p.shape[0]"
   ]
  },
  {
   "cell_type": "code",
   "execution_count": 243,
   "metadata": {},
   "outputs": [
    {
     "data": {
      "text/plain": [
       "0.06259000914179805"
      ]
     },
     "execution_count": 243,
     "metadata": {},
     "output_type": "execute_result"
    }
   ],
   "source": [
    "np.sum(Y==0)/Y.shape[0]"
   ]
  },
  {
   "cell_type": "code",
   "execution_count": 9,
   "metadata": {},
   "outputs": [],
   "source": [
    "x_tra,x_dev,y_tra,y_dev=train_test_split(train_data,Y,test_size=0.1)"
   ]
  },
  {
   "cell_type": "code",
   "execution_count": 18,
   "metadata": {},
   "outputs": [
    {
     "name": "stdout",
     "output_type": "stream",
     "text": [
      "_________________________________________________________________\n",
      "Layer (type)                 Output Shape              Param #   \n",
      "=================================================================\n",
      "dense_13 (Dense)             (None, 32)                384       \n",
      "_________________________________________________________________\n",
      "dropout_6 (Dropout)          (None, 32)                0         \n",
      "_________________________________________________________________\n",
      "dense_14 (Dense)             (None, 1)                 33        \n",
      "=================================================================\n",
      "Total params: 417\n",
      "Trainable params: 417\n",
      "Non-trainable params: 0\n",
      "_________________________________________________________________\n"
     ]
    }
   ],
   "source": [
    "from keras.models import Sequential\n",
    "from keras.layers import Dense,Activation,Dropout\n",
    "\n",
    "model=Sequential([\n",
    "    Dense(32, input_shape=(train_data.shape[1],),activation='tanh'),\n",
    "    Dropout(0.6),\n",
    "    Dense(1,activation='softmax')\n",
    "])\n",
    "\n",
    "model.summary()\n",
    "\n",
    "model.compile(loss=keras.losses.binary_crossentropy,optimizer=keras.optimizers.Adadelta(),\n",
    "              metrics=['accuracy'])\n"
   ]
  },
  {
   "cell_type": "code",
   "execution_count": 19,
   "metadata": {},
   "outputs": [
    {
     "name": "stdout",
     "output_type": "stream",
     "text": [
      "Train on 71867 samples, validate on 7986 samples\n",
      "Epoch 1/3\n",
      "71867/71867 [==============================] - 3s 39us/step - loss: 0.9880 - acc: 0.9380 - val_loss: 1.0860 - val_acc: 0.9319\n",
      "Epoch 2/3\n",
      "71867/71867 [==============================] - 3s 35us/step - loss: 0.9880 - acc: 0.9380 - val_loss: 1.0860 - val_acc: 0.9319\n",
      "Epoch 3/3\n",
      "71867/71867 [==============================] - 2s 34us/step - loss: 0.9880 - acc: 0.9380 - val_loss: 1.0860 - val_acc: 0.9319\n"
     ]
    },
    {
     "data": {
      "text/plain": [
       "<keras.callbacks.History at 0x1c4ae320>"
      ]
     },
     "execution_count": 19,
     "metadata": {},
     "output_type": "execute_result"
    }
   ],
   "source": [
    "model.fit(x_tra,y_tra,validation_data=(x_dev,y_dev),epochs=3)"
   ]
  },
  {
   "cell_type": "code",
   "execution_count": 229,
   "metadata": {},
   "outputs": [
    {
     "name": "stdout",
     "output_type": "stream",
     "text": [
      "0.7547994994994995 0.006924078215575824\n"
     ]
    }
   ],
   "source": [
    "rf=RandomForestClassifier(n_estimators=200,max_depth=32,n_jobs=-1)\n",
    "scores=cross_val_score(rf,train_data,Y,scoring='accuracy',cv=5,n_jobs=-1)\n",
    "print(scores.mean(),scores.std())\n",
    "# sorted(zip(X.columns,rf.feature_importances_),key=lambda x:x[1],reverse=True)"
   ]
  },
  {
   "cell_type": "code",
   "execution_count": 204,
   "metadata": {},
   "outputs": [
    {
     "name": "stderr",
     "output_type": "stream",
     "text": [
      "C:\\apps\\Anaconda2\\envs\\py3\\lib\\site-packages\\sklearn\\preprocessing\\label.py:151: DeprecationWarning: The truth value of an empty array is ambiguous. Returning False, but in future this will result in an error. Use `array.size > 0` to check that an array is not empty.\n",
      "  if diff:\n"
     ]
    }
   ],
   "source": [
    "x_tra,x_dev,y_tra,y_dev=train_test_split(train_data,Y,test_size=0.1)\n",
    "preds=np.zeros((y_dev.shape[0],2),dtype='int')\n",
    "for i,c in enumerate(best_clfs[:2]):\n",
    "    c.fit(x_tra,y_tra)\n",
    "    preds[:,i]=c.predict(x_dev)\n"
   ]
  },
  {
   "cell_type": "code",
   "execution_count": 237,
   "metadata": {},
   "outputs": [],
   "source": [
    "p1=y_dev[preds[:,0]!=y_dev]\n",
    "p2=y_dev[preds[:,1]!=y_dev]\n",
    "p1.shape[0],p2.shape[0],len(set(p1.index)&set(p2.index))\n",
    "both_idx=set(p1.index)&set(p2.index)\n"
   ]
  },
  {
   "cell_type": "code",
   "execution_count": null,
   "metadata": {},
   "outputs": [],
   "source": []
  },
  {
   "cell_type": "code",
   "execution_count": 240,
   "metadata": {},
   "outputs": [
    {
     "data": {
      "text/plain": [
       "98    30\n",
       "93    28\n",
       "97    26\n",
       "95    22\n",
       "92    22\n",
       "91    21\n",
       "96    19\n",
       "90    16\n",
       "94    15\n",
       "88    14\n",
       "89    12\n",
       "83    12\n",
       "67    11\n",
       "80    11\n",
       "87    10\n",
       "86    10\n",
       "54    10\n",
       "72    10\n",
       "81     9\n",
       "75     8\n",
       "84     8\n",
       "66     7\n",
       "73     7\n",
       "57     7\n",
       "77     7\n",
       "78     7\n",
       "79     6\n",
       "53     6\n",
       "69     6\n",
       "82     6\n",
       "52     6\n",
       "55     6\n",
       "99     6\n",
       "76     5\n",
       "70     5\n",
       "56     5\n",
       "63     5\n",
       "61     4\n",
       "74     4\n",
       "62     4\n",
       "64     4\n",
       "68     4\n",
       "71     4\n",
       "50     4\n",
       "60     3\n",
       "58     3\n",
       "85     3\n",
       "59     2\n",
       "65     1\n",
       "51     1\n",
       "dtype: int64"
      ]
     },
     "execution_count": 240,
     "metadata": {},
     "output_type": "execute_result"
    }
   ],
   "source": [
    "not_renew_idx=Y.loc[both_idx][lambda y:y==0].index\n",
    "wrong_probs=best_clfs[1].predict_proba(train_data.loc[not_renew_idx])[:,1]\n",
    "pd.Series((wrong_probs*100).astype('int')).value_counts()"
   ]
  },
  {
   "cell_type": "code",
   "execution_count": 213,
   "metadata": {},
   "outputs": [
    {
     "data": {
      "text/html": [
       "<div>\n",
       "<style>\n",
       "    .dataframe thead tr:only-child th {\n",
       "        text-align: right;\n",
       "    }\n",
       "\n",
       "    .dataframe thead th {\n",
       "        text-align: left;\n",
       "    }\n",
       "\n",
       "    .dataframe tbody tr th {\n",
       "        vertical-align: top;\n",
       "    }\n",
       "</style>\n",
       "<table border=\"1\" class=\"dataframe\">\n",
       "  <thead>\n",
       "    <tr style=\"text-align: right;\">\n",
       "      <th></th>\n",
       "      <th>perc_premium_paid_by_cash_credit</th>\n",
       "      <th>age_in_days</th>\n",
       "      <th>Income</th>\n",
       "      <th>Count_3-6_months_late</th>\n",
       "      <th>Count_6-12_months_late</th>\n",
       "      <th>Count_more_than_12_months_late</th>\n",
       "      <th>application_underwriting_score</th>\n",
       "      <th>no_of_premiums_paid</th>\n",
       "      <th>sourcing_channel</th>\n",
       "      <th>residence_area_type</th>\n",
       "      <th>premium</th>\n",
       "    </tr>\n",
       "  </thead>\n",
       "  <tbody>\n",
       "    <tr>\n",
       "      <th>count</th>\n",
       "      <td>79853.000000</td>\n",
       "      <td>79853.000000</td>\n",
       "      <td>7.985300e+04</td>\n",
       "      <td>79853.000000</td>\n",
       "      <td>79853.000000</td>\n",
       "      <td>79853.000000</td>\n",
       "      <td>79853.000000</td>\n",
       "      <td>79853.000000</td>\n",
       "      <td>79853.000000</td>\n",
       "      <td>79853.000000</td>\n",
       "      <td>79853.000000</td>\n",
       "    </tr>\n",
       "    <tr>\n",
       "      <th>mean</th>\n",
       "      <td>0.314288</td>\n",
       "      <td>18846.696906</td>\n",
       "      <td>2.088472e+05</td>\n",
       "      <td>0.248369</td>\n",
       "      <td>0.078093</td>\n",
       "      <td>0.059935</td>\n",
       "      <td>98.729594</td>\n",
       "      <td>10.863887</td>\n",
       "      <td>0.822799</td>\n",
       "      <td>0.603396</td>\n",
       "      <td>10924.507533</td>\n",
       "    </tr>\n",
       "    <tr>\n",
       "      <th>std</th>\n",
       "      <td>0.334915</td>\n",
       "      <td>5208.719136</td>\n",
       "      <td>4.965826e+05</td>\n",
       "      <td>0.691102</td>\n",
       "      <td>0.436251</td>\n",
       "      <td>0.311840</td>\n",
       "      <td>1.864112</td>\n",
       "      <td>5.170687</td>\n",
       "      <td>1.052060</td>\n",
       "      <td>0.489195</td>\n",
       "      <td>9401.676542</td>\n",
       "    </tr>\n",
       "    <tr>\n",
       "      <th>min</th>\n",
       "      <td>0.000000</td>\n",
       "      <td>7670.000000</td>\n",
       "      <td>2.403000e+04</td>\n",
       "      <td>0.000000</td>\n",
       "      <td>0.000000</td>\n",
       "      <td>0.000000</td>\n",
       "      <td>90.000000</td>\n",
       "      <td>2.000000</td>\n",
       "      <td>0.000000</td>\n",
       "      <td>0.000000</td>\n",
       "      <td>1200.000000</td>\n",
       "    </tr>\n",
       "    <tr>\n",
       "      <th>25%</th>\n",
       "      <td>0.034000</td>\n",
       "      <td>14974.000000</td>\n",
       "      <td>1.080100e+05</td>\n",
       "      <td>0.000000</td>\n",
       "      <td>0.000000</td>\n",
       "      <td>0.000000</td>\n",
       "      <td>98.750000</td>\n",
       "      <td>7.000000</td>\n",
       "      <td>0.000000</td>\n",
       "      <td>0.000000</td>\n",
       "      <td>5400.000000</td>\n",
       "    </tr>\n",
       "    <tr>\n",
       "      <th>50%</th>\n",
       "      <td>0.167000</td>\n",
       "      <td>18625.000000</td>\n",
       "      <td>1.665600e+05</td>\n",
       "      <td>0.000000</td>\n",
       "      <td>0.000000</td>\n",
       "      <td>0.000000</td>\n",
       "      <td>99.180000</td>\n",
       "      <td>10.000000</td>\n",
       "      <td>0.000000</td>\n",
       "      <td>1.000000</td>\n",
       "      <td>7500.000000</td>\n",
       "    </tr>\n",
       "    <tr>\n",
       "      <th>75%</th>\n",
       "      <td>0.538000</td>\n",
       "      <td>22636.000000</td>\n",
       "      <td>2.520900e+05</td>\n",
       "      <td>0.000000</td>\n",
       "      <td>0.000000</td>\n",
       "      <td>0.000000</td>\n",
       "      <td>99.520000</td>\n",
       "      <td>14.000000</td>\n",
       "      <td>2.000000</td>\n",
       "      <td>1.000000</td>\n",
       "      <td>13800.000000</td>\n",
       "    </tr>\n",
       "    <tr>\n",
       "      <th>max</th>\n",
       "      <td>1.000000</td>\n",
       "      <td>37602.000000</td>\n",
       "      <td>9.026260e+07</td>\n",
       "      <td>13.000000</td>\n",
       "      <td>17.000000</td>\n",
       "      <td>11.000000</td>\n",
       "      <td>99.890000</td>\n",
       "      <td>60.000000</td>\n",
       "      <td>4.000000</td>\n",
       "      <td>1.000000</td>\n",
       "      <td>60000.000000</td>\n",
       "    </tr>\n",
       "  </tbody>\n",
       "</table>\n",
       "</div>"
      ],
      "text/plain": [
       "       perc_premium_paid_by_cash_credit   age_in_days        Income  \\\n",
       "count                      79853.000000  79853.000000  7.985300e+04   \n",
       "mean                           0.314288  18846.696906  2.088472e+05   \n",
       "std                            0.334915   5208.719136  4.965826e+05   \n",
       "min                            0.000000   7670.000000  2.403000e+04   \n",
       "25%                            0.034000  14974.000000  1.080100e+05   \n",
       "50%                            0.167000  18625.000000  1.665600e+05   \n",
       "75%                            0.538000  22636.000000  2.520900e+05   \n",
       "max                            1.000000  37602.000000  9.026260e+07   \n",
       "\n",
       "       Count_3-6_months_late  Count_6-12_months_late  \\\n",
       "count           79853.000000            79853.000000   \n",
       "mean                0.248369                0.078093   \n",
       "std                 0.691102                0.436251   \n",
       "min                 0.000000                0.000000   \n",
       "25%                 0.000000                0.000000   \n",
       "50%                 0.000000                0.000000   \n",
       "75%                 0.000000                0.000000   \n",
       "max                13.000000               17.000000   \n",
       "\n",
       "       Count_more_than_12_months_late  application_underwriting_score  \\\n",
       "count                    79853.000000                    79853.000000   \n",
       "mean                         0.059935                       98.729594   \n",
       "std                          0.311840                        1.864112   \n",
       "min                          0.000000                       90.000000   \n",
       "25%                          0.000000                       98.750000   \n",
       "50%                          0.000000                       99.180000   \n",
       "75%                          0.000000                       99.520000   \n",
       "max                         11.000000                       99.890000   \n",
       "\n",
       "       no_of_premiums_paid  sourcing_channel  residence_area_type  \\\n",
       "count         79853.000000      79853.000000         79853.000000   \n",
       "mean             10.863887          0.822799             0.603396   \n",
       "std               5.170687          1.052060             0.489195   \n",
       "min               2.000000          0.000000             0.000000   \n",
       "25%               7.000000          0.000000             0.000000   \n",
       "50%              10.000000          0.000000             1.000000   \n",
       "75%              14.000000          2.000000             1.000000   \n",
       "max              60.000000          4.000000             1.000000   \n",
       "\n",
       "            premium  \n",
       "count  79853.000000  \n",
       "mean   10924.507533  \n",
       "std     9401.676542  \n",
       "min     1200.000000  \n",
       "25%     5400.000000  \n",
       "50%     7500.000000  \n",
       "75%    13800.000000  \n",
       "max    60000.000000  "
      ]
     },
     "execution_count": 213,
     "metadata": {},
     "output_type": "execute_result"
    }
   ],
   "source": [
    "train_data.describe()"
   ]
  },
  {
   "cell_type": "code",
   "execution_count": 51,
   "metadata": {},
   "outputs": [
    {
     "name": "stdout",
     "output_type": "stream",
     "text": [
      "0.8391145257340702 0.004353159321039543\n"
     ]
    }
   ],
   "source": [
    "from lightgbm import LGBMClassifier\n",
    "from sklearn.model_selection import train_test_split,cross_val_score\n",
    "from sklearn.metrics import roc_auc_score\n",
    "\n",
    "tra_data=train_data.copy()\n",
    "for c in cate_cols:\n",
    "    tra_data[c]=tra_data[c].astype('category')\n",
    "\n",
    "lgb2 = LGBMClassifier()\n",
    "scores=cross_val_score(lgb2,tra_data,Y,scoring=score_auc,cv=5,n_jobs=-1)\n",
    "print(scores.mean(),scores.std())\n",
    "# sorted(zip(X.columns,lgb.feature_importances_),key=lambda x:x[1],reverse=True)"
   ]
  },
  {
   "cell_type": "code",
   "execution_count": 47,
   "metadata": {},
   "outputs": [],
   "source": [
    "# from sklearn.svm import SVC,LinearSVC,LinearSVR\n",
    "\n",
    "# svc=LinearSVR()\n",
    "# svc.fit(x_tra,y_tra)\n",
    "# print(accuracy_score(y_tra,svc.predict(x_tra)),accuracy_score(y_dev,svc.predict(x_dev)))"
   ]
  },
  {
   "cell_type": "code",
   "execution_count": 8,
   "metadata": {},
   "outputs": [
    {
     "name": "stdout",
     "output_type": "stream",
     "text": [
      "0.6241289978308169 0.6233843609308618\n"
     ]
    },
    {
     "data": {
      "text/plain": [
       "[('application_underwriting_score', 0.001568736917663671),\n",
       " ('age_in_days', 0.0001260914280696475),\n",
       " ('no_of_premiums_paid', 4.228895613794295e-05),\n",
       " ('residence_area_type', 9.259656237019075e-06),\n",
       " ('premium', 8.639554727731608e-06),\n",
       " ('Income', 1.1064006133432162e-06),\n",
       " ('sourcing_channel', -1.3335017742726395e-05),\n",
       " ('perc_premium_paid_by_cash_credit', -4.5445214005235966e-05),\n",
       " ('Count_more_than_12_months_late', -5.38218879105637e-05),\n",
       " ('Count_6-12_months_late', -9.085771571849168e-05),\n",
       " ('Count_3-6_months_late', -0.00012613563718935516)]"
      ]
     },
     "execution_count": 8,
     "metadata": {},
     "output_type": "execute_result"
    }
   ],
   "source": [
    "from sklearn.linear_model import LogisticRegression\n",
    "\n",
    "lr=LogisticRegression()\n",
    "lr.fit(x_tra,y_tra)\n",
    "print(roc_auc_score(y_tra,lr.predict_proba(x_tra)[:,1]),roc_auc_score(y_dev,lr.predict_proba(x_dev)[:,1]))\n",
    "sorted(zip(X.columns,lr.coef_.ravel()),key=lambda x:x[1],reverse=True)"
   ]
  },
  {
   "cell_type": "code",
   "execution_count": 193,
   "metadata": {},
   "outputs": [],
   "source": [
    "base_clfs=[\n",
    "#     LogisticRegression(),\n",
    "#     SVC(probability=True),\n",
    "#     KNeighborsClassifier(),\n",
    "    RandomForestClassifier(),\n",
    "#     GradientBoostingClassifier(),\n",
    "#     AdaBoostClassifier(), \n",
    "#     ExtraTreesClassifier(), \n",
    "#     XGBClassifier(),\n",
    "#     LGBMClassifier(),\n",
    "]"
   ]
  },
  {
   "cell_type": "code",
   "execution_count": 75,
   "metadata": {},
   "outputs": [
    {
     "name": "stderr",
     "output_type": "stream",
     "text": [
      "[Parallel(n_jobs=-1)]: Done   5 out of   5 | elapsed:    3.9s finished\n"
     ]
    },
    {
     "data": {
      "image/png": "[encoded data removed]",
      "text/plain": [
       "<Figure size 432x288 with 1 Axes>"
      ]
     },
     "metadata": {},
     "output_type": "display_data"
    },
    {
     "name": "stdout",
     "output_type": "stream",
     "text": [
      "[('LGB', 0.8398176834305418)]\n"
     ]
    }
   ],
   "source": [
    "\n",
    "\n",
    "\n",
    "def trainModels(train_data, target):\n",
    "    scores=[cross_val_score(clf,train_data,target,scoring=score_auc,cv=5,n_jobs=-1,verbose=1).mean() for clf in base_clfs]\n",
    "    \n",
    "    labels=[c.__class__.__name__[:3] for c in base_clfs]\n",
    "    X=np.arange(len(base_clfs))\n",
    "    plt.bar(X,scores,tick_label=labels,color='rgb')\n",
    "    plt.ylim(0.5,1.0)\n",
    "    plt.show()\n",
    "    print(sorted(zip(labels,scores),key=lambda x:x[1],reverse=True))\n",
    "    \n",
    "trainModels(train_data,Y)"
   ]
  },
  {
   "cell_type": "code",
   "execution_count": 117,
   "metadata": {},
   "outputs": [
    {
     "name": "stdout",
     "output_type": "stream",
     "text": [
      "Help on class LGBMModel in module lightgbm.sklearn:\n",
      "\n",
      "class LGBMModel(sklearn.base.BaseEstimator)\n",
      " |  Implementation of the scikit-learn API for LightGBM.\n",
      " |  \n",
      " |  Method resolution order:\n",
      " |      LGBMModel\n",
      " |      sklearn.base.BaseEstimator\n",
      " |      builtins.object\n",
      " |  \n",
      " |  Methods defined here:\n",
      " |  \n",
      " |  __init__(self, boosting_type='gbdt', num_leaves=31, max_depth=-1, learning_rate=0.1, n_estimators=100, subsample_for_bin=200000, objective=None, class_weight=None, min_split_gain=0.0, min_child_weight=0.001, min_child_samples=20, subsample=1.0, subsample_freq=0, colsample_bytree=1.0, reg_alpha=0.0, reg_lambda=0.0, random_state=None, n_jobs=-1, silent=True, **kwargs)\n",
      " |      Construct a gradient boosting model.\n",
      " |      \n",
      " |      Parameters\n",
      " |      ----------\n",
      " |      boosting_type : string, optional (default=\"gbdt\")\n",
      " |          'gbdt', traditional Gradient Boosting Decision Tree.\n",
      " |          'dart', Dropouts meet Multiple Additive Regression Trees.\n",
      " |          'goss', Gradient-based One-Side Sampling.\n",
      " |          'rf', Random Forest.\n",
      " |      num_leaves : int, optional (default=31)\n",
      " |          Maximum tree leaves for base learners.\n",
      " |      max_depth : int, optional (default=-1)\n",
      " |          Maximum tree depth for base learners, -1 means no limit.\n",
      " |      learning_rate : float, optional (default=0.1)\n",
      " |          Boosting learning rate.\n",
      " |          You can use ``callbacks`` parameter of ``fit`` method to shrink/adapt learning rate\n",
      " |          in training using ``reset_parameter`` callback.\n",
      " |          Note, that this will ignore the ``learning_rate`` argument in training.\n",
      " |      n_estimators : int, optional (default=100)\n",
      " |          Number of boosted trees to fit.\n",
      " |      subsample_for_bin : int, optional (default=50000)\n",
      " |          Number of samples for constructing bins.\n",
      " |      objective : string, callable or None, optional (default=None)\n",
      " |          Specify the learning task and the corresponding learning objective or\n",
      " |          a custom objective function to be used (see note below).\n",
      " |          default: 'regression' for LGBMRegressor, 'binary' or 'multiclass' for LGBMClassifier, 'lambdarank' for LGBMRanker.\n",
      " |      class_weight : dict, 'balanced' or None, optional (default=None)\n",
      " |          Weights associated with classes in the form ``{class_label: weight}``.\n",
      " |          Use this parameter only for multi-class classification task;\n",
      " |          for binary classification task you may use ``is_unbalance`` or ``scale_pos_weight`` parameters.\n",
      " |          The 'balanced' mode uses the values of y to automatically adjust weights\n",
      " |          inversely proportional to class frequencies in the input data as ``n_samples / (n_classes * np.bincount(y))``.\n",
      " |          If None, all classes are supposed to have weight one.\n",
      " |          Note that these weights will be multiplied with ``sample_weight`` (passed through the fit method)\n",
      " |          if ``sample_weight`` is specified.\n",
      " |      min_split_gain : float, optional (default=0.)\n",
      " |          Minimum loss reduction required to make a further partition on a leaf node of the tree.\n",
      " |      min_child_weight : float, optional (default=1e-3)\n",
      " |          Minimum sum of instance weight(hessian) needed in a child(leaf).\n",
      " |      min_child_samples : int, optional (default=20)\n",
      " |          Minimum number of data need in a child(leaf).\n",
      " |      subsample : float, optional (default=1.)\n",
      " |          Subsample ratio of the training instance.\n",
      " |      subsample_freq : int, optional (default=0)\n",
      " |          Frequence of subsample, <=0 means no enable.\n",
      " |      colsample_bytree : float, optional (default=1.)\n",
      " |          Subsample ratio of columns when constructing each tree.\n",
      " |      reg_alpha : float, optional (default=0.)\n",
      " |          L1 regularization term on weights.\n",
      " |      reg_lambda : float, optional (default=0.)\n",
      " |          L2 regularization term on weights.\n",
      " |      random_state : int or None, optional (default=None)\n",
      " |          Random number seed.\n",
      " |          Will use default seeds in c++ code if set to None.\n",
      " |      n_jobs : int, optional (default=-1)\n",
      " |          Number of parallel threads.\n",
      " |      silent : bool, optional (default=True)\n",
      " |          Whether to print messages while running boosting.\n",
      " |      **kwargs : other parameters\n",
      " |          Check http://lightgbm.readthedocs.io/en/latest/Parameters.html for more parameters.\n",
      " |      \n",
      " |          Note\n",
      " |          ----\n",
      " |          \\*\\*kwargs is not supported in sklearn, it may cause unexpected issues.\n",
      " |      \n",
      " |      Attributes\n",
      " |      ----------\n",
      " |      n_features_ : int\n",
      " |          The number of features of fitted model.\n",
      " |      classes_ : array of shape = [n_classes]\n",
      " |          The class label array (only for classification problem).\n",
      " |      n_classes_ : int\n",
      " |          The number of classes (only for classification problem).\n",
      " |      best_score_ : dict or None\n",
      " |          The best score of fitted model.\n",
      " |      best_iteration_ : int or None\n",
      " |          The best iteration of fitted model if ``early_stopping_rounds`` has been specified.\n",
      " |      objective_ : string or callable\n",
      " |          The concrete objective used while fitting this model.\n",
      " |      booster_ : Booster\n",
      " |          The underlying Booster of this model.\n",
      " |      evals_result_ : dict or None\n",
      " |          The evaluation results if ``early_stopping_rounds`` has been specified.\n",
      " |      feature_importances_ : array of shape = [n_features]\n",
      " |          The feature importances (the higher, the more important the feature).\n",
      " |      \n",
      " |      Note\n",
      " |      ----\n",
      " |      A custom objective function can be provided for the ``objective``\n",
      " |      parameter. In this case, it should have the signature\n",
      " |      ``objective(y_true, y_pred) -> grad, hess`` or\n",
      " |      ``objective(y_true, y_pred, group) -> grad, hess``:\n",
      " |      \n",
      " |          y_true: array-like of shape = [n_samples]\n",
      " |              The target values.\n",
      " |          y_pred: array-like of shape = [n_samples] or shape = [n_samples * n_classes] (for multi-class task)\n",
      " |              The predicted values.\n",
      " |          group: array-like\n",
      " |              Group/query data, used for ranking task.\n",
      " |          grad: array-like of shape = [n_samples] or shape = [n_samples * n_classes] (for multi-class task)\n",
      " |              The value of the gradient for each sample point.\n",
      " |          hess: array-like of shape = [n_samples] or shape = [n_samples * n_classes] (for multi-class task)\n",
      " |              The value of the second derivative for each sample point.\n",
      " |      \n",
      " |      For multi-class task, the y_pred is group by class_id first, then group by row_id.\n",
      " |      If you want to get i-th row y_pred in j-th class, the access way is y_pred[j * num_data + i]\n",
      " |      and you should group grad and hess in this way as well.\n",
      " |  \n",
      " |  apply(self, X, num_iteration=0)\n",
      " |      Return the predicted leaf every tree for each sample.\n",
      " |      \n",
      " |      Parameters\n",
      " |      ----------\n",
      " |      X : array-like or sparse matrix of shape = [n_samples, n_features]\n",
      " |          Input features matrix.\n",
      " |      num_iteration : int, optional (default=0)\n",
      " |          Limit number of iterations in the prediction; defaults to 0 (use all trees).\n",
      " |      \n",
      " |      Returns\n",
      " |      -------\n",
      " |      X_leaves : array-like of shape = [n_samples, n_trees]\n",
      " |          The predicted leaf every tree for each sample.\n",
      " |  \n",
      " |  fit(self, X, y, sample_weight=None, init_score=None, group=None, eval_set=None, eval_names=None, eval_sample_weight=None, eval_class_weight=None, eval_init_score=None, eval_group=None, eval_metric=None, early_stopping_rounds=None, verbose=True, feature_name='auto', categorical_feature='auto', callbacks=None)\n",
      " |      Build a gradient boosting model from the training set (X, y).\n",
      " |      \n",
      " |      Parameters\n",
      " |      ----------\n",
      " |      X : array-like or sparse matrix of shape = [n_samples, n_features]\n",
      " |          Input feature matrix.\n",
      " |      y : array-like of shape = [n_samples]\n",
      " |          The target values (class labels in classification, real numbers in regression).\n",
      " |      sample_weight : array-like of shape = [n_samples] or None, optional (default=None)\n",
      " |          Weights of training data.\n",
      " |      init_score : array-like of shape = [n_samples] or None, optional (default=None)\n",
      " |          Init score of training data.\n",
      " |      group : array-like or None, optional (default=None)\n",
      " |          Group data of training data.\n",
      " |      eval_set : list or None, optional (default=None)\n",
      " |          A list of (X, y) tuple pairs to use as a validation sets for early-stopping.\n",
      " |      eval_names : list of strings or None, optional (default=None)\n",
      " |          Names of eval_set.\n",
      " |      eval_sample_weight : list of arrays or None, optional (default=None)\n",
      " |          Weights of eval data.\n",
      " |      eval_class_weight : list or None, optional (default=None)\n",
      " |          Class weights of eval data.\n",
      " |      eval_init_score : list of arrays or None, optional (default=None)\n",
      " |          Init score of eval data.\n",
      " |      eval_group : list of arrays or None, optional (default=None)\n",
      " |          Group data of eval data.\n",
      " |      eval_metric : string, list of strings, callable or None, optional (default=None)\n",
      " |          If string, it should be a built-in evaluation metric to use.\n",
      " |          If callable, it should be a custom evaluation metric, see note for more details.\n",
      " |          In either case, the ``metric`` from the model parameters will be evaluated and used as well.\n",
      " |      early_stopping_rounds : int or None, optional (default=None)\n",
      " |          Activates early stopping. The model will train until the validation score stops improving.\n",
      " |          If there's more than one, will check all of them except the training data.\n",
      " |          Validation error needs to decrease at least every ``early_stopping_rounds`` round(s)\n",
      " |          to continue training.\n",
      " |      verbose : bool, optional (default=True)\n",
      " |          If True and an evaluation set is used, writes the evaluation progress.\n",
      " |      feature_name : list of strings or 'auto', optional (default=\"auto\")\n",
      " |          Feature names.\n",
      " |          If 'auto' and data is pandas DataFrame, data columns names are used.\n",
      " |      categorical_feature : list of strings or int, or 'auto', optional (default=\"auto\")\n",
      " |          Categorical features.\n",
      " |          If list of int, interpreted as indices.\n",
      " |          If list of strings, interpreted as feature names (need to specify ``feature_name`` as well).\n",
      " |          If 'auto' and data is pandas DataFrame, pandas categorical columns are used.\n",
      " |          All values should be less than int32 max value (2147483647).\n",
      " |      callbacks : list of callback functions or None, optional (default=None)\n",
      " |          List of callback functions that are applied at each iteration.\n",
      " |          See Callbacks in Python API for more information.\n",
      " |      \n",
      " |      Returns\n",
      " |      -------\n",
      " |      self : object\n",
      " |          Returns self.\n",
      " |      \n",
      " |      Note\n",
      " |      ----\n",
      " |      Custom eval function expects a callable with following functions:\n",
      " |      ``func(y_true, y_pred)``, ``func(y_true, y_pred, weight)`` or\n",
      " |      ``func(y_true, y_pred, weight, group)``.\n",
      " |      Returns (eval_name, eval_result, is_bigger_better) or\n",
      " |      list of (eval_name, eval_result, is_bigger_better)\n",
      " |      \n",
      " |          y_true: array-like of shape = [n_samples]\n",
      " |              The target values.\n",
      " |          y_pred: array-like of shape = [n_samples] or shape = [n_samples * n_classes] (for multi-class)\n",
      " |              The predicted values.\n",
      " |          weight: array-like of shape = [n_samples]\n",
      " |              The weight of samples.\n",
      " |          group: array-like\n",
      " |              Group/query data, used for ranking task.\n",
      " |          eval_name: str\n",
      " |              The name of evaluation.\n",
      " |          eval_result: float\n",
      " |              The eval result.\n",
      " |          is_bigger_better: bool\n",
      " |              Is eval result bigger better, e.g. AUC is bigger_better.\n",
      " |      \n",
      " |      For multi-class task, the y_pred is group by class_id first, then group by row_id.\n",
      " |      If you want to get i-th row y_pred in j-th class, the access way is y_pred[j * num_data + i].\n",
      " |  \n",
      " |  get_params(self, deep=True)\n",
      " |      Get parameters for this estimator.\n",
      " |      \n",
      " |      Parameters\n",
      " |      ----------\n",
      " |      deep : boolean, optional\n",
      " |          If True, will return the parameters for this estimator and\n",
      " |          contained subobjects that are estimators.\n",
      " |      \n",
      " |      Returns\n",
      " |      -------\n",
      " |      params : mapping of string to any\n",
      " |          Parameter names mapped to their values.\n",
      " |  \n",
      " |  predict(self, X, raw_score=False, num_iteration=-1, pred_leaf=False, pred_contrib=False, **kwargs)\n",
      " |      Return the predicted value for each sample.\n",
      " |      \n",
      " |      Parameters\n",
      " |      ----------\n",
      " |      X : array-like or sparse matrix of shape = [n_samples, n_features]\n",
      " |          Input features matrix.\n",
      " |      raw_score : bool, optional (default=False)\n",
      " |          Whether to predict raw scores.\n",
      " |      num_iteration : int, optional (default=-1)\n",
      " |          Limit number of iterations in the prediction.\n",
      " |          If <= 0, uses all trees (no limits).\n",
      " |      pred_leaf : bool, optional (default=False)\n",
      " |          Whether to predict leaf index.\n",
      " |      pred_contrib : bool, optional (default=False)\n",
      " |          Whether to predict feature contributions.\n",
      " |      **kwargs : other parameters for the prediction\n",
      " |      \n",
      " |      Returns\n",
      " |      -------\n",
      " |      predicted_result : array-like of shape = [n_samples] or shape = [n_samples, n_classes]\n",
      " |          The predicted values.\n",
      " |      X_leaves : array-like of shape = [n_samples, n_trees] or shape [n_samples, n_trees * n_classes]\n",
      " |          If ``pred_leaf=True``, the predicted leaf every tree for each sample.\n",
      " |      X_SHAP_values : array-like of shape = [n_samples, n_features + 1] or shape [n_samples, (n_features + 1) * n_classes]\n",
      " |          If ``pred_contrib=True``, the each feature contributions for each sample.\n",
      " |  \n",
      " |  set_params(self, **params)\n",
      " |      Set the parameters of this estimator.\n",
      " |      \n",
      " |      The method works on simple estimators as well as on nested objects\n",
      " |      (such as pipelines). The latter have parameters of the form\n",
      " |      ``<component>__<parameter>`` so that it's possible to update each\n",
      " |      component of a nested object.\n",
      " |      \n",
      " |      Returns\n",
      " |      -------\n",
      " |      self\n",
      " |  \n",
      " |  ----------------------------------------------------------------------\n",
      " |  Data descriptors defined here:\n",
      " |  \n",
      " |  best_iteration_\n",
      " |      Get the best iteration of fitted model.\n",
      " |  \n",
      " |  best_score_\n",
      " |      Get the best score of fitted model.\n",
      " |  \n",
      " |  booster_\n",
      " |      Get the underlying lightgbm Booster of this model.\n",
      " |  \n",
      " |  evals_result_\n",
      " |      Get the evaluation results.\n",
      " |  \n",
      " |  feature_importances_\n",
      " |      Get feature importances.\n",
      " |      \n",
      " |      Note\n",
      " |      ----\n",
      " |      Feature importance in sklearn interface used to normalize to 1,\n",
      " |      it's deprecated after 2.0.4 and same as Booster.feature_importance() now.\n",
      " |  \n",
      " |  n_features_\n",
      " |      Get the number of features of fitted model.\n",
      " |  \n",
      " |  objective_\n",
      " |      Get the concrete objective used while fitting this model.\n",
      " |  \n",
      " |  ----------------------------------------------------------------------\n",
      " |  Methods inherited from sklearn.base.BaseEstimator:\n",
      " |  \n",
      " |  __getstate__(self)\n",
      " |  \n",
      " |  __repr__(self)\n",
      " |      Return repr(self).\n",
      " |  \n",
      " |  __setstate__(self, state)\n",
      " |  \n",
      " |  ----------------------------------------------------------------------\n",
      " |  Data descriptors inherited from sklearn.base.BaseEstimator:\n",
      " |  \n",
      " |  __dict__\n",
      " |      dictionary for instance variables (if defined)\n",
      " |  \n",
      " |  __weakref__\n",
      " |      list of weak references to the object (if defined)\n"
     ]
    },
    {
     "name": "stdout",
     "output_type": "stream",
     "text": [
      "\n"
     ]
    }
   ],
   "source": []
  },
  {
   "cell_type": "code",
   "execution_count": 194,
   "metadata": {},
   "outputs": [
    {
     "name": "stdout",
     "output_type": "stream",
     "text": [
      "Fitting 5 folds for each of 9 candidates, totalling 45 fits\n"
     ]
    },
    {
     "name": "stderr",
     "output_type": "stream",
     "text": [
      "[Parallel(n_jobs=-1)]: Done  45 out of  45 | elapsed:  3.6min finished\n"
     ]
    },
    {
     "name": "stdout",
     "output_type": "stream",
     "text": [
      "[(RandomForestClassifier(bootstrap=True, class_weight=None, criterion='gini',\n",
      "            max_depth=8, max_features='auto', max_leaf_nodes=None,\n",
      "            min_impurity_decrease=0.0, min_impurity_split=None,\n",
      "            min_samples_leaf=1, min_samples_split=2,\n",
      "            min_weight_fraction_leaf=0.0, n_estimators=200, n_jobs=1,\n",
      "            oob_score=False, random_state=None, verbose=0,\n",
      "            warm_start=False), 0.8413666191210735)]\n"
     ]
    }
   ],
   "source": [
    "# %%timeit\n",
    "param_grid_set=[\n",
    "#     {'C':[0.01,0.1,0.5,1.]},\n",
    "#                 {'C':[1.,10.,],'kernel':['rbf','poly'],'gamma':[0.01,0.1,1.],'coef0':[1.,10.,]},\n",
    "    {'n_estimators':[100,200,300],'max_depth':[8,16,32]},\n",
    "                \n",
    "#                 {'learning_rate':[0.01,0.1,1.0],'n_estimators':[100,200,300]},\n",
    "#                 {'n_estimators':[50,100,200,300],'max_depth':[5,10,15]},\n",
    "#     {'n_estimators':[100,200,300],'max_depth':[5,10,15],'gamma':[0.01,0.1,0.5]},\n",
    "#     {'n_estimators':[100,200],\n",
    "#      'learning_rate':[0.01,0.05,0.1],\n",
    "#      'subsample':[1.,0.8],'colsample_bytree':[1.,0.8]\n",
    "#     },\n",
    "               ]\n",
    "\n",
    "def tuneModels(train_data,target):\n",
    "    results=[]\n",
    "    for i in range(len(base_clfs)):\n",
    "        gs=GridSearchCV(estimator=base_clfs[i],param_grid=param_grid_set[i],scoring=score_auc,n_jobs=-1,verbose=1,cv=5)\n",
    "        gs.fit(train_data,target)\n",
    "        results.append((gs.best_estimator_,gs.best_score_))\n",
    "    print(sorted(results,key=lambda x:x[1],reverse=True))\n",
    "    return results\n",
    "\n",
    "tuned_r=tuneModels(train_data,Y)\n",
    "best_clfs=[r[0] for r in tuned_r]"
   ]
  },
  {
   "cell_type": "code",
   "execution_count": 197,
   "metadata": {},
   "outputs": [],
   "source": [
    "best_clfs=[RandomForestClassifier(n_estimators=200,max_depth=8,n_jobs=-1),\n",
    "           LGBMClassifier(n_estimators=100,learning_rate=0.04,colsample_bytree=0.8),\n",
    "           GradientBoostingClassifier(n_estimators=100,learning_rate=0.05)]"
   ]
  },
  {
   "cell_type": "code",
   "execution_count": 198,
   "metadata": {},
   "outputs": [
    {
     "name": "stdout",
     "output_type": "stream",
     "text": [
      "0.8530097094267832 0.8532954110810091\n"
     ]
    }
   ],
   "source": [
    "layer_1 = Ensemble(best_clfs)\n",
    "layer_2 = Ensemble([LGBMClassifier()])\n",
    "\n",
    "stack = EnsembleStack(cv=3)\n",
    "\n",
    "stack.add_layer(layer_1)\n",
    "stack.add_layer(layer_2)\n",
    "\n",
    "sclf = EnsembleStackClassifier(stack)\n",
    "\n",
    "x_tra,x_tst,y_tra,y_tst=train_test_split(train_data,Y,test_size=0.1)\n",
    "sclf.fit(x_tra.values,y_tra.values)\n",
    "print(roc_auc_score(y_tra,sclf.predict_proba(x_tra)[:,1]),roc_auc_score(y_tst,sclf.predict_proba(x_tst)[:,1]))\n",
    "# scores=cross_val_score(sclf,train_data.values,Y,scoring=score_auc,cv=5,n_jobs=-1)\n",
    "# print(scores.mean(),scores.std())\n"
   ]
  },
  {
   "cell_type": "code",
   "execution_count": 69,
   "metadata": {},
   "outputs": [
    {
     "name": "stderr",
     "output_type": "stream",
     "text": [
      "C:\\apps\\Anaconda2\\envs\\py3\\lib\\site-packages\\sklearn\\preprocessing\\label.py:151: DeprecationWarning: The truth value of an empty array is ambiguous. Returning False, but in future this will result in an error. Use `array.size > 0` to check that an array is not empty.\n",
      "  if diff:\n",
      "C:\\apps\\Anaconda2\\envs\\py3\\lib\\site-packages\\sklearn\\preprocessing\\label.py:151: DeprecationWarning: The truth value of an empty array is ambiguous. Returning False, but in future this will result in an error. Use `array.size > 0` to check that an array is not empty.\n",
      "  if diff:\n"
     ]
    },
    {
     "name": "stdout",
     "output_type": "stream",
     "text": [
      "0.5332432752688814\n"
     ]
    }
   ],
   "source": [
    "# %%timeit\n",
    "x_tra,x_dev,y_tra,y_dev=train_test_split(train_data,Y,test_size=0.1)\n",
    "preds=[]\n",
    "for c in best_clfs:\n",
    "    c.fit(x_tra,y_tra)\n",
    "    preds.append(c.predict(x_tra))\n",
    "lgb_en=LGBMClassifier()\n",
    "lgb_en.fit(np.c_[preds].T,y_tra)\n",
    "\n",
    "preds2=[]\n",
    "for c in best_clfs:\n",
    "    preds2.append(c.predict(x_dev))\n",
    "print(roc_auc_score(y_dev,lgb_en.predict_proba(np.c_[preds2].T)[:,1]))"
   ]
  },
  {
   "cell_type": "code",
   "execution_count": 245,
   "metadata": {},
   "outputs": [
    {
     "name": "stdout",
     "output_type": "stream",
     "text": [
      "Overwriting util.py\n"
     ]
    }
   ],
   "source": [
    "%%writefile util.py\n",
    "from sklearn.metrics import roc_auc_score\n",
    "def score_auc(c,x,y):\n",
    "    p=c.predict_proba(x)[:,1]\n",
    "    return roc_auc_score(y,p)\n",
    "\n",
    "def score_auc2(c,x,y):\n",
    "    p=c.predict_proba(x)[:,1]\n",
    "    p[p<0.8]=0\n",
    "    return roc_auc_score(y,p)"
   ]
  },
  {
   "cell_type": "code",
   "execution_count": 39,
   "metadata": {},
   "outputs": [
    {
     "data": {
      "text/plain": [
       "[<matplotlib.lines.Line2D at 0x1361c400>]"
      ]
     },
     "execution_count": 39,
     "metadata": {},
     "output_type": "execute_result"
    },
    {
     "data": {
      "image/png": "[encoded data removed]",
      "text/plain": [
       "<Figure size 432x288 with 1 Axes>"
      ]
     },
     "metadata": {},
     "output_type": "display_data"
    }
   ],
   "source": [
    "\n",
    "def inc_p(incentive):\n",
    "    eff=10*(1-np.exp(-incentive/400))\n",
    "    return 20*(1-np.exp(-eff/5))\n",
    "\n",
    "\n",
    "def total_rev(premiums,incentives):\n",
    "    return np.sum(np.multiply(inc_p(incentives)/100,premiums)-incentives)\n",
    "\n",
    "t=[total_rev(test_data.premium,np.ones((test_data.shape[0],))*r) for r in range(1651)]\n",
    "plt.plot(t)"
   ]
  },
  {
   "cell_type": "code",
   "execution_count": 40,
   "metadata": {},
   "outputs": [
    {
     "data": {
      "text/plain": [
       "(428, 39582909.54636536)"
      ]
     },
     "execution_count": 40,
     "metadata": {},
     "output_type": "execute_result"
    }
   ],
   "source": [
    "np.argmax(t),total_rev(test_data.premium,np.ones((test_data.shape[0],))*np.argmax(t))"
   ]
  },
  {
   "cell_type": "code",
   "execution_count": 41,
   "metadata": {},
   "outputs": [
    {
     "data": {
      "text/plain": [
       "409"
      ]
     },
     "execution_count": 41,
     "metadata": {},
     "output_type": "execute_result"
    }
   ],
   "source": [
    "def incentive_for_max_perm(prem):\n",
    "    return np.argmax([inc_p(i)*prem/100 - i for i in range(1651)])\n",
    "incentive_for_max_perm(10000)"
   ]
  },
  {
   "cell_type": "code",
   "execution_count": 42,
   "metadata": {},
   "outputs": [
    {
     "data": {
      "application/vnd.jupyter.widget-view+json": {
       "model_id": "6ff5a464f2464461ac6b7a11a6e37a37"
      }
     },
     "metadata": {},
     "output_type": "display_data"
    },
    {
     "name": "stdout",
     "output_type": "stream",
     "text": [
      "\n"
     ]
    },
    {
     "data": {
      "text/plain": [
       "array([183., 446., 446.])"
      ]
     },
     "execution_count": 42,
     "metadata": {},
     "output_type": "execute_result"
    }
   ],
   "source": [
    "# from tqdm import tnrange\n",
    "# incentives=np.zeros((test_data.shape[0],))\n",
    "# for i in tnrange(incentives.shape[0]):\n",
    "#     incentives[i]=incentive_for_max_perm(test_data.iloc[i]['premium'])\n",
    "# incentives[:3]"
   ]
  },
  {
   "cell_type": "code",
   "execution_count": 45,
   "metadata": {},
   "outputs": [],
   "source": [
    "# np.save('incentive1',incentives)"
   ]
  },
  {
   "cell_type": "code",
   "execution_count": 201,
   "metadata": {},
   "outputs": [
    {
     "name": "stdout",
     "output_type": "stream",
     "text": [
      "id,renewal,incentives\n",
      "649,0.991133,183\n",
      "81136,0.981500,446\n",
      "70762,0.780981,446\n",
      "53935,0.975321,276\n",
      "15476,0.955694,399\n",
      "64797,0.983678,446\n",
      "67412,0.831585,183\n",
      "44241,0.821517,276\n",
      "5069,0.990382,487\n"
     ]
    }
   ],
   "source": [
    "best_clfs[0].fit(train_data.values,Y.values)\n",
    "best_clfs[1].fit(train_data.values,Y.values)\n",
    "results['renewal']=(best_clfs[0].predict_proba(test_data)[:,1]+best_clfs[1].predict_proba(test_data)[:,1])/2\n",
    "results['incentives']=incentives.astype('int')\n",
    "\n",
    "results.to_csv('submission/lgb_rf_div2.csv',index=False,float_format='%.6f')\n",
    "!head submission/lgb_rf_div2.csv"
   ]
  },
  {
   "cell_type": "code",
   "execution_count": 148,
   "metadata": {},
   "outputs": [
    {
     "name": "stdout",
     "output_type": "stream",
     "text": [
      "id,renewal,incentives\n",
      "649,0.99206,183\n",
      "81136,0.98488,446\n",
      "70762,0.79942,446\n",
      "53935,0.97486,276\n",
      "15476,0.96044,399\n",
      "64797,0.98645,446\n",
      "67412,0.83556,183\n",
      "44241,0.78625,276\n",
      "5069,0.99009,487\n"
     ]
    }
   ],
   "source": [
    "!head submission/lgb_tune.csv"
   ]
  },
  {
   "cell_type": "code",
   "execution_count": 149,
   "metadata": {},
   "outputs": [
    {
     "name": "stdout",
     "output_type": "stream",
     "text": [
      "id,renewal,incentives\n",
      "649,0.993912,183\n",
      "81136,0.981488,446\n",
      "70762,0.745589,446\n",
      "53935,0.973516,276\n",
      "15476,0.964192,399\n",
      "64797,0.986993,446\n",
      "67412,0.824899,183\n",
      "44241,0.782331,276\n",
      "5069,0.993916,487\n"
     ]
    }
   ],
   "source": [
    "!head submission/lgb_deep_tuned.csv"
   ]
  }
 ],
 "metadata": {
  "kernelspec": {
   "display_name": "Python 3",
   "language": "python",
   "name": "python3"
  },
  "language_info": {
   "codemirror_mode": {
    "name": "ipython",
    "version": 3
   },
   "file_extension": ".py",
   "mimetype": "text/x-python",
   "name": "python",
   "nbconvert_exporter": "python",
   "pygments_lexer": "ipython3",
   "version": "3.5.5"
  }
 },
 "nbformat": 4,
 "nbformat_minor": 2
}
