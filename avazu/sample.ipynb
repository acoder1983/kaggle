{
 "cells": [
  {
   "cell_type": "code",
   "execution_count": 1,
   "metadata": {
    "collapsed": true
   },
   "outputs": [],
   "source": [
    "import numpy as np\n",
    "import pandas as pd\n",
    "from datetime import datetime\n",
    "import matplotlib.pyplot as plt\n",
    "\n",
    "%matplotlib inline"
   ]
  },
  {
   "cell_type": "code",
   "execution_count": 2,
   "metadata": {
    "collapsed": true
   },
   "outputs": [],
   "source": [
    "train_clicks=pd.read_csv('raw_data/mi_clicks.csv')"
   ]
  },
  {
   "cell_type": "code",
   "execution_count": 3,
   "metadata": {},
   "outputs": [
    {
     "data": {
      "text/plain": [
       "Index(['id', 'click', 'hour', 'C1', 'banner_pos', 'site_id', 'site_domain',\n",
       "       'site_category', 'app_id', 'app_domain', 'app_category', 'device_id',\n",
       "       'device_ip', 'device_model', 'device_type', 'device_conn_type', 'C14',\n",
       "       'C15', 'C16', 'C17', 'C18', 'C19', 'C20', 'C21'],\n",
       "      dtype='object')"
      ]
     },
     "execution_count": 3,
     "metadata": {},
     "output_type": "execute_result"
    }
   ],
   "source": [
    "train_clicks.columns"
   ]
  },
  {
   "cell_type": "code",
   "execution_count": 4,
   "metadata": {},
   "outputs": [],
   "source": [
    "cols=train_clicks.columns\n",
    "not_need_cols=['id','click']\n",
    "\n",
    "train_cols_unique=sorted([(c,len(train_clicks[c].unique())) for c in set(cols)-set(not_need_cols)],key=lambda x:x[1], reverse=True)"
   ]
  },
  {
   "cell_type": "code",
   "execution_count": 5,
   "metadata": {},
   "outputs": [],
   "source": [
    "y_clicks=train_clicks[train_clicks.click==1]\n",
    "n_clicks=train_clicks[train_clicks.click==0]\n",
    "\n",
    "n_sample=int(5e5)\n",
    "\n",
    "n_clk_idx=np.random.choice(len(n_clicks),n_sample,replace=False)\n",
    "y_clk_idx=np.random.choice(len(y_clicks),n_sample,replace=False)\n",
    "\n",
    "yclk_sample=y_clicks.iloc[y_clk_idx]\n",
    "nclk_sample=n_clicks.iloc[n_clk_idx]\n",
    "\n",
    "sample_clicks=pd.concat([yclk_sample,nclk_sample])\n",
    "sample_cols_unique=sorted([(c,len(sample_clicks[c].unique())) for c in set(cols)-set(not_need_cols)],key=lambda x:x[1], reverse=True)"
   ]
  },
  {
   "cell_type": "code",
   "execution_count": 6,
   "metadata": {},
   "outputs": [
    {
     "data": {
      "text/plain": [
       "[('device_id', 2686408, 145435, 0.05413734622588974),\n",
       " ('device_ip', 6729486, 558611, 0.08300946015787833),\n",
       " ('app_domain', 559, 180, 0.3220035778175313),\n",
       " ('app_id', 8552, 3074, 0.35944808231992514),\n",
       " ('site_domain', 7745, 2887, 0.3727566171723693),\n",
       " ('site_id', 4737, 2648, 0.5590035887692633),\n",
       " ('device_model', 8251, 5193, 0.6293782571809478),\n",
       " ('app_category', 36, 26, 0.7222222222222222),\n",
       " ('device_type', 5, 4, 0.8),\n",
       " ('site_category', 26, 21, 0.8076923076923077),\n",
       " ('C14', 2626, 2208, 0.8408225437928408),\n",
       " ('C20', 172, 163, 0.9476744186046512),\n",
       " ('C17', 435, 421, 0.967816091954023),\n",
       " ('C19', 68, 66, 0.9705882352941176),\n",
       " ('hour', 240, 240, 1.0),\n",
       " ('C21', 60, 60, 1.0),\n",
       " ('C16', 9, 9, 1.0),\n",
       " ('C15', 8, 8, 1.0),\n",
       " ('banner_pos', 7, 7, 1.0),\n",
       " ('C1', 7, 7, 1.0),\n",
       " ('C18', 4, 4, 1.0),\n",
       " ('device_conn_type', 4, 4, 1.0)]"
      ]
     },
     "execution_count": 6,
     "metadata": {},
     "output_type": "execute_result"
    }
   ],
   "source": [
    "sample_cols_ratio=sorted([(tc[0],tc[1],sc[1],sc[1]/tc[1]) for tc in train_cols_unique for sc in sample_cols_unique if tc[0] == sc[0] ],key=lambda x:x[3])\n",
    "sample_cols_ratio"
   ]
  },
  {
   "cell_type": "code",
   "execution_count": 7,
   "metadata": {
    "collapsed": true
   },
   "outputs": [],
   "source": [
    "def transform_time(clicks):\n",
    "    clicks['time']=sample_clicks.hour\n",
    "    clicks['day']=clicks.time.apply(lambda t:datetime.strptime(str(t),'%y%m%d%H').day)\n",
    "    clicks['hour']=clicks.time.apply(lambda t:datetime.strptime(str(t),'%y%m%d%H').hour)\n",
    "    \n",
    "    return clicks\n",
    "\n",
    "sample_clicks=transform_time(sample_clicks)"
   ]
  },
  {
   "cell_type": "code",
   "execution_count": 8,
   "metadata": {},
   "outputs": [],
   "source": [
    "# keep_cols=[r[0]for r in sample_cols_ratio if r[3] > 0.7]\n",
    "# keep_cols += ['time','day','id','click']\n",
    "# keep_cols"
   ]
  },
  {
   "cell_type": "code",
   "execution_count": 9,
   "metadata": {},
   "outputs": [
    {
     "ename": "NameError",
     "evalue": "name 'keep_cols' is not defined",
     "output_type": "error",
     "traceback": [
      "\u001b[0;31m---------------------------------------------------------------------------\u001b[0m",
      "\u001b[0;31mNameError\u001b[0m                                 Traceback (most recent call last)",
      "\u001b[0;32m<ipython-input-9-1a240b855c74>\u001b[0m in \u001b[0;36m<module>\u001b[0;34m()\u001b[0m\n\u001b[0;32m----> 1\u001b[0;31m \u001b[0mnp\u001b[0m\u001b[0;34m.\u001b[0m\u001b[0msum\u001b[0m\u001b[0;34m(\u001b[0m\u001b[0;34m[\u001b[0m\u001b[0mc\u001b[0m\u001b[0;34m[\u001b[0m\u001b[0;36m1\u001b[0m\u001b[0;34m]\u001b[0m \u001b[0;32mfor\u001b[0m \u001b[0mc\u001b[0m \u001b[0;32min\u001b[0m \u001b[0msample_cols_unique\u001b[0m \u001b[0;32mif\u001b[0m \u001b[0mc\u001b[0m\u001b[0;34m[\u001b[0m\u001b[0;36m0\u001b[0m\u001b[0;34m]\u001b[0m \u001b[0;32min\u001b[0m \u001b[0mkeep_cols\u001b[0m\u001b[0;34m]\u001b[0m\u001b[0;34m)\u001b[0m\u001b[0;34m\u001b[0m\u001b[0m\n\u001b[0m",
      "\u001b[0;32m<ipython-input-9-1a240b855c74>\u001b[0m in \u001b[0;36m<listcomp>\u001b[0;34m(.0)\u001b[0m\n\u001b[0;32m----> 1\u001b[0;31m \u001b[0mnp\u001b[0m\u001b[0;34m.\u001b[0m\u001b[0msum\u001b[0m\u001b[0;34m(\u001b[0m\u001b[0;34m[\u001b[0m\u001b[0mc\u001b[0m\u001b[0;34m[\u001b[0m\u001b[0;36m1\u001b[0m\u001b[0;34m]\u001b[0m \u001b[0;32mfor\u001b[0m \u001b[0mc\u001b[0m \u001b[0;32min\u001b[0m \u001b[0msample_cols_unique\u001b[0m \u001b[0;32mif\u001b[0m \u001b[0mc\u001b[0m\u001b[0;34m[\u001b[0m\u001b[0;36m0\u001b[0m\u001b[0;34m]\u001b[0m \u001b[0;32min\u001b[0m \u001b[0mkeep_cols\u001b[0m\u001b[0;34m]\u001b[0m\u001b[0;34m)\u001b[0m\u001b[0;34m\u001b[0m\u001b[0m\n\u001b[0m",
      "\u001b[0;31mNameError\u001b[0m: name 'keep_cols' is not defined"
     ]
    }
   ],
   "source": [
    "# np.sum([c[1] for c in sample_cols_unique if c[0] in keep_cols])"
   ]
  },
  {
   "cell_type": "code",
   "execution_count": null,
   "metadata": {
    "collapsed": true
   },
   "outputs": [],
   "source": []
  },
  {
   "cell_type": "code",
   "execution_count": 10,
   "metadata": {},
   "outputs": [],
   "source": [
    "sample_clicks.sort_values('time').to_csv('raw_data/mi_clicks.csv',index=False)"
   ]
  }
 ],
 "metadata": {
  "kernelspec": {
   "display_name": "Python 3",
   "language": "python",
   "name": "python3"
  },
  "language_info": {
   "codemirror_mode": {
    "name": "ipython",
    "version": 3
   },
   "file_extension": ".py",
   "mimetype": "text/x-python",
   "name": "python",
   "nbconvert_exporter": "python",
   "pygments_lexer": "ipython3",
   "version": "3.6.3"
  }
 },
 "nbformat": 4,
 "nbformat_minor": 2
}
