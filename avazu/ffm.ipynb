{
 "cells": [
  {
   "cell_type": "code",
   "execution_count": 1,
   "metadata": {
    "collapsed": true
   },
   "outputs": [],
   "source": [
    "import numpy as np\n",
    "import pandas as pd\n",
    "from datetime import datetime\n",
    "from time import time\n",
    "import matplotlib.pyplot as plt\n",
    "from sklearn.metrics import log_loss\n",
    "from sklearn.model_selection import train_test_split\n",
    "from sklearn.preprocessing import LabelEncoder\n",
    "\n",
    "%matplotlib inline"
   ]
  },
  {
   "cell_type": "code",
   "execution_count": 2,
   "metadata": {
    "collapsed": true
   },
   "outputs": [],
   "source": [
    "np.random.seed(42)\n",
    "train_clicks=pd.read_csv('raw_data/train.csv',dtype={'id':'str'})\n",
    "test_clicks=pd.read_csv('raw_data/test.csv',dtype={'id':'str'})"
   ]
  },
  {
   "cell_type": "code",
   "execution_count": 3,
   "metadata": {
    "collapsed": true
   },
   "outputs": [],
   "source": [
    "def df_to_ffm(x,y,file,cate_cols):\n",
    "    x.index=np.arange(x.shape[0])\n",
    "    y.index=np.arange(x.shape[0])\n",
    "    cate_idx=set([-1])\n",
    "    for i in range(x.shape[1]):\n",
    "        if x.columns[i] in cate_cols:\n",
    "            cate_idx.add(i)\n",
    "            \n",
    "    with open(file,'w') as f:\n",
    "        for i in range(x.shape[0]):\n",
    "            s=str(y[i])\n",
    "            \n",
    "            for j in range(x.shape[1]):\n",
    "                if j in cate_idx:\n",
    "                    s += ' %d:%d:1' % (j,x.values[i,j])\n",
    "                else:\n",
    "                    s += ' %d:%s' % (j,x.values[i,j])\n",
    "                    \n",
    "            f.write(s+'\\n')\n",
    "        \n",
    "        \n",
    "def glabel_encode(df,cate_cols):\n",
    "    if len(cate_cols) > 0:\n",
    "        for c in cate_cols:\n",
    "            l=LabelEncoder()\n",
    "            df[c]=df[c].astype('str')\n",
    "            df[c]=l.fit_transform(df[c])\n",
    "        \n",
    "df=pd.DataFrame({'a':np.arange(5),'b':['a','b','a','c','b'],'c':['b','a','d','c','a'],'d':np.arange(5),'e':np.arange(5)})\n",
    "glabel_encode(df,['b','c','d'])\n",
    "df_to_ffm(df.drop(['e'],axis=1),df.e,'ffm_data/test.o',['b','c','d'])"
   ]
  },
  {
   "cell_type": "code",
   "execution_count": 4,
   "metadata": {
    "collapsed": false
   },
   "outputs": [
    {
     "name": "stdout",
     "output_type": "stream",
     "text": [
      "time cost 18212s\n"
     ]
    }
   ],
   "source": [
    "t=time()\n",
    "traintst=pd.concat([train_clicks,test_clicks])\n",
    "traintst['time']=traintst.hour\n",
    "traintst['hour']=traintst.time%100\n",
    "traintst['day']=(traintst.time-traintst.hour)//100%100\n",
    "\n",
    "cate_cols=train_clicks.columns.difference(['id','click','device_id','device_ip','day','time'])\n",
    "glabel_encode(traintst,cate_cols)\n",
    "\n",
    "train_c=traintst.iloc[:train_clicks.shape[0]]\n",
    "df_to_ffm(train_c.drop(['id','click','device_id','device_ip','time','day'],axis=1),train_c.click,'ffm_data/train.txt',cate_cols)\n",
    "test_c=traintst.iloc[train_clicks.shape[0]:]\n",
    "df_to_ffm(test_c.drop(['id','click','device_id','device_ip','time','day'],axis=1),test_c.click.fillna(0),'ffm_data/test.txt',cate_cols)\n",
    "    \n",
    "print('time cost %ds'%int(time()-t))\n"
   ]
  },
  {
   "cell_type": "code",
   "execution_count": null,
   "metadata": {
    "collapsed": true
   },
   "outputs": [],
   "source": [
    "import xlearn as xl\n",
    "\n",
    "fm_model = xl.create_ffm()\n",
    "fm_model.setSigmoid()\n",
    "fm_model.setTrain(\"ffm_data/train.txt\")  # Training data\n",
    "fm_model.setTest('ffm_data/test.txt')\n",
    "# fm_model.setValidate(\"./small_test.txt\")  # Validation data\n",
    "\n",
    "# param:\n",
    "#  0. binary classification\n",
    "#  1. learning rate: 0.2\n",
    "#  2. regular lambda: 0.002\n",
    "#  3. evaluation metric: accuracy\n",
    "param = {'task':'binary','epoch':50}\n",
    "\n",
    "# Start to train\n",
    "# The trained model will be stored in model.out\n",
    "fm_model.fit(param, 'ffm_data/model.out')\n",
    "fm_model.predict('ffm_data/model.out','ffm_data/output.txt')"
   ]
  },
  {
   "cell_type": "code",
   "execution_count": 3,
   "metadata": {
    "collapsed": true
   },
   "outputs": [],
   "source": [
    "test_clicks=pd.read_csv('raw_data/test.csv',dtype={'id':'str'},usecols=['id'])\n",
    "outputs = pd.read_csv('ffm_data/output_1.txt',header=None)"
   ]
  },
  {
   "cell_type": "code",
   "execution_count": 4,
   "metadata": {
    "collapsed": false
   },
   "outputs": [
    {
     "data": {
      "text/plain": [
       "((4577464, 1), (4577464, 1))"
      ]
     },
     "execution_count": 4,
     "metadata": {},
     "output_type": "execute_result"
    }
   ],
   "source": [
    "test_clicks.shape,outputs.shape"
   ]
  },
  {
   "cell_type": "code",
   "execution_count": 5,
   "metadata": {
    "collapsed": true
   },
   "outputs": [],
   "source": [
    "test_clicks['click']=outputs\n",
    "test_clicks[['id','click']].to_csv('output/ffm.csv',index=False)"
   ]
  }
 ],
 "metadata": {
  "anaconda-cloud": {},
  "kernelspec": {
   "display_name": "Python [py3]",
   "language": "python",
   "name": "Python [py3]"
  },
  "language_info": {
   "codemirror_mode": {
    "name": "ipython",
    "version": 3
   },
   "file_extension": ".py",
   "mimetype": "text/x-python",
   "name": "python",
   "nbconvert_exporter": "python",
   "pygments_lexer": "ipython3",
   "version": "3.5.3"
  }
 },
 "nbformat": 4,
 "nbformat_minor": 2
}
