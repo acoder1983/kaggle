{
 "cells": [
  {
   "cell_type": "code",
   "execution_count": 1,
   "metadata": {
    "collapsed": true
   },
   "outputs": [],
   "source": [
    "import numpy as np\n",
    "import pandas as pd\n",
    "from datetime import datetime\n",
    "import matplotlib.pyplot as plt\n",
    "\n",
    "%matplotlib inline"
   ]
  },
  {
   "cell_type": "code",
   "execution_count": 2,
   "metadata": {
    "collapsed": true
   },
   "outputs": [],
   "source": [
    "np.random.seed(42)"
   ]
  },
  {
   "cell_type": "code",
   "execution_count": 84,
   "metadata": {
    "collapsed": true
   },
   "outputs": [],
   "source": [
    "total_clicks=pd.read_csv('raw_data/train.csv')"
   ]
  },
  {
   "cell_type": "code",
   "execution_count": 3,
   "metadata": {},
   "outputs": [
    {
     "name": "stdout",
     "output_type": "stream",
     "text": [
      "Index(['id', 'click', 'hour', 'C1', 'banner_pos', 'site_id', 'site_domain',\n",
      "       'site_category', 'app_id', 'app_domain', 'app_category', 'device_id',\n",
      "       'device_ip', 'device_model', 'device_type', 'device_conn_type', 'C14',\n",
      "       'C15', 'C16', 'C17', 'C18', 'C19', 'C20', 'C21', 'time', 'day'],\n",
      "      dtype='object')\n"
     ]
    }
   ],
   "source": [
    "clicks=pd.read_csv('raw_data/mi_clicks.csv')\n",
    "print(clicks.columns)"
   ]
  },
  {
   "cell_type": "code",
   "execution_count": 6,
   "metadata": {},
   "outputs": [
    {
     "data": {
      "text/plain": [
       "click                     2\n",
       "C18                       4\n",
       "device_conn_type          4\n",
       "device_type               4\n",
       "C1                        7\n",
       "banner_pos                7\n",
       "C15                       8\n",
       "C16                       9\n",
       "day                      10\n",
       "site_category            21\n",
       "hour                     24\n",
       "app_category             26\n",
       "C21                      60\n",
       "C19                      66\n",
       "C20                     163\n",
       "app_domain              180\n",
       "time                    240\n",
       "C17                     421\n",
       "C14                    2208\n",
       "site_id                2648\n",
       "site_domain            2887\n",
       "app_id                 3074\n",
       "device_model           5193\n",
       "device_id            145435\n",
       "device_ip            558611\n",
       "id                  1000000\n",
       "dtype: int64"
      ]
     },
     "execution_count": 6,
     "metadata": {},
     "output_type": "execute_result"
    }
   ],
   "source": [
    "clicks.nunique().sort_values()"
   ]
  },
  {
   "cell_type": "code",
   "execution_count": 27,
   "metadata": {},
   "outputs": [
    {
     "data": {
      "text/plain": [
       "[('device_id', 145435, 15271, 0.1050022346752845),\n",
       " ('device_ip', 558611, 74190, 0.1328115629659996),\n",
       " ('app_id', 3074, 1239, 0.4030579050097593),\n",
       " ('site_domain', 2887, 1290, 0.44683062002078283),\n",
       " ('app_domain', 180, 85, 0.4722222222222222),\n",
       " ('site_id', 2648, 1419, 0.5358761329305136),\n",
       " ('device_model', 5193, 3103, 0.5975351434623531),\n",
       " ('C14', 2208, 1674, 0.7581521739130435),\n",
       " ('app_category', 26, 21, 0.8076923076923077),\n",
       " ('C20', 163, 152, 0.9325153374233128),\n",
       " ('C17', 421, 395, 0.9382422802850356),\n",
       " ('site_category', 21, 20, 0.9523809523809523),\n",
       " ('C19', 66, 64, 0.9696969696969697),\n",
       " ('time', 240, 240, 1.0),\n",
       " ('C21', 60, 60, 1.0),\n",
       " ('hour', 24, 24, 1.0),\n",
       " ('day', 10, 10, 1.0),\n",
       " ('C16', 9, 9, 1.0),\n",
       " ('C15', 8, 8, 1.0),\n",
       " ('banner_pos', 7, 7, 1.0),\n",
       " ('C1', 7, 7, 1.0),\n",
       " ('device_conn_type', 4, 4, 1.0),\n",
       " ('C18', 4, 4, 1.0),\n",
       " ('device_type', 4, 4, 1.0)]"
      ]
     },
     "execution_count": 27,
     "metadata": {},
     "output_type": "execute_result"
    }
   ],
   "source": [
    "sample_clicks=clicks.loc[np.random.choice(len(clicks),int(len(clicks)*0.1),replace=True)].sort_values('time')\n",
    "sample_clicks.index=np.arange(len(sample_clicks))\n",
    "cols=clicks.columns\n",
    "not_need_cols=['id','click']\n",
    "cols_unique=sorted([(c,len(clicks[c].unique())) for c in set(cols)-set(not_need_cols)],key=lambda x:x[1], reverse=True)\n",
    "sample_cols_unique=sorted([(c,len(sample_clicks[c].unique())) for c in set(cols)-set(not_need_cols)],key=lambda x:x[1], reverse=True)\n",
    "sample_cols_ratio=sorted([(tc[0],tc[1],sc[1],sc[1]/tc[1]) for tc in cols_unique for sc in sample_cols_unique if tc[0] == sc[0] ],key=lambda x:x[3])\n",
    "sample_cols_ratio"
   ]
  },
  {
   "cell_type": "code",
   "execution_count": 86,
   "metadata": {},
   "outputs": [
    {
     "data": {
      "text/plain": [
       "19"
      ]
     },
     "execution_count": 86,
     "metadata": {},
     "output_type": "execute_result"
    }
   ],
   "source": [
    "\n",
    "def split_train_test(clicks):\n",
    "    tra_end_idx=len(clicks[clicks.hour<14300000])\n",
    "\n",
    "    drop_cols=['id','click','hour','device_id','device_ip',]\n",
    "#     [c for c in clicks.columns if c.startswith('site') or c.startswith('device')]\n",
    "#     cate_cols=set(clicks.columns)-set(drop_cols)\n",
    "#     print(cate_cols)\n",
    "#     clicks=pd.get_dummies(clicks, columns=cate_cols)\n",
    "\n",
    "    t_cate_cols=[c for c in clicks.columns if clicks[c].dtype==np.dtype('O')]\n",
    "    for c in clicks.columns:\n",
    "        le=LabelEncoder()\n",
    "        clicks[c]=le.fit_transform(clicks[c])\n",
    "\n",
    "    train_clicks=clicks[:tra_end_idx]\n",
    "    test_clicks=clicks[tra_end_idx:]\n",
    "\n",
    "    X_train=train_clicks.drop(drop_cols,axis=1)\n",
    "    y_train=train_clicks['click']\n",
    "    X_test=test_clicks.drop(drop_cols,axis=1)\n",
    "    y_test=test_clicks['click']\n",
    "    \n",
    "    return X_train,X_test,y_train,y_test\n",
    "\n",
    "X_train,X_test,y_train,y_test = split_train_test(total_clicks)\n",
    "\n",
    "len(X_train.columns)"
   ]
  },
  {
   "cell_type": "code",
   "execution_count": null,
   "metadata": {
    "collapsed": true
   },
   "outputs": [],
   "source": [
    "X_train.shape,X_test.shape"
   ]
  },
  {
   "cell_type": "code",
   "execution_count": 87,
   "metadata": {},
   "outputs": [
    {
     "ename": "ValueError",
     "evalue": "Only one class present in y_true. ROC AUC score is not defined in that case.",
     "output_type": "error",
     "traceback": [
      "\u001b[0;31m---------------------------------------------------------------------------\u001b[0m",
      "\u001b[0;31mValueError\u001b[0m                                Traceback (most recent call last)",
      "\u001b[0;32m<ipython-input-87-647e73e3e34c>\u001b[0m in \u001b[0;36m<module>\u001b[0;34m()\u001b[0m\n\u001b[1;32m     21\u001b[0m     \u001b[0;32melse\u001b[0m\u001b[0;34m:\u001b[0m\u001b[0;34m\u001b[0m\u001b[0m\n\u001b[1;32m     22\u001b[0m         \u001b[0mc\u001b[0m\u001b[0;34m.\u001b[0m\u001b[0mfit\u001b[0m\u001b[0;34m(\u001b[0m\u001b[0mX_train\u001b[0m\u001b[0;34m,\u001b[0m\u001b[0my_train\u001b[0m\u001b[0;34m)\u001b[0m\u001b[0;34m\u001b[0m\u001b[0m\n\u001b[0;32m---> 23\u001b[0;31m     \u001b[0mscores\u001b[0m\u001b[0;34m.\u001b[0m\u001b[0mappend\u001b[0m\u001b[0;34m(\u001b[0m\u001b[0;34m(\u001b[0m\u001b[0mc\u001b[0m\u001b[0;34m,\u001b[0m\u001b[0mroc_auc_score\u001b[0m\u001b[0;34m(\u001b[0m\u001b[0my_test\u001b[0m\u001b[0;34m,\u001b[0m\u001b[0mc\u001b[0m\u001b[0;34m.\u001b[0m\u001b[0mpredict\u001b[0m\u001b[0;34m(\u001b[0m\u001b[0mX_test\u001b[0m\u001b[0;34m)\u001b[0m\u001b[0;34m)\u001b[0m\u001b[0;34m)\u001b[0m\u001b[0;34m)\u001b[0m\u001b[0;34m\u001b[0m\u001b[0m\n\u001b[0m\u001b[1;32m     24\u001b[0m \u001b[0;34m\u001b[0m\u001b[0m\n\u001b[1;32m     25\u001b[0m \u001b[0msorted\u001b[0m\u001b[0;34m(\u001b[0m\u001b[0mscores\u001b[0m\u001b[0;34m,\u001b[0m\u001b[0mkey\u001b[0m\u001b[0;34m=\u001b[0m\u001b[0;32mlambda\u001b[0m \u001b[0mx\u001b[0m\u001b[0;34m:\u001b[0m\u001b[0mx\u001b[0m\u001b[0;34m[\u001b[0m\u001b[0;36m1\u001b[0m\u001b[0;34m]\u001b[0m\u001b[0;34m,\u001b[0m\u001b[0mreverse\u001b[0m\u001b[0;34m=\u001b[0m\u001b[0;32mTrue\u001b[0m\u001b[0;34m)\u001b[0m\u001b[0;34m\u001b[0m\u001b[0m\n",
      "\u001b[0;32m~/anaconda3/lib/python3.6/site-packages/sklearn/metrics/ranking.py\u001b[0m in \u001b[0;36mroc_auc_score\u001b[0;34m(y_true, y_score, average, sample_weight)\u001b[0m\n\u001b[1;32m    275\u001b[0m     return _average_binary_score(\n\u001b[1;32m    276\u001b[0m         \u001b[0m_binary_roc_auc_score\u001b[0m\u001b[0;34m,\u001b[0m \u001b[0my_true\u001b[0m\u001b[0;34m,\u001b[0m \u001b[0my_score\u001b[0m\u001b[0;34m,\u001b[0m \u001b[0maverage\u001b[0m\u001b[0;34m,\u001b[0m\u001b[0;34m\u001b[0m\u001b[0m\n\u001b[0;32m--> 277\u001b[0;31m         sample_weight=sample_weight)\n\u001b[0m\u001b[1;32m    278\u001b[0m \u001b[0;34m\u001b[0m\u001b[0m\n\u001b[1;32m    279\u001b[0m \u001b[0;34m\u001b[0m\u001b[0m\n",
      "\u001b[0;32m~/anaconda3/lib/python3.6/site-packages/sklearn/metrics/base.py\u001b[0m in \u001b[0;36m_average_binary_score\u001b[0;34m(binary_metric, y_true, y_score, average, sample_weight)\u001b[0m\n\u001b[1;32m     73\u001b[0m \u001b[0;34m\u001b[0m\u001b[0m\n\u001b[1;32m     74\u001b[0m     \u001b[0;32mif\u001b[0m \u001b[0my_type\u001b[0m \u001b[0;34m==\u001b[0m \u001b[0;34m\"binary\"\u001b[0m\u001b[0;34m:\u001b[0m\u001b[0;34m\u001b[0m\u001b[0m\n\u001b[0;32m---> 75\u001b[0;31m         \u001b[0;32mreturn\u001b[0m \u001b[0mbinary_metric\u001b[0m\u001b[0;34m(\u001b[0m\u001b[0my_true\u001b[0m\u001b[0;34m,\u001b[0m \u001b[0my_score\u001b[0m\u001b[0;34m,\u001b[0m \u001b[0msample_weight\u001b[0m\u001b[0;34m=\u001b[0m\u001b[0msample_weight\u001b[0m\u001b[0;34m)\u001b[0m\u001b[0;34m\u001b[0m\u001b[0m\n\u001b[0m\u001b[1;32m     76\u001b[0m \u001b[0;34m\u001b[0m\u001b[0m\n\u001b[1;32m     77\u001b[0m     \u001b[0mcheck_consistent_length\u001b[0m\u001b[0;34m(\u001b[0m\u001b[0my_true\u001b[0m\u001b[0;34m,\u001b[0m \u001b[0my_score\u001b[0m\u001b[0;34m,\u001b[0m \u001b[0msample_weight\u001b[0m\u001b[0;34m)\u001b[0m\u001b[0;34m\u001b[0m\u001b[0m\n",
      "\u001b[0;32m~/anaconda3/lib/python3.6/site-packages/sklearn/metrics/ranking.py\u001b[0m in \u001b[0;36m_binary_roc_auc_score\u001b[0;34m(y_true, y_score, sample_weight)\u001b[0m\n\u001b[1;32m    266\u001b[0m     \u001b[0;32mdef\u001b[0m \u001b[0m_binary_roc_auc_score\u001b[0m\u001b[0;34m(\u001b[0m\u001b[0my_true\u001b[0m\u001b[0;34m,\u001b[0m \u001b[0my_score\u001b[0m\u001b[0;34m,\u001b[0m \u001b[0msample_weight\u001b[0m\u001b[0;34m=\u001b[0m\u001b[0;32mNone\u001b[0m\u001b[0;34m)\u001b[0m\u001b[0;34m:\u001b[0m\u001b[0;34m\u001b[0m\u001b[0m\n\u001b[1;32m    267\u001b[0m         \u001b[0;32mif\u001b[0m \u001b[0mlen\u001b[0m\u001b[0;34m(\u001b[0m\u001b[0mnp\u001b[0m\u001b[0;34m.\u001b[0m\u001b[0munique\u001b[0m\u001b[0;34m(\u001b[0m\u001b[0my_true\u001b[0m\u001b[0;34m)\u001b[0m\u001b[0;34m)\u001b[0m \u001b[0;34m!=\u001b[0m \u001b[0;36m2\u001b[0m\u001b[0;34m:\u001b[0m\u001b[0;34m\u001b[0m\u001b[0m\n\u001b[0;32m--> 268\u001b[0;31m             raise ValueError(\"Only one class present in y_true. ROC AUC score \"\n\u001b[0m\u001b[1;32m    269\u001b[0m                              \"is not defined in that case.\")\n\u001b[1;32m    270\u001b[0m \u001b[0;34m\u001b[0m\u001b[0m\n",
      "\u001b[0;31mValueError\u001b[0m: Only one class present in y_true. ROC AUC score is not defined in that case."
     ]
    }
   ],
   "source": [
    "from sklearn.model_selection import train_test_split\n",
    "from sklearn.linear_model import LogisticRegression,Lasso,LogisticRegressionCV,RidgeClassifier\n",
    "from sklearn.ensemble import RandomForestClassifier\n",
    "from sklearn.metrics import log_loss,roc_auc_score\n",
    "from lightgbm import LGBMClassifier\n",
    "\n",
    "classifies = [\n",
    "#     RidgeClassifier(),\n",
    "#     LogisticRegression(verbose=1,random_state=42),\n",
    "#     Lasso(random_state=42),\n",
    "#               RandomForestClassifier(verbose=1,random_state=42,n_jobs=4,max_depth=50,n_estimators=500),\n",
    "#               GradientBoostingClassifier(verbose=1,random_state=42),\n",
    "    LGBMClassifier(random_state=42,verbose=1),\n",
    "             ]\n",
    "\n",
    "scores=[]\n",
    "for c in classifies:\n",
    "    \n",
    "    if c is LGBMClassifier:\n",
    "        c.fit(X_train,y_train,categorical_feature=list(X_train.columns))\n",
    "    else:\n",
    "        c.fit(X_train,y_train)\n",
    "    scores.append((c,roc_auc_score(y_test,c.predict(X_test))))\n",
    "    \n",
    "sorted(scores,key=lambda x:x[1],reverse=True)\n"
   ]
  },
  {
   "cell_type": "code",
   "execution_count": null,
   "metadata": {
    "collapsed": true
   },
   "outputs": [],
   "source": [
    "gbc=GradientBoostingClassifier()\n",
    "gbc.fit(sample_clicks)"
   ]
  },
  {
   "cell_type": "code",
   "execution_count": null,
   "metadata": {
    "collapsed": true
   },
   "outputs": [],
   "source": [
    "classifies[0].coef_.shape"
   ]
  },
  {
   "cell_type": "code",
   "execution_count": null,
   "metadata": {
    "collapsed": true
   },
   "outputs": [],
   "source": [
    "sorted([(X_train.columns[i],classifies[0].coef_[0][i]) for i in range(len(X_train.columns))],key=lambda x:x[1],reverse=True)"
   ]
  }
 ],
 "metadata": {
  "kernelspec": {
   "display_name": "Python 3",
   "language": "python",
   "name": "python3"
  },
  "language_info": {
   "codemirror_mode": {
    "name": "ipython",
    "version": 3
   },
   "file_extension": ".py",
   "mimetype": "text/x-python",
   "name": "python",
   "nbconvert_exporter": "python",
   "pygments_lexer": "ipython3",
   "version": "3.6.3"
  }
 },
 "nbformat": 4,
 "nbformat_minor": 2
}
