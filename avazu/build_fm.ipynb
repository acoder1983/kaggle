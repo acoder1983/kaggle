{
 "cells": [
  {
   "cell_type": "code",
   "execution_count": 1,
   "metadata": {
    "collapsed": true
   },
   "outputs": [],
   "source": [
    "import numpy as np\n",
    "import pandas as pd\n",
    "from datetime import datetime\n",
    "from time import time\n",
    "import matplotlib.pyplot as plt\n",
    "from sklearn.metrics import log_loss\n",
    "from sklearn.model_selection import train_test_split\n",
    "from sklearn.preprocessing import LabelEncoder\n",
    "\n",
    "%matplotlib inline"
   ]
  },
  {
   "cell_type": "code",
   "execution_count": 2,
   "metadata": {
    "collapsed": false
   },
   "outputs": [],
   "source": [
    "# with open('raw_data/test_filled.csv','w') as f:\n",
    "#     for i,line in enumerate(open('raw_data/test.csv')):\n",
    "#         if i > 0:\n",
    "#             p=line.index(',')\n",
    "#             f.write(line[:p]+',0'+line[p:])"
   ]
  },
  {
   "cell_type": "code",
   "execution_count": 3,
   "metadata": {
    "collapsed": false,
    "scrolled": true
   },
   "outputs": [
    {
     "name": "stdout",
     "output_type": "stream",
     "text": [
      "<class 'pandas.core.frame.DataFrame'>\n",
      "RangeIndex: 45006431 entries, 0 to 45006430\n",
      "Data columns (total 21 columns):\n",
      "click               int8\n",
      "hour                int32\n",
      "C1                  category\n",
      "banner_pos          int8\n",
      "site_id             category\n",
      "site_domain         category\n",
      "site_category       category\n",
      "app_id              category\n",
      "app_domain          category\n",
      "app_category        category\n",
      "device_model        category\n",
      "device_type         int8\n",
      "device_conn_type    int8\n",
      "C14                 category\n",
      "C15                 category\n",
      "C16                 category\n",
      "C17                 category\n",
      "C18                 category\n",
      "C19                 category\n",
      "C20                 category\n",
      "C21                 category\n",
      "dtypes: category(16), int32(1), int8(4)\n",
      "memory usage: 1.3 GB\n"
     ]
    }
   ],
   "source": [
    "np.random.seed(42)\n",
    "clicks_1k=pd.read_csv('raw_data/train_1k.csv')\n",
    "all_cols=clicks_1k.columns\n",
    "not_load_cols=['id','device_id','device_ip']\n",
    "\n",
    "load_cols=all_cols.difference(not_load_cols)\n",
    "load_types={}\n",
    "for c in load_cols:\n",
    "    if c == 'click':\n",
    "        load_types[c]='int8'\n",
    "    elif c == 'hour':\n",
    "        load_types[c]='int32'\n",
    "    elif c == 'banner_pos':\n",
    "        load_types[c]='int8'\n",
    "    elif c == 'device_type':\n",
    "        load_types[c]='int8'\n",
    "    elif c == 'device_conn_type':\n",
    "        load_types[c]='int8'\n",
    "    else:\n",
    "        load_types[c]='category'\n",
    "# train_clicks=pd.read_csv('raw_data/train.csv',dtype=load_types,usecols=load_cols)\n",
    "# test_clicks=pd.read_csv('raw_data/test.csv',dtype=load_types,usecols=load_cols.difference(['click']))\n",
    "# test_clicks['click']=np.zeros(test_clicks.shape[0]).astype('int8')\n",
    "# train_clicks.info()\n",
    "# test_clicks.info()\n",
    "\n",
    "traintst=pd.read_csv('raw_data/traintst.csv',dtype=load_types,usecols=load_cols)\n",
    "traintst.info()"
   ]
  },
  {
   "cell_type": "code",
   "execution_count": 4,
   "metadata": {
    "collapsed": false
   },
   "outputs": [
    {
     "name": "stdout",
     "output_type": "stream",
     "text": [
      "0 0:0.0 6:1 10:1 13:1\n",
      "1 0:1.0 7:1 9:1 14:1\n",
      "2 0:2.0 6:1 12:1 15:1\n",
      "3 0:3.0 8:1 11:1 16:1\n",
      "4 0:4.0 7:1 9:1 17:1\n",
      "\n"
     ]
    }
   ],
   "source": [
    "def df_to_fm(x,y,file,cat_cols):\n",
    "    x.index=np.arange(x.shape[0])\n",
    "    y.index=np.arange(x.shape[0])\n",
    "    cat_idx=set([-1])\n",
    "    for i in range(x.shape[1]):\n",
    "        if x.columns[i] in cat_cols:\n",
    "            cat_idx.add(i)\n",
    "            \n",
    "    with open(file,'w') as f:\n",
    "        for i in range(x.shape[0]):\n",
    "            s=str(y[i])\n",
    "            \n",
    "            for j in range(x.shape[1]):\n",
    "                if j in cat_idx:\n",
    "                    s += ' %d:1' % x.iat[i,j]\n",
    "                else:\n",
    "                    s += ' %d:%s' % (j,x.iat[i,j])\n",
    "                    \n",
    "            f.write(s+'\\n')\n",
    "        \n",
    "        \n",
    "def fm_encode(df):\n",
    "    cat_cols = df.select_dtypes(include=['category']).columns\n",
    "    fm_idx=df.shape[1]\n",
    "    for c in cat_cols:\n",
    "        df[c]=df[c].cat.codes.astype('int32')+fm_idx+1\n",
    "        fm_idx=np.max(df[c])\n",
    "    \n",
    "    return cat_cols\n",
    "\n",
    "df=pd.DataFrame({'a':np.arange(5).astype('float'),'b':['a','b','a','c','b'],'c':['b','a','d','c','a'],'d':np.arange(5),'e':np.arange(5)})\n",
    "df.b=df.b.astype('category')\n",
    "df.c=df.c.astype('category')\n",
    "df.d=df.d.astype('category')\n",
    "c_cols=fm_encode(df)\n",
    "df_to_fm(df.drop(['e'],axis=1),df.e,'fm_data/t.o',c_cols)\n",
    "with open('fm_data/t.o') as f:\n",
    "    print(f.read())"
   ]
  },
  {
   "cell_type": "code",
   "execution_count": 5,
   "metadata": {
    "collapsed": false
   },
   "outputs": [
    {
     "name": "stdout",
     "output_type": "stream",
     "text": [
      "<class 'pandas.core.frame.DataFrame'>\n",
      "RangeIndex: 45006431 entries, 0 to 45006430\n",
      "Data columns (total 22 columns):\n",
      "click               int8\n",
      "hour                int8\n",
      "C1                  category\n",
      "banner_pos          int8\n",
      "site_id             category\n",
      "site_domain         category\n",
      "site_category       category\n",
      "app_id              category\n",
      "app_domain          category\n",
      "app_category        category\n",
      "device_model        category\n",
      "device_type         int8\n",
      "device_conn_type    int8\n",
      "C14                 category\n",
      "C15                 category\n",
      "C16                 category\n",
      "C17                 category\n",
      "C18                 category\n",
      "C19                 category\n",
      "C20                 category\n",
      "C21                 category\n",
      "day                 int8\n",
      "dtypes: category(16), int8(6)\n",
      "memory usage: 1.3 GB\n",
      "<class 'pandas.core.frame.DataFrame'>\n",
      "RangeIndex: 45006431 entries, 0 to 45006430\n",
      "Data columns (total 22 columns):\n",
      "click               int8\n",
      "hour                int32\n",
      "C1                  int32\n",
      "banner_pos          int8\n",
      "site_id             int32\n",
      "site_domain         int32\n",
      "site_category       int32\n",
      "app_id              int32\n",
      "app_domain          int32\n",
      "app_category        int32\n",
      "device_model        int32\n",
      "device_type         int8\n",
      "device_conn_type    int8\n",
      "C14                 int32\n",
      "C15                 int32\n",
      "C16                 int32\n",
      "C17                 int32\n",
      "C18                 int32\n",
      "C19                 int32\n",
      "C20                 int32\n",
      "C21                 int32\n",
      "day                 int32\n",
      "dtypes: int32(18), int8(4)\n",
      "memory usage: 3.2 GB\n",
      "time cost 6568s\n"
     ]
    }
   ],
   "source": [
    "t=time()\n",
    "# traintst=pd.concat([train_clicks,test_clicks])\n",
    "traintst['time']=traintst.hour\n",
    "traintst['hour']=(traintst.time%100).astype('int8')\n",
    "traintst['day']=((traintst.time-traintst.hour)//100%100).astype('int8')\n",
    "traintst.drop(['time'],axis=1,inplace=True)\n",
    "traintst.info()\n",
    "\n",
    "test_day=traintst.iloc[-1].day\n",
    "val_day=test_day-1\n",
    "train_len=traintst[traintst.day<val_day].shape[0]\n",
    "train_val_len=traintst[traintst.day<test_day].shape[0]\n",
    "\n",
    "traintst['hour']=traintst.hour.astype('category')\n",
    "traintst['day']=traintst.day.astype('category')\n",
    "\n",
    "c_cols=fm_encode(traintst)\n",
    "traintst.info()\n",
    "\n",
    "train_c=traintst.iloc[:train_len]\n",
    "df_to_fm(train_c.drop('click',axis=1),train_c.click.fillna(0),'fm_data/train.fm',c_cols)\n",
    "\n",
    "val_c=traintst.iloc[train_len:train_val_len]\n",
    "df_to_fm(val_c.drop('click',axis=1),val_c.click.fillna(0),'fm_data/val.fm',c_cols)\n",
    "\n",
    "test_c=traintst.iloc[train_val_len:]\n",
    "df_to_fm(test_c.drop('click',axis=1),test_c.click.fillna(0),'fm_data/test.fm',c_cols)\n",
    "    \n",
    "print('time cost %ds'%int(time()-t))\n"
   ]
  }
 ],
 "metadata": {
  "kernelspec": {
   "display_name": "Python [py3]",
   "language": "python",
   "name": "Python [py3]"
  },
  "language_info": {
   "codemirror_mode": {
    "name": "ipython",
    "version": 3
   },
   "file_extension": ".py",
   "mimetype": "text/x-python",
   "name": "python",
   "nbconvert_exporter": "python",
   "pygments_lexer": "ipython3",
   "version": "3.5.3"
  }
 },
 "nbformat": 4,
 "nbformat_minor": 2
}
