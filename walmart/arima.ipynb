{
 "cells": [
  {
   "cell_type": "code",
   "execution_count": null,
   "metadata": {},
   "outputs": [],
   "source": [
    "import numpy as np\n",
    "import pandas as pd\n",
    "import statsmodels.api as sm\n",
    "\n",
    "def sarima_model(sales,range_num):\n",
    "    best_r = None\n",
    "    orders=make_orders(range_num,6)\n",
    "    min_aic=9999999999999\n",
    "    min_bic=9999999999999\n",
    "\n",
    "    for o in orders:\n",
    "        try:\n",
    "            m=sm.tsa.statespace.SARIMAX(sales,order=(o[0],o[1],o[2]),seasonal_order=(0,2,0,52))\n",
    "            r=m.fit()\n",
    "            if r.aic < min_aic and r.bic < min_bic:\n",
    "                best_r = r\n",
    "                best_o = o\n",
    "                min_aic=r.aic\n",
    "                min_bic=r.bic\n",
    "\n",
    "        except Exception as e:\n",
    "            pass\n",
    "    return best_r,best_o\n",
    "\n",
    "def make_orders(range_num, seq_num):\n",
    "    if seq_num == 0:\n",
    "        return [[]]\n",
    "    else:\n",
    "        orders=[]\n",
    "        sub_orders=make_orders(range_num,seq_num-1)\n",
    "        for o in sub_orders:\n",
    "            for i in range(range_num):\n",
    "                s=o.copy()\n",
    "                s.append(i)\n",
    "                orders.append(s)\n",
    "        return orders\n",
    "\n",
    "make_orders(3,3)"
   ]
  },
  {
   "cell_type": "code",
   "execution_count": null,
   "metadata": {
    "collapsed": true
   },
   "outputs": [],
   "source": [
    "import time\n",
    "def foo(idx):\n",
    "    for i in range(10):\n",
    "        print(i)\n",
    "        time.sleep(1)"
   ]
  },
  {
   "cell_type": "code",
   "execution_count": null,
   "metadata": {
    "collapsed": true
   },
   "outputs": [],
   "source": [
    "\n",
    "        \n",
    "import multiprocessing\n",
    "\n",
    "# if __name__ == '__main__':\n",
    "pool = multiprocessing.Pool(processes = 8)\n",
    "for i in range(8):\n",
    "    pool.apply_async(foo,(i,) )\n",
    "\n",
    "pool.close()\n",
    "pool.join()"
   ]
  },
  {
   "cell_type": "code",
   "execution_count": null,
   "metadata": {
    "collapsed": true
   },
   "outputs": [],
   "source": [
    "from multiprocessing import Pool\n",
    "def f(x):\n",
    "    return x*x\n",
    "\n",
    "if __name__ == '__main__':\n",
    "    with Pool(5) as p:\n",
    "        print(p.map(f, [1, 2, 3]))"
   ]
  }
 ],
 "metadata": {
  "kernelspec": {
   "display_name": "Python 3",
   "language": "python",
   "name": "python3"
  },
  "language_info": {
   "codemirror_mode": {
    "name": "ipython",
    "version": 3
   },
   "file_extension": ".py",
   "mimetype": "text/x-python",
   "name": "python",
   "nbconvert_exporter": "python",
   "pygments_lexer": "ipython3",
   "version": "3.5.3"
  }
 },
 "nbformat": 4,
 "nbformat_minor": 2
}
