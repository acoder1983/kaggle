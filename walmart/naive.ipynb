{
 "cells": [
  {
   "cell_type": "code",
   "execution_count": 26,
   "metadata": {},
   "outputs": [
    {
     "name": "stdout",
     "output_type": "stream",
     "text": [
      "total time 169s\n"
     ]
    },
    {
     "data": {
      "text/html": [
       "<div>\n",
       "<style>\n",
       "    .dataframe thead tr:only-child th {\n",
       "        text-align: right;\n",
       "    }\n",
       "\n",
       "    .dataframe thead th {\n",
       "        text-align: left;\n",
       "    }\n",
       "\n",
       "    .dataframe tbody tr th {\n",
       "        vertical-align: top;\n",
       "    }\n",
       "</style>\n",
       "<table border=\"1\" class=\"dataframe\">\n",
       "  <thead>\n",
       "    <tr style=\"text-align: right;\">\n",
       "      <th></th>\n",
       "      <th>Store</th>\n",
       "      <th>Dept</th>\n",
       "      <th>Date</th>\n",
       "      <th>IsHoliday</th>\n",
       "      <th>date_str</th>\n",
       "      <th>date_int</th>\n",
       "      <th>Id</th>\n",
       "      <th>Weekly_Sales</th>\n",
       "    </tr>\n",
       "  </thead>\n",
       "  <tbody>\n",
       "    <tr>\n",
       "      <th>0</th>\n",
       "      <td>1</td>\n",
       "      <td>1</td>\n",
       "      <td>2012-11-02</td>\n",
       "      <td>False</td>\n",
       "      <td>20121102</td>\n",
       "      <td>20121102</td>\n",
       "      <td>1_1_2012-11-02</td>\n",
       "      <td>39886.06</td>\n",
       "    </tr>\n",
       "    <tr>\n",
       "      <th>1</th>\n",
       "      <td>1</td>\n",
       "      <td>1</td>\n",
       "      <td>2012-11-09</td>\n",
       "      <td>False</td>\n",
       "      <td>20121109</td>\n",
       "      <td>20121109</td>\n",
       "      <td>1_1_2012-11-09</td>\n",
       "      <td>18689.54</td>\n",
       "    </tr>\n",
       "    <tr>\n",
       "      <th>2</th>\n",
       "      <td>1</td>\n",
       "      <td>1</td>\n",
       "      <td>2012-11-16</td>\n",
       "      <td>False</td>\n",
       "      <td>20121116</td>\n",
       "      <td>20121116</td>\n",
       "      <td>1_1_2012-11-16</td>\n",
       "      <td>19050.66</td>\n",
       "    </tr>\n",
       "    <tr>\n",
       "      <th>3</th>\n",
       "      <td>1</td>\n",
       "      <td>1</td>\n",
       "      <td>2012-11-23</td>\n",
       "      <td>True</td>\n",
       "      <td>20121123</td>\n",
       "      <td>20121123</td>\n",
       "      <td>1_1_2012-11-23</td>\n",
       "      <td>20911.25</td>\n",
       "    </tr>\n",
       "    <tr>\n",
       "      <th>4</th>\n",
       "      <td>1</td>\n",
       "      <td>1</td>\n",
       "      <td>2012-11-30</td>\n",
       "      <td>False</td>\n",
       "      <td>20121130</td>\n",
       "      <td>20121130</td>\n",
       "      <td>1_1_2012-11-30</td>\n",
       "      <td>25293.49</td>\n",
       "    </tr>\n",
       "  </tbody>\n",
       "</table>\n",
       "</div>"
      ],
      "text/plain": [
       "   Store  Dept        Date  IsHoliday  date_str  date_int              Id  \\\n",
       "0      1     1  2012-11-02      False  20121102  20121102  1_1_2012-11-02   \n",
       "1      1     1  2012-11-09      False  20121109  20121109  1_1_2012-11-09   \n",
       "2      1     1  2012-11-16      False  20121116  20121116  1_1_2012-11-16   \n",
       "3      1     1  2012-11-23       True  20121123  20121123  1_1_2012-11-23   \n",
       "4      1     1  2012-11-30      False  20121130  20121130  1_1_2012-11-30   \n",
       "\n",
       "   Weekly_Sales  \n",
       "0      39886.06  \n",
       "1      18689.54  \n",
       "2      19050.66  \n",
       "3      20911.25  \n",
       "4      25293.49  "
      ]
     },
     "execution_count": 26,
     "metadata": {},
     "output_type": "execute_result"
    }
   ],
   "source": [
    "import time\n",
    "\n",
    "train_data = pd.read_csv('raw_data/train.csv')\n",
    "test_data = pd.read_csv('raw_data/test.csv')\n",
    "raw_data=(train_data,test_data)\n",
    "for df in raw_data:\n",
    "    df['date_str']=np.core.defchararray.replace(df.Date.values.astype('U'),'-','')\n",
    "    df['date_int']=df.date_str.astype('int')\n",
    "\n",
    "result = test_data.copy()\n",
    "result['Id']=test_data.Store.astype('U')+'_'+test_data.Dept.astype('U')+'_'+test_data.Date.astype('U')\n",
    "result['Weekly_Sales']=0\n",
    "\n",
    "t = time.time()\n",
    "store=-1\n",
    "dept=-1\n",
    "dept_train=None\n",
    "for i in range(len(result)):\n",
    "    \n",
    "    s=result.loc[i,'Store']\n",
    "    d=result.loc[i,'Dept']\n",
    "    date=np.datetime64(result.loc[i,'Date'])\n",
    "    \n",
    "    if s != store or d != dept:\n",
    "        store = s\n",
    "        dept =d\n",
    "        dept_train=train_data[np.logical_and(train_data.Store==store,train_data.Dept==dept)]\n",
    "    \n",
    "    history_date = date+np.timedelta64(-52,'W')\n",
    "    history_sale = dept_train[dept_train.date_int==int(str(history_date).replace('-',''))]\n",
    "    if len(history_sale) == 1:\n",
    "        result.loc[i,'Weekly_Sales'] = history_sale.iloc[0]['Weekly_Sales']\n",
    "    \n",
    "print('total time %ds'%int(time.time()-t))\n",
    "result.head()\n"
   ]
  },
  {
   "cell_type": "code",
   "execution_count": 28,
   "metadata": {},
   "outputs": [
    {
     "data": {
      "text/plain": [
       "2050"
      ]
     },
     "execution_count": 28,
     "metadata": {},
     "output_type": "execute_result"
    }
   ],
   "source": [
    "len(result[result.Weekly_Sales==0])"
   ]
  },
  {
   "cell_type": "code",
   "execution_count": 29,
   "metadata": {
    "collapsed": true
   },
   "outputs": [],
   "source": [
    "result[['Id','Weekly_Sales']].to_csv('output/naive/result.csv',header=True,index=False)"
   ]
  },
  {
   "cell_type": "markdown",
   "metadata": {},
   "source": [
    "score: 2943\n",
    "rank: 113/692"
   ]
  },
  {
   "cell_type": "code",
   "execution_count": null,
   "metadata": {
    "collapsed": true
   },
   "outputs": [],
   "source": [
    "def score(predict_data,validate_data):\n",
    "    validate_data['Weight'] = np.array([5 if holiday else 1 for holiday in validate_data['IsHoliday']])\n",
    "    return np.sum(np.abs((predict_data.Weekly_Sales-validate_data.Weekly_Sales)*validate_data.Weight)) / np.sum(validate_data.Weight)\n",
    "\n",
    "class NaiveModel:\n",
    "    def __init__(self):\n",
    "        pass\n",
    "    def fit(self, train_data):\n",
    "        self.train_data=train_data\n",
    "        \n",
    "    def predict(self, test_data):\n",
    "        predict_data = test_data.copy()\n",
    "        predict_data['Weekly_Sales']=0\n",
    "        \n",
    "        for date in predict_data.index:\n",
    "            history_date = date+np.timedelta64(-52,'W')\n",
    "            history_sale = self.train_data[self.train_data.index==history_date]\n",
    "            if len(history_sale) == 1:\n",
    "                predict_data.loc[date,'Weekly_Sales'] = history_sale.loc[history_date, 'Weekly_Sales']\n",
    "                \n",
    "        return predict_data\n",
    "    \n",
    "naive_m = NaiveModel()\n",
    "naive_m.fit(dept_train)\n",
    "dept_predict=naive_m.predict(dept_test)\n",
    "score(dept_predict,dept_test)\n"
   ]
  }
 ],
 "metadata": {
  "kernelspec": {
   "display_name": "Python 3",
   "language": "python",
   "name": "python3"
  },
  "language_info": {
   "codemirror_mode": {
    "name": "ipython",
    "version": 3
   },
   "file_extension": ".py",
   "mimetype": "text/x-python",
   "name": "python",
   "nbconvert_exporter": "python",
   "pygments_lexer": "ipython3",
   "version": "3.6.2"
  }
 },
 "nbformat": 4,
 "nbformat_minor": 2
}
