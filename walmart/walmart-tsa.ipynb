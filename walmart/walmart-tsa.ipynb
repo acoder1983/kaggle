{
 "cells": [
  {
   "cell_type": "code",
   "execution_count": null,
   "metadata": {},
   "outputs": [],
   "source": [
    "import numpy as np\n",
    "import pandas as pd\n",
    "import statsmodels.api as sm\n",
    "from scipy import stats\n",
    "from statsmodels.tsa.arima_model import ARIMA\n",
    "import seaborn as sns\n",
    "import matplotlib.pyplot as plt\n",
    "import arima\n",
    "import datetime\n",
    "%matplotlib inline\n"
   ]
  },
  {
   "cell_type": "code",
   "execution_count": null,
   "metadata": {},
   "outputs": [],
   "source": [
    "features = pd.read_csv('raw_data/features.csv')\n",
    "features.head(5)"
   ]
  },
  {
   "cell_type": "code",
   "execution_count": null,
   "metadata": {},
   "outputs": [],
   "source": [
    "features[np.logical_not(np.isnan(features.MarkDown3))].head()"
   ]
  },
  {
   "cell_type": "code",
   "execution_count": null,
   "metadata": {},
   "outputs": [],
   "source": [
    "stores = pd.read_csv('raw_data/stores.csv')\n",
    "stores.head(5)"
   ]
  },
  {
   "cell_type": "code",
   "execution_count": null,
   "metadata": {},
   "outputs": [],
   "source": [
    "train_data = pd.read_csv('raw_data/train.csv')\n",
    "train_data.info()"
   ]
  },
  {
   "cell_type": "markdown",
   "metadata": {},
   "source": [
    "lookup store1 dept1's historical sales"
   ]
  },
  {
   "cell_type": "code",
   "execution_count": null,
   "metadata": {},
   "outputs": [],
   "source": [
    "dept_data=train_data[np.logical_and(train_data.Store==1,train_data.Dept == 1)]\n",
    "\n",
    "dept_data=pd.DataFrame(dept_data[['Weekly_Sales','IsHoliday','Date']].values,\n",
    "                       index=pd.DatetimeIndex(dept_data['Date']),columns=['Weekly_Sales','IsHoliday','Date'])\n",
    "dept_train=dept_data.iloc[:105,]\n",
    "dept_test=dept_data.iloc[105:,]\n",
    "for df in (dept_data,dept_train,dept_test):\n",
    "    df.Weekly_Sales = df.Weekly_Sales.astype('float64')\n",
    "    df.IsHoliday = df.IsHoliday.astype('int64')\n",
    "dept_train.info()"
   ]
  },
  {
   "cell_type": "code",
   "execution_count": null,
   "metadata": {},
   "outputs": [],
   "source": [
    "dept_data.Weekly_Sales.diff().plot()"
   ]
  },
  {
   "cell_type": "code",
   "execution_count": null,
   "metadata": {
    "scrolled": true
   },
   "outputs": [],
   "source": [
    "fig = plt.figure(figsize=(12,8))\n",
    "ax1 = fig.add_subplot(211)\n",
    "fig = sm.graphics.tsa.plot_acf(dept_data.Weekly_Sales.dropna(), ax=ax1)\n",
    "ax2 = fig.add_subplot(212)\n",
    "fig = sm.graphics.tsa.plot_pacf(dept_data.Weekly_Sales.dropna(), ax=ax2)"
   ]
  },
  {
   "cell_type": "code",
   "execution_count": null,
   "metadata": {},
   "outputs": [],
   "source": [
    "from statsmodels.tsa.stattools import adfuller\n",
    "dftest=adfuller(dept_data.Weekly_Sales)\n",
    "dfoutput = pd.Series(dftest[0:4], index=['Test Statistic','p-value','#Lags Used','Number of Observations Used'])\n",
    "for key,value in dftest[4].items():\n",
    "    dfoutput['Critical Value (%s)'%key] = value\n",
    "dfoutput"
   ]
  },
  {
   "cell_type": "code",
   "execution_count": null,
   "metadata": {},
   "outputs": [],
   "source": [
    "fig = plt.figure(figsize=(12,8))\n",
    "ax1 = fig.add_subplot(211)\n",
    "fig = sm.graphics.tsa.plot_acf(dept_data.Weekly_Sales.diff().dropna(), ax=ax1)\n",
    "ax2 = fig.add_subplot(212)\n",
    "fig = sm.graphics.tsa.plot_pacf(dept_data.Weekly_Sales.diff().dropna(), ax=ax2)"
   ]
  },
  {
   "cell_type": "code",
   "execution_count": null,
   "metadata": {},
   "outputs": [],
   "source": [
    "from statsmodels.tsa.stattools import adfuller\n",
    "dftest=adfuller(dept_data.Weekly_Sales.diff().dropna())\n",
    "dfoutput = pd.Series(dftest[0:4], index=['Test Statistic','p-value','#Lags Used','Number of Observations Used'])\n",
    "for key,value in dftest[4].items():\n",
    "    dfoutput['Critical Value (%s)'%key] = value\n",
    "dfoutput"
   ]
  },
  {
   "cell_type": "code",
   "execution_count": null,
   "metadata": {
    "collapsed": true
   },
   "outputs": [],
   "source": [
    "def score(predict_data,validate_data):\n",
    "    validate_data['Weight'] = np.array([5 if holiday else 1 for holiday in validate_data['IsHoliday']])\n",
    "    return np.sum(np.abs((predict_data.Weekly_Sales-validate_data.Weekly_Sales)*validate_data.Weight)) / np.sum(validate_data.Weight)"
   ]
  },
  {
   "cell_type": "code",
   "execution_count": null,
   "metadata": {},
   "outputs": [],
   "source": []
  },
  {
   "cell_type": "code",
   "execution_count": null,
   "metadata": {
    "collapsed": true
   },
   "outputs": [],
   "source": [
    "import statsmodels.api as sm\n",
    "import traceback\n",
    "\n",
    "def select_arima_model(sales, orders, season, factors=None,speedup=False):\n",
    "    best_r = None\n",
    "    best_o = None\n",
    "    min_aic=9999999999999\n",
    "    min_bic=9999999999999\n",
    "        \n",
    "    for o,s in zip(orders,season):\n",
    "        try:\n",
    "            if speedup:\n",
    "                m=sm.tsa.statespace.SARIMAX(sales,order=o,seasonal_order=s,exog=factors,\n",
    "                         simple_differencing=True, enforce_stationarity=False, enforce_invertibility=False)\n",
    "                    \n",
    "            else:\n",
    "                m=sm.tsa.statespace.SARIMAX(sales,order=o,seasonal_order=s,exog=factors)\n",
    "                \n",
    "            r=m.fit(disp=False)\n",
    "            if r.aic < min_aic and r.bic < min_bic:\n",
    "                best_r = r\n",
    "                best_o = o+s\n",
    "                min_aic=r.aic\n",
    "                min_bic=r.bic\n",
    "                print(best_o,r.aic,r.bic)\n",
    "\n",
    "        except Exception as e:\n",
    "            print(e)\n",
    "#             traceback.print_exc()\n",
    "            \n",
    "    return best_r,best_o\n",
    "\n",
    "def make_orders(range_num, seq_num):\n",
    "    if seq_num == 0:\n",
    "        return [[]]\n",
    "    else:\n",
    "        orders=[]\n",
    "        sub_orders=make_orders(range_num,seq_num-1)\n",
    "        for o in sub_orders:\n",
    "            for i in range(range_num):\n",
    "                s=o.copy()\n",
    "                s.append(i)\n",
    "                orders.append(s)\n",
    "        return orders\n"
   ]
  },
  {
   "cell_type": "code",
   "execution_count": null,
   "metadata": {},
   "outputs": [],
   "source": [
    "class ArimaModel():\n",
    "    def __init__(self):\n",
    "        pass\n",
    "    \n",
    "    def fit(self, train_data, orders, seasonal_orders, factors=None):\n",
    "        train_resample=train_data.resample('1W').sum()\n",
    "        train_resample.fillna(0)\n",
    "        train_resample.index = train_resample.index-(train_resample.index[0]-train_data.index[0])\n",
    "        if factors is None:\n",
    "            self.m, self.o = select_arima_model(train_resample.Weekly_Sales,orders,seasonal_orders)\n",
    "        else:\n",
    "            self.m, self.o = select_arima_model(train_resample.Weekly_Sales,orders,seasonal_orders,train_resample[factors])\n",
    "\n",
    "    def predict(self, test_data,factors=None):\n",
    "        predict_data = test_data.copy()\n",
    "        predict_data=predict_data.resample('1W').sum()\n",
    "        predict_data.index = predict_data.index-(predict_data.index[0]-test_data.index[0])\n",
    "        predict_data.fillna(0)\n",
    "        predict_data['Weekly_Sales']=0\n",
    "        \n",
    "        if factors is None:\n",
    "            predicts=self.m.forecast(len(test_data))\n",
    "        else:\n",
    "            predicts=self.m.forecast(len(test_data),exog=predict_data[factors])\n",
    "        for date in predict_data.index:\n",
    "            sale_data = predicts[predicts.index == date]\n",
    "            if len(sale_data) == 1:\n",
    "                predict_data.loc[date,'Weekly_Sales'] = sale_data[date]\n",
    "        return predict_data\n",
    "    \n",
    "arima_m = ArimaModel()\n",
    "orders=make_orders(3,3)\n",
    "arma_orders=[(o[0],o[1],o[2]) for o in orders]\n",
    "seasonal_orders=[(0,0,0,0) for o in orders]\n",
    "arima_m.fit(dept_train,arma_orders,seasonal_orders)\n",
    "dept_predict=arima_m.predict(dept_test)\n",
    "arima_m.o, arima_m.m.aic, arima_m.m.bic, score(dept_predict,dept_test)"
   ]
  },
  {
   "cell_type": "code",
   "execution_count": null,
   "metadata": {
    "collapsed": true
   },
   "outputs": [],
   "source": [
    "# arima_f_m = ArimaModel()\n",
    "# orders=make_orders(3,3)\n",
    "# arma_orders=[(o[0],o[1],o[2]) for o in orders]\n",
    "# seasonal_orders=[(0,0,0,0) for o in orders]\n",
    "# arima_f_m.fit(dept_train,arma_orders,seasonal_orders,['IsHoliday'])\n",
    "# dept_predict=arima_f_m.predict(dept_test,['IsHoliday'])\n",
    "# arima_f_m.o, arima_f_m.m.aic, arima_f_m.m.bic, score(dept_predict,dept_test)"
   ]
  },
  {
   "cell_type": "code",
   "execution_count": null,
   "metadata": {
    "collapsed": true
   },
   "outputs": [],
   "source": [
    "# sarima_m = ArimaModel()\n",
    "# orders=make_orders(3,6)\n",
    "# arma_orders=[(o[0],o[1],o[2]) for o in orders]\n",
    "# seasonal_orders=[(o[3],o[4],o[5],52) for o in orders]\n",
    "# sarima_m.fit(dept_train,arma_orders,seasonal_orders)\n",
    "# dept_predict=sarima_m.predict(dept_test)\n",
    "# sarima_m.o, sarima_m.m.aic, sarima_m.m.bic, score(dept_predict,dept_test)"
   ]
  },
  {
   "cell_type": "code",
   "execution_count": null,
   "metadata": {
    "collapsed": true
   },
   "outputs": [],
   "source": [
    "# sarima_f_m = ArimaModel()\n",
    "# orders=make_orders(3,6)\n",
    "# arma_orders=[(o[0],o[1],o[2]) for o in orders]\n",
    "# seasonal_orders=[(o[3],o[4],o[5],52) for o in orders]\n",
    "# sarima_f_m.fit(dept_train,arma_orders,seasonal_orders,['IsHoliday'])\n",
    "# dept_predict=sarima_f_m.predict(dept_test, ['IsHoliday'])\n",
    "# sarima_f_m.o, sarima_f_m.m.aic, sarima_f_m.m.bic, score(dept_predict,dept_test)"
   ]
  },
  {
   "cell_type": "code",
   "execution_count": null,
   "metadata": {},
   "outputs": [],
   "source": [
    "sarima_cust_m = ArimaModel()\n",
    "orders=[(2,1,1)] # best choice by AIC\n",
    "# orders=make_orders(5,3)\n",
    "# orders=[(0,0,0)]\n",
    "arma_orders=[(o[0],o[1],o[2]) for o in orders]\n",
    "seasonal_orders=[(1,0,0,52) for o in orders]\n",
    "sarima_cust_m.fit(dept_train,arma_orders,seasonal_orders)\n",
    "dept_predict=sarima_cust_m.predict(dept_test)\n",
    "sarima_cust_m.o, sarima_cust_m.m.aic, sarima_cust_m.m.bic, score(dept_predict,dept_test)"
   ]
  },
  {
   "cell_type": "code",
   "execution_count": null,
   "metadata": {},
   "outputs": [],
   "source": [
    "store_features=features[features.Store==1]\n",
    "store_features=pd.DataFrame(store_features[['Temperature','Fuel_Price','CPI','Unemployment']].values,\n",
    "                       index=pd.DatetimeIndex(store_features['Date']),columns=['Temperature','Fuel_Price','CPI','Unemployment'])\n",
    "dept_f_data=pd.concat([dept_data,store_features],axis=1,join='inner')\n",
    "dept_f_train=dept_f_data.iloc[:105,]\n",
    "dept_f_test=dept_f_data.iloc[105:,]\n",
    "for df in (dept_f_data,dept_f_train,dept_f_test):\n",
    "    df.Weekly_Sales = df.Weekly_Sales.astype('float64')\n",
    "    df.IsHoliday = df.IsHoliday.astype('int64')\n",
    "    "
   ]
  },
  {
   "cell_type": "code",
   "execution_count": null,
   "metadata": {},
   "outputs": [],
   "source": [
    "sarima_cust_m = ArimaModel()\n",
    "orders=[(2,1,1)] # best choice by AIC\n",
    "# orders=make_orders(5,3)\n",
    "arma_orders=[(o[0],o[1],o[2]) for o in orders]\n",
    "seasonal_orders=[(1,0,0,52) for o in orders]\n",
    "sarima_cust_m.fit(dept_f_train,arma_orders,seasonal_orders,['IsHoliday'])\n",
    "dept_predict=sarima_cust_m.predict(dept_f_test,['IsHoliday'])\n",
    "sarima_cust_m.o, sarima_cust_m.m.aic, sarima_cust_m.m.bic, score(dept_predict,dept_test)"
   ]
  },
  {
   "cell_type": "code",
   "execution_count": null,
   "metadata": {},
   "outputs": [],
   "source": [
    "dept_f_train['Sales_Log']=np.log(dept_f_train.Weekly_Sales)\n",
    "dept_f_train[['Sales_Log','IsHoliday']].plot()"
   ]
  },
  {
   "cell_type": "code",
   "execution_count": null,
   "metadata": {},
   "outputs": [],
   "source": [
    "\n"
   ]
  },
  {
   "cell_type": "code",
   "execution_count": null,
   "metadata": {
    "collapsed": true
   },
   "outputs": [],
   "source": [
    "# tmp_1_2=train_data[np.logical_and(train_data.Store==1,train_data.Dept == 2)]\n",
    "# id_1_2=pd.DataFrame(tmp_1_2['Weekly_Sales'].values,index=pd.DatetimeIndex(tmp_1_2['Date']),columns=['Weekly_Sales'])\n",
    "# id_1_2.plot(figsize=(20,5))"
   ]
  },
  {
   "cell_type": "code",
   "execution_count": null,
   "metadata": {
    "collapsed": true
   },
   "outputs": [],
   "source": [
    "# from statsmodels.tsa.stattools import adfuller\n",
    "# dftest = adfuller(id_1_1.Weekly_Sales.diff().dropna(), autolag='AIC')\n",
    "# dfoutput = pd.Series(dftest[0:4], index=['Test Statistic','p-value','#Lags Used','Number of Observations Used'])\n",
    "# for key,value in dftest[4].items():\n",
    "#     dfoutput['Critical Value (%s)'%key] = value\n",
    "# dfoutput"
   ]
  },
  {
   "cell_type": "code",
   "execution_count": null,
   "metadata": {
    "collapsed": true
   },
   "outputs": [],
   "source": [
    "# mod = sm.tsa.statespace.SARIMAX(id_1_1.Weekly_Sales, order=(1,1,1), seasonal_order=(1,1,0,52))\n",
    "# res = mod.fit()\n",
    "# res.summary()"
   ]
  },
  {
   "cell_type": "code",
   "execution_count": null,
   "metadata": {
    "collapsed": true
   },
   "outputs": [],
   "source": [
    "# res.aic,res.bic"
   ]
  },
  {
   "cell_type": "code",
   "execution_count": null,
   "metadata": {
    "collapsed": true
   },
   "outputs": [],
   "source": [
    "# r,q,p = sm.tsa.acf(res.resid.values.squeeze(), qstat=True)\n",
    "# data = np.c_[range(1,41), r[1:], q, p]\n",
    "# table = pd.DataFrame(data, columns=['lag', \"AC\", \"Q\", \"Prob(>Q)\"])\n",
    "# table.set_index('lag')"
   ]
  },
  {
   "cell_type": "markdown",
   "metadata": {},
   "source": [
    "use lr"
   ]
  },
  {
   "cell_type": "code",
   "execution_count": null,
   "metadata": {},
   "outputs": [],
   "source": [
    "full_train=train_data.merge(stores,left_on='Store',right_on='Store').merge(features,left_on=('Store','Date'),right_on=('Store','Date'))\n",
    "full_train.head()"
   ]
  },
  {
   "cell_type": "code",
   "execution_count": null,
   "metadata": {},
   "outputs": [],
   "source": [
    "full_train[np.logical_and(full_train.Store==1,full_train.Dept==1)].head()"
   ]
  },
  {
   "cell_type": "code",
   "execution_count": null,
   "metadata": {},
   "outputs": [],
   "source": [
    "full_train['Week_In_Year']=full_train.Date.astype(np.datetime64).apply(lambda d: datetime.date.isocalendar(d)[1])\n",
    "full_train.head()"
   ]
  },
  {
   "cell_type": "code",
   "execution_count": null,
   "metadata": {},
   "outputs": [],
   "source": [
    "full_train['IsHoliday']=full_train.IsHoliday_x.astype('int')\n",
    "full_train.drop(['IsHoliday_x','IsHoliday_y'],axis=1,inplace=True)\n",
    "full_train.head()"
   ]
  },
  {
   "cell_type": "code",
   "execution_count": null,
   "metadata": {},
   "outputs": [],
   "source": [
    "depts1=full_train[full_train.Dept==1][['Store','Type','Weekly_Sales','Size','Temperature','Fuel_Price','CPI','Unemployment','IsHoliday','Week_In_Year']]\n",
    "depts1.head()"
   ]
  },
  {
   "cell_type": "code",
   "execution_count": null,
   "metadata": {},
   "outputs": [],
   "source": [
    "import sys\n",
    "sys.path.append('../')\n",
    "from pipeline import *\n",
    "from onehot import *\n",
    "from util import *\n",
    "\n",
    "full_pipeline=DataFramePipeline([\n",
    "        FeaturePipeline('Type','',Pipeline([('onehot',LabelBinarizerEx(['Type']))])),\n",
    "]\n",
    ")\n",
    "\n",
    "depts1p=full_pipeline.fit_transform(depts1)\n",
    "depts1p.head()"
   ]
  },
  {
   "cell_type": "code",
   "execution_count": null,
   "metadata": {
    "collapsed": true
   },
   "outputs": [],
   "source": [
    "# test_data = pd.read_csv('raw_data/test.csv')\n",
    "# test_data.head()"
   ]
  },
  {
   "cell_type": "code",
   "execution_count": null,
   "metadata": {
    "collapsed": true
   },
   "outputs": [],
   "source": [
    "# result.to_csv('result.csv',header=True,index=False)"
   ]
  },
  {
   "cell_type": "code",
   "execution_count": null,
   "metadata": {
    "collapsed": true
   },
   "outputs": [],
   "source": []
  }
 ],
 "metadata": {
  "kernelspec": {
   "display_name": "Python 3",
   "language": "python",
   "name": "python3"
  },
  "language_info": {
   "codemirror_mode": {
    "name": "ipython",
    "version": 3
   },
   "file_extension": ".py",
   "mimetype": "text/x-python",
   "name": "python",
   "nbconvert_exporter": "python",
   "pygments_lexer": "ipython3",
   "version": "3.5.3"
  }
 },
 "nbformat": 4,
 "nbformat_minor": 2
}
