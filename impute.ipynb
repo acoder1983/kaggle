{
 "cells": [
  {
   "cell_type": "code",
   "execution_count": 59,
   "metadata": {},
   "outputs": [
    {
     "name": "stderr",
     "output_type": "stream",
     "text": [
      "test (__main__.Test) ... ok\n",
      "\n",
      "----------------------------------------------------------------------\n",
      "Ran 1 test in 0.012s\n",
      "\n",
      "OK\n"
     ]
    }
   ],
   "source": [
    "import pandas as pd\n",
    "import numpy as np\n",
    "from sklearn.base import BaseEstimator, TransformerMixin\n",
    "\n",
    "class GroupImputer(BaseEstimator,TransformerMixin):\n",
    "    '''\n",
    "    impute according to group cols\n",
    "    default use median\n",
    "    '''\n",
    "    def __init__(self,cols):\n",
    "        '''\n",
    "        group cols + target col\n",
    "        '''\n",
    "        self.cols=cols\n",
    "        self.group_cols=cols[:-1]\n",
    "        self.impute_col=cols[-1]\n",
    "        \n",
    "    def fit(self, X, y=None):\n",
    "        df = pd.DataFrame(X,columns=self.cols)\n",
    "        self.medians=df.groupby(self.group_cols).median()[self.impute_col]\n",
    "        return self\n",
    "            \n",
    "    \n",
    "    def transform(self, X, y=None):\n",
    "        df = pd.DataFrame(X,columns=self.cols)\n",
    "        \n",
    "        missing_index=df[df[self.impute_col].isnull()].index\n",
    "        \n",
    "        for i in missing_index:\n",
    "            idx_values=[df.loc[i,c] for c in self.group_cols]\n",
    "            if len(self.group_cols) > 1:\n",
    "                df.loc[i,self.impute_col] = self.medians[tuple(idx_values)]\n",
    "            else:\n",
    "                df.loc[i,self.impute_col] = self.medians[idx_values[0]]\n",
    "        return df[[self.impute_col]].values\n",
    "    \n",
    "    def fit_transform(self, X, y=None):\n",
    "        self.fit(X)\n",
    "        return self.transform(X)\n",
    "    \n",
    "import unittest as ut\n",
    "\n",
    "from sklearn.pipeline import Pipeline\n",
    "\n",
    "class Test(ut.TestCase):\n",
    "    def test(self):\n",
    "        df=pd.DataFrame({'sex':[0,0,0,1,1,1,0,1],'age':[1,2,3,4,5,6,np.nan,np.nan]})\n",
    "        \n",
    "        g=GroupImputer(['sex','age'])\n",
    "        data=g.fit_transform(df[['sex','age']].values)\n",
    "        self.assertEqual(['sex'],g.group_cols)\n",
    "        self.assertEqual('age',g.impute_col)\n",
    "        \n",
    "        df_ret=pd.DataFrame(data,columns=['age'])\n",
    "        \n",
    "        self.assertTrue(np.array_equal(np.array([1,2,3,4,5,6,2,5]), df_ret['age'].values))\n",
    "        \n",
    "        df=pd.DataFrame({'sex':[0,1,0],'class':[0,1,0],'age':[1,2,np.nan]})\n",
    "        \n",
    "        g=GroupImputer(['sex','class','age'])\n",
    "        data=g.fit_transform(df[['sex','class','age']].values)\n",
    "        \n",
    "        df_ret=pd.DataFrame(data,columns=['age'])\n",
    "        \n",
    "        self.assertTrue(np.array_equal(np.array([1,2,1]), df_ret['age'].values))\n",
    "                \n",
    "if __name__ == '__main__':\n",
    "    ut.main(argv=['ignored', '-v'], exit=False)"
   ]
  }
 ],
 "metadata": {
  "kernelspec": {
   "display_name": "Python 3",
   "language": "python",
   "name": "python3"
  },
  "language_info": {
   "codemirror_mode": {
    "name": "ipython",
    "version": 3
   },
   "file_extension": ".py",
   "mimetype": "text/x-python",
   "name": "python",
   "nbconvert_exporter": "python",
   "pygments_lexer": "ipython3",
   "version": "3.5.3"
  }
 },
 "nbformat": 4,
 "nbformat_minor": 2
}
