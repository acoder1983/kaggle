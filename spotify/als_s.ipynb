{
 "cells": [
  {
   "cell_type": "code",
   "execution_count": 1,
   "metadata": {},
   "outputs": [
    {
     "data": {
      "application/vnd.jupyter.widget-view+json": {
       "model_id": "f57c0c9c27eb4d0bbc3f0debb94d1408",
       "version_major": 2,
       "version_minor": 0
      },
      "text/html": [
       "<p>Failed to display Jupyter Widget of type <code>HBox</code>.</p>\n",
       "<p>\n",
       "  If you're reading this message in the Jupyter Notebook or JupyterLab Notebook, it may mean\n",
       "  that the widgets JavaScript is still loading. If this message persists, it\n",
       "  likely means that the widgets JavaScript library is either not installed or\n",
       "  not enabled. See the <a href=\"https://ipywidgets.readthedocs.io/en/stable/user_install.html\">Jupyter\n",
       "  Widgets Documentation</a> for setup instructions.\n",
       "</p>\n",
       "<p>\n",
       "  If you're reading this message in another frontend (for example, a static\n",
       "  rendering on GitHub or <a href=\"https://nbviewer.jupyter.org/\">NBViewer</a>),\n",
       "  it may mean that your frontend doesn't currently support widgets.\n",
       "</p>\n"
      ],
      "text/plain": [
       "HBox(children=(IntProgress(value=0, max=10), HTML(value='')))"
      ]
     },
     "metadata": {},
     "output_type": "display_data"
    },
    {
     "name": "stdout",
     "output_type": "stream",
     "text": [
      "\n"
     ]
    },
    {
     "data": {
      "application/vnd.jupyter.widget-view+json": {
       "model_id": "a73edf2428444b02ad7590687983f340",
       "version_major": 2,
       "version_minor": 0
      },
      "text/html": [
       "<p>Failed to display Jupyter Widget of type <code>HBox</code>.</p>\n",
       "<p>\n",
       "  If you're reading this message in the Jupyter Notebook or JupyterLab Notebook, it may mean\n",
       "  that the widgets JavaScript is still loading. If this message persists, it\n",
       "  likely means that the widgets JavaScript library is either not installed or\n",
       "  not enabled. See the <a href=\"https://ipywidgets.readthedocs.io/en/stable/user_install.html\">Jupyter\n",
       "  Widgets Documentation</a> for setup instructions.\n",
       "</p>\n",
       "<p>\n",
       "  If you're reading this message in another frontend (for example, a static\n",
       "  rendering on GitHub or <a href=\"https://nbviewer.jupyter.org/\">NBViewer</a>),\n",
       "  it may mean that your frontend doesn't currently support widgets.\n",
       "</p>\n"
      ],
      "text/plain": [
       "HBox(children=(IntProgress(value=0, max=670263), HTML(value='')))"
      ]
     },
     "metadata": {},
     "output_type": "display_data"
    },
    {
     "name": "stderr",
     "output_type": "stream",
     "text": [
      "/home/cq/anaconda3/lib/python3.6/site-packages/tqdm/_monitor.py:89: TqdmSynchronisationWarning: Set changed size during iteration (see https://github.com/tqdm/tqdm/issues/481)\n",
      "  TqdmSynchronisationWarning)\n"
     ]
    },
    {
     "name": "stdout",
     "output_type": "stream",
     "text": [
      "\n"
     ]
    },
    {
     "data": {
      "text/plain": [
       "<9990x171845 sparse matrix of type '<class 'numpy.float64'>'\n",
       "\twith 661198 stored elements in Compressed Sparse Row format>"
      ]
     },
     "execution_count": 1,
     "metadata": {},
     "output_type": "execute_result"
    }
   ],
   "source": [
    "from util import *\n",
    "\n",
    "with open('raw/tracks_uri_2_id.json') as f:\n",
    "    tracks_uri_2_id=json.load(f)\n",
    "with open('raw/tracks_id_2_uri.json') as f:\n",
    "    tracks_id_2_uri=json.load(f)\n",
    "\n",
    "\n",
    "flag='small'\n",
    "playlists_tra,playlists_tst,playlist_tracks_tra,playlist_tracks_tst,playlist_tracks_tru,tracks,playlists,playlist_tracks = load_small_data()\n",
    "y_true=ytrue(playlists_tst,playlist_tracks_tru)\n",
    "\n",
    "ptracks=pd.concat([playlist_tracks_tra,playlist_tracks_tst])\n",
    "playlists=sorted(ptracks.pid.unique())\n",
    "pid_2_ix={p:i for i,p in enumerate(playlists)}\n",
    "track_ids=sorted(ptracks.track_id.unique())\n",
    "tid_2_ix={t:i for i,t in enumerate(track_ids)}\n",
    "\n",
    "r=np.zeros((ptracks.shape[0],))\n",
    "c=np.zeros((ptracks.shape[0],))\n",
    "d=np.ones((ptracks.shape[0],))\n",
    "for i in tnrange(ptracks.shape[0]):\n",
    "    r[i]=pid_2_ix[ptracks.iat[i,0]]\n",
    "    c[i]=tid_2_ix[ptracks.iat[i,2]]\n",
    "plays=csr_matrix((d,(r,c)),shape=(len(playlists),len(track_ids)))\n",
    "plays"
   ]
  },
  {
   "cell_type": "code",
   "execution_count": 19,
   "metadata": {},
   "outputs": [
    {
     "data": {
      "application/vnd.jupyter.widget-view+json": {
       "model_id": "293d8f33cf1d409fa1ea5fa1388088f6",
       "version_major": 2,
       "version_minor": 0
      },
      "text/html": [
       "<p>Failed to display Jupyter Widget of type <code>HBox</code>.</p>\n",
       "<p>\n",
       "  If you're reading this message in the Jupyter Notebook or JupyterLab Notebook, it may mean\n",
       "  that the widgets JavaScript is still loading. If this message persists, it\n",
       "  likely means that the widgets JavaScript library is either not installed or\n",
       "  not enabled. See the <a href=\"https://ipywidgets.readthedocs.io/en/stable/user_install.html\">Jupyter\n",
       "  Widgets Documentation</a> for setup instructions.\n",
       "</p>\n",
       "<p>\n",
       "  If you're reading this message in another frontend (for example, a static\n",
       "  rendering on GitHub or <a href=\"https://nbviewer.jupyter.org/\">NBViewer</a>),\n",
       "  it may mean that your frontend doesn't currently support widgets.\n",
       "</p>\n"
      ],
      "text/plain": [
       "HBox(children=(IntProgress(value=0, max=1), HTML(value='')))"
      ]
     },
     "metadata": {},
     "output_type": "display_data"
    },
    {
     "name": "stderr",
     "output_type": "stream",
     "text": [
      "/home/cq/anaconda3/lib/python3.6/site-packages/tqdm/_monitor.py:89: TqdmSynchronisationWarning: Set changed size during iteration (see https://github.com/tqdm/tqdm/issues/481)\n",
      "  TqdmSynchronisationWarning)\n"
     ]
    },
    {
     "data": {
      "application/vnd.jupyter.widget-view+json": {
       "model_id": "36e834ad9c60452f89c2b196bfeda604",
       "version_major": 2,
       "version_minor": 0
      },
      "text/html": [
       "<p>Failed to display Jupyter Widget of type <code>HBox</code>.</p>\n",
       "<p>\n",
       "  If you're reading this message in the Jupyter Notebook or JupyterLab Notebook, it may mean\n",
       "  that the widgets JavaScript is still loading. If this message persists, it\n",
       "  likely means that the widgets JavaScript library is either not installed or\n",
       "  not enabled. See the <a href=\"https://ipywidgets.readthedocs.io/en/stable/user_install.html\">Jupyter\n",
       "  Widgets Documentation</a> for setup instructions.\n",
       "</p>\n",
       "<p>\n",
       "  If you're reading this message in another frontend (for example, a static\n",
       "  rendering on GitHub or <a href=\"https://nbviewer.jupyter.org/\">NBViewer</a>),\n",
       "  it may mean that your frontend doesn't currently support widgets.\n",
       "</p>\n"
      ],
      "text/plain": [
       "HBox(children=(IntProgress(value=0, max=90), HTML(value='')))"
      ]
     },
     "metadata": {},
     "output_type": "display_data"
    }
   ],
   "source": [
    "\n",
    "class Als:\n",
    "    \n",
    "    def __init__(self,alpha=0.01,epsilon=100,factors=5,max_iter=100):\n",
    "        self.rc=500\n",
    "        \n",
    "        self.alpha=alpha\n",
    "        self.epsilon=epsilon\n",
    "        self.factors=factors\n",
    "        self.max_iter=max_iter\n",
    "        \n",
    "              \n",
    "    def fit(self,r_all):\n",
    "        \n",
    "        r=r_all\n",
    "        \n",
    "        self.f_users=np.random.rand(r_all.shape[0],self.factors)\n",
    "        self.f_items=np.random.rand(r_all.shape[1],self.factors)\n",
    "\n",
    "        last_cost = np.inf    \n",
    "        for it in tnrange(self.max_iter):\n",
    "            a = np.dot(self.f_items.T,self.f_items)+self.alpha*np.eye(self.factors)\n",
    "            b = np.dot(csr_matrix(self.f_items.T),r.T)\n",
    "            self.f_users=np.dot(np.linalg.inv(a), b.toarray()).T\n",
    "            \n",
    "            a = np.dot(self.f_users.T,self.f_users)+self.alpha*np.eye(self.factors)\n",
    "            b = np.dot(csr_matrix(self.f_users.T),r)\n",
    "            self.f_items=np.dot(np.linalg.inv(a), b.toarray()).T\n",
    "            \n",
    "#             u = np.sum(np.sum(self.f_users**2))\n",
    "#             m = np.sum(np.sum(self.f_items**2))\n",
    "#             cost = self.alpha*(u + m)\n",
    "            \n",
    "#             for i in range(self.f_users.shape[0]):\n",
    "#                 r_pred=np.dot(self.f_users[i],self.f_items.T)\n",
    "#                 cost += np.sum(np.sum(r[i].toarray()-r_pred)**2)\n",
    "                    \n",
    "#             print('iter %d, cost %.2f'%(it+1,cost))\n",
    "\n",
    "#             if np.isnan(cost) or (last_cost > cost and last_cost-cost < self.epsilon) or last_cost<cost:\n",
    "#                 break\n",
    "\n",
    "#             last_cost = cost\n",
    "                \n",
    "              \n",
    "        return self\n",
    "\n",
    "    def predict(self,y_tst,items,uid_2_ix):\n",
    "        y_pred={}\n",
    "\n",
    "        users=sorted(y_tst.pid.unique())\n",
    "        for i in tnrange(len(users)):\n",
    "            u = users[i]\n",
    "            f_user=self.f_users[uid_2_ix[u]]\n",
    "            r_items=np.dot(f_user,self.f_items.T)\n",
    "            i_pred=np.argsort(r_items)\n",
    "            \n",
    "            seed_items=set(y_tst[y_tst.pid==u].track_id)\n",
    "            pred_items=np.zeros((self.rc,))\n",
    "            k=0\n",
    "            for j in range(len(i_pred)-1,0,-1):\n",
    "                itm=items[i_pred[j]] \n",
    "                if itm not in seed_items:\n",
    "                    pred_items[k] = itm\n",
    "                    k+=1\n",
    "                    if k == self.rc:\n",
    "                        break\n",
    "            assert k==self.rc\n",
    "            \n",
    "            y_pred[u]=pred_items\n",
    "                    \n",
    "        return y_pred\n",
    "                \n",
    "    def get_params(self,deep=True):\n",
    "        return {'epsilon':self.epsilon,\n",
    "                'factors':self.factors,'max_iter':self.max_iter}\n",
    "    \n",
    "    def set_params(self,**params):\n",
    "        self.epsilon=params['epsilon']\n",
    "        self.factors=params['factors']\n",
    "        self.max_iter=params['max_iter']\n",
    "        \n",
    "\n",
    "als=Als(alpha=1e-1,factors=100,max_iter=1,epsilon=1e2)\n",
    "als.fit(plays)\n",
    "y_prd1=als.predict(playlist_tracks_tst,track_ids,pid_2_ix)\n"
   ]
  },
  {
   "cell_type": "code",
   "execution_count": 5,
   "metadata": {},
   "outputs": [
    {
     "data": {
      "application/vnd.jupyter.widget-view+json": {
       "model_id": "225a7bb20ba0404eadbafae97289ae1e",
       "version_major": 2,
       "version_minor": 0
      },
      "text/html": [
       "<p>Failed to display Jupyter Widget of type <code>HBox</code>.</p>\n",
       "<p>\n",
       "  If you're reading this message in the Jupyter Notebook or JupyterLab Notebook, it may mean\n",
       "  that the widgets JavaScript is still loading. If this message persists, it\n",
       "  likely means that the widgets JavaScript library is either not installed or\n",
       "  not enabled. See the <a href=\"https://ipywidgets.readthedocs.io/en/stable/user_install.html\">Jupyter\n",
       "  Widgets Documentation</a> for setup instructions.\n",
       "</p>\n",
       "<p>\n",
       "  If you're reading this message in another frontend (for example, a static\n",
       "  rendering on GitHub or <a href=\"https://nbviewer.jupyter.org/\">NBViewer</a>),\n",
       "  it may mean that your frontend doesn't currently support widgets.\n",
       "</p>\n"
      ],
      "text/plain": [
       "HBox(children=(IntProgress(value=0, max=10), HTML(value='')))"
      ]
     },
     "metadata": {},
     "output_type": "display_data"
    },
    {
     "name": "stderr",
     "output_type": "stream",
     "text": [
      "/home/cq/anaconda3/lib/python3.6/site-packages/tqdm/_monitor.py:89: TqdmSynchronisationWarning: Set changed size during iteration (see https://github.com/tqdm/tqdm/issues/481)\n",
      "  TqdmSynchronisationWarning)\n"
     ]
    },
    {
     "name": "stdout",
     "output_type": "stream",
     "text": [
      "r_prec 0.337, ndcg 0.431, click 12.089\n",
      "r_prec 0.318, ndcg 0.411, click 13.630\n"
     ]
    }
   ],
   "source": [
    "import title\n",
    "\n",
    "playlists_tra['title']=playlists_tra.name.apply(title.build_title)\n",
    "playlists_tst['title']=playlists_tst.name.apply(title.build_title)\n",
    "playlists_tra.index=playlists_tra.pid\n",
    "playlist_tracks_tra.index=playlist_tracks_tra.pid\n",
    "\n",
    "p_no_title=set(playlists_tst.pid)-set(playlist_tracks_tst.pid)\n",
    "y_prd2=title.recommend(playlists_tra,playlists_tst[playlists_tst.pid.apply(lambda p:p in p_no_title)],\n",
    "                         playlist_tracks_tra,playlist_tracks_tst,tracks)\n",
    "y_pred=y_prd1.copy()\n",
    "print('r_prec %.3f, ndcg %.3f, click %.3f'%(r_prec(y_true,y_pred),ndcg(y_true,y_pred),clicks(y_true,y_pred)))\n",
    "y_pred.update(y_prd2)\n",
    "assert y_pred.keys()==y_true.keys()\n",
    "print('r_prec %.3f, ndcg %.3f, click %.3f'%(r_prec(y_true,y_pred),ndcg(y_true,y_pred),clicks(y_true,y_pred)))"
   ]
  },
  {
   "cell_type": "code",
   "execution_count": 15,
   "metadata": {},
   "outputs": [
    {
     "ename": "MemoryError",
     "evalue": "",
     "output_type": "error",
     "traceback": [
      "\u001b[0;31m---------------------------------------------------------------------------\u001b[0m",
      "\u001b[0;31mMemoryError\u001b[0m                               Traceback (most recent call last)",
      "\u001b[0;32m<ipython-input-15-bebeab103010>\u001b[0m in \u001b[0;36m<module>\u001b[0;34m()\u001b[0m\n\u001b[1;32m      2\u001b[0m \u001b[0ma\u001b[0m\u001b[0;34m=\u001b[0m\u001b[0mnp\u001b[0m\u001b[0;34m.\u001b[0m\u001b[0mrandom\u001b[0m\u001b[0;34m.\u001b[0m\u001b[0mrand\u001b[0m\u001b[0;34m(\u001b[0m\u001b[0;36m1009000\u001b[0m\u001b[0;34m,\u001b[0m\u001b[0;36m10\u001b[0m\u001b[0;34m)\u001b[0m\u001b[0;34m\u001b[0m\u001b[0m\n\u001b[1;32m      3\u001b[0m \u001b[0mb\u001b[0m\u001b[0;34m=\u001b[0m\u001b[0mnp\u001b[0m\u001b[0;34m.\u001b[0m\u001b[0mrandom\u001b[0m\u001b[0;34m.\u001b[0m\u001b[0mrand\u001b[0m\u001b[0;34m(\u001b[0m\u001b[0;36m10\u001b[0m\u001b[0;34m,\u001b[0m\u001b[0;36m2262292\u001b[0m\u001b[0;34m)\u001b[0m\u001b[0;34m\u001b[0m\u001b[0m\n\u001b[0;32m----> 4\u001b[0;31m \u001b[0mc\u001b[0m\u001b[0;34m=\u001b[0m\u001b[0mnp\u001b[0m\u001b[0;34m.\u001b[0m\u001b[0mdot\u001b[0m\u001b[0;34m(\u001b[0m\u001b[0ma\u001b[0m\u001b[0;34m,\u001b[0m\u001b[0mb\u001b[0m\u001b[0;34m)\u001b[0m\u001b[0;34m\u001b[0m\u001b[0m\n\u001b[0m\u001b[1;32m      5\u001b[0m \u001b[0mprint\u001b[0m\u001b[0;34m(\u001b[0m\u001b[0mc\u001b[0m\u001b[0;34m.\u001b[0m\u001b[0mshape\u001b[0m\u001b[0;34m)\u001b[0m\u001b[0;34m\u001b[0m\u001b[0m\n",
      "\u001b[0;31mMemoryError\u001b[0m: "
     ]
    },
    {
     "name": "stderr",
     "output_type": "stream",
     "text": [
      "/home/cq/anaconda3/lib/python3.6/site-packages/tqdm/_monitor.py:89: TqdmSynchronisationWarning: Set changed size during iteration (see https://github.com/tqdm/tqdm/issues/481)\n",
      "  TqdmSynchronisationWarning)\n"
     ]
    }
   ],
   "source": [
    "# %%time\n",
    "a=np.random.rand(1009000,10)\n",
    "b=np.random.rand(10,2262292)\n",
    "c=np.dot(a,b)\n",
    "print(c.shape)"
   ]
  },
  {
   "cell_type": "code",
   "execution_count": null,
   "metadata": {},
   "outputs": [],
   "source": [
    "\n",
    "# class WAls(Als):\n",
    "    \n",
    "#     def __init__(self,alpha=0.01,epsilon=100,factors=5,max_iter=100,beta=1):\n",
    "#         super().__init__(alpha,epsilon,factors,max_iter)\n",
    "#         self.beta=beta\n",
    "              \n",
    "#     def fit(self,r,w):\n",
    "        \n",
    "#         self.f_users=np.random.rand(r.shape[0],self.factors)\n",
    "#         self.f_items=np.random.rand(r.shape[1],self.factors)\n",
    "\n",
    "#         last_cost = np.inf    \n",
    "#         for it in range(self.max_iter):\n",
    "#             for j in range(self.f_users.shape[0]):\n",
    "#                 u_w=np.diag(w[j].toarray())\n",
    "#                 print(u_w.shape)\n",
    "#                 a=np.dot(self.f_items.T, np.dot(u_w,self.f_items))+self.alpha*np.eye(self.factors)\n",
    "#                 b=np.dot(self.f_items.T, np.dot(u_w,r[j].toarray().T))\n",
    "#                 self.f_users[j] = np.linalg.solve(a,b).T\n",
    "            \n",
    "            \n",
    "#             for j in range(self.f_items.shape[0]):\n",
    "#                 i_w=np.diag(w.T[j].toarray())\n",
    "                    \n",
    "#                 a=np.dot(self.f_users.T, np.dot(i_w,self.f_users))+self.alpha*np.eye(self.factors)\n",
    "#                 b=np.dot(self.f_users.T, np.dot(i_w,r.T[j].toarray()))\n",
    "#                 self.f_items[j] = np.linalg.solve(a,b).T\n",
    "            \n",
    "#             u = np.sum(np.sum(self.f_users**2))\n",
    "#             m = np.sum(np.sum(self.f_items**2))\n",
    "#             cost = self.alpha*(u + m)\n",
    "            \n",
    "#             for i in range(self.f_users.shape[0]):\n",
    "#                 r_pred=np.dot(self.f_users[i],self.f_items.T)\n",
    "#                 cost += np.sum(np.sum(np.multiply(w[i],r[i].toarray()-r_pred)**2))\n",
    "                    \n",
    "#             print('iter %d, cost %.2f'%(it+1,cost))\n",
    "\n",
    "#             if np.isnan(cost) or (last_cost > cost and last_cost-cost < self.epsilon) or last_cost<cost:\n",
    "#                 break\n",
    "\n",
    "#             last_cost = cost\n",
    "                \n",
    "              \n",
    "#         return self\n",
    "\n",
    "#     def predict(self,y_tst,items,uid_2_ix):\n",
    "#         y_pred=[]\n",
    "\n",
    "#         users=sorted(y_tst.pid.unique())\n",
    "#         for i,u in enumerate(users):\n",
    "#             f_user=self.f_users[uid_2_ix[u]]\n",
    "#             r_pred=sorted([(i,r) for i,r in enumerate(np.dot(f_user,self.f_items.T))],key=lambda x:x[1],reverse=True)\n",
    "            \n",
    "#             seed_items=set(y_tst[y_tst.pid==u].track_id)\n",
    "#             pred_items=[]\n",
    "#             k=0\n",
    "#             for j,r in enumerate(r_pred):\n",
    "#                 itm=items[r[0]] \n",
    "#                 if itm not in seed_items:\n",
    "#                     pred_items.append(itm)\n",
    "#                     k+=1\n",
    "#                     if k == self.rc:\n",
    "#                         break\n",
    "#             assert k==self.rc\n",
    "#             y_pred.append(pred_items)\n",
    "                    \n",
    "#         return y_pred\n",
    "            \n",
    "# beta=10\n",
    "# weights=csr_matrix((d*beta,(r,c)),shape=(len(playlists),len(tracks)),)\n",
    "# print(weights[0].toarray().shape)\n",
    "# wals=WAls(alpha=1e-1,beta=beta,factors=10,max_iter=100,epsilon=1e2)\n",
    "# wals.fit(plays,weights)\n",
    "# y_prd=wals.predict(playlist_tracks_tst,tracks,pid_2_ix)\n",
    "# print('r_score %.3f'%r_prec(y_true[10:],y_prd))"
   ]
  }
 ],
 "metadata": {
  "kernelspec": {
   "display_name": "Python 3",
   "language": "python",
   "name": "python3"
  },
  "language_info": {
   "codemirror_mode": {
    "name": "ipython",
    "version": 3
   },
   "file_extension": ".py",
   "mimetype": "text/x-python",
   "name": "python",
   "nbconvert_exporter": "python",
   "pygments_lexer": "ipython3",
   "version": "3.6.4"
  }
 },
 "nbformat": 4,
 "nbformat_minor": 2
}
