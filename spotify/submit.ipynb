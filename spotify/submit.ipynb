{
 "cells": [
  {
   "cell_type": "code",
   "execution_count": 6,
   "metadata": {},
   "outputs": [
    {
     "data": {
      "application/vnd.jupyter.widget-view+json": {
       "model_id": "db04ec803ced4311a9c67206fedd39b4"
      }
     },
     "metadata": {},
     "output_type": "display_data"
    },
    {
     "name": "stdout",
     "output_type": "stream",
     "text": [
      "\n"
     ]
    },
    {
     "name": "stderr",
     "output_type": "stream",
     "text": [
      "gzip: output/%s.csv%o_file: No such file or directory\n"
     ]
    }
   ],
   "source": [
    "# %%writefile submit.py\n",
    "import numpy as np\n",
    "import pandas as pd\n",
    "import seaborn as sns\n",
    "import matplotlib.pyplot as plt\n",
    "import json\n",
    "from os import listdir\n",
    "from os.path import join,exists\n",
    "from tqdm import tnrange\n",
    "\n",
    "\n",
    "%matplotlib inline\n",
    "\n",
    "o_file='als_0518'\n",
    "o_path='raw/tracks_id_2_uri.json'\n",
    "i_path='raw/mpd/data'\n",
    "if exists(o_path):\n",
    "    with open(o_path) as f:\n",
    "        tracks_id_2_uri=json.load(f)\n",
    "else:\n",
    "    slices=listdir(i_path)\n",
    "    tracks_uri=set([''])\n",
    "\n",
    "    for i in tnrange(len(slices)):\n",
    "        s=slices[i]\n",
    "        with open(join(i_path,s)) as f:\n",
    "            plist=json.load(f)\n",
    "            for p in plist['playlists']:\n",
    "                for t in p['tracks']:\n",
    "                    if t['track_uri'] not in tracks_uri:\n",
    "                        tracks_uri.add(t['track_uri'])\n",
    "\n",
    "    tracks_uri.remove('')\n",
    "    tracks_id_2_uri={i:t for i,t in enumerate(sorted(list(tracks_uri)))}\n",
    "    with open(o_path,'w') as f:\n",
    "        json.dump(tracks_id_2_uri,f)\n",
    "\n",
    "ss=['team_info,main,acodersop,acodersop@gmail.com']\n",
    "results=np.load('output/%s.npy'%o_file)\n",
    "for i in tnrange(results.shape[0]):\n",
    "    s=str(results[i][0])+','\n",
    "    for j in range(1,501):\n",
    "        s+=tracks_id_2_uri[str(results[i][j])]+','\n",
    "    ss.append(s[:-1])\n",
    "s='\\n'.join(ss)\n",
    "with open('output/%s.csv'%o_file,'w') as f:\n",
    "    f.write(s)\n",
    "\n",
    "!gzip 'output/als_0518.csv'"
   ]
  }
 ],
 "metadata": {
  "kernelspec": {
   "display_name": "Python 2",
   "language": "python",
   "name": "python2"
  },
  "language_info": {
   "codemirror_mode": {
    "name": "ipython",
    "version": 2
   },
   "file_extension": ".py",
   "mimetype": "text/x-python",
   "name": "python",
   "nbconvert_exporter": "python",
   "pygments_lexer": "ipython2",
   "version": "2.7.13"
  }
 },
 "nbformat": 4,
 "nbformat_minor": 2
}
