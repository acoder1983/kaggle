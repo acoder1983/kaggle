{
 "cells": [
  {
   "cell_type": "code",
   "execution_count": null,
   "metadata": {
    "scrolled": true
   },
   "outputs": [],
   "source": [
    "# %%writefile word2vec.py\n",
    "from util import *\n",
    "from gensim.models import Word2Vec\n",
    "import logging\n",
    "\n",
    "logging.basicConfig(format='%(asctime)s : %(levelname)s : %(message)s',\n",
    "                    level=logging.INFO)\n",
    "\n",
    "w2v_size=50\n",
    "\n",
    "class Playlists:\n",
    "    def __iter__(self):\n",
    "        i_path='raw/mpd/data'\n",
    "        slices=listdir(i_path)\n",
    "        for i in range(len(slices)):\n",
    "            s=slices[i]\n",
    "            with open(join(i_path,s)) as f:\n",
    "                plist=json.load(f)\n",
    "                for p in plist['playlists']:\n",
    "                    line = p['name']\n",
    "                    for t in p['tracks']:\n",
    "                        line += ' ' + t['track_name']\n",
    "\n",
    "                    yield [w for w in build_title(line).lower().split() if w.isalpha()]\n",
    "                \n",
    "\n",
    "model=Word2Vec(Playlists(),size=w2v_size)\n",
    "model.save('w2v/word2vec_gensim')\n",
    "model.wv.save_word2vec_format('w2v/word2vec_org','w2v/vocabulary',binary=False)"
   ]
  },
  {
   "cell_type": "code",
   "execution_count": null,
   "metadata": {},
   "outputs": [],
   "source": [
    "len(model.wv.vocab)"
   ]
  },
  {
   "cell_type": "code",
   "execution_count": null,
   "metadata": {},
   "outputs": [],
   "source": [
    "\n",
    "tracks=pd.read_csv('raw/large/tracks.csv')\n",
    "tracks_vec=np.zeros((tracks.shape[0],w2v_size))\n",
    "\n",
    "zero_tracks=0\n",
    "track_names=tracks.track_name\n",
    "track_ids=tracks.track_id\n",
    "for i in tnrange(tracks.shape[0]):\n",
    "    title=build_title(track_names[i])\n",
    "    words=[w for w in title.lower().split() if w.isalpha()]\n",
    "    z=0\n",
    "    for w in words:\n",
    "        if w in model.wv:\n",
    "            tracks_vec[track_ids[i]]+=model.wv[w]\n",
    "            z=1\n",
    "    if z==0:\n",
    "        zero_tracks += 1\n",
    "\n",
    "print(zero_tracks/tracks.shape[0])"
   ]
  },
  {
   "cell_type": "code",
   "execution_count": null,
   "metadata": {},
   "outputs": [],
   "source": [
    "model.wv.most_similar('countryyy')"
   ]
  },
  {
   "cell_type": "code",
   "execution_count": null,
   "metadata": {},
   "outputs": [],
   "source": [
    "model.wv.most_similar('home')"
   ]
  },
  {
   "cell_type": "code",
   "execution_count": null,
   "metadata": {},
   "outputs": [],
   "source": [
    "playlists_tra=pd.read_csv('raw/large/playlists.csv')\n",
    "playlists_tst=pd.read_csv('raw/test/playlists.csv')"
   ]
  },
  {
   "cell_type": "code",
   "execution_count": null,
   "metadata": {},
   "outputs": [],
   "source": [
    "\n",
    "playlists=pd.concat([playlists_tra,playlists_tst])\n",
    "playlist_vecs=np.zeros((playlists.shape[0],model.wv['home'].shape[0]))\n",
    "plists=playlists.sort_values('pid')\n",
    "for i in tnrange(plists.shape[0]):\n",
    "    words=[w for w in build_title(plists.iloc[i]['name']).lower().split() if w.isalpha() and w != 'nan']\n",
    "    c=0\n",
    "    for w in words:\n",
    "        if w in model.wv:\n",
    "            playlist_vecs[i,:]+=model.wv[w]\n",
    "    if c > 0:\n",
    "        playlist_vecs[i,:]/=c\n",
    "        \n"
   ]
  },
  {
   "cell_type": "code",
   "execution_count": null,
   "metadata": {},
   "outputs": [],
   "source": [
    "np.save('raw/w2v/playlist_vecs',playlist_vecs)"
   ]
  },
  {
   "cell_type": "code",
   "execution_count": null,
   "metadata": {},
   "outputs": [],
   "source": [
    "track_vecs=np.zeros((tracks.shape[0],model.wv['home'].shape[0]))\n",
    "plists=tracks.sort_values('track_id')\n",
    "for i in tnrange(plists.shape[0]):\n",
    "    words=[w for w in build_title(plists.iloc[i]['track_name']).lower().split() if w.isalpha()]\n",
    "    c=0\n",
    "    for w in words:\n",
    "        if w in model.wv:\n",
    "            track_vecs[i,:]+=model.wv[w]\n",
    "    if c > 0:\n",
    "        track_vecs[i,:]/=c\n",
    "        \n"
   ]
  },
  {
   "cell_type": "code",
   "execution_count": null,
   "metadata": {},
   "outputs": [],
   "source": [
    "np.save('raw/w2v/track_vecs',track_vecs)"
   ]
  }
 ],
 "metadata": {
  "kernelspec": {
   "display_name": "Python 3",
   "language": "python",
   "name": "python3"
  },
  "language_info": {
   "codemirror_mode": {
    "name": "ipython",
    "version": 3
   },
   "file_extension": ".py",
   "mimetype": "text/x-python",
   "name": "python",
   "nbconvert_exporter": "python",
   "pygments_lexer": "ipython3",
   "version": "3.6.4"
  }
 },
 "nbformat": 4,
 "nbformat_minor": 2
}
