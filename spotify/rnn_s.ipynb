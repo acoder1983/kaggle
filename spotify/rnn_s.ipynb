{
 "cells": [
  {
   "cell_type": "code",
   "execution_count": 1,
   "metadata": {},
   "outputs": [
    {
     "data": {
      "application/vnd.jupyter.widget-view+json": {
       "model_id": "4c6c65e30b6d484596b2d7c0f42ec76b",
       "version_major": 2,
       "version_minor": 0
      },
      "text/html": [
       "<p>Failed to display Jupyter Widget of type <code>HBox</code>.</p>\n",
       "<p>\n",
       "  If you're reading this message in the Jupyter Notebook or JupyterLab Notebook, it may mean\n",
       "  that the widgets JavaScript is still loading. If this message persists, it\n",
       "  likely means that the widgets JavaScript library is either not installed or\n",
       "  not enabled. See the <a href=\"https://ipywidgets.readthedocs.io/en/stable/user_install.html\">Jupyter\n",
       "  Widgets Documentation</a> for setup instructions.\n",
       "</p>\n",
       "<p>\n",
       "  If you're reading this message in another frontend (for example, a static\n",
       "  rendering on GitHub or <a href=\"https://nbviewer.jupyter.org/\">NBViewer</a>),\n",
       "  it may mean that your frontend doesn't currently support widgets.\n",
       "</p>\n"
      ],
      "text/plain": [
       "HBox(children=(IntProgress(value=0, max=10), HTML(value='')))"
      ]
     },
     "metadata": {},
     "output_type": "display_data"
    },
    {
     "name": "stdout",
     "output_type": "stream",
     "text": [
      "\n"
     ]
    }
   ],
   "source": [
    "from util import *\n",
    "\n",
    "flag='small'\n",
    "playlists_tra,playlists_tst,playlist_tracks_tra,playlist_tracks_tst,playlist_tracks_tru,tracks,playlists,playlist_tracks = load_small_data()\n",
    "y_true=ytrue(playlists_tst,playlist_tracks_tru)\n",
    "\n",
    "playlist_vecs=np.load('raw/w2v/playlist_vecs.npy')\n",
    "track_vecs=np.load('raw/w2v/track_vecs.npy')"
   ]
  },
  {
   "cell_type": "code",
   "execution_count": 2,
   "metadata": {},
   "outputs": [],
   "source": [
    "track_vecs_tra=track_vecs[tracks.track_id]\n",
    "tid_tra=tracks.track_id.values\n",
    "emb_dim=track_vecs.shape[1]"
   ]
  },
  {
   "cell_type": "code",
   "execution_count": 3,
   "metadata": {},
   "outputs": [
    {
     "name": "stderr",
     "output_type": "stream",
     "text": [
      "/home/cq/anaconda3/lib/python3.6/site-packages/h5py/__init__.py:36: FutureWarning: Conversion of the second argument of issubdtype from `float` to `np.floating` is deprecated. In future, it will be treated as `np.float64 == np.dtype(float).type`.\n",
      "  from ._conv import register_converters as _register_converters\n",
      "Using TensorFlow backend.\n"
     ]
    }
   ],
   "source": [
    "from keras.layers.embeddings import Embedding\n",
    "\n",
    "def build_embedding_layer():\n",
    "    vecs=np.c_.concatenate([playlist_vecs,track_vecs])\n",
    "    len_dim=vecs.shape[0]+1\n",
    "    emb_dim=vecs.shape[1]\n",
    "    \n",
    "    emb_matrix=np.zeros((len_dim,emb_dim))\n",
    "    emb_matrix[:-1,:]=vecs\n",
    "    \n",
    "    emb_layer=Embedding(len_dim,emb_dim,trainable=False)\n",
    "    emb_layer.build((None,))\n",
    "    emb_layer.set_weights([emb_matrix])\n",
    "    \n",
    "    return emb_layer\n",
    "\n",
    "embedding_layer = build_embedding_layer()\n",
    "assert abs(embedding_layer.get_weights()[0][1][3] - playlist_vecs[1][3])<1e-3"
   ]
  },
  {
   "cell_type": "code",
   "execution_count": 157,
   "metadata": {},
   "outputs": [],
   "source": [
    "import numpy as np\n",
    "np.random.seed=0\n",
    "from keras.models import Model,Sequential\n",
    "from keras.layers import Dense, Input, Dropout, LSTM, Activation, SimpleRNN, InputLayer, Lambda, Reshape\n",
    "from keras.layers.embeddings import Embedding\n",
    "from keras.preprocessing import sequence\n",
    "from keras.initializers import glorot_uniform\n",
    "np.random.seed=1\n",
    "max_len=100"
   ]
  },
  {
   "cell_type": "code",
   "execution_count": 160,
   "metadata": {},
   "outputs": [
    {
     "data": {
      "application/vnd.jupyter.widget-view+json": {
       "model_id": "f2d725ddf2c9460b867320e0477ccdae",
       "version_major": 2,
       "version_minor": 0
      },
      "text/html": [
       "<p>Failed to display Jupyter Widget of type <code>HBox</code>.</p>\n",
       "<p>\n",
       "  If you're reading this message in the Jupyter Notebook or JupyterLab Notebook, it may mean\n",
       "  that the widgets JavaScript is still loading. If this message persists, it\n",
       "  likely means that the widgets JavaScript library is either not installed or\n",
       "  not enabled. See the <a href=\"https://ipywidgets.readthedocs.io/en/stable/user_install.html\">Jupyter\n",
       "  Widgets Documentation</a> for setup instructions.\n",
       "</p>\n",
       "<p>\n",
       "  If you're reading this message in another frontend (for example, a static\n",
       "  rendering on GitHub or <a href=\"https://nbviewer.jupyter.org/\">NBViewer</a>),\n",
       "  it may mean that your frontend doesn't currently support widgets.\n",
       "</p>\n"
      ],
      "text/plain": [
       "HBox(children=(IntProgress(value=0, max=9900), HTML(value='')))"
      ]
     },
     "metadata": {},
     "output_type": "display_data"
    },
    {
     "name": "stderr",
     "output_type": "stream",
     "text": [
      "/home/cq/anaconda3/lib/python3.6/site-packages/tqdm/_monitor.py:89: TqdmSynchronisationWarning: Set changed size during iteration (see https://github.com/tqdm/tqdm/issues/481)\n",
      "  TqdmSynchronisationWarning)\n"
     ]
    }
   ],
   "source": [
    "X=np.zeros((playlists_tra.shape[0],max_len),dtype='int')\n",
    "Y=np.zeros((playlists_tra.shape[0],max_len,emb_dim))\n",
    "\n",
    "for i in tnrange(playlists_tra.shape[0]):\n",
    "    pid=playlists_tra.iloc[i]['pid']\n",
    "    X[i][0]=pid\n",
    "    tracks=playlist_tracks_tra[playlist_tracks_tra.pid==pid].track_id.values\n",
    "    for j in range(max_len-1):\n",
    "        if j<tracks.shape[0]:\n",
    "            X[i][j+1]=tracks[j]+playlist_vecs.shape[0]\n",
    "            Y[i][j]=track_vecs[tracks[j]]\n",
    "    if j < tracks.shape[0]-1:\n",
    "        Y[i][j+1]=track_vecs[tracks[j+1]]\n",
    "Y=Y.reshape(Y.shape[1],Y.shape[0],Y.shape[2])"
   ]
  },
  {
   "cell_type": "code",
   "execution_count": 161,
   "metadata": {},
   "outputs": [
    {
     "data": {
      "text/plain": [
       "364043"
      ]
     },
     "execution_count": 161,
     "metadata": {},
     "output_type": "execute_result"
    }
   ],
   "source": [
    "import numpy as np\n",
    "def l2_norm_2(x, axis=None):\n",
    "    \"\"\"\n",
    "    takes an input tensor and returns the l2 norm along specified axis\n",
    "    \"\"\"\n",
    "\n",
    "    square_sum = np.sum(np.square(x), axis=axis, keepdims=True)\n",
    "    norm = np.sqrt(np.maximum(square_sum, 1e-4))\n",
    "\n",
    "    return norm\n",
    "\n",
    "x=np.random.rand(50,1)\n",
    "a=np.dot(track_vecs,x)/(l2_norm_2(track_vecs,axis=1)*l2_norm_2(x))\n",
    "np.argmax(a)"
   ]
  },
  {
   "cell_type": "code",
   "execution_count": 169,
   "metadata": {},
   "outputs": [
    {
     "ename": "ValueError",
     "evalue": "An `initial_state` was passed that is not compatible with `cell.state_size`. Received `state_spec`=[InputSpec(shape=(None, 128), ndim=2)]; however `cell.state_size` is (128, 128)",
     "output_type": "error",
     "traceback": [
      "\u001b[0;31m---------------------------------------------------------------------------\u001b[0m",
      "\u001b[0;31mValueError\u001b[0m                                Traceback (most recent call last)",
      "\u001b[0;32m<ipython-input-169-0e6a47903a38>\u001b[0m in \u001b[0;36m<module>\u001b[0;34m()\u001b[0m\n\u001b[1;32m     98\u001b[0m \u001b[0;34m\u001b[0m\u001b[0m\n\u001b[1;32m     99\u001b[0m \u001b[0mn_a\u001b[0m\u001b[0;34m=\u001b[0m\u001b[0;36m128\u001b[0m\u001b[0;34m\u001b[0m\u001b[0m\n\u001b[0;32m--> 100\u001b[0;31m \u001b[0mmodel\u001b[0m\u001b[0;34m=\u001b[0m\u001b[0mPlaylistGenerator\u001b[0m\u001b[0;34m(\u001b[0m\u001b[0mn_a\u001b[0m\u001b[0;34m,\u001b[0m\u001b[0memb_dim\u001b[0m\u001b[0;34m,\u001b[0m\u001b[0mmax_len\u001b[0m\u001b[0;34m)\u001b[0m\u001b[0;34m\u001b[0m\u001b[0m\n\u001b[0m\u001b[1;32m    101\u001b[0m \u001b[0;34m\u001b[0m\u001b[0m\n",
      "\u001b[0;32m<ipython-input-169-0e6a47903a38>\u001b[0m in \u001b[0;36m__init__\u001b[0;34m(self, n_a, emb_dim, max_len)\u001b[0m\n\u001b[1;32m     41\u001b[0m             \u001b[0mx\u001b[0m\u001b[0;34m=\u001b[0m\u001b[0mreshapor1\u001b[0m\u001b[0;34m(\u001b[0m\u001b[0mx\u001b[0m\u001b[0;34m)\u001b[0m\u001b[0;34m\u001b[0m\u001b[0m\n\u001b[1;32m     42\u001b[0m \u001b[0;34m\u001b[0m\u001b[0m\n\u001b[0;32m---> 43\u001b[0;31m             \u001b[0ma\u001b[0m\u001b[0;34m,\u001b[0m\u001b[0m_\u001b[0m\u001b[0;34m=\u001b[0m\u001b[0mself\u001b[0m\u001b[0;34m.\u001b[0m\u001b[0mrnn_cell\u001b[0m\u001b[0;34m(\u001b[0m\u001b[0mx\u001b[0m\u001b[0;34m,\u001b[0m\u001b[0minitial_state\u001b[0m\u001b[0;34m=\u001b[0m\u001b[0;34m[\u001b[0m\u001b[0ma\u001b[0m\u001b[0;34m]\u001b[0m\u001b[0;34m)\u001b[0m\u001b[0;34m\u001b[0m\u001b[0m\n\u001b[0m\u001b[1;32m     44\u001b[0m             \u001b[0mo\u001b[0m\u001b[0;34m=\u001b[0m\u001b[0mself\u001b[0m\u001b[0;34m.\u001b[0m\u001b[0mdensor\u001b[0m\u001b[0;34m(\u001b[0m\u001b[0ma\u001b[0m\u001b[0;34m)\u001b[0m\u001b[0;34m\u001b[0m\u001b[0m\n\u001b[1;32m     45\u001b[0m             \u001b[0moutputs\u001b[0m\u001b[0;34m.\u001b[0m\u001b[0mappend\u001b[0m\u001b[0;34m(\u001b[0m\u001b[0mo\u001b[0m\u001b[0;34m)\u001b[0m\u001b[0;34m\u001b[0m\u001b[0m\n",
      "\u001b[0;32m~/anaconda3/lib/python3.6/site-packages/keras/layers/recurrent.py\u001b[0m in \u001b[0;36m__call__\u001b[0;34m(self, inputs, initial_state, constants, **kwargs)\u001b[0m\n\u001b[1;32m    536\u001b[0m             \u001b[0moriginal_input_spec\u001b[0m \u001b[0;34m=\u001b[0m \u001b[0mself\u001b[0m\u001b[0;34m.\u001b[0m\u001b[0minput_spec\u001b[0m\u001b[0;34m\u001b[0m\u001b[0m\n\u001b[1;32m    537\u001b[0m             \u001b[0mself\u001b[0m\u001b[0;34m.\u001b[0m\u001b[0minput_spec\u001b[0m \u001b[0;34m=\u001b[0m \u001b[0mfull_input_spec\u001b[0m\u001b[0;34m\u001b[0m\u001b[0m\n\u001b[0;32m--> 538\u001b[0;31m             \u001b[0moutput\u001b[0m \u001b[0;34m=\u001b[0m \u001b[0msuper\u001b[0m\u001b[0;34m(\u001b[0m\u001b[0mRNN\u001b[0m\u001b[0;34m,\u001b[0m \u001b[0mself\u001b[0m\u001b[0;34m)\u001b[0m\u001b[0;34m.\u001b[0m\u001b[0m__call__\u001b[0m\u001b[0;34m(\u001b[0m\u001b[0mfull_input\u001b[0m\u001b[0;34m,\u001b[0m \u001b[0;34m**\u001b[0m\u001b[0mkwargs\u001b[0m\u001b[0;34m)\u001b[0m\u001b[0;34m\u001b[0m\u001b[0m\n\u001b[0m\u001b[1;32m    539\u001b[0m             \u001b[0mself\u001b[0m\u001b[0;34m.\u001b[0m\u001b[0minput_spec\u001b[0m \u001b[0;34m=\u001b[0m \u001b[0moriginal_input_spec\u001b[0m\u001b[0;34m\u001b[0m\u001b[0m\n\u001b[1;32m    540\u001b[0m             \u001b[0;32mreturn\u001b[0m \u001b[0moutput\u001b[0m\u001b[0;34m\u001b[0m\u001b[0m\n",
      "\u001b[0;32m~/anaconda3/lib/python3.6/site-packages/keras/engine/topology.py\u001b[0m in \u001b[0;36m__call__\u001b[0;34m(self, inputs, **kwargs)\u001b[0m\n\u001b[1;32m    592\u001b[0m                     \u001b[0mself\u001b[0m\u001b[0;34m.\u001b[0m\u001b[0mbuild\u001b[0m\u001b[0;34m(\u001b[0m\u001b[0minput_shapes\u001b[0m\u001b[0;34m[\u001b[0m\u001b[0;36m0\u001b[0m\u001b[0;34m]\u001b[0m\u001b[0;34m)\u001b[0m\u001b[0;34m\u001b[0m\u001b[0m\n\u001b[1;32m    593\u001b[0m                 \u001b[0;32melse\u001b[0m\u001b[0;34m:\u001b[0m\u001b[0;34m\u001b[0m\u001b[0m\n\u001b[0;32m--> 594\u001b[0;31m                     \u001b[0mself\u001b[0m\u001b[0;34m.\u001b[0m\u001b[0mbuild\u001b[0m\u001b[0;34m(\u001b[0m\u001b[0minput_shapes\u001b[0m\u001b[0;34m)\u001b[0m\u001b[0;34m\u001b[0m\u001b[0m\n\u001b[0m\u001b[1;32m    595\u001b[0m                 \u001b[0mself\u001b[0m\u001b[0;34m.\u001b[0m\u001b[0mbuilt\u001b[0m \u001b[0;34m=\u001b[0m \u001b[0;32mTrue\u001b[0m\u001b[0;34m\u001b[0m\u001b[0m\n\u001b[1;32m    596\u001b[0m \u001b[0;34m\u001b[0m\u001b[0m\n",
      "\u001b[0;32m~/anaconda3/lib/python3.6/site-packages/keras/layers/recurrent.py\u001b[0m in \u001b[0;36mbuild\u001b[0;34m(self, input_shape)\u001b[0m\n\u001b[1;32m    474\u001b[0m                     \u001b[0;34m'`cell.state_size`. Received `state_spec`={}; '\u001b[0m\u001b[0;34m\u001b[0m\u001b[0m\n\u001b[1;32m    475\u001b[0m                     \u001b[0;34m'however `cell.state_size` is '\u001b[0m\u001b[0;34m\u001b[0m\u001b[0m\n\u001b[0;32m--> 476\u001b[0;31m                     '{}'.format(self.state_spec, self.cell.state_size))\n\u001b[0m\u001b[1;32m    477\u001b[0m         \u001b[0;32melse\u001b[0m\u001b[0;34m:\u001b[0m\u001b[0;34m\u001b[0m\u001b[0m\n\u001b[1;32m    478\u001b[0m             self.state_spec = [InputSpec(shape=(None, dim))\n",
      "\u001b[0;31mValueError\u001b[0m: An `initial_state` was passed that is not compatible with `cell.state_size`. Received `state_spec`=[InputSpec(shape=(None, 128), ndim=2)]; however `cell.state_size` is (128, 128)"
     ]
    },
    {
     "name": "stderr",
     "output_type": "stream",
     "text": [
      "/home/cq/anaconda3/lib/python3.6/site-packages/tqdm/_monitor.py:89: TqdmSynchronisationWarning: Set changed size during iteration (see https://github.com/tqdm/tqdm/issues/481)\n",
      "  TqdmSynchronisationWarning)\n"
     ]
    }
   ],
   "source": [
    "from keras import backend as K\n",
    "from keras.engine.topology import Layer\n",
    "\n",
    "\n",
    "class PidLayer(Layer):\n",
    "\n",
    "    def __init__(self, output_dim, **kwargs):\n",
    "        self.output_dim = output_dim\n",
    "        super(PidLayer, self).__init__(**kwargs)\n",
    "\n",
    "    def build(self, input_shape):\n",
    "        # Create a trainable weight variable for this layer.\n",
    "        self.kernel=K.constant(track_vecs,name='track_vecs')\n",
    "        super(PidLayer, self).build(input_shape)  # Be sure to call this at the end\n",
    "        \n",
    "\n",
    "    def call(self, x):\n",
    "#         return K.argmax(K.dot(self.kernel,x)/(l2_norm(self.kernel,axis=1) * l2_norm(x)))\n",
    "        return K.argmax(K.dot(self.kernel,x))\n",
    "\n",
    "    def compute_output_shape(self, input_shape):\n",
    "        return (input_shape[0], self.output_dim)\n",
    "\n",
    "class PlaylistGenerator:\n",
    "    def __init__(self,n_a,emb_dim,max_len):\n",
    "        self.n_a = n_a\n",
    "        X=Input(shape=(max_len,))\n",
    "        a0=Input(shape=(n_a,))\n",
    "        c0=Input(shape=(n_a,))\n",
    "        outputs = []\n",
    "\n",
    "        reshapor1=Reshape((1,emb_dim),name='reshape1')\n",
    "        reshapor2=Reshape((emb_dim,1),name='reshape2')\n",
    "        self.rnn_cell = LSTM(n_a,return_state=True)\n",
    "        self.densor=Dense(emb_dim)\n",
    "\n",
    "        a = a0\n",
    "        c = c0\n",
    "        for i in range(max_len):\n",
    "            x=Lambda(lambda x:x[:,i])(X)\n",
    "            x=embedding_layer(x)\n",
    "            \n",
    "            x=reshapor1(x)\n",
    "            \n",
    "            a,_,c=self.rnn_cell(x,initial_state=[a,c])\n",
    "            o=self.densor(a)\n",
    "            outputs.append(o)\n",
    "\n",
    "        self.model_train=Model(inputs=[X,a0],outputs=outputs)\n",
    "#         self.model_train.summary()\n",
    "        \n",
    "        self.model_train.compile(loss='mean_squared_error',optimizer='adadelta',metrics=['mse'])\n",
    "        \n",
    "        x0 = Input(shape=(emb_dim,))\n",
    "        a0 = Input(shape=(n_a,),name='a0')\n",
    "        c0 = Input(shape=(n_a,),name='c0')\n",
    "        a = a0\n",
    "        c = c0\n",
    "        x = x0\n",
    "        \n",
    "        pid_layer=PidLayer(1,trainable=False)\n",
    "        pid_layer.build((emb_dim,))\n",
    "        \n",
    "        x=reshapor1(x)\n",
    "        a,_=self.rnn_cell(x,initial_state=[a,c])\n",
    "        o=self.densor(a)\n",
    "            \n",
    "        self.model_infer=Model(inputs=[x0,a0],outputs=[o,a])\n",
    "#         self.model_infer.summary()\n",
    "\n",
    "        self.tv_l2=l2_norm_2(track_vecs_tra,axis=1)\n",
    "        \n",
    "    def fit(self,X,Y,epochs):\n",
    "        a0=np.zeros((X.shape[0],self.n_a))\n",
    "        self.model_train.fit([X,a0],list(Y),epochs=epochs,batch_size=64)\n",
    "        \n",
    "        \n",
    "        \n",
    "    def predict(self,X):\n",
    "        a=np.zeros((1,self.n_a))\n",
    "        \n",
    "        results=[]\n",
    "        for i in range(len(X)):\n",
    "            tv,a=self.model_infer.predict([track_vecs[X[i]].reshape(1,emb_dim),a])\n",
    "            \n",
    "        if len(X)>1:\n",
    "            tv=track_vecs[X[-1]]\n",
    "            \n",
    "        for i in range(500):\n",
    "            tv,a=self.model_infer.predict([tv.reshape(1,emb_dim),a])\n",
    "            idxs=np.argsort((np.dot(track_vecs_tra,tv.T)/(self.tv_l2*l2_norm_2(tv.T))).reshape((track_vecs_tra.shape[0],)))\n",
    "#             print(idxs[-10:])\n",
    "            for j in range(len(idxs)-1,-1,-1):\n",
    "                tid=tid_tra[idxs[j]]\n",
    "                if tid not in results and tid not in X:\n",
    "                    results.append(tid)\n",
    "                    tv=track_vecs[tid]\n",
    "                    break\n",
    "            \n",
    "                    \n",
    "        return results\n",
    "    \n",
    "n_a=128\n",
    "model=PlaylistGenerator(n_a,emb_dim,max_len)\n",
    "    "
   ]
  },
  {
   "cell_type": "code",
   "execution_count": null,
   "metadata": {},
   "outputs": [],
   "source": [
    "model.fit(X,Y,epochs=5)"
   ]
  },
  {
   "cell_type": "code",
   "execution_count": null,
   "metadata": {},
   "outputs": [],
   "source": [
    "y_pred={}\n",
    "for i in tnrange(playlists_tst.shape[0]):\n",
    "    pid=playlists_tst.iloc[i]['pid']\n",
    "    x=[pid]\n",
    "    track_ids=playlist_tracks_tst[playlist_tracks_tst.pid==pid].track_id.values\n",
    "    x+=list(track_ids)\n",
    "    y=model.predict(x)\n",
    "#     print(y[:10])\n",
    "    y_pred[pid]=y"
   ]
  },
  {
   "cell_type": "code",
   "execution_count": null,
   "metadata": {},
   "outputs": [],
   "source": [
    "assert y_pred.keys()==y_true.keys()\n",
    "print('r_prec %.3f, ndcg %.3f, click %.3f'%(r_prec(y_true,y_pred),ndcg(y_true,y_pred),clicks(y_true,y_pred)))"
   ]
  },
  {
   "cell_type": "code",
   "execution_count": 110,
   "metadata": {},
   "outputs": [
    {
     "data": {
      "text/plain": [
       "dict_keys([90112, 427008, 90114, 90115, 90116, 417797, 427009, 427011, 427012, 417801, 90122, 417802, 427013, 427015, 427017, 90127, 427018, 417809, 427020, 427021, 417812, 90133, 427022, 427023, 427024, 427025, 427026, 427027, 427029, 417821, 427030, 427032, 427034, 427035, 417826, 427036, 427037, 427038, 427044, 417831, 417832, 417833, 90154, 427010, 427045, 427046, 427047, 427048, 427049, 427050, 427051, 427053, 417844, 427056, 90166, 427057, 427060, 427061, 427063, 427059, 427062, 427064, 427065, 427014, 427066, 427067, 427068, 427069, 427070, 427071, 427072, 427073, 427074, 427016, 427075, 427076, 427077, 427078, 427079, 427019, 427028, 427031, 427033, 427039, 427040, 427041, 427042, 427043, 427052, 427054, 427055, 427058, 427000, 427001, 427002, 427003, 427004, 427005, 427006, 427007])"
      ]
     },
     "execution_count": 110,
     "metadata": {},
     "output_type": "execute_result"
    },
    {
     "name": "stderr",
     "output_type": "stream",
     "text": [
      "/home/cq/anaconda3/lib/python3.6/site-packages/tqdm/_monitor.py:89: TqdmSynchronisationWarning: Set changed size during iteration (see https://github.com/tqdm/tqdm/issues/481)\n",
      "  TqdmSynchronisationWarning)\n"
     ]
    }
   ],
   "source": [
    "y_pred.keys()"
   ]
  },
  {
   "cell_type": "code",
   "execution_count": 166,
   "metadata": {},
   "outputs": [
    {
     "data": {
      "text/plain": [
       "[523556,\n",
       " 1286544,\n",
       " 562969,\n",
       " 727447,\n",
       " 516688,\n",
       " 1752936,\n",
       " 2139820,\n",
       " 155159,\n",
       " 1877192,\n",
       " 1769567]"
      ]
     },
     "execution_count": 166,
     "metadata": {},
     "output_type": "execute_result"
    }
   ],
   "source": [
    "y_pred[90114][:10]"
   ]
  },
  {
   "cell_type": "code",
   "execution_count": 168,
   "metadata": {},
   "outputs": [
    {
     "data": {
      "text/plain": [
       "[1286544,\n",
       " 523556,\n",
       " 727447,\n",
       " 562969,\n",
       " 516688,\n",
       " 1752936,\n",
       " 155159,\n",
       " 2139820,\n",
       " 1877192,\n",
       " 1769567]"
      ]
     },
     "execution_count": 168,
     "metadata": {},
     "output_type": "execute_result"
    },
    {
     "name": "stderr",
     "output_type": "stream",
     "text": [
      "/home/cq/anaconda3/lib/python3.6/site-packages/tqdm/_monitor.py:89: TqdmSynchronisationWarning: Set changed size during iteration (see https://github.com/tqdm/tqdm/issues/481)\n",
      "  TqdmSynchronisationWarning)\n"
     ]
    }
   ],
   "source": [
    "y_pred[417812][:10]"
   ]
  }
 ],
 "metadata": {
  "kernelspec": {
   "display_name": "Python 3",
   "language": "python",
   "name": "python3"
  },
  "language_info": {
   "codemirror_mode": {
    "name": "ipython",
    "version": 3
   },
   "file_extension": ".py",
   "mimetype": "text/x-python",
   "name": "python",
   "nbconvert_exporter": "python",
   "pygments_lexer": "ipython3",
   "version": "3.6.4"
  }
 },
 "nbformat": 4,
 "nbformat_minor": 2
}
