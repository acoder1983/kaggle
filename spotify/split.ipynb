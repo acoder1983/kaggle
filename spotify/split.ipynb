{
 "cells": [
  {
   "cell_type": "code",
   "execution_count": 27,
   "metadata": {},
   "outputs": [
    {
     "name": "stdout",
     "output_type": "stream",
     "text": [
      "Writing split.py\n"
     ]
    }
   ],
   "source": [
    "%%writefile split.py\n",
    "import numpy as np\n",
    "import pandas as pd\n",
    "from os import listdir\n",
    "from os.path import join\n",
    "\n",
    "\n",
    "def load_data(size_flag):\n",
    "#     tracks.to_csv('raw/%s/tracks.csv'%size_flag,index=False)\n",
    "#     albums.to_csv('raw/%s/albums.csv'%size_flag,index=False)\n",
    "#     artists.to_csv('raw/%s/artists.csv'%size_flag,index=False)\n",
    "    playlists=pd.read_csv('raw/%s/playlists.csv'%size_flag)\n",
    "#     album_track.to_csv('raw/%s/album_tracks.csv'%size_flag,index=False)\n",
    "#     artist_track.to_csv('raw/%s/artist_tracks.csv'%size_flag,index=False)\n",
    "#     playlist_track.to_csv('raw/%s/playlist_tracks.csv'%size_flag,index=False)\n",
    "    return playlists\n",
    "\n",
    "def split_data(playlists,test_size=0.1,seed=24):\n",
    "    np.random.seed=seed\n",
    "    test_track_nums=[0,1,5,5,10,10,25,25,100,100]\n",
    "    rnd_idx=np.random.permutation(playlists.shape[0])\n",
    "    sel_num=int(playlists.shape[0]*test_size)//len(test_track_nums)\n",
    "    test_idx=set([-1])\n",
    "    for i in range(len(test_track_nums)):\n",
    "        k=0\n",
    "        for j in rnd_idx:\n",
    "            if playlists.iloc[j].num_tracks >= test_track_nums[i]:\n",
    "                if j not in test_idx:\n",
    "                    test_idx.add(j)\n",
    "                    k+=1\n",
    "                    if k==sel_num:\n",
    "                        break\n",
    "    test_idx.remove(-1)\n",
    "    playlists_test=playlists.loc[test_idx]\n",
    "    playlists_train=playlists.loc[playlists.index.difference(playlists_test.index)]\n",
    "    return playlists_train,playlists_test\n",
    "    \n"
   ]
  },
  {
   "cell_type": "code",
   "execution_count": null,
   "metadata": {},
   "outputs": [],
   "source": [
    "playlists=load_data('small')\n",
    "playlists_train,playlists_val=split_data(playlists,test_size=0.1)\n",
    "playlists_train.shape[0],playlists_val.shape[0]"
   ]
  },
  {
   "cell_type": "code",
   "execution_count": 24,
   "metadata": {},
   "outputs": [
    {
     "data": {
      "text/plain": [
       "<matplotlib.axes._subplots.AxesSubplot at 0x7f8a47115358>"
      ]
     },
     "execution_count": 24,
     "metadata": {},
     "output_type": "execute_result"
    },
    {
     "data": {
      "image/png": "[encoded data removed]",
      "text/plain": [
       "<matplotlib.figure.Figure at 0x7f8a4ad828d0>"
      ]
     },
     "metadata": {},
     "output_type": "display_data"
    }
   ],
   "source": [
    "\n",
    "playlists=load_data('large')\n",
    "playlists_train,playlists_val=split_data(playlists,test_size=0.01)\n",
    "playlists_train.shape[0],playlists_val.shape[0]\n",
    "playlists_val.num_tracks.hist()"
   ]
  },
  {
   "cell_type": "code",
   "execution_count": 25,
   "metadata": {},
   "outputs": [
    {
     "data": {
      "text/plain": [
       "<matplotlib.axes._subplots.AxesSubplot at 0x7f8a4a6f87f0>"
      ]
     },
     "execution_count": 25,
     "metadata": {},
     "output_type": "execute_result"
    },
    {
     "data": {
      "image/png": "[encoded data removed]",
      "text/plain": [
       "<matplotlib.figure.Figure at 0x7f8a4ae50470>"
      ]
     },
     "metadata": {},
     "output_type": "display_data"
    }
   ],
   "source": [
    "playlists_train.num_tracks.hist()"
   ]
  }
 ],
 "metadata": {
  "kernelspec": {
   "display_name": "Python 3",
   "language": "python",
   "name": "python3"
  },
  "language_info": {
   "codemirror_mode": {
    "name": "ipython",
    "version": 3
   },
   "file_extension": ".py",
   "mimetype": "text/x-python",
   "name": "python",
   "nbconvert_exporter": "python",
   "pygments_lexer": "ipython3",
   "version": "3.6.4"
  }
 },
 "nbformat": 4,
 "nbformat_minor": 2
}
