{
 "cells": [
  {
   "cell_type": "code",
   "execution_count": 1,
   "metadata": {},
   "outputs": [],
   "source": [
    "import numpy as np\n",
    "import pandas as pd\n",
    "import seaborn as sns\n",
    "import matplotlib.pyplot as plt\n",
    "import json\n",
    "from os import listdir\n",
    "from os.path import join\n",
    "from tqdm import tnrange\n",
    "\n",
    "\n",
    "%matplotlib inline\n",
    "i_path='raw/mpd/data'"
   ]
  },
  {
   "cell_type": "code",
   "execution_count": 2,
   "metadata": {},
   "outputs": [
    {
     "data": {
      "application/vnd.jupyter.widget-view+json": {
       "model_id": "06c9c0d9dcda44abb82ec1cc321b4360",
       "version_major": 2,
       "version_minor": 0
      },
      "text/html": [
       "<p>Failed to display Jupyter Widget of type <code>HBox</code>.</p>\n",
       "<p>\n",
       "  If you're reading this message in the Jupyter Notebook or JupyterLab Notebook, it may mean\n",
       "  that the widgets JavaScript is still loading. If this message persists, it\n",
       "  likely means that the widgets JavaScript library is either not installed or\n",
       "  not enabled. See the <a href=\"https://ipywidgets.readthedocs.io/en/stable/user_install.html\">Jupyter\n",
       "  Widgets Documentation</a> for setup instructions.\n",
       "</p>\n",
       "<p>\n",
       "  If you're reading this message in another frontend (for example, a static\n",
       "  rendering on GitHub or <a href=\"https://nbviewer.jupyter.org/\">NBViewer</a>),\n",
       "  it may mean that your frontend doesn't currently support widgets.\n",
       "</p>\n"
      ],
      "text/plain": [
       "HBox(children=(IntProgress(value=0, max=1000), HTML(value='')))"
      ]
     },
     "metadata": {},
     "output_type": "display_data"
    },
    {
     "name": "stderr",
     "output_type": "stream",
     "text": [
      "/home/cq/anaconda3/lib/python3.6/site-packages/tqdm/_monitor.py:89: TqdmSynchronisationWarning: Set changed size during iteration (see https://github.com/tqdm/tqdm/issues/481)\n",
      "  TqdmSynchronisationWarning)\n"
     ]
    },
    {
     "name": "stdout",
     "output_type": "stream",
     "text": [
      "\n"
     ]
    }
   ],
   "source": [
    "\n",
    "slices=listdir(i_path)\n",
    "tracks_uri=set([''])\n",
    "artists_uri=set([''])\n",
    "albums_uri=set([''])\n",
    "tracks=[]\n",
    "artists=[]\n",
    "albums=[]\n",
    "playlists=[]\n",
    "playlist_track_rel=[]\n",
    "album_track_rel=[]\n",
    "artist_track_rel=[]\n",
    "\n",
    "for i in tnrange(len(slices)):\n",
    "    s=slices[i]\n",
    "    with open(join(i_path,s)) as f:\n",
    "        plist=json.load(f)\n",
    "        for p in plist['playlists']:\n",
    "            for t in p['tracks']:\n",
    "                if t['track_uri'] not in tracks_uri:\n",
    "                    tracks_uri.add(t['track_uri'])\n",
    "                    \n",
    "                    tr={}\n",
    "                    tr['track_uri']=t['track_uri']\n",
    "                    tr['track_name']=t['track_name']\n",
    "                    tr['duration_ms']=t['duration_ms']\n",
    "                    tracks.append(tr)\n",
    "                    \n",
    "                if t['album_uri'] not in albums_uri:\n",
    "                    albums_uri.add(t['album_uri'])\n",
    "                    \n",
    "                    al={}\n",
    "                    al['album_uri']=t['album_uri']\n",
    "                    al['album_name']=t['album_name']\n",
    "                    albums.append(al)\n",
    "                    \n",
    "                if t['artist_uri'] not in artists_uri:\n",
    "                    artists_uri.add(t['artist_uri'])\n",
    "                    \n",
    "                    ar={}\n",
    "                    ar['artist_uri']=t['artist_uri']\n",
    "                    ar['artist_name']=t['artist_name']\n",
    "                    artists.append(ar)\n",
    "\n",
    "tracks_uri.remove('')\n",
    "albums_uri.remove('')\n",
    "artists_uri.remove('')\n",
    "\n",
    "tracks_id={t:i for i,t in enumerate(sorted(list(tracks_uri)))}\n",
    "albums_id={t:i for i,t in enumerate(sorted(list(albums_uri)))}\n",
    "artists_id={t:i for i,t in enumerate(sorted(list(artists_uri)))}\n",
    "\n",
    "for i in range(len(tracks)):\n",
    "    tracks[i]['track_id']=tracks_id[tracks[i]['track_uri']]\n",
    "    del tracks[i]['track_uri']\n",
    "    \n",
    "for i in range(len(albums)):\n",
    "    albums[i]['album_id']=albums_id[albums[i]['album_uri']]\n",
    "    del albums[i]['album_uri']\n",
    "    \n",
    "for i in range(len(artists)):\n",
    "    artists[i]['artist_id']=artists_id[artists[i]['artist_uri']]\n",
    "    del artists[i]['artist_uri']\n",
    "    \n",
    "tracks_data=pd.DataFrame(tracks)\n",
    "albums_data=pd.DataFrame(albums)\n",
    "artists_data=pd.DataFrame(artists)\n",
    "                "
   ]
  },
  {
   "cell_type": "code",
   "execution_count": 4,
   "metadata": {},
   "outputs": [
    {
     "data": {
      "application/vnd.jupyter.widget-view+json": {
       "model_id": "f64616dfd51045aa9e498b980eead4a5",
       "version_major": 2,
       "version_minor": 0
      },
      "text/html": [
       "<p>Failed to display Jupyter Widget of type <code>HBox</code>.</p>\n",
       "<p>\n",
       "  If you're reading this message in the Jupyter Notebook or JupyterLab Notebook, it may mean\n",
       "  that the widgets JavaScript is still loading. If this message persists, it\n",
       "  likely means that the widgets JavaScript library is either not installed or\n",
       "  not enabled. See the <a href=\"https://ipywidgets.readthedocs.io/en/stable/user_install.html\">Jupyter\n",
       "  Widgets Documentation</a> for setup instructions.\n",
       "</p>\n",
       "<p>\n",
       "  If you're reading this message in another frontend (for example, a static\n",
       "  rendering on GitHub or <a href=\"https://nbviewer.jupyter.org/\">NBViewer</a>),\n",
       "  it may mean that your frontend doesn't currently support widgets.\n",
       "</p>\n"
      ],
      "text/plain": [
       "HBox(children=(IntProgress(value=0, max=1000), HTML(value='')))"
      ]
     },
     "metadata": {},
     "output_type": "display_data"
    },
    {
     "name": "stderr",
     "output_type": "stream",
     "text": [
      "/home/cq/anaconda3/lib/python3.6/site-packages/tqdm/_monitor.py:89: TqdmSynchronisationWarning: Set changed size during iteration (see https://github.com/tqdm/tqdm/issues/481)\n",
      "  TqdmSynchronisationWarning)\n"
     ]
    },
    {
     "name": "stdout",
     "output_type": "stream",
     "text": [
      "\n"
     ]
    }
   ],
   "source": [
    "al_tr=set([''])\n",
    "ar_tr=set([''])\n",
    "for i in tnrange(len(slices)):\n",
    "    s=slices[i]\n",
    "    with open(join(i_path,s)) as f:\n",
    "        sl=json.load(f)\n",
    "        \n",
    "        for pl in sl['playlists']:\n",
    "            tracks_i = pl['tracks']\n",
    "            del pl['tracks']\n",
    "            playlists.append(pl)\n",
    "            \n",
    "            for tr in tracks_i:\n",
    "                \n",
    "                pt={}\n",
    "                pt['pid']=pl['pid']\n",
    "                pt['track_id']=tracks_id[tr['track_uri']]\n",
    "                pt['pos']=tr['pos']\n",
    "                playlist_track_rel.append(pt)\n",
    "                \n",
    "                at={}\n",
    "                at['album_id']=albums_id[tr['album_uri']]\n",
    "                at['track_id']=tracks_id[tr['track_uri']]\n",
    "                if (at['album_id'],at['track_id']) not in al_tr:\n",
    "                    al_tr.add((at['album_id'],at['track_id']))\n",
    "                    album_track_rel.append(at)\n",
    "                \n",
    "                at={}\n",
    "                at['artist_id']=artists_id[tr['artist_uri']]\n",
    "                at['track_id']=tracks_id[tr['track_uri']]\n",
    "                if (at['artist_id'],at['track_id']) not in ar_tr:\n",
    "                    ar_tr.add((at['artist_id'],at['track_id']))\n",
    "                    artist_track_rel.append(at)\n",
    "                \n",
    "playlist_data=pd.DataFrame(playlists)\n",
    "playlist_track_data=pd.DataFrame(playlist_track_rel)\n",
    "album_track_data=pd.DataFrame(album_track_rel)\n",
    "artist_track_data=pd.DataFrame(artist_track_rel)"
   ]
  },
  {
   "cell_type": "code",
   "execution_count": 11,
   "metadata": {},
   "outputs": [],
   "source": [
    "with open('raw/tracks_uri_2_id.json','w') as f:\n",
    "    json.dump(tracks_id,f)"
   ]
  },
  {
   "cell_type": "code",
   "execution_count": 19,
   "metadata": {},
   "outputs": [],
   "source": [
    "playlist_track_data.to_csv('raw/large/playlist_tracks.csv',index=False)"
   ]
  },
  {
   "cell_type": "code",
   "execution_count": 20,
   "metadata": {},
   "outputs": [],
   "source": [
    "tracks_data.to_csv('raw/large/tracks.csv',index=False)\n",
    "albums_data.to_csv('raw/large/albums.csv',index=False)\n",
    "artists_data.to_csv('raw/large/artists.csv',index=False)\n",
    "playlist_data.to_csv('raw/large/playlists.csv',index=False)\n",
    "album_track_data.to_csv('raw/large/album_tracks.csv',index=False)\n",
    "artist_track_data.to_csv('raw/large/artist_tracks.csv',index=False)"
   ]
  },
  {
   "cell_type": "code",
   "execution_count": 23,
   "metadata": {},
   "outputs": [],
   "source": [
    "small_playlists=playlist_data[:10000]\n",
    "playlist_ids=set(small_playlists.pid)\n",
    "small_playlist_track=playlist_track_data[playlist_track_data.pid.apply(lambda p:p in playlist_ids)]\n",
    "track_ids=set(small_playlist_track.track_id)\n",
    "small_tracks=tracks_data[tracks_data.track_id.apply(lambda t:t in track_ids)]\n",
    "small_album_track=album_track_data[album_track_data.track_id.apply(lambda t:t in track_ids)]\n",
    "small_artist_track=artist_track_data[artist_track_data.track_id.apply(lambda t:t in track_ids)]\n",
    "album_ids=set(small_album_track.album_id)\n",
    "small_albums=albums_data[albums_data.album_id.apply(lambda a:a in album_ids)]\n",
    "artist_ids=set(small_artist_track.artist_id)\n",
    "small_artists=artists_data[artists_data.artist_id.apply(lambda a:a in artist_ids)]"
   ]
  },
  {
   "cell_type": "code",
   "execution_count": 24,
   "metadata": {},
   "outputs": [],
   "source": [
    "small_tracks.to_csv('raw/small/tracks.csv',index=False)\n",
    "small_albums.to_csv('raw/small/albums.csv',index=False)\n",
    "small_artists.to_csv('raw/small/artists.csv',index=False)\n",
    "small_playlists.to_csv('raw/small/playlists.csv',index=False)\n",
    "small_album_track.to_csv('raw/small/album_tracks.csv',index=False)\n",
    "small_artist_track.to_csv('raw/small/artist_tracks.csv',index=False)\n",
    "small_playlist_track.to_csv('raw/small/playlist_tracks.csv',index=False)"
   ]
  },
  {
   "cell_type": "code",
   "execution_count": 25,
   "metadata": {},
   "outputs": [],
   "source": [
    "playlists=[]\n",
    "playlist_track_rel=[]\n",
    "with open('raw/challenge/challenge_set.json') as f:\n",
    "    sl=json.load(f)\n",
    "\n",
    "    for pl in sl['playlists']:\n",
    "        tracks_i = pl['tracks']\n",
    "        del pl['tracks']\n",
    "        playlists.append(pl)\n",
    "\n",
    "        for tr in tracks_i:\n",
    "\n",
    "            pt={}\n",
    "            pt['pid']=pl['pid']\n",
    "            pt['track_id']=tracks_id[tr['track_uri']]\n",
    "            pt['pos']=tr['pos']\n",
    "            playlist_track_rel.append(pt)\n",
    "\n",
    "playlist_test=pd.DataFrame(playlists)\n",
    "playlist_track_test=pd.DataFrame(playlist_track_rel)\n"
   ]
  },
  {
   "cell_type": "code",
   "execution_count": 27,
   "metadata": {},
   "outputs": [
    {
     "name": "stdout",
     "output_type": "stream",
     "text": [
      "<class 'pandas.core.frame.DataFrame'>\n",
      "RangeIndex: 281000 entries, 0 to 280999\n",
      "Data columns (total 3 columns):\n",
      "pid         281000 non-null int64\n",
      "pos         281000 non-null int64\n",
      "track_id    281000 non-null int64\n",
      "dtypes: int64(3)\n",
      "memory usage: 6.4 MB\n"
     ]
    }
   ],
   "source": [
    "playlist_track_test.info()"
   ]
  },
  {
   "cell_type": "code",
   "execution_count": 29,
   "metadata": {},
   "outputs": [],
   "source": [
    "playlist_test.to_csv('raw/test/playlists.csv',index=False)\n",
    "playlist_track_test.to_csv('raw/test/playlist_tracks.csv',index=False)"
   ]
  }
 ],
 "metadata": {
  "kernelspec": {
   "display_name": "Python 3",
   "language": "python",
   "name": "python3"
  },
  "language_info": {
   "codemirror_mode": {
    "name": "ipython",
    "version": 3
   },
   "file_extension": ".py",
   "mimetype": "text/x-python",
   "name": "python",
   "nbconvert_exporter": "python",
   "pygments_lexer": "ipython3",
   "version": "3.6.4"
  }
 },
 "nbformat": 4,
 "nbformat_minor": 2
}
