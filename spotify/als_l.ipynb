{
 "cells": [
  {
   "cell_type": "code",
   "execution_count": 1,
   "metadata": {},
   "outputs": [
    {
     "data": {
      "application/vnd.jupyter.widget-view+json": {
       "model_id": "cfd5009f7cc14f29b8ad7d3bc7b1ba72",
       "version_major": 2,
       "version_minor": 0
      },
      "text/html": [
       "<p>Failed to display Jupyter Widget of type <code>HBox</code>.</p>\n",
       "<p>\n",
       "  If you're reading this message in the Jupyter Notebook or JupyterLab Notebook, it may mean\n",
       "  that the widgets JavaScript is still loading. If this message persists, it\n",
       "  likely means that the widgets JavaScript library is either not installed or\n",
       "  not enabled. See the <a href=\"https://ipywidgets.readthedocs.io/en/stable/user_install.html\">Jupyter\n",
       "  Widgets Documentation</a> for setup instructions.\n",
       "</p>\n",
       "<p>\n",
       "  If you're reading this message in another frontend (for example, a static\n",
       "  rendering on GitHub or <a href=\"https://nbviewer.jupyter.org/\">NBViewer</a>),\n",
       "  it may mean that your frontend doesn't currently support widgets.\n",
       "</p>\n"
      ],
      "text/plain": [
       "HBox(children=(IntProgress(value=0, max=66627428), HTML(value='')))"
      ]
     },
     "metadata": {},
     "output_type": "display_data"
    },
    {
     "name": "stderr",
     "output_type": "stream",
     "text": [
      "/home/cq/anaconda3/lib/python3.6/site-packages/tqdm/_monitor.py:89: TqdmSynchronisationWarning: Set changed size during iteration (see https://github.com/tqdm/tqdm/issues/481)\n",
      "  TqdmSynchronisationWarning)\n"
     ]
    },
    {
     "name": "stdout",
     "output_type": "stream",
     "text": [
      "\n"
     ]
    },
    {
     "data": {
      "text/plain": [
       "<1009000x2262292 sparse matrix of type '<class 'numpy.float64'>'\n",
       "\twith 65743457 stored elements in Compressed Sparse Row format>"
      ]
     },
     "execution_count": 1,
     "metadata": {},
     "output_type": "execute_result"
    }
   ],
   "source": [
    "from util import *\n",
    "\n",
    "with open('raw/tracks_uri_2_id.json') as f:\n",
    "    tracks_uri_2_id=json.load(f)\n",
    "with open('raw/tracks_id_2_uri.json') as f:\n",
    "    tracks_id_2_uri=json.load(f)\n",
    "\n",
    "\n",
    "playlists_tra,playlists_tst,playlist_tracks_tra,playlist_tracks_tst,tracks = load_data()\n",
    "\n",
    "ptracks=pd.concat([playlist_tracks_tra,playlist_tracks_tst])\n",
    "playlists=sorted(ptracks.pid.unique())\n",
    "pid_2_ix={p:i for i,p in enumerate(playlists)}\n",
    "track_ids=sorted(ptracks.track_id.unique())\n",
    "tid_2_ix={t:i for i,t in enumerate(track_ids)}\n",
    "\n",
    "r=np.zeros((ptracks.shape[0],))\n",
    "c=np.zeros((ptracks.shape[0],))\n",
    "d=np.ones((ptracks.shape[0],))\n",
    "for i in tnrange(ptracks.shape[0]):\n",
    "    r[i]=pid_2_ix[ptracks.iat[i,0]]\n",
    "    c[i]=tid_2_ix[ptracks.iat[i,2]]\n",
    "plays=csr_matrix((d,(r,c)),shape=(len(playlists),len(track_ids)))\n",
    "plays"
   ]
  },
  {
   "cell_type": "code",
   "execution_count": 29,
   "metadata": {},
   "outputs": [
    {
     "data": {
      "application/vnd.jupyter.widget-view+json": {
       "model_id": "690560a45b0a40c4a990309054a1ab7a",
       "version_major": 2,
       "version_minor": 0
      },
      "text/html": [
       "<p>Failed to display Jupyter Widget of type <code>HBox</code>.</p>\n",
       "<p>\n",
       "  If you're reading this message in the Jupyter Notebook or JupyterLab Notebook, it may mean\n",
       "  that the widgets JavaScript is still loading. If this message persists, it\n",
       "  likely means that the widgets JavaScript library is either not installed or\n",
       "  not enabled. See the <a href=\"https://ipywidgets.readthedocs.io/en/stable/user_install.html\">Jupyter\n",
       "  Widgets Documentation</a> for setup instructions.\n",
       "</p>\n",
       "<p>\n",
       "  If you're reading this message in another frontend (for example, a static\n",
       "  rendering on GitHub or <a href=\"https://nbviewer.jupyter.org/\">NBViewer</a>),\n",
       "  it may mean that your frontend doesn't currently support widgets.\n",
       "</p>\n"
      ],
      "text/plain": [
       "HBox(children=(IntProgress(value=0, max=2), HTML(value='')))"
      ]
     },
     "metadata": {},
     "output_type": "display_data"
    },
    {
     "name": "stderr",
     "output_type": "stream",
     "text": [
      "/home/cq/anaconda3/lib/python3.6/site-packages/tqdm/_monitor.py:89: TqdmSynchronisationWarning: Set changed size during iteration (see https://github.com/tqdm/tqdm/issues/481)\n",
      "  TqdmSynchronisationWarning)\n"
     ]
    },
    {
     "data": {
      "application/vnd.jupyter.widget-view+json": {
       "model_id": "29d7a36584344960a146f50d66e44aec",
       "version_major": 2,
       "version_minor": 0
      },
      "text/html": [
       "<p>Failed to display Jupyter Widget of type <code>HBox</code>.</p>\n",
       "<p>\n",
       "  If you're reading this message in the Jupyter Notebook or JupyterLab Notebook, it may mean\n",
       "  that the widgets JavaScript is still loading. If this message persists, it\n",
       "  likely means that the widgets JavaScript library is either not installed or\n",
       "  not enabled. See the <a href=\"https://ipywidgets.readthedocs.io/en/stable/user_install.html\">Jupyter\n",
       "  Widgets Documentation</a> for setup instructions.\n",
       "</p>\n",
       "<p>\n",
       "  If you're reading this message in another frontend (for example, a static\n",
       "  rendering on GitHub or <a href=\"https://nbviewer.jupyter.org/\">NBViewer</a>),\n",
       "  it may mean that your frontend doesn't currently support widgets.\n",
       "</p>\n"
      ],
      "text/plain": [
       "HBox(children=(IntProgress(value=0, max=9000), HTML(value='')))"
      ]
     },
     "metadata": {},
     "output_type": "display_data"
    }
   ],
   "source": [
    "class Als:\n",
    "    \n",
    "    def __init__(self,alpha=0.01,epsilon=100,factors=5,max_iter=100):\n",
    "        self.rc=500\n",
    "        \n",
    "        self.alpha=alpha\n",
    "        self.epsilon=epsilon\n",
    "        self.factors=factors\n",
    "        self.max_iter=max_iter\n",
    "        \n",
    "              \n",
    "    def fit(self,r):\n",
    "        \n",
    "        f_users=np.random.rand(r.shape[0],self.factors)\n",
    "        f_items=np.random.rand(r.shape[1],self.factors)\n",
    "\n",
    "        last_cost = np.inf    \n",
    "        for it in tnrange(self.max_iter):\n",
    "            a = np.dot(f_items.T,f_items)+self.alpha*np.eye(self.factors)\n",
    "            b = np.dot(csr_matrix(f_items.T),r.T)\n",
    "            f_users=np.dot(np.linalg.inv(a), b.toarray()).T\n",
    "            \n",
    "            a = np.dot(f_users.T,f_users)+self.alpha*np.eye(self.factors)\n",
    "            b = np.dot(csr_matrix(f_users.T),r)\n",
    "            f_items=np.dot(np.linalg.inv(a), b.toarray()).T\n",
    "            \n",
    "#             u = np.sum(np.sum(f_users**2))\n",
    "#             m = np.sum(np.sum(f_items**2))\n",
    "#             cost = self.alpha*(u + m)\n",
    "            \n",
    "#             for i in tnrange(0,f_users.shape[0],100):\n",
    "#                 r_pred=np.dot(f_users[i],f_items.T)\n",
    "#                 cost += np.sum(np.sum(r[i].toarray()-r_pred)**2)\n",
    "                    \n",
    "#             print('iter %d, cost %.2f'%(it+1,cost))\n",
    "\n",
    "#             if np.isnan(cost) or (last_cost > cost and last_cost-cost < self.epsilon) or last_cost<cost:\n",
    "#                 self.f_users=f_users\n",
    "#                 self.f_items=f_items\n",
    "#                 break\n",
    "\n",
    "#             last_cost = cost\n",
    "              \n",
    "            self.f_users=f_users\n",
    "            self.f_items=f_items\n",
    "            \n",
    "              \n",
    "        return self\n",
    "\n",
    "    def predict(self,y_tst,items,uid_2_ix):\n",
    "        y_pred={}\n",
    "\n",
    "        users=sorted(y_tst.pid.unique())\n",
    "        for i in tnrange(len(users)):\n",
    "            u = users[i]\n",
    "            f_user=self.f_users[uid_2_ix[u]]\n",
    "            r_items=np.dot(f_user,self.f_items.T)\n",
    "            i_pred=np.argsort(r_items)\n",
    "            \n",
    "            seed_items=set(y_tst[y_tst.pid==u].track_id)\n",
    "            pred_items=np.zeros((self.rc,))\n",
    "            k=0\n",
    "            for j in range(len(i_pred)-1,0,-1):\n",
    "                itm=items[i_pred[j]] \n",
    "                if itm not in seed_items:\n",
    "                    pred_items[k] = itm\n",
    "                    k+=1\n",
    "                    if k == self.rc:\n",
    "                        break\n",
    "            assert k==self.rc\n",
    "            \n",
    "            y_pred[u]=pred_items\n",
    "                    \n",
    "        return y_pred\n",
    "    \n",
    "als=Als(alpha=1e-1,factors=100,max_iter=2,epsilon=1e2)\n",
    "als.fit(plays)\n",
    "y_prd1=als.predict(playlist_tracks_tst,track_ids,pid_2_ix)\n",
    "  \n",
    "# als=Als(alpha=1e-1,factors=100,max_iter=2,epsilon=1e2)\n",
    "# als.f_users=np.random.rand(plays.shape[0],als.factors)\n",
    "# als.f_items=np.random.rand(plays.shape[1],als.factors)\n",
    "# als.predict(playlist_tracks_tst,track_ids,pid_2_ix)"
   ]
  },
  {
   "cell_type": "code",
   "execution_count": 41,
   "metadata": {},
   "outputs": [
    {
     "data": {
      "text/plain": [
       "array([-1.19601540e-04, -5.36585788e-05,  2.21614612e-04,  7.82722259e-05,\n",
       "       -1.25002229e-04,  1.69030511e-04,  1.98427572e-04, -5.14854390e-05,\n",
       "        9.84773176e-05, -1.97222193e-04, -1.42595329e-05,  4.69355773e-05,\n",
       "       -1.06979894e-04,  1.63617415e-05, -9.11343243e-06,  7.56245859e-05,\n",
       "       -9.54931704e-05,  8.24792690e-05,  1.48848086e-04,  1.86747976e-04,\n",
       "       -1.88715189e-04,  2.71085282e-04, -1.05273094e-04,  3.20626591e-04,\n",
       "        1.32804452e-04,  2.42191225e-05, -2.04538311e-04, -3.89814120e-04,\n",
       "       -1.13859424e-04, -6.24053900e-05, -7.67824377e-05,  1.38484473e-04,\n",
       "       -1.36450425e-04, -2.57563224e-04,  4.96399228e-06,  1.49748086e-05,\n",
       "        2.69616369e-04, -1.33798089e-04,  2.10983563e-04,  1.54168311e-04,\n",
       "       -9.33167475e-05, -2.88230321e-05,  1.15848623e-04,  2.14549385e-04,\n",
       "        1.06303217e-04,  5.20417721e-05,  2.71809533e-04, -1.73990793e-04,\n",
       "       -2.13365813e-04,  3.11983409e-04,  2.16167777e-04, -1.93023390e-04,\n",
       "       -2.29769744e-04, -3.14817428e-04,  1.40692018e-04,  1.04863920e-04,\n",
       "        1.74365072e-04,  1.58517139e-04, -2.22372612e-04,  2.48726592e-06,\n",
       "        4.31327057e-06,  1.48809390e-04,  5.39643533e-05, -5.58299828e-05,\n",
       "        7.09048456e-05,  1.33191728e-04,  1.54593181e-04,  1.14955123e-04,\n",
       "       -2.98404474e-05,  1.66981297e-04,  2.46694381e-04,  7.17781955e-05,\n",
       "        5.45809977e-05,  1.99073811e-04,  9.37459077e-05, -7.53713772e-05,\n",
       "       -6.86500652e-05,  2.69594650e-04,  1.71969601e-04, -2.28171837e-04,\n",
       "        2.14929468e-05,  2.54986611e-05,  6.56746956e-05,  6.97133651e-05,\n",
       "        1.70195446e-04,  1.28606461e-04,  4.10134370e-05,  5.16207378e-05,\n",
       "       -2.17817338e-04, -6.01709622e-05,  1.99646694e-04,  3.57967899e-05,\n",
       "       -9.76474561e-05, -2.99063090e-05, -1.67232959e-04, -3.00478231e-04,\n",
       "       -3.61699285e-04,  2.08541639e-05,  2.29460462e-04, -8.19909404e-05])"
      ]
     },
     "execution_count": 41,
     "metadata": {},
     "output_type": "execute_result"
    },
    {
     "name": "stderr",
     "output_type": "stream",
     "text": [
      "/home/cq/anaconda3/lib/python3.6/site-packages/tqdm/_monitor.py:89: TqdmSynchronisationWarning: Set changed size during iteration (see https://github.com/tqdm/tqdm/issues/481)\n",
      "  TqdmSynchronisationWarning)\n"
     ]
    }
   ],
   "source": [
    "als.f_items[2]"
   ]
  },
  {
   "cell_type": "code",
   "execution_count": 30,
   "metadata": {},
   "outputs": [
    {
     "data": {
      "application/vnd.jupyter.widget-view+json": {
       "model_id": "caca0f4a7d2649a39ee1864113c1f2e9",
       "version_major": 2,
       "version_minor": 0
      },
      "text/html": [
       "<p>Failed to display Jupyter Widget of type <code>HBox</code>.</p>\n",
       "<p>\n",
       "  If you're reading this message in the Jupyter Notebook or JupyterLab Notebook, it may mean\n",
       "  that the widgets JavaScript is still loading. If this message persists, it\n",
       "  likely means that the widgets JavaScript library is either not installed or\n",
       "  not enabled. See the <a href=\"https://ipywidgets.readthedocs.io/en/stable/user_install.html\">Jupyter\n",
       "  Widgets Documentation</a> for setup instructions.\n",
       "</p>\n",
       "<p>\n",
       "  If you're reading this message in another frontend (for example, a static\n",
       "  rendering on GitHub or <a href=\"https://nbviewer.jupyter.org/\">NBViewer</a>),\n",
       "  it may mean that your frontend doesn't currently support widgets.\n",
       "</p>\n"
      ],
      "text/plain": [
       "HBox(children=(IntProgress(value=0, max=1000), HTML(value='')))"
      ]
     },
     "metadata": {},
     "output_type": "display_data"
    },
    {
     "name": "stderr",
     "output_type": "stream",
     "text": [
      "/home/cq/anaconda3/lib/python3.6/site-packages/tqdm/_monitor.py:89: TqdmSynchronisationWarning: Set changed size during iteration (see https://github.com/tqdm/tqdm/issues/481)\n",
      "  TqdmSynchronisationWarning)\n"
     ]
    },
    {
     "ename": "NameError",
     "evalue": "name 'y_true' is not defined",
     "output_type": "error",
     "traceback": [
      "\u001b[0;31m---------------------------------------------------------------------------\u001b[0m",
      "\u001b[0;31mNameError\u001b[0m                                 Traceback (most recent call last)",
      "\u001b[0;32m<ipython-input-30-929c9b8d022f>\u001b[0m in \u001b[0;36m<module>\u001b[0;34m()\u001b[0m\n\u001b[1;32m     11\u001b[0m \u001b[0my_prd\u001b[0m\u001b[0;34m=\u001b[0m\u001b[0my_prd1\u001b[0m\u001b[0;34m.\u001b[0m\u001b[0mcopy\u001b[0m\u001b[0;34m(\u001b[0m\u001b[0;34m)\u001b[0m\u001b[0;34m\u001b[0m\u001b[0m\n\u001b[1;32m     12\u001b[0m \u001b[0my_prd\u001b[0m\u001b[0;34m.\u001b[0m\u001b[0mupdate\u001b[0m\u001b[0;34m(\u001b[0m\u001b[0my_prd2\u001b[0m\u001b[0;34m)\u001b[0m\u001b[0;34m\u001b[0m\u001b[0m\n\u001b[0;32m---> 13\u001b[0;31m \u001b[0;32massert\u001b[0m \u001b[0my_prd\u001b[0m\u001b[0;34m.\u001b[0m\u001b[0mkeys\u001b[0m\u001b[0;34m(\u001b[0m\u001b[0;34m)\u001b[0m\u001b[0;34m==\u001b[0m\u001b[0my_true\u001b[0m\u001b[0;34m.\u001b[0m\u001b[0mkeys\u001b[0m\u001b[0;34m(\u001b[0m\u001b[0;34m)\u001b[0m\u001b[0;34m\u001b[0m\u001b[0m\n\u001b[0m",
      "\u001b[0;31mNameError\u001b[0m: name 'y_true' is not defined"
     ]
    }
   ],
   "source": [
    "import title\n",
    "\n",
    "playlists_tra['title']=playlists_tra.name.apply(title.build_title)\n",
    "playlists_tst['title']=playlists_tst.name.apply(title.build_title)\n",
    "playlists_tra.index=playlists_tra.pid\n",
    "playlist_tracks_tra.index=playlist_tracks_tra.pid\n",
    "\n",
    "p_no_title=set(playlists_tst.pid)-set(playlist_tracks_tst.pid)\n",
    "y_prd2=title.recommend(playlists_tra,playlists_tst[playlists_tst.pid.apply(lambda p:p in p_no_title)],\n",
    "                         playlist_tracks_tra,playlist_tracks_tst,tracks)\n",
    "y_prd=y_prd1.copy()\n",
    "y_prd.update(y_prd2)\n",
    "\n"
   ]
  },
  {
   "cell_type": "code",
   "execution_count": 32,
   "metadata": {},
   "outputs": [
    {
     "name": "stderr",
     "output_type": "stream",
     "text": [
      "/home/cq/anaconda3/lib/python3.6/site-packages/tqdm/_monitor.py:89: TqdmSynchronisationWarning: Set changed size during iteration (see https://github.com/tqdm/tqdm/issues/481)\n",
      "  TqdmSynchronisationWarning)\n"
     ]
    }
   ],
   "source": [
    "results=np.zeros((len(y_prd),501),dtype='int32')\n",
    "pids=sorted(list(y_prd.keys()))\n",
    "for i,p in enumerate(pids):\n",
    "    results[i][0]=p\n",
    "    results[i,1:]=y_prd[p]\n",
    "    \n",
    "np.save('output/als_0518',results)"
   ]
  },
  {
   "cell_type": "code",
   "execution_count": null,
   "metadata": {},
   "outputs": [],
   "source": [
    "\n",
    "# class WAls(Als):\n",
    "    \n",
    "#     def __init__(self,alpha=0.01,epsilon=100,factors=5,max_iter=100,beta=1):\n",
    "#         super().__init__(alpha,epsilon,factors,max_iter)\n",
    "#         self.beta=beta\n",
    "              \n",
    "#     def fit(self,r,w):\n",
    "        \n",
    "#         self.f_users=np.random.rand(r.shape[0],self.factors)\n",
    "#         self.f_items=np.random.rand(r.shape[1],self.factors)\n",
    "\n",
    "#         last_cost = np.inf    \n",
    "#         for it in range(self.max_iter):\n",
    "#             for j in range(self.f_users.shape[0]):\n",
    "#                 u_w=np.diag(w[j].toarray())\n",
    "#                 print(u_w.shape)\n",
    "#                 a=np.dot(self.f_items.T, np.dot(u_w,self.f_items))+self.alpha*np.eye(self.factors)\n",
    "#                 b=np.dot(self.f_items.T, np.dot(u_w,r[j].toarray().T))\n",
    "#                 self.f_users[j] = np.linalg.solve(a,b).T\n",
    "            \n",
    "            \n",
    "#             for j in range(self.f_items.shape[0]):\n",
    "#                 i_w=np.diag(w.T[j].toarray())\n",
    "                    \n",
    "#                 a=np.dot(self.f_users.T, np.dot(i_w,self.f_users))+self.alpha*np.eye(self.factors)\n",
    "#                 b=np.dot(self.f_users.T, np.dot(i_w,r.T[j].toarray()))\n",
    "#                 self.f_items[j] = np.linalg.solve(a,b).T\n",
    "            \n",
    "#             u = np.sum(np.sum(self.f_users**2))\n",
    "#             m = np.sum(np.sum(self.f_items**2))\n",
    "#             cost = self.alpha*(u + m)\n",
    "            \n",
    "#             for i in range(self.f_users.shape[0]):\n",
    "#                 r_pred=np.dot(self.f_users[i],self.f_items.T)\n",
    "#                 cost += np.sum(np.sum(np.multiply(w[i],r[i].toarray()-r_pred)**2))\n",
    "                    \n",
    "#             print('iter %d, cost %.2f'%(it+1,cost))\n",
    "\n",
    "#             if np.isnan(cost) or (last_cost > cost and last_cost-cost < self.epsilon) or last_cost<cost:\n",
    "#                 break\n",
    "\n",
    "#             last_cost = cost\n",
    "                \n",
    "              \n",
    "#         return self\n",
    "\n",
    "#     def predict(self,y_tst,items,uid_2_ix):\n",
    "#         y_pred=[]\n",
    "\n",
    "#         users=sorted(y_tst.pid.unique())\n",
    "#         for i,u in enumerate(users):\n",
    "#             f_user=self.f_users[uid_2_ix[u]]\n",
    "#             r_pred=sorted([(i,r) for i,r in enumerate(np.dot(f_user,self.f_items.T))],key=lambda x:x[1],reverse=True)\n",
    "            \n",
    "#             seed_items=set(y_tst[y_tst.pid==u].track_id)\n",
    "#             pred_items=[]\n",
    "#             k=0\n",
    "#             for j,r in enumerate(r_pred):\n",
    "#                 itm=items[r[0]] \n",
    "#                 if itm not in seed_items:\n",
    "#                     pred_items.append(itm)\n",
    "#                     k+=1\n",
    "#                     if k == self.rc:\n",
    "#                         break\n",
    "#             assert k==self.rc\n",
    "#             y_pred.append(pred_items)\n",
    "                    \n",
    "#         return y_pred\n",
    "            \n",
    "# beta=10\n",
    "# weights=csr_matrix((d*beta,(r,c)),shape=(len(playlists),len(tracks)),)\n",
    "# print(weights[0].toarray().shape)\n",
    "# wals=WAls(alpha=1e-1,beta=beta,factors=10,max_iter=100,epsilon=1e2)\n",
    "# wals.fit(plays,weights)\n",
    "# y_prd=wals.predict(playlist_tracks_tst,tracks,pid_2_ix)\n",
    "# print('r_score %.3f'%r_prec(y_true[10:],y_prd))"
   ]
  }
 ],
 "metadata": {
  "kernelspec": {
   "display_name": "Python 3",
   "language": "python",
   "name": "python3"
  },
  "language_info": {
   "codemirror_mode": {
    "name": "ipython",
    "version": 3
   },
   "file_extension": ".py",
   "mimetype": "text/x-python",
   "name": "python",
   "nbconvert_exporter": "python",
   "pygments_lexer": "ipython3",
   "version": "3.6.4"
  }
 },
 "nbformat": 4,
 "nbformat_minor": 2
}
