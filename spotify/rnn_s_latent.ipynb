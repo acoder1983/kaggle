{
 "cells": [
  {
   "cell_type": "code",
   "execution_count": null,
   "metadata": {},
   "outputs": [],
   "source": [
    "from util import *\n",
    "\n",
    "flag='small'\n",
    "playlists_tra,playlists_tst,playlist_tracks_tra,playlist_tracks_tst,playlist_tracks_tru,tracks,playlists,playlist_tracks = load_small_data()\n",
    "y_true=ytrue(playlists_tst,playlist_tracks_tru)\n",
    "\n",
    "track_vecs=np.load('raw/w2v/track_als_vecs.npy')"
   ]
  },
  {
   "cell_type": "code",
   "execution_count": null,
   "metadata": {},
   "outputs": [],
   "source": [
    "track_vecs_tra=track_vecs[tracks.track_id]\n",
    "tid_tra=tracks.track_id.values\n",
    "emb_dim=track_vecs.shape[1]"
   ]
  },
  {
   "cell_type": "code",
   "execution_count": null,
   "metadata": {},
   "outputs": [],
   "source": [
    "from keras.layers.embeddings import Embedding\n",
    "\n",
    "def build_embedding_layer():\n",
    "    vecs=track_vecs\n",
    "    len_dim=vecs.shape[0]+1\n",
    "    emb_dim=vecs.shape[1]\n",
    "    \n",
    "    emb_matrix=np.zeros((len_dim,emb_dim))\n",
    "    emb_matrix[:-1,:]=vecs\n",
    "    \n",
    "    emb_layer=Embedding(len_dim,emb_dim,trainable=False)\n",
    "    emb_layer.build((None,))\n",
    "    emb_layer.set_weights([emb_matrix])\n",
    "    \n",
    "    return emb_layer\n",
    "\n",
    "embedding_layer = build_embedding_layer()\n",
    "assert abs(embedding_layer.get_weights()[0][1][3] - track_vecs[1][3])<1e-3"
   ]
  },
  {
   "cell_type": "code",
   "execution_count": null,
   "metadata": {},
   "outputs": [],
   "source": [
    "import numpy as np\n",
    "np.random.seed=0\n",
    "from keras.models import Model,Sequential\n",
    "from keras.layers import Dense, Input, Dropout, LSTM, Activation, SimpleRNN, InputLayer, Lambda, Reshape\n",
    "from keras.layers.embeddings import Embedding\n",
    "from keras.preprocessing import sequence\n",
    "from keras.initializers import glorot_uniform\n",
    "np.random.seed=1\n",
    "max_len=100"
   ]
  },
  {
   "cell_type": "code",
   "execution_count": null,
   "metadata": {},
   "outputs": [],
   "source": [
    "X=np.zeros((playlists_tra.shape[0],max_len),dtype='int')\n",
    "Y=np.zeros((playlists_tra.shape[0],max_len,emb_dim))\n",
    "\n",
    "for i in tnrange(playlists_tra.shape[0]):\n",
    "    pid=playlists_tra.iloc[i]['pid']\n",
    "    X[i][0]=pid\n",
    "    tracks=playlist_tracks_tra[playlist_tracks_tra.pid==pid].track_id.values\n",
    "    for j in range(max_len):\n",
    "        if j<tracks.shape[0]-1:\n",
    "            X[i][j]=tracks[j]\n",
    "            Y[i][j]=tracks[j+1]\n",
    "    \n",
    "Y=Y.reshape(Y.shape[1],Y.shape[0],Y.shape[2])"
   ]
  },
  {
   "cell_type": "code",
   "execution_count": null,
   "metadata": {},
   "outputs": [],
   "source": [
    "import numpy as np\n",
    "def l2_norm_2(x, axis=None):\n",
    "    \"\"\"\n",
    "    takes an input tensor and returns the l2 norm along specified axis\n",
    "    \"\"\"\n",
    "\n",
    "    square_sum = np.sum(np.square(x), axis=axis, keepdims=True)\n",
    "    norm = np.sqrt(np.maximum(square_sum, 1e-4))\n",
    "\n",
    "    return norm\n",
    "\n",
    "x=np.random.rand(emb_dim,1)\n",
    "a=np.dot(track_vecs,x)/(l2_norm_2(track_vecs,axis=1)*l2_norm_2(x))\n",
    "np.argmax(a)"
   ]
  },
  {
   "cell_type": "code",
   "execution_count": null,
   "metadata": {},
   "outputs": [],
   "source": [
    "from keras import backend as K\n",
    "from keras.engine.topology import Layer\n",
    "\n",
    "class PlaylistGenerator:\n",
    "    def __init__(self,n_a,emb_dim,max_len):\n",
    "        self.n_a = n_a\n",
    "        X=Input(shape=(max_len,))\n",
    "        a0=Input(shape=(n_a,))\n",
    "        c0=Input(shape=(n_a,))\n",
    "        outputs = []\n",
    "\n",
    "        reshapor1=Reshape((1,emb_dim),name='reshape1')\n",
    "        reshapor2=Reshape((emb_dim,1),name='reshape2')\n",
    "        self.rnn_cell = SimpleRNN(n_a,return_state=True)\n",
    "        self.densor=Dense(emb_dim)\n",
    "\n",
    "        a = a0\n",
    "        c = c0\n",
    "        for i in range(max_len):\n",
    "            x=Lambda(lambda x:x[:,i])(X)\n",
    "            x=embedding_layer(x)\n",
    "            \n",
    "            x=reshapor1(x)\n",
    "            \n",
    "            a,_=self.rnn_cell(x,initial_state=[a])\n",
    "            o=self.densor(a)\n",
    "            outputs.append(o)\n",
    "\n",
    "        self.model_train=Model(inputs=[X,a0],outputs=outputs)\n",
    "#         self.model_train.summary()\n",
    "        \n",
    "        self.model_train.compile(loss='mean_squared_error',optimizer='adadelta',metrics=['mse'])\n",
    "        \n",
    "        x0 = Input(shape=(emb_dim,))\n",
    "        a0 = Input(shape=(n_a,),name='a0')\n",
    "        c0 = Input(shape=(n_a,),name='c0')\n",
    "        a = a0\n",
    "        c = c0\n",
    "        x = x0\n",
    "\n",
    "        x=reshapor1(x)\n",
    "        a,_=self.rnn_cell(x,initial_state=[a])\n",
    "        o=self.densor(a)\n",
    "            \n",
    "        self.model_infer=Model(inputs=[x0,a0],outputs=[o,a])\n",
    "#         self.model_infer.summary()\n",
    "\n",
    "        self.tv_l2=l2_norm_2(track_vecs_tra,axis=1)\n",
    "        \n",
    "    def fit(self,X,Y,epochs):\n",
    "        a0=np.zeros((X.shape[0],self.n_a))\n",
    "        self.model_train.fit([X,a0],list(Y),epochs=epochs,batch_size=64)\n",
    "        \n",
    "        \n",
    "        \n",
    "    def predict(self,X):\n",
    "        a=np.zeros((1,self.n_a))\n",
    "        \n",
    "        results=[]\n",
    "        for i in range(len(X)):\n",
    "            tv,a=self.model_infer.predict([track_vecs[X[i]].reshape(1,emb_dim),a])\n",
    "            \n",
    "        if len(X)>1:\n",
    "            tv=track_vecs[X[-1]]\n",
    "            \n",
    "        for i in range(500):\n",
    "            tv,a=self.model_infer.predict([tv.reshape(1,emb_dim),a])\n",
    "            idxs=np.argsort((np.dot(track_vecs_tra,tv.T)/(self.tv_l2*l2_norm_2(tv.T))).reshape((track_vecs_tra.shape[0],)))\n",
    "#             print(idxs[-10:])\n",
    "            for j in range(len(idxs)-1,-1,-1):\n",
    "                tid=tid_tra[idxs[j]]\n",
    "                if tid not in results and tid not in X:\n",
    "                    results.append(tid)\n",
    "                    tv=track_vecs[tid]\n",
    "                    break\n",
    "            \n",
    "                    \n",
    "        return results\n",
    "    \n",
    "n_a=256\n",
    "model=PlaylistGenerator(n_a,emb_dim,max_len)\n",
    "    "
   ]
  },
  {
   "cell_type": "code",
   "execution_count": null,
   "metadata": {},
   "outputs": [],
   "source": [
    "model.fit(X,Y,epochs=5)"
   ]
  },
  {
   "cell_type": "code",
   "execution_count": null,
   "metadata": {},
   "outputs": [],
   "source": [
    "y_pred={}\n",
    "ypids=[]\n",
    "for i in tnrange(playlists_tst.shape[0]):\n",
    "    pid=playlists_tst.iloc[i]['pid']\n",
    "    track_ids=playlist_tracks_tst[playlist_tracks_tst.pid==pid].track_id.values\n",
    "    x=list(track_ids)\n",
    "    if len(x)>0:\n",
    "        y=model.predict(x)\n",
    "        y_pred[pid]=y\n",
    "    else:\n",
    "        ypids.append(pid)"
   ]
  },
  {
   "cell_type": "code",
   "execution_count": null,
   "metadata": {},
   "outputs": [],
   "source": [
    "from copy import deepcopy\n",
    "y_true2=deepcopy(y_true)\n",
    "for pid in ypids:\n",
    "    del y_true2[pid]"
   ]
  },
  {
   "cell_type": "code",
   "execution_count": null,
   "metadata": {},
   "outputs": [],
   "source": [
    "assert y_pred.keys()==y_true2.keys()\n",
    "print('r_prec %.3f, ndcg %.3f, click %.3f'%(r_prec(y_true,y_pred),ndcg(y_true,y_pred),clicks(y_true,y_pred)))"
   ]
  },
  {
   "cell_type": "code",
   "execution_count": null,
   "metadata": {},
   "outputs": [],
   "source": [
    "y_pred.keys()"
   ]
  },
  {
   "cell_type": "code",
   "execution_count": null,
   "metadata": {},
   "outputs": [],
   "source": [
    "y_pred[90114][:10]"
   ]
  },
  {
   "cell_type": "code",
   "execution_count": null,
   "metadata": {},
   "outputs": [],
   "source": [
    "y_pred[417812][:10]"
   ]
  }
 ],
 "metadata": {
  "kernelspec": {
   "display_name": "Python 3",
   "language": "python",
   "name": "python3"
  },
  "language_info": {
   "codemirror_mode": {
    "name": "ipython",
    "version": 3
   },
   "file_extension": ".py",
   "mimetype": "text/x-python",
   "name": "python",
   "nbconvert_exporter": "python",
   "pygments_lexer": "ipython3",
   "version": "3.6.4"
  }
 },
 "nbformat": 4,
 "nbformat_minor": 2
}
