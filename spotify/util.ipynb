{
 "cells": [
  {
   "cell_type": "code",
   "execution_count": 12,
   "metadata": {},
   "outputs": [
    {
     "name": "stdout",
     "output_type": "stream",
     "text": [
      "Overwriting util.py\n"
     ]
    }
   ],
   "source": [
    "%%writefile util.py\n",
    "import re\n",
    "import json\n",
    "import numpy as np\n",
    "import pandas as pd\n",
    "\n",
    "from tqdm import tnrange\n",
    "import matplotlib.pyplot as plt\n",
    "from math import ceil,floor,log\n",
    "from os import listdir,remove\n",
    "from os.path import join,exists\n",
    "from scipy.sparse import csr_matrix\n",
    "from sklearn.preprocessing import LabelEncoder\n",
    "\n",
    "\n",
    "def r_prec(y_true,y_pred):\n",
    "    keys=y_true.keys()&y_pred.keys()\n",
    "    n=len(keys)\n",
    "    s=0\n",
    "    for i in keys:\n",
    "        s += len(set(y_true[i])&set(y_pred[i]))/len(y_true[i])\n",
    "    return s/n\n",
    "\n",
    "assert r_prec({1:[1,2,3,4]},{1:[2,3,4,5]}) == 0.75\n",
    "\n",
    "def clicks(y_true,y_pred):\n",
    "    keys=y_true.keys()&y_pred.keys()\n",
    "    n=len(keys)\n",
    "    s=0\n",
    "    for i in keys:\n",
    "        c=51\n",
    "        y_set=set(y_true[i])\n",
    "        for j,y in enumerate(y_pred[i]):\n",
    "            if y in y_set:\n",
    "                c=j//10+1\n",
    "                break\n",
    "        s += c\n",
    "    return s/n\n",
    "\n",
    "assert clicks({1:[1,2,3,4]},{1:[0,0,0,0,0,0,0,0,0,0,0,1,0,2]}) == 2\n",
    "\n",
    "def ndcg(y_true,y_pred):\n",
    "    keys=y_true.keys()&y_pred.keys()\n",
    "    n=len(keys)\n",
    "    s=0\n",
    "    for j in keys:\n",
    "        dcg = 0\n",
    "        y_set=set(y_true[j])\n",
    "        for i,y in enumerate(y_pred[j]):\n",
    "            if i == 0:\n",
    "                i = 1\n",
    "            if y in y_set:\n",
    "                dcg += 1/log(i+1,2) \n",
    "        idcg=1\n",
    "        y_set=set(y_pred[j])\n",
    "        for i,y in enumerate(y_true[j]):\n",
    "            if i > 0 and y in y_set:\n",
    "                idcg += 1/log(i+1,2)\n",
    "        s += dcg/idcg \n",
    "    return s/n\n",
    "\n",
    "assert ndcg({1:[1,2,3,4]},{1:[2,1,0,4,3]})==(1+1/log(2,2)+1/log(4,2)+1/log(5,2))/(1+1/log(2,2)+1/log(3,2)+1/log(4,2))\n",
    "\n",
    "def load_train_data(size_flag):\n",
    "#     tracks.to_csv('raw/%s/tracks.csv'%size_flag,index=False)\n",
    "#     albums.to_csv('raw/%s/albums.csv'%size_flag,index=False)\n",
    "#     artists.to_csv('raw/%s/artists.csv'%size_flag,index=False)\n",
    "\n",
    "    playlists=pd.read_csv('raw/%s/playlists.csv'%size_flag)\n",
    "    playlist_tracks=pd.read_csv('raw/%s/playlist_tracks.csv'%size_flag)\n",
    "    tracks=pd.read_csv('raw/%s/tracks.csv'%size_flag)\n",
    "#     album_track.to_csv('raw/%s/album_tracks.csv'%size_flag,index=False)\n",
    "#     artist_track.to_csv('raw/%s/artist_tracks.csv'%size_flag,index=False)\n",
    "#     playlist_track.to_csv('raw/%s/playlist_tracks.csv'%size_flag,index=False)\n",
    "    return playlists,playlist_tracks,tracks\n",
    "\n",
    "def load_test_data():\n",
    "    playlists=pd.read_csv('raw/test/playlists.csv')\n",
    "    playlist_tracks=pd.read_csv('raw/test/playlist_tracks.csv')\n",
    "    return playlists,playlist_tracks\n",
    "\n",
    "def split_data(playlists,playlist_tracks,test_size=0.1,seed=42):\n",
    "    playlists.index=playlists.pid\n",
    "    \n",
    "    np.random.seed=seed\n",
    "    slice_track_nums=[0,1,5,5,10,10,25,25,100,100]\n",
    "    keep_types=[0,0,0,0,0,0,0,1,0,1] # 1 means random select tracks\n",
    "    no_name_splits=[3,5]\n",
    "    slice_pl_n=int(playlists.shape[0]*test_size)//len(slice_track_nums)\n",
    "    test_ptracks=[]\n",
    "    true_ptracks=[]\n",
    "    ptrack_cnts=playlist_tracks.groupby('pid')[['track_id']].count()\n",
    "    tst_pids=set([-1])\n",
    "    for i in tnrange(len(slice_track_nums)-1,-1,-1):\n",
    "        track_n=slice_track_nums[i]\n",
    "        pids=set(ptrack_cnts[ptrack_cnts.track_id>track_n].index)\n",
    "        slice_pids=set([-1])\n",
    "        k = 0\n",
    "        for pid in pids:\n",
    "            if pid not in tst_pids:\n",
    "                tst_pids.add(pid)\n",
    "                slice_pids.add(pid)\n",
    "                k+=1\n",
    "                if k==slice_pl_n:\n",
    "                    break\n",
    "        assert k == slice_pl_n\n",
    "        slice_pids.remove(-1)\n",
    "        if keep_types[i] == 0:\n",
    "            for pid in slice_pids:\n",
    "                ptracks=playlist_tracks[playlist_tracks.pid == pid]\n",
    "                test_ptracks.append(ptracks[ptracks.pos<track_n])\n",
    "                true_ptracks.append(ptracks[ptracks.pos>=track_n])\n",
    "        else:\n",
    "            for pid in slice_pids:\n",
    "                ptracks=playlist_tracks[playlist_tracks.pid == pid]\n",
    "                rnd_idx=np.random.permutation(ptracks.shape[0])\n",
    "                test_idx = rnd_idx[:track_n]\n",
    "                true_idx = rnd_idx[track_n:]\n",
    "                test_ptracks.append(ptracks.iloc[test_idx])\n",
    "                true_ptracks.append(ptracks.iloc[true_idx])\n",
    "        if i in no_name_splits:\n",
    "            playlists.loc[slice_pids,'name']=np.nan\n",
    "                    \n",
    "    tst_pids.remove(-1)\n",
    "    \n",
    "    playlists_tst=playlists.loc[tst_pids]\n",
    "    tra_pids = set(playlists.index.difference(tst_pids))\n",
    "    playlists_tra=playlists.loc[tra_pids]\n",
    "    \n",
    "    playlist_tracks_tra=playlist_tracks[playlist_tracks.pid.apply(lambda p:p in tra_pids)]\n",
    "    \n",
    "    playlist_tracks_tst=pd.concat(test_ptracks)\n",
    "    playlist_tracks_tru=pd.concat(true_ptracks)\n",
    "    \n",
    "    assert playlists_tst.shape[0] == playlist_tracks_tru.pid.nunique()\n",
    "    \n",
    "    return playlists_tra,playlists_tst,playlist_tracks_tra,playlist_tracks_tst,playlist_tracks_tru\n",
    "\n",
    "def load_small_data():\n",
    "    playlists,playlist_tracks,tracks=load_train_data('small')\n",
    "    playlists_tra,playlists_tst,playlist_tracks_tra,playlist_tracks_tst,playlist_tracks_tru=split_data(playlists,playlist_tracks,test_size=0.01)\n",
    "    return playlists_tra,playlists_tst,playlist_tracks_tra,playlist_tracks_tst,playlist_tracks_tru,tracks,playlists,playlist_tracks\n",
    "\n",
    "def load_large_data():\n",
    "    return pd.read_csv('raw/large/playlists_tra.csv'),\\\n",
    "pd.read_csv('raw/large/playlists_tst.csv'),\\\n",
    "pd.read_csv('raw/large/playlist_tracks_tra.csv'),\\\n",
    "pd.read_csv('raw/large/playlist_tracks_tst.csv'),\\\n",
    "pd.read_csv('raw/large/playlist_tracks_tru.csv'),\\\n",
    "pd.read_csv('raw/large/tracks.csv')\n",
    "\n",
    "def load_data():\n",
    "    return pd.read_csv('raw/large/playlists.csv'),\\\n",
    "pd.read_csv('raw/test/playlists.csv'),\\\n",
    "pd.read_csv('raw/large/playlist_tracks.csv'),\\\n",
    "pd.read_csv('raw/test/playlist_tracks.csv'),\\\n",
    "pd.read_csv('raw/large/tracks.csv')\n",
    "\n",
    "def ytrue(playlists_tst,playlist_tracks_tru):\n",
    "    y_true={}\n",
    "    pids=sorted(playlists_tst.pid)\n",
    "    for pid in pids:\n",
    "        y_true[pid]=playlist_tracks_tru[playlist_tracks_tru.pid == pid].track_id\n",
    "    return y_true\n",
    "\n",
    "def cos_sim(a,b):\n",
    "    return np.dot(a,b.T)/((np.sum(a**2)**0.5)*(np.sum(b**2)**0.5))\n",
    "\n",
    "pattern = re.compile('[\\W_]+')\n",
    "def build_title(name):\n",
    "    n=str(name).lower()\n",
    "    words=n.split()\n",
    "    for i,w in enumerate(words):\n",
    "        words[i]=pattern.sub('', w)\n",
    "    w=' '.join(words)\n",
    "    if len(w)==0:\n",
    "        w = 'unknown'\n",
    "    return w\n",
    "\n",
    "def df_to_ffm(file,x,y,cat_cols):\n",
    "    x.index=np.arange(x.shape[0])\n",
    "    y.index=np.arange(x.shape[0])\n",
    "    cat_idx=set([-1])\n",
    "    for i in range(x.shape[1]):\n",
    "        if x.columns[i] in cat_cols:\n",
    "            cat_idx.add(i)\n",
    "            \n",
    "    with open(file,'w') as f:\n",
    "        for i in range(x.shape[0]):\n",
    "            s=str(y[i])\n",
    "            \n",
    "            for j in range(x.shape[1]):\n",
    "                if j in cat_idx:\n",
    "                    s += ' %d:%d:1' % (j,x.iat[i,j])\n",
    "                else:\n",
    "                    s += ' %d:%d:1' % (j,x.iat[i,j])\n",
    "                    \n",
    "            f.write(s+'\\n')\n",
    "        \n",
    "        \n",
    "def ffm_encode(df):\n",
    "    cat_cols = df.select_dtypes(include=['O']).columns\n",
    "    for c in cat_cols:\n",
    "        l=LabelEncoder()\n",
    "        df[c]=l.fit_transform(df[c]).astype('int32')\n",
    "    \n",
    "    return cat_cols\n",
    "\n"
   ]
  },
  {
   "cell_type": "code",
   "execution_count": 140,
   "metadata": {},
   "outputs": [
    {
     "data": {
      "application/vnd.jupyter.widget-view+json": {
       "model_id": "00bfa5984f294d6a8e3174857559805b",
       "version_major": 2,
       "version_minor": 0
      },
      "text/html": [
       "<p>Failed to display Jupyter Widget of type <code>HBox</code>.</p>\n",
       "<p>\n",
       "  If you're reading this message in the Jupyter Notebook or JupyterLab Notebook, it may mean\n",
       "  that the widgets JavaScript is still loading. If this message persists, it\n",
       "  likely means that the widgets JavaScript library is either not installed or\n",
       "  not enabled. See the <a href=\"https://ipywidgets.readthedocs.io/en/stable/user_install.html\">Jupyter\n",
       "  Widgets Documentation</a> for setup instructions.\n",
       "</p>\n",
       "<p>\n",
       "  If you're reading this message in another frontend (for example, a static\n",
       "  rendering on GitHub or <a href=\"https://nbviewer.jupyter.org/\">NBViewer</a>),\n",
       "  it may mean that your frontend doesn't currently support widgets.\n",
       "</p>\n"
      ],
      "text/plain": [
       "HBox(children=(IntProgress(value=0, max=10), HTML(value='')))"
      ]
     },
     "metadata": {},
     "output_type": "display_data"
    },
    {
     "name": "stdout",
     "output_type": "stream",
     "text": [
      "<class 'pandas.core.frame.DataFrame'>\n",
      "Int64Index: 100 entries, 90112 to 427007\n",
      "Data columns (total 11 columns):\n",
      "collaborative    100 non-null bool\n",
      "description      2 non-null object\n",
      "duration_ms      100 non-null int64\n",
      "modified_at      100 non-null int64\n",
      "name             80 non-null object\n",
      "num_albums       100 non-null int64\n",
      "num_artists      100 non-null int64\n",
      "num_edits        100 non-null int64\n",
      "num_followers    100 non-null int64\n",
      "num_tracks       100 non-null int64\n",
      "pid              100 non-null int64\n",
      "dtypes: bool(1), int64(8), object(2)\n",
      "memory usage: 8.7+ KB\n"
     ]
    },
    {
     "data": {
      "text/plain": [
       "100    20\n",
       "25     20\n",
       "10     20\n",
       "5      20\n",
       "1      10\n",
       "Name: track_id, dtype: int64"
      ]
     },
     "execution_count": 140,
     "metadata": {},
     "output_type": "execute_result"
    },
    {
     "name": "stderr",
     "output_type": "stream",
     "text": [
      "/home/cq/anaconda3/lib/python3.6/site-packages/tqdm/_monitor.py:89: TqdmSynchronisationWarning: Set changed size during iteration (see https://github.com/tqdm/tqdm/issues/481)\n",
      "  TqdmSynchronisationWarning)\n"
     ]
    }
   ],
   "source": [
    "playlists,playlist_tracks,_=load_train_data('small')\n",
    "playlists.index=playlists.pid\n",
    "playlists_tra,playlists_tst,playlist_tracks_tra,playlist_tracks_tst,playlist_tracks_tru=split_data(playlists,playlist_tracks,test_size=0.01)\n",
    "playlists_tst.info()\n",
    "playlist_tracks_tst.groupby('pid')[['track_id']].count().track_id.value_counts()"
   ]
  },
  {
   "cell_type": "code",
   "execution_count": 129,
   "metadata": {},
   "outputs": [
    {
     "name": "stdout",
     "output_type": "stream",
     "text": [
      "Help on built-in function permutation:\n",
      "\n",
      "permutation(...) method of mtrand.RandomState instance\n",
      "    permutation(x)\n",
      "    \n",
      "    Randomly permute a sequence, or return a permuted range.\n",
      "    \n",
      "    If `x` is a multi-dimensional array, it is only shuffled along its\n",
      "    first index.\n",
      "    \n",
      "    Parameters\n",
      "    ----------\n",
      "    x : int or array_like\n",
      "        If `x` is an integer, randomly permute ``np.arange(x)``.\n",
      "        If `x` is an array, make a copy and shuffle the elements\n",
      "        randomly.\n",
      "    \n",
      "    Returns\n",
      "    -------\n",
      "    out : ndarray\n",
      "        Permuted sequence or array range.\n",
      "    \n",
      "    Examples\n",
      "    --------\n",
      "    >>> np.random.permutation(10)\n",
      "    array([1, 7, 4, 3, 0, 9, 2, 5, 8, 6])\n",
      "    \n",
      "    >>> np.random.permutation([1, 4, 9, 12, 15])\n",
      "    array([15,  1,  9,  4, 12])\n",
      "    \n",
      "    >>> arr = np.arange(9).reshape((3, 3))\n",
      "    >>> np.random.permutation(arr)\n",
      "    array([[6, 7, 8],\n",
      "           [0, 1, 2],\n",
      "           [3, 4, 5]])\n",
      "\n"
     ]
    },
    {
     "name": "stderr",
     "output_type": "stream",
     "text": [
      "/home/cq/anaconda3/lib/python3.6/site-packages/tqdm/_monitor.py:89: TqdmSynchronisationWarning: Set changed size during iteration (see https://github.com/tqdm/tqdm/issues/481)\n",
      "  TqdmSynchronisationWarning)\n"
     ]
    }
   ],
   "source": [
    "help(np.random.permutation)"
   ]
  },
  {
   "cell_type": "code",
   "execution_count": null,
   "metadata": {},
   "outputs": [],
   "source": [
    "playlists_tra.to_csv('raw/large/playlists_tra.csv',index=False)\n",
    "playlists_tst.to_csv('raw/large/playlists_tst.csv',index=False)\n",
    "playlist_tracks_tra.to_csv('raw/large/playlist_tracks_tra.csv',index=False)\n",
    "playlist_tracks_tst.to_csv('raw/large/playlist_tracks_tst.csv',index=False)\n",
    "playlist_tracks_tru.to_csv('raw/large/playlist_tracks_tru.csv',index=False)"
   ]
  },
  {
   "cell_type": "code",
   "execution_count": 62,
   "metadata": {},
   "outputs": [
    {
     "data": {
      "text/plain": [
       "0.2264"
      ]
     },
     "execution_count": 62,
     "metadata": {},
     "output_type": "execute_result"
    },
    {
     "name": "stderr",
     "output_type": "stream",
     "text": [
      "/home/cq/anaconda3/lib/python3.6/site-packages/tqdm/_monitor.py:89: TqdmSynchronisationWarning: Set changed size during iteration (see https://github.com/tqdm/tqdm/issues/481)\n",
      "  TqdmSynchronisationWarning)\n"
     ]
    }
   ],
   "source": [
    "playlists,playlist_tracks,_=load_train_data('small')\n",
    "p_t_cnts=playlist_tracks.groupby('pid')[['track_id']].count().values\n",
    "np.sum(p_t_cnts>100)/p_t_cnts.shape[0]"
   ]
  },
  {
   "cell_type": "code",
   "execution_count": 55,
   "metadata": {},
   "outputs": [
    {
     "data": {
      "image/png": "[encoded data removed]",
      "text/plain": [
       "<matplotlib.figure.Figure at 0x7f6673cc0208>"
      ]
     },
     "metadata": {},
     "output_type": "display_data"
    },
    {
     "name": "stderr",
     "output_type": "stream",
     "text": [
      "/home/cq/anaconda3/lib/python3.6/site-packages/tqdm/_monitor.py:89: TqdmSynchronisationWarning: Set changed size during iteration (see https://github.com/tqdm/tqdm/issues/481)\n",
      "  TqdmSynchronisationWarning)\n"
     ]
    }
   ],
   "source": [
    "import matplotlib.pyplot as plt\n",
    "%matplotlib inline\n",
    "trk_cnts=[len(y) for y in y_true]\n",
    "plt.hist(trk_cnts)\n",
    "plt.show()"
   ]
  },
  {
   "cell_type": "code",
   "execution_count": 33,
   "metadata": {},
   "outputs": [
    {
     "name": "stderr",
     "output_type": "stream",
     "text": [
      "/home/cq/anaconda3/lib/python3.6/site-packages/tqdm/_monitor.py:89: TqdmSynchronisationWarning: Set changed size during iteration (see https://github.com/tqdm/tqdm/issues/481)\n",
      "  TqdmSynchronisationWarning)\n"
     ]
    },
    {
     "data": {
      "text/plain": [
       "(1000000, 1000000)"
      ]
     },
     "execution_count": 33,
     "metadata": {},
     "output_type": "execute_result"
    }
   ],
   "source": [
    "# assert len(playlist_tracks_tra.pid.unique())+len(playlist_tracks_tst.pid.unique()) == playlists.shape[0]\n",
    "len(playlist_tracks_tra.pid.unique())+len(playlist_tracks_tst.pid.unique()), playlists.shape[0]\n",
    "len(playlists_tra.pid.unique())+len(playlists_tst.pid.unique()), playlists.shape[0]"
   ]
  },
  {
   "cell_type": "code",
   "execution_count": 27,
   "metadata": {},
   "outputs": [
    {
     "data": {
      "application/vnd.jupyter.widget-view+json": {
       "model_id": "64b2f3186ae445ea94db698d254dc39f",
       "version_major": 2,
       "version_minor": 0
      },
      "text/html": [
       "<p>Failed to display Jupyter Widget of type <code>HBox</code>.</p>\n",
       "<p>\n",
       "  If you're reading this message in the Jupyter Notebook or JupyterLab Notebook, it may mean\n",
       "  that the widgets JavaScript is still loading. If this message persists, it\n",
       "  likely means that the widgets JavaScript library is either not installed or\n",
       "  not enabled. See the <a href=\"https://ipywidgets.readthedocs.io/en/stable/user_install.html\">Jupyter\n",
       "  Widgets Documentation</a> for setup instructions.\n",
       "</p>\n",
       "<p>\n",
       "  If you're reading this message in another frontend (for example, a static\n",
       "  rendering on GitHub or <a href=\"https://nbviewer.jupyter.org/\">NBViewer</a>),\n",
       "  it may mean that your frontend doesn't currently support widgets.\n",
       "</p>\n"
      ],
      "text/plain": [
       "HBox(children=(IntProgress(value=0, max=10), HTML(value='')))"
      ]
     },
     "metadata": {},
     "output_type": "display_data"
    },
    {
     "name": "stdout",
     "output_type": "stream",
     "text": [
      "<class 'pandas.core.frame.DataFrame'>\n",
      "Int64Index: 1000 entries, 427000 to 427999\n",
      "Data columns (total 11 columns):\n",
      "collaborative    1000 non-null bool\n",
      "description      27 non-null object\n",
      "duration_ms      1000 non-null int64\n",
      "modified_at      1000 non-null int64\n",
      "name             800 non-null object\n",
      "num_albums       1000 non-null int64\n",
      "num_artists      1000 non-null int64\n",
      "num_edits        1000 non-null int64\n",
      "num_followers    1000 non-null int64\n",
      "num_tracks       1000 non-null int64\n",
      "pid              1000 non-null int64\n",
      "dtypes: bool(1), int64(8), object(2)\n",
      "memory usage: 86.9+ KB\n"
     ]
    },
    {
     "name": "stderr",
     "output_type": "stream",
     "text": [
      "/home/cq/anaconda3/lib/python3.6/site-packages/tqdm/_monitor.py:89: TqdmSynchronisationWarning: Set changed size during iteration (see https://github.com/tqdm/tqdm/issues/481)\n",
      "  TqdmSynchronisationWarning)\n"
     ]
    }
   ],
   "source": [
    "# playlists,playlist_tracks,_=load_train_data('small')\n",
    "# playlists.index=playlists.pid\n",
    "# playlists_tra,playlists_tst,playlist_tracks_tra,playlist_tracks_tst=split_data(playlists,playlist_tracks)\n",
    "# playlists_tst.info()"
   ]
  },
  {
   "cell_type": "code",
   "execution_count": null,
   "metadata": {},
   "outputs": [],
   "source": [
    "def loadGloveModel(gloveFile):\n",
    "    print (\"Loading Glove Model\")\n",
    "    f = open(gloveFile,'r')\n",
    "    model = {}\n",
    "    for line in f:\n",
    "        splitLine = line.split()\n",
    "        word = splitLine[0]\n",
    "        embedding = np.array([float(val) for val in splitLine[1:]])\n",
    "        model[word] = embedding\n",
    "    print (\"Done.\",len(model),\" words loaded!\")\n",
    "    return model\n",
    "\n",
    "# glove_model=loadGloveModel('raw/glove/glove.42B.300d.txt')"
   ]
  }
 ],
 "metadata": {
  "kernelspec": {
   "display_name": "Python 3",
   "language": "python",
   "name": "python3"
  },
  "language_info": {
   "codemirror_mode": {
    "name": "ipython",
    "version": 3
   },
   "file_extension": ".py",
   "mimetype": "text/x-python",
   "name": "python",
   "nbconvert_exporter": "python",
   "pygments_lexer": "ipython3",
   "version": "3.6.4"
  }
 },
 "nbformat": 4,
 "nbformat_minor": 2
}
