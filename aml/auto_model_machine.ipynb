{
 "cells": [
  {
   "cell_type": "code",
   "execution_count": 4,
   "metadata": {
    "collapsed": true
   },
   "outputs": [],
   "source": [
    "from sklearn.linear_model import LogisticRegression\n",
    "from sklearn.base import BaseEstimator\n",
    "\n",
    "BASE_CLASSIFY_MODELS=[LogisticRegression]\n",
    "\n",
    "class AutoClassifier(BaseEstimator):\n",
    "    \n",
    "    def __init__(self,base_models=BASE_CLASSIFY_MODELS):\n",
    "        self.base_models=base_models\n",
    "        \n",
    "    def fit(X,y):\n",
    "        pass\n",
    "    \n",
    "    def predict(X,y):\n",
    "        pass\n",
    "    \n",
    "    def score(X,y):\n",
    "        pass\n",
    "    \n",
    "    "
   ]
  }
 ],
 "metadata": {
  "kernelspec": {
   "display_name": "Python 3",
   "language": "python",
   "name": "python3"
  },
  "language_info": {
   "codemirror_mode": {
    "name": "ipython",
    "version": 3
   },
   "file_extension": ".py",
   "mimetype": "text/x-python",
   "name": "python",
   "nbconvert_exporter": "python",
   "pygments_lexer": "ipython3",
   "version": "3.5.3"
  }
 },
 "nbformat": 4,
 "nbformat_minor": 2
}
