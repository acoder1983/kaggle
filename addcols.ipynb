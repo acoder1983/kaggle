{
 "cells": [
  {
   "cell_type": "code",
   "execution_count": 16,
   "metadata": {},
   "outputs": [
    {
     "name": "stderr",
     "output_type": "stream",
     "text": [
      "testRange (__main__.Test) ... ok\n",
      "\n",
      "----------------------------------------------------------------------\n",
      "Ran 1 test in 0.002s\n",
      "\n",
      "OK\n"
     ]
    }
   ],
   "source": [
    "import pandas as pd\n",
    "import numpy as np\n",
    "from sklearn.base import BaseEstimator, TransformerMixin\n",
    "\n",
    "class AddColumns(BaseEstimator,TransformerMixin):\n",
    "    '''\n",
    "    add multiple columns to one\n",
    "    '''\n",
    "    def __init__(self):\n",
    "        pass\n",
    "        \n",
    "    def fit(self, X, y=None):\n",
    "        return self\n",
    "            \n",
    "    \n",
    "    def transform(self, X, y=None):\n",
    "        return np.array([X.sum(axis=1)]).transpose()\n",
    "        \n",
    "    \n",
    "    def fit_transform(self, X, y=None):\n",
    "        self.fit(X)\n",
    "        return self.transform(X)\n",
    "    \n",
    "import unittest as ut\n",
    "\n",
    "from sklearn.pipeline import Pipeline\n",
    "\n",
    "class Test(ut.TestCase):\n",
    "    def testRange(self):\n",
    "        a=AddColumns()\n",
    "        \n",
    "        df=pd.DataFrame({'age':[1,2,3],'fare':[3,2,1]})\n",
    "        data=a.transform(df[['age','fare']].values)  \n",
    "        \n",
    "        self.assertTrue(np.array_equal(np.array([[4],[4],[4]]), data))\n",
    "        \n",
    "                \n",
    "if __name__ == '__main__':\n",
    "    ut.main(argv=['ignored', '-v'], exit=False)"
   ]
  },
  {
   "cell_type": "code",
   "execution_count": 14,
   "metadata": {},
   "outputs": [
    {
     "data": {
      "text/plain": [
       "array([[11],\n",
       "       [ 3]])"
      ]
     },
     "execution_count": 14,
     "metadata": {},
     "output_type": "execute_result"
    }
   ],
   "source": [
    "import numpy as np\n",
    "a=np.array([[3,8],[1,2]])\n",
    "np.array([a.sum(axis=1)]).transpose()\n",
    "# np.array([[1,2]]).transpose()"
   ]
  }
 ],
 "metadata": {
  "kernelspec": {
   "display_name": "Python 3",
   "language": "python",
   "name": "python3"
  },
  "language_info": {
   "codemirror_mode": {
    "name": "ipython",
    "version": 3
   },
   "file_extension": ".py",
   "mimetype": "text/x-python",
   "name": "python",
   "nbconvert_exporter": "python",
   "pygments_lexer": "ipython3",
   "version": "3.5.3"
  }
 },
 "nbformat": 4,
 "nbformat_minor": 2
}
