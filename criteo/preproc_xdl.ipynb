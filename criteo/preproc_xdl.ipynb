{
 "cells": [
  {
   "cell_type": "code",
   "execution_count": 1,
   "metadata": {},
   "outputs": [],
   "source": [
    "import pandas as pd\n",
    "from tqdm import tnrange"
   ]
  },
  {
   "cell_type": "code",
   "execution_count": 2,
   "metadata": {},
   "outputs": [],
   "source": [
    "!rm -fr raw_data/*.xdl"
   ]
  },
  {
   "cell_type": "code",
   "execution_count": 3,
   "metadata": {},
   "outputs": [
    {
     "data": {
      "application/vnd.jupyter.widget-view+json": {
       "model_id": "d2d53f5f1faa4fe9940f868366d7c3df",
       "version_major": 2,
       "version_minor": 0
      },
      "text/html": [
       "<p>Failed to display Jupyter Widget of type <code>HBox</code>.</p>\n",
       "<p>\n",
       "  If you're reading this message in the Jupyter Notebook or JupyterLab Notebook, it may mean\n",
       "  that the widgets JavaScript is still loading. If this message persists, it\n",
       "  likely means that the widgets JavaScript library is either not installed or\n",
       "  not enabled. See the <a href=\"https://ipywidgets.readthedocs.io/en/stable/user_install.html\">Jupyter\n",
       "  Widgets Documentation</a> for setup instructions.\n",
       "</p>\n",
       "<p>\n",
       "  If you're reading this message in another frontend (for example, a static\n",
       "  rendering on GitHub or <a href=\"https://nbviewer.jupyter.org/\">NBViewer</a>),\n",
       "  it may mean that your frontend doesn't currently support widgets.\n",
       "</p>\n"
      ],
      "text/plain": [
       "HBox(children=(IntProgress(value=0, max=45840617), HTML(value='')))"
      ]
     },
     "metadata": {},
     "output_type": "display_data"
    },
    {
     "name": "stderr",
     "output_type": "stream",
     "text": [
      "/home/cq/anaconda3/lib/python3.6/site-packages/tqdm/_monitor.py:89: TqdmSynchronisationWarning: Set changed size during iteration (see https://github.com/tqdm/tqdm/issues/481)\n",
      "  TqdmSynchronisationWarning)\n"
     ]
    },
    {
     "name": "stdout",
     "output_type": "stream",
     "text": [
      "\n"
     ]
    },
    {
     "data": {
      "application/vnd.jupyter.widget-view+json": {
       "model_id": "07c7bfde00614c1f92f564a2c83e75fb",
       "version_major": 2,
       "version_minor": 0
      },
      "text/html": [
       "<p>Failed to display Jupyter Widget of type <code>HBox</code>.</p>\n",
       "<p>\n",
       "  If you're reading this message in the Jupyter Notebook or JupyterLab Notebook, it may mean\n",
       "  that the widgets JavaScript is still loading. If this message persists, it\n",
       "  likely means that the widgets JavaScript library is either not installed or\n",
       "  not enabled. See the <a href=\"https://ipywidgets.readthedocs.io/en/stable/user_install.html\">Jupyter\n",
       "  Widgets Documentation</a> for setup instructions.\n",
       "</p>\n",
       "<p>\n",
       "  If you're reading this message in another frontend (for example, a static\n",
       "  rendering on GitHub or <a href=\"https://nbviewer.jupyter.org/\">NBViewer</a>),\n",
       "  it may mean that your frontend doesn't currently support widgets.\n",
       "</p>\n"
      ],
      "text/plain": [
       "HBox(children=(IntProgress(value=0, max=6042135), HTML(value='')))"
      ]
     },
     "metadata": {},
     "output_type": "display_data"
    },
    {
     "name": "stdout",
     "output_type": "stream",
     "text": [
      "\n",
      "CPU times: user 5h 4s, sys: 8min 47s, total: 5h 8min 51s\n",
      "Wall time: 5h 8min 25s\n"
     ]
    }
   ],
   "source": [
    "%%time\n",
    "big_data=pd.read_hdf('raw_data/big_int_proc.hdf','big')\n",
    "label=pd.read_hdf('raw_data/label.hdf',key='label').values.ravel()\n",
    "\n",
    "int_fea_num=13\n",
    "cat_fea_num=26\n",
    "tst_len=6042135\n",
    "\n",
    "\n",
    "def write_to_xdl_file(x,y,i,file):\n",
    "    with open(file,'a') as f:\n",
    "        dense=''\n",
    "        for c in range(int_fea_num):\n",
    "            dense += '%d@%f;'%(c,x.iat[i,c])\n",
    "        sparse=''\n",
    "        for c in range(int_fea_num,int_fea_num+cat_fea_num):\n",
    "            sparse += '%d@%d;'%(c,x.iat[i,c])\n",
    "        y_val=0.0\n",
    "        if y is not None:\n",
    "            y_val = y[i]\n",
    "        record='%d|%d|%s|%s|%d|%d\\n'%(i,i,sparse[:-1],dense[:-1],y_val,i)\n",
    "        f.write(record)\n",
    "        \n",
    "\n",
    "for i in tnrange(big_data.shape[0]-tst_len):\n",
    "    idx= i//tst_len\n",
    "    write_to_xdl_file(big_data,label,i,'raw_data/tra_%d.xdl'%idx)\n",
    "\n",
    "for i in tnrange(big_data.shape[0]-tst_len,big_data.shape[0]):\n",
    "    write_to_xdl_file(big_data,None,i,'raw_data/tst.xdl')"
   ]
  }
 ],
 "metadata": {
  "kernelspec": {
   "display_name": "Python 3",
   "language": "python",
   "name": "python3"
  },
  "language_info": {
   "codemirror_mode": {
    "name": "ipython",
    "version": 3
   },
   "file_extension": ".py",
   "mimetype": "text/x-python",
   "name": "python",
   "nbconvert_exporter": "python",
   "pygments_lexer": "ipython3",
   "version": "3.6.4"
  }
 },
 "nbformat": 4,
 "nbformat_minor": 2
}
