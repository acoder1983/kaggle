{
 "cells": [
  {
   "cell_type": "code",
   "execution_count": 1,
   "metadata": {},
   "outputs": [
    {
     "name": "stderr",
     "output_type": "stream",
     "text": [
      "testLabelize (__main__.Test) ... ok\n",
      "testNumCate (__main__.Test) ... ERROR\n",
      "\n",
      "======================================================================\n",
      "ERROR: testNumCate (__main__.Test)\n",
      "----------------------------------------------------------------------\n",
      "Traceback (most recent call last):\n",
      "  File \"<ipython-input-1-8d3129d3c79e>\", line 55, in testNumCate\n",
      "    l.fit(df)\n",
      "  File \"<ipython-input-1-8d3129d3c79e>\", line 18, in fit\n",
      "    self.classes=[c[c.rindex('_')+1:] for c in df.columns]\n",
      "  File \"<ipython-input-1-8d3129d3c79e>\", line 18, in <listcomp>\n",
      "    self.classes=[c[c.rindex('_')+1:] for c in df.columns]\n",
      "ValueError: substring not found\n",
      "\n",
      "----------------------------------------------------------------------\n",
      "Ran 2 tests in 0.016s\n",
      "\n",
      "FAILED (errors=1)\n"
     ]
    }
   ],
   "source": [
    "import pandas as pd\n",
    "import numpy as np\n",
    "from sklearn.base import BaseEstimator, TransformerMixin\n",
    "\n",
    "class LabelBinarizerEx(BaseEstimator,TransformerMixin):\n",
    "    '''\n",
    "    extend for sklearn label binarizer\n",
    "    take account for missing values\n",
    "    '''\n",
    "    def __init__(self):\n",
    "        pass\n",
    "    \n",
    "    def fit(self,X,y=None):\n",
    "        '''\n",
    "        @X dataFrame with one column\n",
    "        '''\n",
    "        df=pd.get_dummies(X)\n",
    "        self.classes=[c[c.rindex('_')+1:] for c in df.columns]\n",
    "        self.columns=list(df.columns)\n",
    "        return self\n",
    "    \n",
    "    def transform(self,X,y=None):\n",
    "        all_zero=[0 for c in self.classes]\n",
    "        values=np.array([all_zero for i in range(len(X))])\n",
    "        for i in range(len(X)):\n",
    "            j=np.searchsorted(self.classes, X.iloc[i][0])\n",
    "            if j<len(self.classes):\n",
    "                values[i][j]=1\n",
    "        return values\n",
    "    \n",
    "    def fit_transform(self,X,y=None):\n",
    "        self.fit(X)\n",
    "        return self.transform(X)\n",
    "    \n",
    "import unittest as ut\n",
    "\n",
    "from sklearn.pipeline import Pipeline\n",
    "\n",
    "class Test(ut.TestCase):\n",
    "    def testLabelize(self):\n",
    "        df=pd.DataFrame({'sex':['m','f',np.nan]})\n",
    "        \n",
    "        l=LabelBinarizerEx()\n",
    "        l.fit(df)\n",
    "        self.assertEqual(['f','m'],l.classes)\n",
    "        self.assertEqual(['sex_f','sex_m'],l.columns)\n",
    "        \n",
    "        data=l.transform(pd.DataFrame({'sex':['m','f',np.nan]}))  \n",
    "        self.assertTrue(np.array_equal(np.array([[0,1],[1,0],[0,0]]), data))\n",
    "        \n",
    "    def testNumCate(self):\n",
    "        df=pd.DataFrame({'id':[1,2,1]})\n",
    "        \n",
    "        l=LabelBinarizerEx()\n",
    "        l.fit(df)\n",
    "        self.assertEqual(['1','2'],l.classes)\n",
    "        self.assertEqual(['id_1','id_2'],l.columns)\n",
    "                \n",
    "if __name__ == '__main__':\n",
    "    ut.main(argv=['ignored', '-v'], exit=False)"
   ]
  },
  {
   "cell_type": "code",
   "execution_count": 16,
   "metadata": {},
   "outputs": [
    {
     "name": "stdout",
     "output_type": "stream",
     "text": [
      "<class 'pandas.core.frame.DataFrame'>\n",
      "RangeIndex: 3 entries, 0 to 2\n",
      "Data columns (total 1 columns):\n",
      "id    3 non-null object\n",
      "dtypes: object(1)\n",
      "memory usage: 104.0+ bytes\n"
     ]
    },
    {
     "data": {
      "text/html": [
       "<div>\n",
       "<style>\n",
       "    .dataframe thead tr:only-child th {\n",
       "        text-align: right;\n",
       "    }\n",
       "\n",
       "    .dataframe thead th {\n",
       "        text-align: left;\n",
       "    }\n",
       "\n",
       "    .dataframe tbody tr th {\n",
       "        vertical-align: top;\n",
       "    }\n",
       "</style>\n",
       "<table border=\"1\" class=\"dataframe\">\n",
       "  <thead>\n",
       "    <tr style=\"text-align: right;\">\n",
       "      <th></th>\n",
       "      <th>id_1</th>\n",
       "      <th>id_2</th>\n",
       "    </tr>\n",
       "  </thead>\n",
       "  <tbody>\n",
       "    <tr>\n",
       "      <th>0</th>\n",
       "      <td>1</td>\n",
       "      <td>0</td>\n",
       "    </tr>\n",
       "    <tr>\n",
       "      <th>1</th>\n",
       "      <td>0</td>\n",
       "      <td>1</td>\n",
       "    </tr>\n",
       "    <tr>\n",
       "      <th>2</th>\n",
       "      <td>1</td>\n",
       "      <td>0</td>\n",
       "    </tr>\n",
       "  </tbody>\n",
       "</table>\n",
       "</div>"
      ],
      "text/plain": [
       "   id_1  id_2\n",
       "0     1     0\n",
       "1     0     1\n",
       "2     1     0"
      ]
     },
     "execution_count": 16,
     "metadata": {},
     "output_type": "execute_result"
    }
   ],
   "source": [
    "df=pd.DataFrame({'id':[1,2,1]})\n",
    "df['id']=df['id'].astype(str)\n",
    "df\n",
    "df.info()\n",
    "pd.get_dummies(df)"
   ]
  }
 ],
 "metadata": {
  "kernelspec": {
   "display_name": "Python 3",
   "language": "python",
   "name": "python3"
  },
  "language_info": {
   "codemirror_mode": {
    "name": "ipython",
    "version": 3
   },
   "file_extension": ".py",
   "mimetype": "text/x-python",
   "name": "python",
   "nbconvert_exporter": "python",
   "pygments_lexer": "ipython3",
   "version": "3.5.3"
  }
 },
 "nbformat": 4,
 "nbformat_minor": 2
}
