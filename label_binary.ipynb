{
 "cells": [
  {
   "cell_type": "code",
   "execution_count": 4,
   "metadata": {},
   "outputs": [
    {
     "name": "stderr",
     "output_type": "stream",
     "text": [
      "testLabelize (__main__.Test) ... ok\n",
      "\n",
      "----------------------------------------------------------------------\n",
      "Ran 1 test in 0.004s\n",
      "\n",
      "OK\n"
     ]
    }
   ],
   "source": [
    "import pandas as pd\n",
    "import numpy as np\n",
    "from sklearn.base import BaseEstimator, TransformerMixin\n",
    "\n",
    "class LabelBinarizerEx(BaseEstimator,TransformerMixin):\n",
    "    '''\n",
    "    extend for sklearn label binarizer\n",
    "    take account for missing values\n",
    "    '''\n",
    "    def __init__(self):\n",
    "        pass\n",
    "    \n",
    "    def fit(self,X,y=None):\n",
    "        '''\n",
    "        @X dataFrame with one column\n",
    "        '''\n",
    "        df=pd.get_dummies(X)\n",
    "        self.classes=[c[c.rindex('_')+1:] for c in df.columns]\n",
    "        self.columns=list(df.columns)\n",
    "        return self\n",
    "    \n",
    "    def transform(self,X,y=None):\n",
    "        all_zero=[0 for c in self.classes]\n",
    "        values=np.array([all_zero for i in range(len(X))])\n",
    "        for i in range(len(X)):\n",
    "            j=np.searchsorted(self.classes, X.iloc[i][0])\n",
    "            if j<len(self.classes):\n",
    "                values[i][j]=1\n",
    "        return values\n",
    "    \n",
    "    def fit_transform(self,X,y=None):\n",
    "        self.fit(X)\n",
    "        return self.transform(X)\n",
    "    \n",
    "import unittest as ut\n",
    "\n",
    "from sklearn.pipeline import Pipeline\n",
    "\n",
    "class Test(ut.TestCase):\n",
    "    def testLabelize(self):\n",
    "        df=pd.DataFrame({'sex':['m','f',np.nan]})\n",
    "        \n",
    "        l=LabelBinarizerEx()\n",
    "        l.fit(df)\n",
    "        self.assertEqual(['f','m'],l.classes)\n",
    "        self.assertEqual(['sex_f','sex_m'],l.columns)\n",
    "        \n",
    "        data=l.transform(pd.DataFrame({'sex':['m','f',np.nan]}))  \n",
    "        self.assertTrue(np.array_equal(np.array([[0,1],[1,0],[0,0]]), data))\n",
    "                \n",
    "if __name__ == '__main__':\n",
    "    ut.main(argv=['ignored', '-v'], exit=False)"
   ]
  }
 ],
 "metadata": {
  "kernelspec": {
   "display_name": "Python 3",
   "language": "python",
   "name": "python3"
  },
  "language_info": {
   "codemirror_mode": {
    "name": "ipython",
    "version": 3
   },
   "file_extension": ".py",
   "mimetype": "text/x-python",
   "name": "python",
   "nbconvert_exporter": "python",
   "pygments_lexer": "ipython3",
   "version": "3.5.3"
  }
 },
 "nbformat": 4,
 "nbformat_minor": 2
}
