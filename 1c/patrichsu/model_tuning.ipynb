{
 "cells": [
  {
   "cell_type": "markdown",
   "metadata": {},
   "source": [
    "# This is the part 2 of a 2 part notebook, continuing with the modeling and submission process.\n",
    "\n",
    "# Part 1 covered data exploration and feature creation."
   ]
  },
  {
   "cell_type": "code",
   "execution_count": 1,
   "metadata": {},
   "outputs": [
    {
     "name": "stderr",
     "output_type": "stream",
     "text": [
      "/home/paperspace/anaconda3/envs/fastai/lib/python3.6/site-packages/h5py/__init__.py:36: FutureWarning: Conversion of the second argument of issubdtype from `float` to `np.floating` is deprecated. In future, it will be treated as `np.float64 == np.dtype(float).type`.\n",
      "  from ._conv import register_converters as _register_converters\n",
      "Using TensorFlow backend.\n"
     ]
    }
   ],
   "source": [
    "import pandas as pd\n",
    "import numpy as np\n",
    "import xgboost as xgb\n",
    "from sklearn.model_selection import GridSearchCV, TimeSeriesSplit\n",
    "import keras\n",
    "import sklearn"
   ]
  },
  {
   "cell_type": "code",
   "execution_count": 2,
   "metadata": {},
   "outputs": [
    {
     "name": "stdout",
     "output_type": "stream",
     "text": [
      "pandas version: 0.22.0\n",
      "numpy version: 1.14.1\n",
      "xgboost version: 0.7.post3\n",
      "sklearn version: 0.19.1\n",
      "keras version: 2.1.3\n"
     ]
    }
   ],
   "source": [
    "print(\"pandas version:\", pd.__version__)\n",
    "print(\"numpy version:\", np.__version__)\n",
    "print(\"xgboost version:\", xgb.__version__)\n",
    "print(\"sklearn version:\", sklearn.__version__)\n",
    "print(\"keras version:\", keras.__version__)"
   ]
  },
  {
   "cell_type": "code",
   "execution_count": 2,
   "metadata": {
    "collapsed": true
   },
   "outputs": [],
   "source": [
    "data = pd.read_hdf(\"../data/processed_data.h5\", key=\"data\")"
   ]
  },
  {
   "cell_type": "code",
   "execution_count": 3,
   "metadata": {},
   "outputs": [
    {
     "name": "stdout",
     "output_type": "stream",
     "text": [
      "(11128050, 37)\n"
     ]
    },
    {
     "data": {
      "text/html": [
       "<div>\n",
       "<style scoped>\n",
       "    .dataframe tbody tr th:only-of-type {\n",
       "        vertical-align: middle;\n",
       "    }\n",
       "\n",
       "    .dataframe tbody tr th {\n",
       "        vertical-align: top;\n",
       "    }\n",
       "\n",
       "    .dataframe thead th {\n",
       "        text-align: right;\n",
       "    }\n",
       "</style>\n",
       "<table border=\"1\" class=\"dataframe\">\n",
       "  <thead>\n",
       "    <tr style=\"text-align: right;\">\n",
       "      <th></th>\n",
       "      <th>ID</th>\n",
       "      <th>date_block_num</th>\n",
       "      <th>item_cat_enc</th>\n",
       "      <th>item_category_id</th>\n",
       "      <th>item_id</th>\n",
       "      <th>item_name</th>\n",
       "      <th>item_target_enc</th>\n",
       "      <th>shop_id</th>\n",
       "      <th>target</th>\n",
       "      <th>item_lag1</th>\n",
       "      <th>...</th>\n",
       "      <th>total_item_sales_lag3</th>\n",
       "      <th>total_item_sales_lag4</th>\n",
       "      <th>total_item_sales_lag5</th>\n",
       "      <th>total_item_sales_lag12</th>\n",
       "      <th>total_cat_sales_lag1</th>\n",
       "      <th>total_cat_sales_lag2</th>\n",
       "      <th>total_cat_sales_lag3</th>\n",
       "      <th>total_cat_sales_lag4</th>\n",
       "      <th>total_cat_sales_lag5</th>\n",
       "      <th>total_cat_sales_lag12</th>\n",
       "    </tr>\n",
       "  </thead>\n",
       "  <tbody>\n",
       "    <tr>\n",
       "      <th>0</th>\n",
       "      <td>NaN</td>\n",
       "      <td>0</td>\n",
       "      <td>0.254509</td>\n",
       "      <td>40</td>\n",
       "      <td>19</td>\n",
       "      <td>/ЗОЛОТАЯ КОЛЛЕКЦИЯ м/ф-72</td>\n",
       "      <td>0.022222</td>\n",
       "      <td>0</td>\n",
       "      <td>0.0</td>\n",
       "      <td>-1.0</td>\n",
       "      <td>...</td>\n",
       "      <td>-1.0</td>\n",
       "      <td>-1.0</td>\n",
       "      <td>-1.0</td>\n",
       "      <td>-1.0</td>\n",
       "      <td>-1.0</td>\n",
       "      <td>-1.0</td>\n",
       "      <td>-1.0</td>\n",
       "      <td>-1.0</td>\n",
       "      <td>-1.0</td>\n",
       "      <td>-1.0</td>\n",
       "    </tr>\n",
       "    <tr>\n",
       "      <th>1</th>\n",
       "      <td>NaN</td>\n",
       "      <td>0</td>\n",
       "      <td>0.764905</td>\n",
       "      <td>19</td>\n",
       "      <td>27</td>\n",
       "      <td>007 Legends [PS3, русская версия]</td>\n",
       "      <td>0.056834</td>\n",
       "      <td>0</td>\n",
       "      <td>0.0</td>\n",
       "      <td>-1.0</td>\n",
       "      <td>...</td>\n",
       "      <td>-1.0</td>\n",
       "      <td>-1.0</td>\n",
       "      <td>-1.0</td>\n",
       "      <td>-1.0</td>\n",
       "      <td>-1.0</td>\n",
       "      <td>-1.0</td>\n",
       "      <td>-1.0</td>\n",
       "      <td>-1.0</td>\n",
       "      <td>-1.0</td>\n",
       "      <td>-1.0</td>\n",
       "    </tr>\n",
       "    <tr>\n",
       "      <th>2</th>\n",
       "      <td>NaN</td>\n",
       "      <td>0</td>\n",
       "      <td>1.213606</td>\n",
       "      <td>30</td>\n",
       "      <td>28</td>\n",
       "      <td>007 Legends [PС, Jewel, русская версия]</td>\n",
       "      <td>0.141176</td>\n",
       "      <td>0</td>\n",
       "      <td>0.0</td>\n",
       "      <td>-1.0</td>\n",
       "      <td>...</td>\n",
       "      <td>-1.0</td>\n",
       "      <td>-1.0</td>\n",
       "      <td>-1.0</td>\n",
       "      <td>-1.0</td>\n",
       "      <td>-1.0</td>\n",
       "      <td>-1.0</td>\n",
       "      <td>-1.0</td>\n",
       "      <td>-1.0</td>\n",
       "      <td>-1.0</td>\n",
       "      <td>-1.0</td>\n",
       "    </tr>\n",
       "    <tr>\n",
       "      <th>3</th>\n",
       "      <td>NaN</td>\n",
       "      <td>0</td>\n",
       "      <td>0.674349</td>\n",
       "      <td>23</td>\n",
       "      <td>29</td>\n",
       "      <td>007 Legends [Xbox 360, русская версия]</td>\n",
       "      <td>0.037383</td>\n",
       "      <td>0</td>\n",
       "      <td>0.0</td>\n",
       "      <td>-1.0</td>\n",
       "      <td>...</td>\n",
       "      <td>-1.0</td>\n",
       "      <td>-1.0</td>\n",
       "      <td>-1.0</td>\n",
       "      <td>-1.0</td>\n",
       "      <td>-1.0</td>\n",
       "      <td>-1.0</td>\n",
       "      <td>-1.0</td>\n",
       "      <td>-1.0</td>\n",
       "      <td>-1.0</td>\n",
       "      <td>-1.0</td>\n",
       "    </tr>\n",
       "    <tr>\n",
       "      <th>4</th>\n",
       "      <td>NaN</td>\n",
       "      <td>0</td>\n",
       "      <td>0.254509</td>\n",
       "      <td>40</td>\n",
       "      <td>32</td>\n",
       "      <td>1+1</td>\n",
       "      <td>1.342412</td>\n",
       "      <td>0</td>\n",
       "      <td>6.0</td>\n",
       "      <td>-1.0</td>\n",
       "      <td>...</td>\n",
       "      <td>-1.0</td>\n",
       "      <td>-1.0</td>\n",
       "      <td>-1.0</td>\n",
       "      <td>-1.0</td>\n",
       "      <td>-1.0</td>\n",
       "      <td>-1.0</td>\n",
       "      <td>-1.0</td>\n",
       "      <td>-1.0</td>\n",
       "      <td>-1.0</td>\n",
       "      <td>-1.0</td>\n",
       "    </tr>\n",
       "  </tbody>\n",
       "</table>\n",
       "<p>5 rows × 37 columns</p>\n",
       "</div>"
      ],
      "text/plain": [
       "   ID  date_block_num  item_cat_enc  item_category_id  item_id  \\\n",
       "0 NaN               0      0.254509                40       19   \n",
       "1 NaN               0      0.764905                19       27   \n",
       "2 NaN               0      1.213606                30       28   \n",
       "3 NaN               0      0.674349                23       29   \n",
       "4 NaN               0      0.254509                40       32   \n",
       "\n",
       "                                 item_name  item_target_enc  shop_id  target  \\\n",
       "0                /ЗОЛОТАЯ КОЛЛЕКЦИЯ м/ф-72         0.022222        0     0.0   \n",
       "1        007 Legends [PS3, русская версия]         0.056834        0     0.0   \n",
       "2  007 Legends [PС, Jewel, русская версия]         0.141176        0     0.0   \n",
       "3   007 Legends [Xbox 360, русская версия]         0.037383        0     0.0   \n",
       "4                                      1+1         1.342412        0     6.0   \n",
       "\n",
       "   item_lag1          ...            total_item_sales_lag3  \\\n",
       "0       -1.0          ...                             -1.0   \n",
       "1       -1.0          ...                             -1.0   \n",
       "2       -1.0          ...                             -1.0   \n",
       "3       -1.0          ...                             -1.0   \n",
       "4       -1.0          ...                             -1.0   \n",
       "\n",
       "   total_item_sales_lag4  total_item_sales_lag5  total_item_sales_lag12  \\\n",
       "0                   -1.0                   -1.0                    -1.0   \n",
       "1                   -1.0                   -1.0                    -1.0   \n",
       "2                   -1.0                   -1.0                    -1.0   \n",
       "3                   -1.0                   -1.0                    -1.0   \n",
       "4                   -1.0                   -1.0                    -1.0   \n",
       "\n",
       "   total_cat_sales_lag1  total_cat_sales_lag2  total_cat_sales_lag3  \\\n",
       "0                  -1.0                  -1.0                  -1.0   \n",
       "1                  -1.0                  -1.0                  -1.0   \n",
       "2                  -1.0                  -1.0                  -1.0   \n",
       "3                  -1.0                  -1.0                  -1.0   \n",
       "4                  -1.0                  -1.0                  -1.0   \n",
       "\n",
       "   total_cat_sales_lag4  total_cat_sales_lag5  total_cat_sales_lag12  \n",
       "0                  -1.0                  -1.0                   -1.0  \n",
       "1                  -1.0                  -1.0                   -1.0  \n",
       "2                  -1.0                  -1.0                   -1.0  \n",
       "3                  -1.0                  -1.0                   -1.0  \n",
       "4                  -1.0                  -1.0                   -1.0  \n",
       "\n",
       "[5 rows x 37 columns]"
      ]
     },
     "execution_count": 3,
     "metadata": {},
     "output_type": "execute_result"
    }
   ],
   "source": [
    "print(data.shape)\n",
    "data.head()"
   ]
  },
  {
   "cell_type": "markdown",
   "metadata": {},
   "source": [
    "# Let's add a few extra features to the model, namely an indictator if it's the first time a product is appearing and also the sum and mean of the lagged supply features."
   ]
  },
  {
   "cell_type": "code",
   "execution_count": 4,
   "metadata": {
    "collapsed": true
   },
   "outputs": [],
   "source": [
    "data = data.merge(data.groupby(\"item_id\", as_index=False).date_block_num.min().rename(columns={\"date_block_num\":\"first_appearance\"}), how=\"left\")"
   ]
  },
  {
   "cell_type": "code",
   "execution_count": 5,
   "metadata": {
    "collapsed": true
   },
   "outputs": [],
   "source": [
    "data[\"months_since_first_appearance\"] = data.date_block_num - data.first_appearance\n",
    "data[\"months_since_first_appearance_inv\"] = 1/data.months_since_first_appearance\n",
    "data.months_since_first_appearance_inv.replace(np.inf, -1, inplace=True)\n",
    "data[\"product_launch\"] = 0\n",
    "data.loc[data.months_since_first_appearance == 0, \"product_launch\"] = 1"
   ]
  },
  {
   "cell_type": "code",
   "execution_count": 6,
   "metadata": {
    "collapsed": true
   },
   "outputs": [],
   "source": [
    "data[\"item_lag_mean\"] = data[[x for x in data.columns if \"item_lag\" in x]].mean(axis=1)\n",
    "data[\"item_lag_sum\"] = data[[x for x in data.columns if \"item_lag\" in x]].sum(axis=1)"
   ]
  },
  {
   "cell_type": "code",
   "execution_count": 7,
   "metadata": {},
   "outputs": [
    {
     "data": {
      "text/html": [
       "<div>\n",
       "<style scoped>\n",
       "    .dataframe tbody tr th:only-of-type {\n",
       "        vertical-align: middle;\n",
       "    }\n",
       "\n",
       "    .dataframe tbody tr th {\n",
       "        vertical-align: top;\n",
       "    }\n",
       "\n",
       "    .dataframe thead th {\n",
       "        text-align: right;\n",
       "    }\n",
       "</style>\n",
       "<table border=\"1\" class=\"dataframe\">\n",
       "  <thead>\n",
       "    <tr style=\"text-align: right;\">\n",
       "      <th></th>\n",
       "      <th>ID</th>\n",
       "      <th>date_block_num</th>\n",
       "      <th>item_cat_enc</th>\n",
       "      <th>item_category_id</th>\n",
       "      <th>item_id</th>\n",
       "      <th>item_name</th>\n",
       "      <th>item_target_enc</th>\n",
       "      <th>shop_id</th>\n",
       "      <th>target</th>\n",
       "      <th>item_lag1</th>\n",
       "      <th>...</th>\n",
       "      <th>total_cat_sales_lag3</th>\n",
       "      <th>total_cat_sales_lag4</th>\n",
       "      <th>total_cat_sales_lag5</th>\n",
       "      <th>total_cat_sales_lag12</th>\n",
       "      <th>first_appearance</th>\n",
       "      <th>months_since_first_appearance</th>\n",
       "      <th>months_since_first_appearance_inv</th>\n",
       "      <th>product_launch</th>\n",
       "      <th>item_lag_mean</th>\n",
       "      <th>item_lag_sum</th>\n",
       "    </tr>\n",
       "  </thead>\n",
       "  <tbody>\n",
       "    <tr>\n",
       "      <th>0</th>\n",
       "      <td>NaN</td>\n",
       "      <td>0</td>\n",
       "      <td>0.254509</td>\n",
       "      <td>40</td>\n",
       "      <td>19</td>\n",
       "      <td>/ЗОЛОТАЯ КОЛЛЕКЦИЯ м/ф-72</td>\n",
       "      <td>0.022222</td>\n",
       "      <td>0</td>\n",
       "      <td>0.0</td>\n",
       "      <td>-1.0</td>\n",
       "      <td>...</td>\n",
       "      <td>-1.0</td>\n",
       "      <td>-1.0</td>\n",
       "      <td>-1.0</td>\n",
       "      <td>-1.0</td>\n",
       "      <td>0</td>\n",
       "      <td>0</td>\n",
       "      <td>-1.0</td>\n",
       "      <td>1</td>\n",
       "      <td>-1.0</td>\n",
       "      <td>-7.0</td>\n",
       "    </tr>\n",
       "    <tr>\n",
       "      <th>1</th>\n",
       "      <td>NaN</td>\n",
       "      <td>0</td>\n",
       "      <td>0.764905</td>\n",
       "      <td>19</td>\n",
       "      <td>27</td>\n",
       "      <td>007 Legends [PS3, русская версия]</td>\n",
       "      <td>0.056834</td>\n",
       "      <td>0</td>\n",
       "      <td>0.0</td>\n",
       "      <td>-1.0</td>\n",
       "      <td>...</td>\n",
       "      <td>-1.0</td>\n",
       "      <td>-1.0</td>\n",
       "      <td>-1.0</td>\n",
       "      <td>-1.0</td>\n",
       "      <td>0</td>\n",
       "      <td>0</td>\n",
       "      <td>-1.0</td>\n",
       "      <td>1</td>\n",
       "      <td>-1.0</td>\n",
       "      <td>-7.0</td>\n",
       "    </tr>\n",
       "    <tr>\n",
       "      <th>2</th>\n",
       "      <td>NaN</td>\n",
       "      <td>0</td>\n",
       "      <td>1.213606</td>\n",
       "      <td>30</td>\n",
       "      <td>28</td>\n",
       "      <td>007 Legends [PС, Jewel, русская версия]</td>\n",
       "      <td>0.141176</td>\n",
       "      <td>0</td>\n",
       "      <td>0.0</td>\n",
       "      <td>-1.0</td>\n",
       "      <td>...</td>\n",
       "      <td>-1.0</td>\n",
       "      <td>-1.0</td>\n",
       "      <td>-1.0</td>\n",
       "      <td>-1.0</td>\n",
       "      <td>0</td>\n",
       "      <td>0</td>\n",
       "      <td>-1.0</td>\n",
       "      <td>1</td>\n",
       "      <td>-1.0</td>\n",
       "      <td>-7.0</td>\n",
       "    </tr>\n",
       "    <tr>\n",
       "      <th>3</th>\n",
       "      <td>NaN</td>\n",
       "      <td>0</td>\n",
       "      <td>0.674349</td>\n",
       "      <td>23</td>\n",
       "      <td>29</td>\n",
       "      <td>007 Legends [Xbox 360, русская версия]</td>\n",
       "      <td>0.037383</td>\n",
       "      <td>0</td>\n",
       "      <td>0.0</td>\n",
       "      <td>-1.0</td>\n",
       "      <td>...</td>\n",
       "      <td>-1.0</td>\n",
       "      <td>-1.0</td>\n",
       "      <td>-1.0</td>\n",
       "      <td>-1.0</td>\n",
       "      <td>0</td>\n",
       "      <td>0</td>\n",
       "      <td>-1.0</td>\n",
       "      <td>1</td>\n",
       "      <td>-1.0</td>\n",
       "      <td>-7.0</td>\n",
       "    </tr>\n",
       "    <tr>\n",
       "      <th>4</th>\n",
       "      <td>NaN</td>\n",
       "      <td>0</td>\n",
       "      <td>0.254509</td>\n",
       "      <td>40</td>\n",
       "      <td>32</td>\n",
       "      <td>1+1</td>\n",
       "      <td>1.342412</td>\n",
       "      <td>0</td>\n",
       "      <td>6.0</td>\n",
       "      <td>-1.0</td>\n",
       "      <td>...</td>\n",
       "      <td>-1.0</td>\n",
       "      <td>-1.0</td>\n",
       "      <td>-1.0</td>\n",
       "      <td>-1.0</td>\n",
       "      <td>0</td>\n",
       "      <td>0</td>\n",
       "      <td>-1.0</td>\n",
       "      <td>1</td>\n",
       "      <td>-1.0</td>\n",
       "      <td>-7.0</td>\n",
       "    </tr>\n",
       "  </tbody>\n",
       "</table>\n",
       "<p>5 rows × 43 columns</p>\n",
       "</div>"
      ],
      "text/plain": [
       "   ID  date_block_num  item_cat_enc  item_category_id  item_id  \\\n",
       "0 NaN               0      0.254509                40       19   \n",
       "1 NaN               0      0.764905                19       27   \n",
       "2 NaN               0      1.213606                30       28   \n",
       "3 NaN               0      0.674349                23       29   \n",
       "4 NaN               0      0.254509                40       32   \n",
       "\n",
       "                                 item_name  item_target_enc  shop_id  target  \\\n",
       "0                /ЗОЛОТАЯ КОЛЛЕКЦИЯ м/ф-72         0.022222        0     0.0   \n",
       "1        007 Legends [PS3, русская версия]         0.056834        0     0.0   \n",
       "2  007 Legends [PС, Jewel, русская версия]         0.141176        0     0.0   \n",
       "3   007 Legends [Xbox 360, русская версия]         0.037383        0     0.0   \n",
       "4                                      1+1         1.342412        0     6.0   \n",
       "\n",
       "   item_lag1      ...       total_cat_sales_lag3  total_cat_sales_lag4  \\\n",
       "0       -1.0      ...                       -1.0                  -1.0   \n",
       "1       -1.0      ...                       -1.0                  -1.0   \n",
       "2       -1.0      ...                       -1.0                  -1.0   \n",
       "3       -1.0      ...                       -1.0                  -1.0   \n",
       "4       -1.0      ...                       -1.0                  -1.0   \n",
       "\n",
       "   total_cat_sales_lag5  total_cat_sales_lag12  first_appearance  \\\n",
       "0                  -1.0                   -1.0                 0   \n",
       "1                  -1.0                   -1.0                 0   \n",
       "2                  -1.0                   -1.0                 0   \n",
       "3                  -1.0                   -1.0                 0   \n",
       "4                  -1.0                   -1.0                 0   \n",
       "\n",
       "   months_since_first_appearance  months_since_first_appearance_inv  \\\n",
       "0                              0                               -1.0   \n",
       "1                              0                               -1.0   \n",
       "2                              0                               -1.0   \n",
       "3                              0                               -1.0   \n",
       "4                              0                               -1.0   \n",
       "\n",
       "   product_launch  item_lag_mean  item_lag_sum  \n",
       "0               1           -1.0          -7.0  \n",
       "1               1           -1.0          -7.0  \n",
       "2               1           -1.0          -7.0  \n",
       "3               1           -1.0          -7.0  \n",
       "4               1           -1.0          -7.0  \n",
       "\n",
       "[5 rows x 43 columns]"
      ]
     },
     "execution_count": 7,
     "metadata": {},
     "output_type": "execute_result"
    }
   ],
   "source": [
    "data.head()"
   ]
  },
  {
   "cell_type": "code",
   "execution_count": 8,
   "metadata": {},
   "outputs": [
    {
     "data": {
      "text/plain": [
       "121"
      ]
     },
     "execution_count": 8,
     "metadata": {},
     "output_type": "execute_result"
    }
   ],
   "source": [
    "import gc\n",
    "gc.collect()"
   ]
  },
  {
   "cell_type": "markdown",
   "metadata": {},
   "source": [
    "# There isn't enough memory to fit an xgboost model to the entire dataset, so lets remove the first year of data. Also, since values are clipped to be between (0,20) let fit to values between (0,40) so that we are closer to the target distribution. Why not clip the training data to 20 as well? Well if we fit to 20, the model will predict values under 20, but instead we want values to be forecasted slightly above 20, then clip to 20.\n",
    "\n",
    "# Trying to fit models over all the features also resulted in memory errors, so models were instead fit to each subset of lagged features and evaluated. The sets of lagged features are item lag, total item sales lag, total category sales lag, and total shop sales lag. "
   ]
  },
  {
   "cell_type": "code",
   "execution_count": 22,
   "metadata": {},
   "outputs": [
    {
     "name": "stdout",
     "output_type": "stream",
     "text": [
      "['item_cat_enc', 'item_category_id', 'item_target_enc', 'shop_id', 'shop_enc', 'first_appearance', 'months_since_first_appearance', 'months_since_first_appearance_inv', 'product_launch', 'item_lag1', 'item_lag2', 'item_lag3', 'item_lag4', 'item_lag5', 'item_lag12', 'item_lag_mean', 'item_lag_sum']\n",
      "Fitting 5 folds for each of 4 candidates, totalling 20 fits\n",
      "[CV] learning_rate=0.089, max_depth=4, n_estimators=76 ...............\n",
      "[CV] learning_rate=0.089, max_depth=4, n_estimators=76 ...............\n",
      "[CV] learning_rate=0.089, max_depth=4, n_estimators=76 ...............\n",
      "[CV] learning_rate=0.089, max_depth=4, n_estimators=76 ...............\n",
      "[CV] learning_rate=0.089, max_depth=4, n_estimators=76 ...............\n",
      "[CV]  learning_rate=0.089, max_depth=4, n_estimators=76, total= 1.5min\n",
      "[CV] learning_rate=0.089, max_depth=5, n_estimators=76 ...............\n",
      "[CV]  learning_rate=0.089, max_depth=4, n_estimators=76, total= 3.1min\n",
      "[CV] learning_rate=0.089, max_depth=5, n_estimators=76 ...............\n",
      "[CV]  learning_rate=0.089, max_depth=5, n_estimators=76, total= 1.9min\n",
      "[CV] learning_rate=0.089, max_depth=5, n_estimators=76 ...............\n",
      "[CV]  learning_rate=0.089, max_depth=4, n_estimators=76, total= 4.8min\n",
      "[CV] learning_rate=0.089, max_depth=5, n_estimators=76 ...............\n",
      "[CV]  learning_rate=0.089, max_depth=4, n_estimators=76, total= 6.5min\n",
      "[CV] learning_rate=0.089, max_depth=5, n_estimators=76 ...............\n",
      "[CV]  learning_rate=0.089, max_depth=5, n_estimators=76, total= 4.0min\n",
      "[CV] learning_rate=0.089, max_depth=6, n_estimators=76 ...............\n",
      "[CV]  learning_rate=0.089, max_depth=4, n_estimators=76, total= 7.8min\n",
      "[CV] learning_rate=0.089, max_depth=6, n_estimators=76 ...............\n",
      "[CV]  learning_rate=0.089, max_depth=6, n_estimators=76, total= 2.2min\n",
      "[CV] learning_rate=0.089, max_depth=6, n_estimators=76 ...............\n",
      "[CV]  learning_rate=0.089, max_depth=5, n_estimators=76, total= 6.1min\n",
      "[CV] learning_rate=0.089, max_depth=6, n_estimators=76 ...............\n",
      "[CV]  learning_rate=0.089, max_depth=6, n_estimators=76, total= 5.0min\n",
      "[CV] learning_rate=0.089, max_depth=6, n_estimators=76 ...............\n",
      "[CV]  learning_rate=0.089, max_depth=5, n_estimators=76, total= 8.4min\n",
      "[CV] learning_rate=0.089, max_depth=7, n_estimators=76 ...............\n",
      "[CV]  learning_rate=0.089, max_depth=5, n_estimators=76, total= 9.3min\n",
      "[CV] learning_rate=0.089, max_depth=7, n_estimators=76 ...............\n",
      "[CV]  learning_rate=0.089, max_depth=7, n_estimators=76, total= 2.7min\n",
      "[CV] learning_rate=0.089, max_depth=7, n_estimators=76 ...............\n",
      "[CV]  learning_rate=0.089, max_depth=6, n_estimators=76, total= 7.7min\n",
      "[CV] learning_rate=0.089, max_depth=7, n_estimators=76 ...............\n",
      "[CV]  learning_rate=0.089, max_depth=6, n_estimators=76, total=10.3min\n",
      "[CV] learning_rate=0.089, max_depth=7, n_estimators=76 ...............\n",
      "[CV]  learning_rate=0.089, max_depth=7, n_estimators=76, total= 5.9min\n",
      "[CV]  learning_rate=0.089, max_depth=6, n_estimators=76, total=11.0min\n",
      "[CV]  learning_rate=0.089, max_depth=7, n_estimators=76, total= 8.9min\n",
      "[CV]  learning_rate=0.089, max_depth=7, n_estimators=76, total=11.5min\n",
      "[CV]  learning_rate=0.089, max_depth=7, n_estimators=76, total=11.4min\n"
     ]
    },
    {
     "name": "stderr",
     "output_type": "stream",
     "text": [
      "[Parallel(n_jobs=5)]: Done  20 out of  20 | elapsed: 32.2min finished\n"
     ]
    },
    {
     "data": {
      "text/plain": [
       "GridSearchCV(cv=<generator object TimeSeriesSplit.split at 0x7f1f11130830>,\n",
       "       error_score='raise',\n",
       "       estimator=XGBRegressor(base_score=0.5, booster='gbtree', colsample_bylevel=1,\n",
       "       colsample_bytree=1, gamma=0, learning_rate=0.1, max_delta_step=0,\n",
       "       max_depth=3, min_child_weight=1, missing=None, n_estimators=100,\n",
       "       n_jobs=1, nthread=None, objective='reg:linear', random_state=0,\n",
       "       reg_alpha=0, reg_lambda=1, scale_pos_weight=1, seed=None,\n",
       "       silent=True, subsample=1),\n",
       "       fit_params=None, iid=True, n_jobs=5,\n",
       "       param_grid={'n_estimators': [76], 'max_depth': [4, 5, 6, 7], 'learning_rate': [0.089]},\n",
       "       pre_dispatch='2*n_jobs', refit=True, return_train_score='warn',\n",
       "       scoring=None, verbose=2)"
      ]
     },
     "execution_count": 22,
     "metadata": {},
     "output_type": "execute_result"
    }
   ],
   "source": [
    "train = data[(data.date_block_num > 12)&(data.date_block_num < 33)] #use smaller dataset for cv\n",
    "\n",
    "lagged_features = [\"total_item_sales\", \"total_cat_sales\", \"total_shop_sales\"]\n",
    "predictors = [x for x in train.columns if x not in [\"target\",\"item_name\",\"date_block_num\", \"ID\", \"item_id\"] + lagged_features and \"lag\" not in x]\n",
    "predictors += [x for x in train.columns if \"item_lag\" in x]\n",
    "print(predictors)\n",
    "\n",
    "params = {\n",
    "    \"n_estimators\": [76],\n",
    "    \"max_depth\": [4,5,6,7],\n",
    "    \"learning_rate\": [.089]\n",
    "}\n",
    "\n",
    "model = xgb.XGBRegressor()\n",
    "tscv = TimeSeriesSplit(n_splits=5)\n",
    "train = train.set_index(\"date_block_num\")\n",
    "cv = tscv.split(train)\n",
    "gs = GridSearchCV(model, params, cv=cv, verbose=2, n_jobs=5)\n",
    "gs.fit(train[predictors], train.target.clip(0,40))"
   ]
  },
  {
   "cell_type": "code",
   "execution_count": 23,
   "metadata": {},
   "outputs": [
    {
     "name": "stdout",
     "output_type": "stream",
     "text": [
      "0.4800194223180099\n",
      "{'learning_rate': 0.089, 'max_depth': 4, 'n_estimators': 76}\n"
     ]
    }
   ],
   "source": [
    "print(gs.best_score_)\n",
    "print(gs.best_params_)"
   ]
  },
  {
   "cell_type": "code",
   "execution_count": 25,
   "metadata": {
    "collapsed": true
   },
   "outputs": [],
   "source": [
    "def rmse(y1, y2):\n",
    "    return np.sqrt(np.mean((np.ravel(y1) - np.ravel(y2))**2))"
   ]
  },
  {
   "cell_type": "markdown",
   "metadata": {},
   "source": [
    "valid = data[data.date_block_num == 33]\n",
    "rmse(valid.target.clip(0,20),gs.best_estimator_.predict(valid[predictors]).clip(0,20))"
   ]
  },
  {
   "cell_type": "markdown",
   "metadata": {},
   "source": [
    "# Now let's save promising models for ensembling later. 30-40 models later,  only the item lag model was able to achieve good scores and so let's just save those. "
   ]
  },
  {
   "cell_type": "code",
   "execution_count": 3,
   "metadata": {
    "collapsed": true
   },
   "outputs": [],
   "source": [
    "import pickle"
   ]
  },
  {
   "cell_type": "code",
   "execution_count": 21,
   "metadata": {
    "collapsed": true
   },
   "outputs": [],
   "source": [
    "pickle.dump(gs.best_estimator_, open(\"models2/item_lag76-3-.089-0.96.pkl\", \"wb\"))"
   ]
  },
  {
   "cell_type": "code",
   "execution_count": 28,
   "metadata": {
    "collapsed": true
   },
   "outputs": [],
   "source": [
    "pickle.dump(gs.best_estimator_, open(\"models2/item_lag76-4-.089-0.94.pkl\", \"wb\"))"
   ]
  },
  {
   "cell_type": "code",
   "execution_count": null,
   "metadata": {
    "collapsed": true
   },
   "outputs": [],
   "source": []
  },
  {
   "cell_type": "markdown",
   "metadata": {},
   "source": [
    "# Now in order to make use of all the features and all of the data, let's fit a neural net as neural nets can take advantage of batch learning. The neural net will be fit over the entire dataset(before valid/test blocks) and over all the features.\n",
    "\n",
    "# For the neural net, numerical features will be scaled between (0, 1) and and categorical features will be one-hot encoded."
   ]
  },
  {
   "cell_type": "code",
   "execution_count": 39,
   "metadata": {},
   "outputs": [
    {
     "data": {
      "text/plain": [
       "['date_block_num',\n",
       " 'item_cat_enc',\n",
       " 'item_target_enc',\n",
       " 'item_lag1',\n",
       " 'item_lag2',\n",
       " 'item_lag3',\n",
       " 'item_lag4',\n",
       " 'item_lag5',\n",
       " 'item_lag12',\n",
       " 'shop_enc',\n",
       " 'total_shop_sales_lag1',\n",
       " 'total_shop_sales_lag2',\n",
       " 'total_shop_sales_lag3',\n",
       " 'total_shop_sales_lag4',\n",
       " 'total_shop_sales_lag5',\n",
       " 'total_shop_sales_lag12',\n",
       " 'total_item_sales_lag1',\n",
       " 'total_item_sales_lag2',\n",
       " 'total_item_sales_lag3',\n",
       " 'total_item_sales_lag4',\n",
       " 'total_item_sales_lag5',\n",
       " 'total_item_sales_lag12',\n",
       " 'total_cat_sales_lag1',\n",
       " 'total_cat_sales_lag2',\n",
       " 'total_cat_sales_lag3',\n",
       " 'total_cat_sales_lag4',\n",
       " 'total_cat_sales_lag5',\n",
       " 'total_cat_sales_lag12',\n",
       " 'first_appearance',\n",
       " 'months_since_first_appearance',\n",
       " 'months_since_first_appearance_inv',\n",
       " 'item_lag_mean',\n",
       " 'item_lag_sum']"
      ]
     },
     "execution_count": 39,
     "metadata": {},
     "output_type": "execute_result"
    }
   ],
   "source": [
    "train = data[(data.date_block_num < 33)]\n",
    "valid = data[data.date_block_num == 33]\n",
    "\n",
    "predictors = [x for x in train.columns if x not in [\"product_launch\",\"ID\",\"shop_id\",\"item_id\",\"item_name\",\"item_category_id\",\"target\", \"total_shop_sales\",\"total_item_sales\",\"total_cat_sales\"]]\n",
    "predictors"
   ]
  },
  {
   "cell_type": "code",
   "execution_count": 40,
   "metadata": {},
   "outputs": [
    {
     "data": {
      "text/plain": [
       "3200"
      ]
     },
     "execution_count": 40,
     "metadata": {},
     "output_type": "execute_result"
    }
   ],
   "source": [
    "gc.collect()"
   ]
  },
  {
   "cell_type": "code",
   "execution_count": 44,
   "metadata": {
    "collapsed": true
   },
   "outputs": [],
   "source": [
    "X = train[predictors].values\n",
    "y = train.target.clip(0,40)\n",
    "\n",
    "X_valid = valid[predictors].fillna(0).values\n",
    "y_valid = valid.target.clip(0,40)"
   ]
  },
  {
   "cell_type": "code",
   "execution_count": 45,
   "metadata": {},
   "outputs": [
    {
     "data": {
      "text/plain": [
       "(10675678, 33)"
      ]
     },
     "execution_count": 45,
     "metadata": {},
     "output_type": "execute_result"
    }
   ],
   "source": [
    "X.shape"
   ]
  },
  {
   "cell_type": "code",
   "execution_count": 46,
   "metadata": {
    "collapsed": true
   },
   "outputs": [],
   "source": [
    "from sklearn.preprocessing import MinMaxScaler"
   ]
  },
  {
   "cell_type": "code",
   "execution_count": 47,
   "metadata": {
    "collapsed": true
   },
   "outputs": [],
   "source": [
    "mm_scaler = MinMaxScaler()\n",
    "y_scaler = MinMaxScaler()\n",
    "\n",
    "X = mm_scaler.fit_transform(X)\n",
    "X_valid = mm_scaler.transform(X_valid)\n",
    "\n",
    "y = y_scaler.fit_transform(y.values.reshape(-1,1))\n",
    "y_valid = y_scaler.transform(y_valid.values.reshape(-1,1))"
   ]
  },
  {
   "cell_type": "code",
   "execution_count": 48,
   "metadata": {
    "collapsed": true
   },
   "outputs": [],
   "source": [
    "shop_id_dummies = pd.get_dummies(data.shop_id)\n",
    "item_cat_dummies = pd.get_dummies(data.item_category_id)"
   ]
  },
  {
   "cell_type": "code",
   "execution_count": 49,
   "metadata": {
    "collapsed": true
   },
   "outputs": [],
   "source": [
    "def batch_generator(X, y, batchsize=512):\n",
    "    while True:\n",
    "        idx = np.random.choice(np.arange(X.shape[0]), batchsize, replace=False)\n",
    "        X_batch, y_batch = X[idx], y[idx]\n",
    "        X_batch = np.hstack([X_batch, shop_id_dummies.iloc[idx], item_cat_dummies.iloc[idx], \n",
    "                             data.iloc[idx].product_launch.values.reshape(-1,1)])\n",
    "        yield X_batch, y_batch"
   ]
  },
  {
   "cell_type": "code",
   "execution_count": 50,
   "metadata": {
    "collapsed": true
   },
   "outputs": [],
   "source": [
    "data_gen = batch_generator(X, y)"
   ]
  },
  {
   "cell_type": "code",
   "execution_count": 51,
   "metadata": {
    "collapsed": true
   },
   "outputs": [],
   "source": [
    "X_valid = np.hstack([X_valid, shop_id_dummies.loc[valid.index], item_cat_dummies.loc[valid.index], \n",
    "                     data.loc[valid.index].product_launch.values.reshape(-1,1)])"
   ]
  },
  {
   "cell_type": "code",
   "execution_count": 52,
   "metadata": {},
   "outputs": [
    {
     "data": {
      "text/plain": [
       "(238172, 178)"
      ]
     },
     "execution_count": 52,
     "metadata": {},
     "output_type": "execute_result"
    }
   ],
   "source": [
    "X_valid.shape"
   ]
  },
  {
   "cell_type": "code",
   "execution_count": 53,
   "metadata": {},
   "outputs": [
    {
     "data": {
      "text/plain": [
       "304"
      ]
     },
     "execution_count": 53,
     "metadata": {},
     "output_type": "execute_result"
    }
   ],
   "source": [
    "import gc\n",
    "gc.collect()"
   ]
  },
  {
   "cell_type": "code",
   "execution_count": 54,
   "metadata": {
    "collapsed": true
   },
   "outputs": [],
   "source": [
    "from keras.layers import Dense, Input, Dropout\n",
    "from keras.models import Model, load_model\n",
    "from keras import regularizers\n",
    "from keras.callbacks import ModelCheckpoint"
   ]
  },
  {
   "cell_type": "code",
   "execution_count": 60,
   "metadata": {
    "collapsed": true
   },
   "outputs": [],
   "source": [
    "inp = Input((X_valid.shape[1],))\n",
    "x = Dense(512, activation=\"relu\")(inp)\n",
    "x = Dense(512, activation=\"relu\")(x)\n",
    "x = Dense(16, activation=\"relu\")(x)\n",
    "x = Dense(1, kernel_regularizer=regularizers.l2(0.001))(x)\n",
    "\n",
    "callbacks = [\n",
    "    ModelCheckpoint(\"models2/512-512-16-1-l2001.h5\", save_best_only=True, verbose=1)\n",
    "]\n",
    "\n",
    "model = Model(inputs=inp, outputs=x)\n",
    "model.compile(optimizer=\"adam\", loss=\"mean_squared_error\")"
   ]
  },
  {
   "cell_type": "code",
   "execution_count": 61,
   "metadata": {},
   "outputs": [
    {
     "name": "stdout",
     "output_type": "stream",
     "text": [
      "Epoch 1/600\n",
      " 99/100 [============================>.] - ETA: 0s - loss: 0.0042\n",
      "Epoch 00001: val_loss improved from inf to 0.00305, saving model to models2/512-512-16-1-l2001.h5\n",
      "100/100 [==============================] - 60s 601ms/step - loss: 0.0041 - val_loss: 0.0031\n",
      "Epoch 2/600\n",
      " 99/100 [============================>.] - ETA: 0s - loss: 0.0028\n",
      "Epoch 00002: val_loss improved from 0.00305 to 0.00251, saving model to models2/512-512-16-1-l2001.h5\n",
      "100/100 [==============================] - 55s 548ms/step - loss: 0.0029 - val_loss: 0.0025\n",
      "Epoch 3/600\n",
      " 99/100 [============================>.] - ETA: 0s - loss: 0.0025\n",
      "Epoch 00003: val_loss improved from 0.00251 to 0.00210, saving model to models2/512-512-16-1-l2001.h5\n",
      "100/100 [==============================] - 54s 538ms/step - loss: 0.0025 - val_loss: 0.0021\n",
      "Epoch 4/600\n",
      " 99/100 [============================>.] - ETA: 0s - loss: 0.0020\n",
      "Epoch 00004: val_loss improved from 0.00210 to 0.00186, saving model to models2/512-512-16-1-l2001.h5\n",
      "100/100 [==============================] - 54s 542ms/step - loss: 0.0020 - val_loss: 0.0019\n",
      "Epoch 5/600\n",
      " 99/100 [============================>.] - ETA: 0s - loss: 0.0017\n",
      "Epoch 00005: val_loss improved from 0.00186 to 0.00177, saving model to models2/512-512-16-1-l2001.h5\n",
      "100/100 [==============================] - 54s 538ms/step - loss: 0.0018 - val_loss: 0.0018\n",
      "Epoch 6/600\n",
      " 99/100 [============================>.] - ETA: 0s - loss: 0.0017\n",
      "Epoch 00006: val_loss improved from 0.00177 to 0.00143, saving model to models2/512-512-16-1-l2001.h5\n",
      "100/100 [==============================] - 54s 536ms/step - loss: 0.0017 - val_loss: 0.0014\n",
      "Epoch 7/600\n",
      " 99/100 [============================>.] - ETA: 0s - loss: 0.0014\n",
      "Epoch 00007: val_loss improved from 0.00143 to 0.00137, saving model to models2/512-512-16-1-l2001.h5\n",
      "100/100 [==============================] - 54s 543ms/step - loss: 0.0014 - val_loss: 0.0014\n",
      "Epoch 8/600\n",
      " 99/100 [============================>.] - ETA: 0s - loss: 0.0013\n",
      "Epoch 00008: val_loss improved from 0.00137 to 0.00120, saving model to models2/512-512-16-1-l2001.h5\n",
      "100/100 [==============================] - 54s 542ms/step - loss: 0.0013 - val_loss: 0.0012\n",
      "Epoch 9/600\n",
      " 99/100 [============================>.] - ETA: 0s - loss: 0.0012\n",
      "Epoch 00009: val_loss improved from 0.00120 to 0.00115, saving model to models2/512-512-16-1-l2001.h5\n",
      "100/100 [==============================] - 53s 533ms/step - loss: 0.0012 - val_loss: 0.0012\n",
      "Epoch 10/600\n",
      " 99/100 [============================>.] - ETA: 0s - loss: 0.0011\n",
      "Epoch 00010: val_loss improved from 0.00115 to 0.00105, saving model to models2/512-512-16-1-l2001.h5\n",
      "100/100 [==============================] - 55s 547ms/step - loss: 0.0011 - val_loss: 0.0010\n",
      "Epoch 11/600\n",
      " 99/100 [============================>.] - ETA: 0s - loss: 0.0011\n",
      "Epoch 00011: val_loss improved from 0.00105 to 0.00103, saving model to models2/512-512-16-1-l2001.h5\n",
      "100/100 [==============================] - 54s 544ms/step - loss: 0.0011 - val_loss: 0.0010\n",
      "Epoch 12/600\n",
      " 99/100 [============================>.] - ETA: 0s - loss: 0.0011\n",
      "Epoch 00012: val_loss did not improve\n",
      "100/100 [==============================] - 54s 537ms/step - loss: 0.0011 - val_loss: 0.0012\n",
      "Epoch 13/600\n",
      " 99/100 [============================>.] - ETA: 0s - loss: 9.1577e-04\n",
      "Epoch 00013: val_loss improved from 0.00103 to 0.00099, saving model to models2/512-512-16-1-l2001.h5\n",
      "100/100 [==============================] - 55s 550ms/step - loss: 9.1161e-04 - val_loss: 9.9499e-04\n",
      "Epoch 14/600\n",
      " 99/100 [============================>.] - ETA: 0s - loss: 8.3523e-04\n",
      "Epoch 00014: val_loss improved from 0.00099 to 0.00096, saving model to models2/512-512-16-1-l2001.h5\n",
      "100/100 [==============================] - 54s 543ms/step - loss: 8.4148e-04 - val_loss: 9.6116e-04\n",
      "Epoch 15/600\n",
      " 99/100 [============================>.] - ETA: 0s - loss: 8.6227e-04\n",
      "Epoch 00015: val_loss did not improve\n",
      "100/100 [==============================] - 54s 542ms/step - loss: 8.7132e-04 - val_loss: 9.6668e-04\n",
      "Epoch 16/600\n",
      " 99/100 [============================>.] - ETA: 0s - loss: 8.2757e-04\n",
      "Epoch 00016: val_loss did not improve\n",
      "100/100 [==============================] - 55s 546ms/step - loss: 8.3130e-04 - val_loss: 9.6644e-04\n",
      "Epoch 17/600\n",
      " 99/100 [============================>.] - ETA: 0s - loss: 9.1848e-04\n",
      "Epoch 00017: val_loss improved from 0.00096 to 0.00094, saving model to models2/512-512-16-1-l2001.h5\n",
      "100/100 [==============================] - 55s 547ms/step - loss: 9.2106e-04 - val_loss: 9.3940e-04\n",
      "Epoch 18/600\n",
      " 99/100 [============================>.] - ETA: 0s - loss: 8.2898e-04\n",
      "Epoch 00018: val_loss did not improve\n",
      "100/100 [==============================] - 54s 540ms/step - loss: 8.2672e-04 - val_loss: 9.6055e-04\n",
      "Epoch 19/600\n",
      " 99/100 [============================>.] - ETA: 0s - loss: 7.8755e-04\n",
      "Epoch 00019: val_loss did not improve\n",
      "100/100 [==============================] - 54s 539ms/step - loss: 7.8252e-04 - val_loss: 9.4974e-04\n",
      "Epoch 20/600\n",
      " 99/100 [============================>.] - ETA: 0s - loss: 8.3257e-04\n",
      "Epoch 00020: val_loss improved from 0.00094 to 0.00094, saving model to models2/512-512-16-1-l2001.h5\n",
      "100/100 [==============================] - 55s 545ms/step - loss: 8.4348e-04 - val_loss: 9.3707e-04\n",
      "Epoch 21/600\n",
      " 99/100 [============================>.] - ETA: 0s - loss: 7.7070e-04\n",
      "Epoch 00021: val_loss improved from 0.00094 to 0.00091, saving model to models2/512-512-16-1-l2001.h5\n",
      "100/100 [==============================] - 56s 557ms/step - loss: 7.7133e-04 - val_loss: 9.1010e-04\n",
      "Epoch 22/600\n",
      " 99/100 [============================>.] - ETA: 0s - loss: 8.7092e-04\n",
      "Epoch 00022: val_loss improved from 0.00091 to 0.00091, saving model to models2/512-512-16-1-l2001.h5\n",
      "100/100 [==============================] - 54s 539ms/step - loss: 8.6526e-04 - val_loss: 9.0672e-04\n",
      "Epoch 23/600\n",
      " 99/100 [============================>.] - ETA: 0s - loss: 7.9528e-04\n",
      "Epoch 00023: val_loss did not improve\n",
      "100/100 [==============================] - 54s 543ms/step - loss: 7.9800e-04 - val_loss: 0.0010\n",
      "Epoch 24/600\n",
      " 99/100 [============================>.] - ETA: 0s - loss: 7.9916e-04\n",
      "Epoch 00024: val_loss did not improve\n",
      "100/100 [==============================] - 54s 543ms/step - loss: 7.9466e-04 - val_loss: 9.3388e-04\n",
      "Epoch 25/600\n",
      " 99/100 [============================>.] - ETA: 0s - loss: 9.2721e-04\n",
      "Epoch 00025: val_loss did not improve\n",
      "100/100 [==============================] - 54s 543ms/step - loss: 9.2301e-04 - val_loss: 9.4037e-04\n",
      "Epoch 26/600\n",
      " 99/100 [============================>.] - ETA: 0s - loss: 8.9193e-04\n",
      "Epoch 00026: val_loss improved from 0.00091 to 0.00090, saving model to models2/512-512-16-1-l2001.h5\n",
      "100/100 [==============================] - 53s 529ms/step - loss: 8.9410e-04 - val_loss: 9.0192e-04\n",
      "Epoch 27/600\n",
      " 99/100 [============================>.] - ETA: 0s - loss: 8.3451e-04\n",
      "Epoch 00027: val_loss did not improve\n",
      "100/100 [==============================] - 53s 526ms/step - loss: 8.3557e-04 - val_loss: 9.9514e-04\n",
      "Epoch 28/600\n",
      " 99/100 [============================>.] - ETA: 0s - loss: 7.1942e-04\n",
      "Epoch 00028: val_loss did not improve\n",
      "100/100 [==============================] - 53s 532ms/step - loss: 7.1474e-04 - val_loss: 9.0971e-04\n",
      "Epoch 29/600\n",
      " 99/100 [============================>.] - ETA: 0s - loss: 7.7546e-04\n",
      "Epoch 00029: val_loss did not improve\n",
      "100/100 [==============================] - 54s 540ms/step - loss: 7.7694e-04 - val_loss: 9.1725e-04\n",
      "Epoch 30/600\n",
      " 99/100 [============================>.] - ETA: 0s - loss: 7.5838e-04\n",
      "Epoch 00030: val_loss did not improve\n",
      "100/100 [==============================] - 55s 546ms/step - loss: 7.5795e-04 - val_loss: 9.2280e-04\n",
      "Epoch 31/600\n",
      " 99/100 [============================>.] - ETA: 0s - loss: 8.4299e-04\n",
      "Epoch 00031: val_loss did not improve\n",
      "100/100 [==============================] - 54s 542ms/step - loss: 8.4014e-04 - val_loss: 9.1155e-04\n",
      "Epoch 32/600\n",
      " 99/100 [============================>.] - ETA: 0s - loss: 7.2489e-04\n",
      "Epoch 00032: val_loss did not improve\n",
      "100/100 [==============================] - 54s 540ms/step - loss: 7.2490e-04 - val_loss: 9.5143e-04\n",
      "Epoch 33/600\n",
      " 99/100 [============================>.] - ETA: 0s - loss: 7.0913e-04\n",
      "Epoch 00033: val_loss did not improve\n",
      "100/100 [==============================] - 54s 536ms/step - loss: 7.0953e-04 - val_loss: 9.0959e-04\n"
     ]
    },
    {
     "name": "stdout",
     "output_type": "stream",
     "text": [
      "Epoch 34/600\n",
      " 99/100 [============================>.] - ETA: 0s - loss: 6.7925e-04\n",
      "Epoch 00034: val_loss did not improve\n",
      "100/100 [==============================] - 54s 539ms/step - loss: 6.7633e-04 - val_loss: 9.2916e-04\n",
      "Epoch 35/600\n",
      " 16/100 [===>..........................] - ETA: 17s - loss: 5.9062e-04"
     ]
    },
    {
     "ename": "KeyboardInterrupt",
     "evalue": "",
     "output_type": "error",
     "traceback": [
      "\u001b[0;31m---------------------------------------------------------------------------\u001b[0m",
      "\u001b[0;31mKeyboardInterrupt\u001b[0m                         Traceback (most recent call last)",
      "\u001b[0;32m<ipython-input-61-46129fc7e83d>\u001b[0m in \u001b[0;36m<module>\u001b[0;34m()\u001b[0m\n\u001b[0;32m----> 1\u001b[0;31m \u001b[0mmodel\u001b[0m\u001b[0;34m.\u001b[0m\u001b[0mfit_generator\u001b[0m\u001b[0;34m(\u001b[0m\u001b[0mdata_gen\u001b[0m\u001b[0;34m,\u001b[0m \u001b[0msteps_per_epoch\u001b[0m\u001b[0;34m=\u001b[0m\u001b[0;36m100\u001b[0m\u001b[0;34m,\u001b[0m \u001b[0mepochs\u001b[0m\u001b[0;34m=\u001b[0m\u001b[0;36m600\u001b[0m\u001b[0;34m,\u001b[0m \u001b[0mvalidation_data\u001b[0m\u001b[0;34m=\u001b[0m\u001b[0;34m(\u001b[0m\u001b[0mX_valid\u001b[0m\u001b[0;34m,\u001b[0m \u001b[0my_valid\u001b[0m\u001b[0;34m)\u001b[0m\u001b[0;34m,\u001b[0m \u001b[0mcallbacks\u001b[0m\u001b[0;34m=\u001b[0m\u001b[0mcallbacks\u001b[0m\u001b[0;34m)\u001b[0m\u001b[0;34m\u001b[0m\u001b[0m\n\u001b[0m",
      "\u001b[0;32m~/anaconda3/envs/fastai/lib/python3.6/site-packages/keras/legacy/interfaces.py\u001b[0m in \u001b[0;36mwrapper\u001b[0;34m(*args, **kwargs)\u001b[0m\n\u001b[1;32m     89\u001b[0m                 warnings.warn('Update your `' + object_name +\n\u001b[1;32m     90\u001b[0m                               '` call to the Keras 2 API: ' + signature, stacklevel=2)\n\u001b[0;32m---> 91\u001b[0;31m             \u001b[0;32mreturn\u001b[0m \u001b[0mfunc\u001b[0m\u001b[0;34m(\u001b[0m\u001b[0;34m*\u001b[0m\u001b[0margs\u001b[0m\u001b[0;34m,\u001b[0m \u001b[0;34m**\u001b[0m\u001b[0mkwargs\u001b[0m\u001b[0;34m)\u001b[0m\u001b[0;34m\u001b[0m\u001b[0m\n\u001b[0m\u001b[1;32m     92\u001b[0m         \u001b[0mwrapper\u001b[0m\u001b[0;34m.\u001b[0m\u001b[0m_original_function\u001b[0m \u001b[0;34m=\u001b[0m \u001b[0mfunc\u001b[0m\u001b[0;34m\u001b[0m\u001b[0m\n\u001b[1;32m     93\u001b[0m         \u001b[0;32mreturn\u001b[0m \u001b[0mwrapper\u001b[0m\u001b[0;34m\u001b[0m\u001b[0m\n",
      "\u001b[0;32m~/anaconda3/envs/fastai/lib/python3.6/site-packages/keras/engine/training.py\u001b[0m in \u001b[0;36mfit_generator\u001b[0;34m(self, generator, steps_per_epoch, epochs, verbose, callbacks, validation_data, validation_steps, class_weight, max_queue_size, workers, use_multiprocessing, shuffle, initial_epoch)\u001b[0m\n\u001b[1;32m   2143\u001b[0m                 \u001b[0mbatch_index\u001b[0m \u001b[0;34m=\u001b[0m \u001b[0;36m0\u001b[0m\u001b[0;34m\u001b[0m\u001b[0m\n\u001b[1;32m   2144\u001b[0m                 \u001b[0;32mwhile\u001b[0m \u001b[0msteps_done\u001b[0m \u001b[0;34m<\u001b[0m \u001b[0msteps_per_epoch\u001b[0m\u001b[0;34m:\u001b[0m\u001b[0;34m\u001b[0m\u001b[0m\n\u001b[0;32m-> 2145\u001b[0;31m                     \u001b[0mgenerator_output\u001b[0m \u001b[0;34m=\u001b[0m \u001b[0mnext\u001b[0m\u001b[0;34m(\u001b[0m\u001b[0moutput_generator\u001b[0m\u001b[0;34m)\u001b[0m\u001b[0;34m\u001b[0m\u001b[0m\n\u001b[0m\u001b[1;32m   2146\u001b[0m \u001b[0;34m\u001b[0m\u001b[0m\n\u001b[1;32m   2147\u001b[0m                     \u001b[0;32mif\u001b[0m \u001b[0;32mnot\u001b[0m \u001b[0mhasattr\u001b[0m\u001b[0;34m(\u001b[0m\u001b[0mgenerator_output\u001b[0m\u001b[0;34m,\u001b[0m \u001b[0;34m'__len__'\u001b[0m\u001b[0;34m)\u001b[0m\u001b[0;34m:\u001b[0m\u001b[0;34m\u001b[0m\u001b[0m\n",
      "\u001b[0;32m~/anaconda3/envs/fastai/lib/python3.6/site-packages/keras/utils/data_utils.py\u001b[0m in \u001b[0;36mget\u001b[0;34m(self)\u001b[0m\n\u001b[1;32m    762\u001b[0m                     \u001b[0;32mraise\u001b[0m \u001b[0mStopIteration\u001b[0m\u001b[0;34m(\u001b[0m\u001b[0;34m)\u001b[0m\u001b[0;34m\u001b[0m\u001b[0m\n\u001b[1;32m    763\u001b[0m                 \u001b[0;32melse\u001b[0m\u001b[0;34m:\u001b[0m\u001b[0;34m\u001b[0m\u001b[0m\n\u001b[0;32m--> 764\u001b[0;31m                     \u001b[0mtime\u001b[0m\u001b[0;34m.\u001b[0m\u001b[0msleep\u001b[0m\u001b[0;34m(\u001b[0m\u001b[0mself\u001b[0m\u001b[0;34m.\u001b[0m\u001b[0mwait_time\u001b[0m\u001b[0;34m)\u001b[0m\u001b[0;34m\u001b[0m\u001b[0m\n\u001b[0m\u001b[1;32m    765\u001b[0m \u001b[0;34m\u001b[0m\u001b[0m\n\u001b[1;32m    766\u001b[0m         \u001b[0;31m# Make sure to rethrow the first exception in the queue, if any\u001b[0m\u001b[0;34m\u001b[0m\u001b[0;34m\u001b[0m\u001b[0m\n",
      "\u001b[0;31mKeyboardInterrupt\u001b[0m: "
     ]
    }
   ],
   "source": [
    "model.fit_generator(data_gen, steps_per_epoch=100, epochs=600, validation_data=(X_valid, y_valid), callbacks=callbacks)"
   ]
  },
  {
   "cell_type": "markdown",
   "metadata": {},
   "source": [
    "## Fitting neural nets is a very time consuming process and many iterations later a set of weights and architecture were finally found that achieved decent scores. For brevity, only the final model is included here."
   ]
  },
  {
   "cell_type": "code",
   "execution_count": 63,
   "metadata": {
    "collapsed": true
   },
   "outputs": [],
   "source": [
    "model = load_model(\"models2/512-512-16-1-l2001.h5\")"
   ]
  },
  {
   "cell_type": "code",
   "execution_count": 64,
   "metadata": {},
   "outputs": [
    {
     "data": {
      "text/plain": [
       "0.9883868533546424"
      ]
     },
     "execution_count": 64,
     "metadata": {},
     "output_type": "execute_result"
    }
   ],
   "source": [
    "rmse(valid.target.clip(0,20), y_scaler.inverse_transform(model.predict(X_valid)).clip(0,20))"
   ]
  },
  {
   "cell_type": "code",
   "execution_count": 113,
   "metadata": {},
   "outputs": [
    {
     "data": {
      "text/plain": [
       "1784"
      ]
     },
     "execution_count": 113,
     "metadata": {},
     "output_type": "execute_result"
    }
   ],
   "source": [
    "import gc\n",
    "gc.collect()"
   ]
  },
  {
   "cell_type": "markdown",
   "metadata": {},
   "source": [
    "# Model Stacking"
   ]
  },
  {
   "cell_type": "code",
   "execution_count": 65,
   "metadata": {
    "collapsed": true
   },
   "outputs": [],
   "source": [
    "test = data[data.date_block_num == 34]"
   ]
  },
  {
   "cell_type": "code",
   "execution_count": 68,
   "metadata": {
    "collapsed": true
   },
   "outputs": [],
   "source": [
    "X_test = np.hstack([mm_scaler.transform(test[predictors].fillna(0)), shop_id_dummies.loc[test.index], item_cat_dummies.loc[test.index], \n",
    "                   data.loc[test.index].product_launch.values.reshape(-1,1)])"
   ]
  },
  {
   "cell_type": "code",
   "execution_count": 69,
   "metadata": {
    "collapsed": true
   },
   "outputs": [],
   "source": [
    "out = test[[\"ID\"]].copy()\n",
    "out[\"item_cnt_month\"] = model.predict(X_test)\n",
    "out.ID = out.ID.astype(int)\n",
    "out.item_cnt_month = y_scaler.inverse_transform(out.item_cnt_month.values.reshape(-1,1)).clip(0,20)"
   ]
  },
  {
   "cell_type": "code",
   "execution_count": 77,
   "metadata": {
    "collapsed": true
   },
   "outputs": [],
   "source": [
    "xgb_model = pickle.load(open(\"models2/item_lag76-4-.089-0.94.pkl\", \"rb\"))"
   ]
  },
  {
   "cell_type": "code",
   "execution_count": 75,
   "metadata": {
    "collapsed": true
   },
   "outputs": [],
   "source": [
    "xgb_predictors = ['item_cat_enc', 'item_category_id', 'item_target_enc', 'shop_id', 'shop_enc', 'first_appearance', 'months_since_first_appearance', 'months_since_first_appearance_inv', 'product_launch', 'item_lag1', 'item_lag2', 'item_lag3', 'item_lag4', 'item_lag5', 'item_lag12', 'item_lag_mean', 'item_lag_sum']"
   ]
  },
  {
   "cell_type": "code",
   "execution_count": null,
   "metadata": {
    "collapsed": true
   },
   "outputs": [],
   "source": []
  },
  {
   "cell_type": "code",
   "execution_count": 87,
   "metadata": {
    "collapsed": true
   },
   "outputs": [],
   "source": [
    "y_valid_xgb = xgb_model.predict(valid[xgb_predictors]).clip(0,20)\n",
    "y_valid_nn = y_scaler.inverse_transform(model.predict(X_valid).reshape(-1,1)).clip(0,20).ravel()\n",
    "\n",
    "y_test_xgb = xgb_model.predict(test[xgb_predictors]).clip(0,20)\n",
    "y_test_nn = y_scaler.inverse_transform(model.predict(X_test).reshape(-1,1)).clip(0,20).ravel()"
   ]
  },
  {
   "cell_type": "code",
   "execution_count": 123,
   "metadata": {},
   "outputs": [
    {
     "data": {
      "text/plain": [
       "(238172, 2)"
      ]
     },
     "execution_count": 123,
     "metadata": {},
     "output_type": "execute_result"
    }
   ],
   "source": [
    "X_ens_valid = np.vstack([y_valid_xgb, y_valid_nn]).T\n",
    "X_ens_valid.shape"
   ]
  },
  {
   "cell_type": "markdown",
   "metadata": {},
   "source": [
    "## Here 2 methods are explored for stacking the xgb and nn output. A simple linear combination is done over gridsearch to find the best alpha for combining the 2 models:\n",
    "### alpha \\* predictions1 + (1-a) \\* predictions2\n",
    "\n",
    "## and the same is done but using gridsearch to find the best alpha over 5-folds."
   ]
  },
  {
   "cell_type": "code",
   "execution_count": 79,
   "metadata": {
    "collapsed": true
   },
   "outputs": [],
   "source": [
    "alphas = np.linspace(.001,1.0,1000)\n",
    "best_score = None\n",
    "best_alpha = None\n",
    "for a in alphas:\n",
    "    predict = (a * y_valid_xgb + (1-a)*y_valid_nn).clip(0,20)\n",
    "    score = rmse(valid.target.clip(0,20), predict)\n",
    "    if best_score is None or score < best_score:\n",
    "        best_score = score\n",
    "        best_alpha = a"
   ]
  },
  {
   "cell_type": "code",
   "execution_count": 94,
   "metadata": {},
   "outputs": [
    {
     "data": {
      "text/plain": [
       "0.617"
      ]
     },
     "execution_count": 94,
     "metadata": {},
     "output_type": "execute_result"
    }
   ],
   "source": [
    "best_alpha"
   ]
  },
  {
   "cell_type": "code",
   "execution_count": 111,
   "metadata": {
    "collapsed": true
   },
   "outputs": [],
   "source": [
    "from sklearn.base import BaseEstimator, RegressorMixin"
   ]
  },
  {
   "cell_type": "markdown",
   "metadata": {},
   "source": [
    "Let's make a model so that we can use sklearn's gridsearch to search over alpha parameters"
   ]
  },
  {
   "cell_type": "code",
   "execution_count": 151,
   "metadata": {
    "collapsed": true
   },
   "outputs": [],
   "source": [
    "class EnsembleModel(BaseEstimator, RegressorMixin):\n",
    "    def __init__(self, alpha=0.5):\n",
    "        self.alpha = alpha\n",
    "        \n",
    "    def fit(self, X, y):\n",
    "        pass\n",
    "        \n",
    "    def predict(self, X):\n",
    "        return (self.alpha * X[:,0] + (1-self.alpha)*X[:,1]).clip(0,20)"
   ]
  },
  {
   "cell_type": "code",
   "execution_count": 152,
   "metadata": {
    "collapsed": true
   },
   "outputs": [],
   "source": [
    "ens_model = EnsembleModel()\n",
    "params = {\"alpha\":np.linspace(0.001,1.0,1000)}"
   ]
  },
  {
   "cell_type": "code",
   "execution_count": 153,
   "metadata": {
    "collapsed": true
   },
   "outputs": [],
   "source": [
    "from sklearn.model_selection import GridSearchCV"
   ]
  },
  {
   "cell_type": "code",
   "execution_count": 158,
   "metadata": {},
   "outputs": [
    {
     "name": "stdout",
     "output_type": "stream",
     "text": [
      "Fitting 5 folds for each of 1000 candidates, totalling 5000 fits\n"
     ]
    },
    {
     "name": "stderr",
     "output_type": "stream",
     "text": [
      "[Parallel(n_jobs=1)]: Done 5000 out of 5000 | elapsed:   28.5s finished\n"
     ]
    },
    {
     "data": {
      "text/plain": [
       "GridSearchCV(cv=5, error_score='raise', estimator=EnsembleModel(alpha=0.5),\n",
       "       fit_params=None, iid=True, n_jobs=1,\n",
       "       param_grid={'alpha': array([0.001, 0.002, ..., 0.999, 1.   ])},\n",
       "       pre_dispatch='2*n_jobs', refit=True, return_train_score='warn',\n",
       "       scoring='neg_mean_squared_error', verbose=1)"
      ]
     },
     "execution_count": 158,
     "metadata": {},
     "output_type": "execute_result"
    }
   ],
   "source": [
    "gs = GridSearchCV(ens_model, params, cv=5, verbose=1, scoring=\"neg_mean_squared_error\")\n",
    "gs.fit(X_ens_valid, y_valid.clip(0,20))"
   ]
  },
  {
   "cell_type": "code",
   "execution_count": 159,
   "metadata": {},
   "outputs": [
    {
     "name": "stdout",
     "output_type": "stream",
     "text": [
      "EnsembleModel(alpha=0.8240000000000001)\n",
      "-0.5426809223187207\n"
     ]
    }
   ],
   "source": [
    "print(gs.best_estimator_)\n",
    "print(gs.best_score_)"
   ]
  },
  {
   "cell_type": "code",
   "execution_count": 160,
   "metadata": {},
   "outputs": [
    {
     "data": {
      "text/plain": [
       "0.7366688009673823"
      ]
     },
     "execution_count": 160,
     "metadata": {},
     "output_type": "execute_result"
    }
   ],
   "source": [
    "rmse(y_valid.clip(0,20), gs.best_estimator_.predict(X_ens_valid).clip(0,20))"
   ]
  },
  {
   "cell_type": "code",
   "execution_count": 89,
   "metadata": {
    "collapsed": true
   },
   "outputs": [],
   "source": [
    "#out.item_cnt_month = (best_alpha * y_test_xgb + (1-best_alpha)*y_test_nn).clip(0,20)"
   ]
  },
  {
   "cell_type": "code",
   "execution_count": 148,
   "metadata": {
    "collapsed": true
   },
   "outputs": [],
   "source": [
    "out.item_cnt_month = gs.best_estimator_.predict(np.vstack([y_test_xgb, y_test_nn]).T)"
   ]
  },
  {
   "cell_type": "code",
   "execution_count": 149,
   "metadata": {
    "collapsed": true
   },
   "outputs": [],
   "source": [
    "out.to_csv(\"submission_nn_xgb3.csv\",index=False)"
   ]
  },
  {
   "cell_type": "code",
   "execution_count": 150,
   "metadata": {},
   "outputs": [
    {
     "name": "stdout",
     "output_type": "stream",
     "text": [
      "Successfully submitted to Final project: predict future sales"
     ]
    }
   ],
   "source": [
    "!kaggle competitions submit -c competitive-data-science-final-project -f submission_nn_xgb3.csv -m \"nn xgb 3\""
   ]
  },
  {
   "cell_type": "markdown",
   "metadata": {},
   "source": [
    "# End result: the non-cv stack achieved a score of .96 and the cv-stack achieved a score of .97 on the leaderboard."
   ]
  },
  {
   "cell_type": "code",
   "execution_count": null,
   "metadata": {
    "collapsed": true
   },
   "outputs": [],
   "source": []
  }
 ],
 "metadata": {
  "kernelspec": {
   "display_name": "Python 3",
   "language": "python",
   "name": "python3"
  },
  "language_info": {
   "codemirror_mode": {
    "name": "ipython",
    "version": 3
   },
   "file_extension": ".py",
   "mimetype": "text/x-python",
   "name": "python",
   "nbconvert_exporter": "python",
   "pygments_lexer": "ipython3",
   "version": "3.6.2"
  }
 },
 "nbformat": 4,
 "nbformat_minor": 2
}
