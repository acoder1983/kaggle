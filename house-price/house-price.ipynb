{
 "cells": [
  {
   "cell_type": "code",
   "execution_count": null,
   "metadata": {},
   "outputs": [],
   "source": [
    "import sys\n",
    "sys.path.append('../')\n",
    "from sklearn.preprocessing import StandardScaler,MinMaxScaler,Imputer\n",
    "from util import *\n",
    "from onehot import LabelBinarizerEx\n",
    "from pipeline import FeaturePipeline, DataFramePipeline\n",
    "from binning import Binner\n",
    "from ensemble import EnsembleStackClassifierEx, StackRegressor\n",
    "from addcols import AddColumns\n",
    "from impute import GroupImputer\n",
    "from ordinal import Ordinar\n",
    "\n",
    "%matplotlib inline\n",
    "from matplotlib import pyplot"
   ]
  },
  {
   "cell_type": "markdown",
   "metadata": {},
   "source": [
    "## explore data"
   ]
  },
  {
   "cell_type": "code",
   "execution_count": null,
   "metadata": {
    "collapsed": true
   },
   "outputs": [],
   "source": [
    "import pandas as pd\n",
    "house_train=pd.read_csv('train.csv')\n",
    "target_col='SalePrice'\n",
    "id_col='Id'\n",
    "target=house_train[target_col]#/house_train['LotArea']\n",
    "houses=house_train.copy()"
   ]
  },
  {
   "cell_type": "code",
   "execution_count": null,
   "metadata": {},
   "outputs": [],
   "source": [
    "num_summary=houses.describe()\n",
    "num_summary"
   ]
  },
  {
   "cell_type": "code",
   "execution_count": null,
   "metadata": {},
   "outputs": [],
   "source": [
    "cat_summary=houses.describe(include=['O'])\n",
    "cat_summary"
   ]
  },
  {
   "cell_type": "markdown",
   "metadata": {},
   "source": [
    "add unit price"
   ]
  },
  {
   "cell_type": "code",
   "execution_count": null,
   "metadata": {
    "collapsed": true
   },
   "outputs": [],
   "source": [
    "houses['UnitPrice']=houses[target_col]/houses['LotArea']"
   ]
  },
  {
   "cell_type": "markdown",
   "metadata": {},
   "source": [
    "explore features"
   ]
  },
  {
   "cell_type": "code",
   "execution_count": null,
   "metadata": {},
   "outputs": [],
   "source": [
    "corrs=houses.corr()\n",
    "corrs[['SalePrice','UnitPrice']].sort_values(['UnitPrice'],ascending=False)"
   ]
  },
  {
   "cell_type": "code",
   "execution_count": null,
   "metadata": {},
   "outputs": [],
   "source": [
    "df=houses.groupby('LotShape').count()[[id_col]].sort_values(id_col)\n",
    "df.plot(kind='bar')"
   ]
  },
  {
   "cell_type": "code",
   "execution_count": null,
   "metadata": {},
   "outputs": [],
   "source": [
    "df=houses.groupby('MSSubClass').mean()[['UnitPrice']].sort_values('UnitPrice')\n",
    "df.plot(kind='bar')"
   ]
  },
  {
   "cell_type": "markdown",
   "metadata": {},
   "source": [
    "LotShape is ordinal\n",
    "\n",
    "'Reg' is max"
   ]
  },
  {
   "cell_type": "code",
   "execution_count": null,
   "metadata": {
    "collapsed": true
   },
   "outputs": [],
   "source": [
    "# corrs['UnitPrice']['LotFrontage']"
   ]
  },
  {
   "cell_type": "markdown",
   "metadata": {},
   "source": [
    "LotFrontage is slight neg corr with up\n",
    "\n",
    "it should be discretized"
   ]
  },
  {
   "cell_type": "code",
   "execution_count": null,
   "metadata": {
    "collapsed": true
   },
   "outputs": [],
   "source": [
    "# corrs['UnitPrice']['LotArea']"
   ]
  },
  {
   "cell_type": "markdown",
   "metadata": {},
   "source": [
    "same with LotFrontage"
   ]
  },
  {
   "cell_type": "code",
   "execution_count": null,
   "metadata": {
    "collapsed": true,
    "scrolled": true
   },
   "outputs": [],
   "source": [
    "# df=house_train.groupby('Utilities').mean()[['UnitPrice']]\n",
    "# df.sort_values('UnitPrice').plot(kind='bar')"
   ]
  },
  {
   "cell_type": "markdown",
   "metadata": {},
   "source": [
    "make Utilities ordinal"
   ]
  },
  {
   "cell_type": "code",
   "execution_count": null,
   "metadata": {
    "collapsed": true
   },
   "outputs": [],
   "source": [
    "# df=house_train.groupby('LandSlope').mean()[['UnitPrice']]\n",
    "# df.sort_values('UnitPrice').plot(kind='bar')"
   ]
  },
  {
   "cell_type": "markdown",
   "metadata": {},
   "source": [
    "make LandSlope ordinal\n",
    "\n",
    "merge condition1&2 into 1 col"
   ]
  },
  {
   "cell_type": "code",
   "execution_count": null,
   "metadata": {
    "collapsed": true
   },
   "outputs": [],
   "source": [
    "# df=house_train.groupby('HouseStyle').mean()[['UnitPrice']].sort_values('UnitPrice')\n",
    "# df.plot(kind='bar')"
   ]
  },
  {
   "cell_type": "markdown",
   "metadata": {},
   "source": [
    "make HouseStyle ordinal , SLvl is max"
   ]
  },
  {
   "cell_type": "code",
   "execution_count": null,
   "metadata": {
    "collapsed": true
   },
   "outputs": [],
   "source": [
    "# corrs['UnitPrice']['YearRemodAdd']"
   ]
  },
  {
   "cell_type": "markdown",
   "metadata": {},
   "source": [
    "discretize YearBuilt, band is 9"
   ]
  },
  {
   "cell_type": "code",
   "execution_count": null,
   "metadata": {
    "collapsed": true
   },
   "outputs": [],
   "source": [
    "# house_train['YearTotal']=house_train['YearRemodAdd']+house_train['YearBuilt']\n",
    "# house_train['YearTotalBand']=pd.qcut(house_train['YearTotal'],6,labels=False,duplicates='drop')\n",
    "# corrs=house_train.corr()\n",
    "# corrs['UnitPrice'][['YearBuilt','YearBand','YearTotal','YearRemodAdd','YearTotalBand']]"
   ]
  },
  {
   "cell_type": "markdown",
   "metadata": {},
   "source": [
    "add YearBuilt & YearRemodAdd to make YearTotal, discretize it"
   ]
  },
  {
   "cell_type": "markdown",
   "metadata": {},
   "source": [
    "make ExterQual,BsmtQual,BsmtCond,BsmtExposure,BsmtFinType1,BsmtFinType2,HeatingQC,KitchenQual,FireplaceQu,GarageFinish, GarageQual, GarageCond, PoolQC, Fence, ordinal"
   ]
  },
  {
   "cell_type": "code",
   "execution_count": null,
   "metadata": {
    "collapsed": true
   },
   "outputs": [],
   "source": [
    "# df=house_train.groupby('RoofStyle').mean()[['UnitPrice']].sort_values('UnitPrice')\n",
    "# df.plot(kind='bar')"
   ]
  },
  {
   "cell_type": "code",
   "execution_count": null,
   "metadata": {},
   "outputs": [],
   "source": [
    "import pandas as pd\n",
    "import numpy as np\n",
    "import math\n",
    "from sys import float_info\n",
    "\n",
    "from sklearn.base import BaseEstimator, TransformerMixin\n",
    "from sklearn.metrics import mean_absolute_error,mean_squared_error\n",
    "\n",
    "class Binner(BaseEstimator,TransformerMixin):\n",
    "    '''\n",
    "    binner for continuous feature\n",
    "    '''\n",
    "    def __init__(self,strategy=None):\n",
    "        self.strategy=strategy\n",
    "        \n",
    "    def fit(self, X, y=None):\n",
    "        if self.strategy is None and y is not None:\n",
    "            min_err=float_info.max\n",
    "            best_q=0\n",
    "            for q in range(2,10):\n",
    "                s=pd.qcut(X,q,labels=False,duplicates='drop')\n",
    "                err=mean_absolute_error(s,y)\n",
    "                print(err)\n",
    "                if err < min_err:\n",
    "                    best_q=q\n",
    "                    min_err=err\n",
    "            print('best q: %d'% q)\n",
    "        return self\n",
    "    \n",
    "b=Binner()\n",
    "b.fit(houses['YearBuilt'],houses[target_col])"
   ]
  },
  {
   "cell_type": "code",
   "execution_count": null,
   "metadata": {},
   "outputs": [],
   "source": [
    "houses.describe()[['MasVnrArea']]"
   ]
  },
  {
   "cell_type": "code",
   "execution_count": null,
   "metadata": {},
   "outputs": [],
   "source": [
    "houses['MasVnrArea'].hist(bins=100)"
   ]
  },
  {
   "cell_type": "code",
   "execution_count": null,
   "metadata": {},
   "outputs": [],
   "source": [
    "houses['LotArea_sqrt']=np.sqrt(houses['LotArea'])\n",
    "houses['LotArea_sqrt'].hist(bins=100)"
   ]
  },
  {
   "cell_type": "markdown",
   "metadata": {},
   "source": [
    "## feature enginering"
   ]
  },
  {
   "cell_type": "code",
   "execution_count": null,
   "metadata": {
    "collapsed": true
   },
   "outputs": [],
   "source": [
    "drop_cols=[id_col,target_col]"
   ]
  },
  {
   "cell_type": "code",
   "execution_count": null,
   "metadata": {},
   "outputs": [],
   "source": [
    "num_cols=list(num_summary.columns)\n",
    "num_cols=list(filter(lambda c: c not in drop_cols, num_cols))\n",
    "# num_cols.remove('MSSubClass')"
   ]
  },
  {
   "cell_type": "code",
   "execution_count": null,
   "metadata": {},
   "outputs": [],
   "source": [
    "num_cont_cols=list(filter(lambda c: len(house_train[c].unique())>20 , num_cols))\n",
    "num_disc_cols=set(num_cols)-set(num_cont_cols)\n",
    "print(len(num_disc_cols),len(num_cont_cols))"
   ]
  },
  {
   "cell_type": "code",
   "execution_count": null,
   "metadata": {
    "collapsed": true
   },
   "outputs": [],
   "source": [
    "cat_cols=list(cat_summary.columns)\n",
    "# cat_cols.append('MSSubClass')"
   ]
  },
  {
   "cell_type": "code",
   "execution_count": null,
   "metadata": {
    "collapsed": true
   },
   "outputs": [],
   "source": [
    "cat_ordinals={\n",
    "    'LotShape':['IR3','IR2','IR1','Reg'],\n",
    "    'Utilities':['ELO','NoSeWa','NoSewr','AllPub'],\n",
    "    'LandSlope':['Sev','Mod','Gtl',],\n",
    "    'HouseStyle':['1Story','1.5Fin','1.5Unf','2Story','2.5Fin','2.5Unf','SFoyer','SLvl'],\n",
    "    'ExterQual':['po','fa','ta','gd','ex'],\n",
    "    'BsmtQual':['po','fa','ta','gd','ex'],\n",
    "    'BsmtCond':['po','fa','ta','gd','ex'],\n",
    "    'BsmtExposure':['no','mn','av','gd'],\n",
    "    'BsmtFinType1':['unf','lwq','rec','blq','alq','glq'],\n",
    "    'BsmtFinType2':['unf','lwq','rec','blq','alq','glq'],\n",
    "    'HeatingQC':['po','fa','ta','gd','ex'],\n",
    "    'KitchenQual':['po','fa','ta','gd','ex'],\n",
    "    'Functional':['sal','sev','maj2','maj1','mod','min2','min1','typ'],\n",
    "    'FireplaceQu':['po','fa','ta','gd','ex'],\n",
    "    'GarageFinish':['unf','rfn','fin'], \n",
    "    'GarageQual':['po','fa','ta','gd','ex'],\n",
    "    'GarageCond':['po','fa','ta','gd','ex'], \n",
    "    'PoolQC':['fa','ta','gd','ex'], \n",
    "    'Fence':['mnww','gdwo','mnprv','gdprv']\n",
    "}\n",
    "cat_ord_cols=cat_ordinals.keys()"
   ]
  },
  {
   "cell_type": "code",
   "execution_count": null,
   "metadata": {},
   "outputs": [],
   "source": [
    "cat_nom_cols=set(cat_cols)-cat_ord_cols\n",
    "print(len(cat_ord_cols),len(cat_nom_cols))"
   ]
  },
  {
   "cell_type": "code",
   "execution_count": null,
   "metadata": {},
   "outputs": [],
   "source": [
    "num_pipelines=[FeaturePipeline(c,c,Pipeline([('impute',Imputer(strategy='median'))])) \n",
    "               for c in num_cols]\n",
    "cat_nom_pipelines=[FeaturePipeline(c,'',Pipeline([('onehot',LabelBinarizerEx([c]))])) for c in cat_nom_cols]\n",
    "cat_ord_pipelines=[FeaturePipeline(c,c,Pipeline([('ordinal',Ordinar(cat_ordinals[c]))])) \n",
    "                       for c in cat_ord_cols]\n",
    "full_pipeline=DataFramePipeline(num_pipelines+cat_nom_pipelines+cat_ord_pipelines)\n",
    "prepared_house_train=full_pipeline.fit_transform(house_train)\n",
    "prepared_house_train.drop(drop_cols+list(cat_nom_cols),axis=1,inplace=True)\n",
    "prepared_house_train.head()"
   ]
  },
  {
   "cell_type": "markdown",
   "metadata": {},
   "source": [
    "## train"
   ]
  },
  {
   "cell_type": "code",
   "execution_count": null,
   "metadata": {},
   "outputs": [],
   "source": [
    "from sklearn.linear_model import SGDClassifier,LinearRegression,ElasticNet\n",
    "from sklearn.svm import SVC\n",
    "from sklearn.ensemble import RandomForestRegressor,ExtraTreesRegressor,AdaBoostRegressor,GradientBoostingRegressor\n",
    "from xgboost import XGBRegressor\n",
    "\n",
    "base_regs=[\n",
    "    ElasticNet(random_state=0),\n",
    "#     LinearRegression(n_jobs=-1),\n",
    "#     SVC(probability=True),\n",
    "    RandomForestRegressor(n_jobs=-1,random_state=0),\n",
    "    ExtraTreesRegressor(n_jobs=-1,random_state=0),\n",
    "    GradientBoostingRegressor(random_state=0),\n",
    "    XGBRegressor(seed=0),\n",
    "]"
   ]
  },
  {
   "cell_type": "code",
   "execution_count": null,
   "metadata": {
    "collapsed": true
   },
   "outputs": [],
   "source": [
    "from sklearn.model_selection import cross_val_score\n",
    "from math import sqrt,log10\n",
    "\n",
    "%matplotlib inline\n",
    "import matplotlib.pyplot as plt\n",
    "from pylab import *\n",
    "\n",
    "def trainModels(train_data, target):\n",
    "    scores=[log10(sqrt(-cross_val_score(reg,train_data,target,scoring='neg_mean_squared_error',cv=5,n_jobs=-1,verbose=1).mean())) \n",
    "            for reg in base_regs]\n",
    "\n",
    "    labels=[c.__class__.__name__[:3] for c in base_regs]\n",
    "    X=np.arange(len(base_regs))\n",
    "    bar(X,scores,tick_label=labels,color='rgb')\n",
    "#     ylim(0.5,1.0)\n",
    "    show()\n",
    "    print(sorted(zip(labels,scores),key=lambda x:x[1],reverse=True))"
   ]
  },
  {
   "cell_type": "code",
   "execution_count": null,
   "metadata": {},
   "outputs": [],
   "source": [
    "trainModels(prepared_house_train,target)"
   ]
  },
  {
   "cell_type": "code",
   "execution_count": null,
   "metadata": {},
   "outputs": [],
   "source": [
    "best_reg=GradientBoostingRegressor()\n",
    "best_reg.fit(prepared_house_train,target)\n"
   ]
  },
  {
   "cell_type": "markdown",
   "metadata": {},
   "source": [
    "## stacking"
   ]
  },
  {
   "cell_type": "code",
   "execution_count": null,
   "metadata": {},
   "outputs": [],
   "source": [
    "from sklearn.linear_model import ElasticNet\n",
    "stack=StackRegressor(base_regs,LinearRegression(),0.99)\n",
    "log10(sqrt(-cross_val_score(stack,prepared_house_train,target,scoring='neg_mean_squared_error',cv=5,n_jobs=-1,verbose=1).mean()))"
   ]
  },
  {
   "cell_type": "code",
   "execution_count": null,
   "metadata": {},
   "outputs": [],
   "source": [
    "best_reg=stack\n",
    "best_reg.fit(prepared_house_train,target)"
   ]
  },
  {
   "cell_type": "markdown",
   "metadata": {},
   "source": [
    "## tuning"
   ]
  },
  {
   "cell_type": "code",
   "execution_count": null,
   "metadata": {
    "collapsed": true
   },
   "outputs": [],
   "source": [
    "from sklearn.model_selection import GridSearchCV\n",
    "\n",
    "param_grid_set=[\n",
    "#                 {'C':[0.01,0.1,0.5,1.]},\n",
    "#                 {'C':[1.,10.,],'kernel':['rbf','poly'],'gamma':[0.01,0.1,1.],'coef0':[1.,10.,]},\n",
    "#                 {'n_estimators':[50,100,200,300],'max_depth':[5,10,15]},\n",
    "                {'learning_rate':[0.01,0.1,1.0],'n_estimators':[100,300,500,1000],'max_depth':[3,5,8]},\n",
    "#                 {'learning_rate':[0.01,0.1,1.0],'n_estimators':[100,200,300]},\n",
    "#                 {'n_estimators':[50,100,200,300],'max_depth':[5,10,15]},\n",
    "#                 {'learning_rate':[0.01,0.1,1.0],'n_estimators':[100,200,300],'max_depth':[5,10,15],'gamma':[0.01,0.1,0.5]},\n",
    "               ]\n",
    "\n",
    "def tuneModels(train_data,target):\n",
    "    results=[]\n",
    "    for i in range(len(base_regs)):\n",
    "        gs=GridSearchCV(estimator=base_regs[i],param_grid=param_grid_set[i],scoring='neg_mean_squared_error',n_jobs=-1,verbose=1,cv=5)\n",
    "        gs.fit(train_data,target)\n",
    "        results.append((gs.best_estimator_,gs.best_score_))\n",
    "    print(sorted(results,key=lambda x:x[1],reverse=True))\n",
    "    return results"
   ]
  },
  {
   "cell_type": "code",
   "execution_count": null,
   "metadata": {},
   "outputs": [],
   "source": [
    "# results=tuneModels(prepared_house_train,target)\n",
    "# best_reg=results[0][0]"
   ]
  },
  {
   "cell_type": "markdown",
   "metadata": {},
   "source": [
    "## test"
   ]
  },
  {
   "cell_type": "code",
   "execution_count": null,
   "metadata": {
    "collapsed": true
   },
   "outputs": [],
   "source": [
    "house_test=pd.read_csv('test.csv')\n",
    "test_drop_cols=list(filter(lambda c: c != target_col, drop_cols))"
   ]
  },
  {
   "cell_type": "code",
   "execution_count": null,
   "metadata": {},
   "outputs": [],
   "source": [
    "test_id=house_test[id_col]\n",
    "prepared_house_test=full_pipeline.transform(house_test)\n",
    "prepared_house_test.drop(test_drop_cols+list(cat_nom_cols),axis=1,inplace=True)\n"
   ]
  },
  {
   "cell_type": "code",
   "execution_count": null,
   "metadata": {},
   "outputs": [],
   "source": [
    "prices=best_reg.predict(prepared_house_test)\n",
    "df=pd.DataFrame({id_col:test_id,target_col:prices.astype(int)})\n",
    "df.to_csv('result.csv',index=False)"
   ]
  }
 ],
 "metadata": {
  "kernelspec": {
   "display_name": "Python 3",
   "language": "python",
   "name": "python3"
  },
  "language_info": {
   "codemirror_mode": {
    "name": "ipython",
    "version": 3
   },
   "file_extension": ".py",
   "mimetype": "text/x-python",
   "name": "python",
   "nbconvert_exporter": "python",
   "pygments_lexer": "ipython3",
   "version": "3.5.3"
  }
 },
 "nbformat": 4,
 "nbformat_minor": 2
}
