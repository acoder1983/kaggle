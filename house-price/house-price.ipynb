{
 "cells": [
  {
   "cell_type": "code",
   "execution_count": null,
   "metadata": {},
   "outputs": [],
   "source": [
    "import sys\n",
    "sys.path.append('../')\n",
    "from sklearn.preprocessing import StandardScaler,MinMaxScaler,Imputer\n",
    "from util import *\n",
    "from onehot import LabelBinarizerEx\n",
    "from pipeline import FeaturePipeline, DataFramePipeline\n",
    "from binning import Binner\n",
    "from ensemble import EnsembleStackClassifierEx\n",
    "from addcols import AddColumns\n",
    "from impute import GroupImputer\n",
    "\n",
    "%matplotlib inline\n",
    "from matplotlib import pyplot"
   ]
  },
  {
   "cell_type": "markdown",
   "metadata": {},
   "source": [
    "## explore data"
   ]
  },
  {
   "cell_type": "code",
   "execution_count": null,
   "metadata": {
    "collapsed": true
   },
   "outputs": [],
   "source": [
    "import pandas as pd\n",
    "house_train=pd.read_csv('train.csv')\n",
    "target_col='SalePrice'\n",
    "id_col='Id'\n",
    "target=house_train[target_col]"
   ]
  },
  {
   "cell_type": "code",
   "execution_count": null,
   "metadata": {},
   "outputs": [],
   "source": [
    "num_summary=house_train.describe()\n",
    "num_summary"
   ]
  },
  {
   "cell_type": "code",
   "execution_count": null,
   "metadata": {},
   "outputs": [],
   "source": [
    "cat_summary=house_train.describe(include=['O'])\n",
    "cat_summary"
   ]
  },
  {
   "cell_type": "markdown",
   "metadata": {},
   "source": [
    "add unit price"
   ]
  },
  {
   "cell_type": "code",
   "execution_count": null,
   "metadata": {
    "collapsed": true
   },
   "outputs": [],
   "source": [
    "house_train['UnitPrice']=house_train[target_col]/house_train['LotArea']"
   ]
  },
  {
   "cell_type": "markdown",
   "metadata": {},
   "source": [
    "explore features"
   ]
  },
  {
   "cell_type": "code",
   "execution_count": null,
   "metadata": {},
   "outputs": [],
   "source": [
    "corrs=house_train.corr()[['UnitPrice']]\n",
    "corrs.sort_values('UnitPrice',ascending=False)"
   ]
  },
  {
   "cell_type": "code",
   "execution_count": null,
   "metadata": {},
   "outputs": [],
   "source": [
    "df=house_train.groupby('LotShape').mean()[['UnitPrice']]\n",
    "df.plot(kind='bar')"
   ]
  },
  {
   "cell_type": "markdown",
   "metadata": {},
   "source": [
    "LotShape is ordinal\n",
    "\n",
    "'Reg' is max"
   ]
  },
  {
   "cell_type": "code",
   "execution_count": null,
   "metadata": {},
   "outputs": [],
   "source": [
    "corrs['UnitPrice']['LotFrontage']"
   ]
  },
  {
   "cell_type": "markdown",
   "metadata": {},
   "source": [
    "LotFrontage is slight neg corr with up\n",
    "\n",
    "it should be discretized"
   ]
  },
  {
   "cell_type": "code",
   "execution_count": null,
   "metadata": {},
   "outputs": [],
   "source": [
    "corrs['UnitPrice']['LotArea']"
   ]
  },
  {
   "cell_type": "markdown",
   "metadata": {},
   "source": [
    "same with LotFrontage"
   ]
  },
  {
   "cell_type": "code",
   "execution_count": null,
   "metadata": {
    "scrolled": true
   },
   "outputs": [],
   "source": [
    "df=house_train.groupby('Utilities').mean()[['UnitPrice']]\n",
    "df.sort_values('UnitPrice').plot(kind='bar')"
   ]
  },
  {
   "cell_type": "markdown",
   "metadata": {},
   "source": [
    "make Utilities ordinal"
   ]
  },
  {
   "cell_type": "code",
   "execution_count": null,
   "metadata": {},
   "outputs": [],
   "source": [
    "df=house_train.groupby('LandSlope').mean()[['UnitPrice']]\n",
    "df.sort_values('UnitPrice').plot(kind='bar')"
   ]
  },
  {
   "cell_type": "markdown",
   "metadata": {},
   "source": [
    "make LandSlope ordinal\n",
    "\n",
    "merge condition1&2 into 1 col"
   ]
  },
  {
   "cell_type": "code",
   "execution_count": null,
   "metadata": {},
   "outputs": [],
   "source": [
    "df=house_train.groupby('HouseStyle').mean()[['UnitPrice']].sort_values('UnitPrice')\n",
    "df.plot(kind='bar')"
   ]
  },
  {
   "cell_type": "markdown",
   "metadata": {},
   "source": [
    "make HouseStyle ordinal , SLvl is max"
   ]
  },
  {
   "cell_type": "code",
   "execution_count": null,
   "metadata": {},
   "outputs": [],
   "source": [
    "corrs['UnitPrice']['YearRemodAdd']"
   ]
  },
  {
   "cell_type": "code",
   "execution_count": null,
   "metadata": {},
   "outputs": [],
   "source": [
    "crr_max=\n",
    "for i in range(2,10):\n",
    "    house_train['YearBand'+i]=pd.qcut(house_train['YearBuilt'],4,labels=False,duplicates='drop')\n",
    "# bins\n",
    "# help(pd.qcut)\n",
    "corrs=house_train.corr()\n",
    "corrs['UnitPrice'][['YearBuilt','YearBand']]"
   ]
  },
  {
   "cell_type": "markdown",
   "metadata": {},
   "source": [
    "discretize YearBuilt, band is 9"
   ]
  },
  {
   "cell_type": "code",
   "execution_count": null,
   "metadata": {},
   "outputs": [],
   "source": [
    "house_train['YearTotal']=house_train['YearRemodAdd']+house_train['YearBuilt']\n",
    "house_train['YearTotalBand']=pd.qcut(house_train['YearTotal'],6,labels=False,duplicates='drop')\n",
    "corrs=house_train.corr()\n",
    "corrs['UnitPrice'][['YearBuilt','YearBand','YearTotal','YearRemodAdd','YearTotalBand']]"
   ]
  },
  {
   "cell_type": "markdown",
   "metadata": {},
   "source": [
    "add YearBuilt & YearRemodAdd to make YearTotal, discretize it"
   ]
  },
  {
   "cell_type": "markdown",
   "metadata": {},
   "source": [
    "make ExterQual,BsmtQual,BsmtCond,BsmtExposure,BsmtFinType1,BsmtFinType2,HeatingQC,KitchenQual,FireplaceQu,GarageFinish, GarageQual, GarageCond, PoolQC, Fence, ordinal"
   ]
  },
  {
   "cell_type": "code",
   "execution_count": null,
   "metadata": {},
   "outputs": [],
   "source": [
    "df=house_train.groupby('RoofStyle').mean()[['UnitPrice']].sort_values('UnitPrice')\n",
    "df.plot(kind='bar')"
   ]
  },
  {
   "cell_type": "code",
   "execution_count": null,
   "metadata": {
    "collapsed": true
   },
   "outputs": [],
   "source": []
  },
  {
   "cell_type": "markdown",
   "metadata": {},
   "source": [
    "## feature enginering"
   ]
  },
  {
   "cell_type": "code",
   "execution_count": null,
   "metadata": {
    "collapsed": true
   },
   "outputs": [],
   "source": [
    "drop_cols=[id_col,target_col]"
   ]
  },
  {
   "cell_type": "code",
   "execution_count": null,
   "metadata": {},
   "outputs": [],
   "source": [
    "num_cols=list(num_summary.columns)\n",
    "num_cols=list(filter(lambda c: c not in drop_cols, num_cols))"
   ]
  },
  {
   "cell_type": "code",
   "execution_count": null,
   "metadata": {},
   "outputs": [],
   "source": [
    "num_band_cols=list(filter(lambda c: len(house_train[c].unique())>20 , num_cols))\n",
    "num_normal_cols=set(num_cols)-set(num_band_cols)"
   ]
  },
  {
   "cell_type": "code",
   "execution_count": null,
   "metadata": {
    "collapsed": true
   },
   "outputs": [],
   "source": [
    "cat_cols=cat_summary.columns"
   ]
  },
  {
   "cell_type": "code",
   "execution_count": null,
   "metadata": {
    "collapsed": true
   },
   "outputs": [],
   "source": [
    "cat_ordinal_cols={\n",
    "    'LotShape':['IR3','IR2','IR1','Reg'],\n",
    "    'Utilities':['ELO','NoSeWa','NoSewr','AllPub'],\n",
    "    'LandSlope':['Sev','Mod','Gtl',],\n",
    "    'HouseStyle':['1Story','1.5Fin','1.5Unf','2.5Fin','2.5Unf','SFoyer','SLvl'],\n",
    "    'ExterQual':['po','fa','ta','gd','ex'],\n",
    "    'BsmtQual':['na','po','fa','ta','gd','ex'],\n",
    "    'BsmtCond':['na','po','fa','ta','gd','ex'],\n",
    "    'BsmtExposure':['na','no','mn','av','gd'],\n",
    "    'BsmtFinType1':['na','unf','lwq','rec','blq','alq','glq'],\n",
    "    'BsmtFinType2':['na','unf','lwq','rec','blq','alq','glq'],\n",
    "    'HeatingQC':['po','fa','ta','gd','ex'],\n",
    "    'KitchenQual':['po','fa','ta','gd','ex'],\n",
    "    'Functional':['sal','sev','maj2','maj1','mod','min2','min1','typ'],\n",
    "    'FireplaceQu':['na','po','fa','ta','gd','ex'],\n",
    "    'GarageFinish':['na','unf','rfn','fin'], \n",
    "    'GarageQual':['na','po','fa','ta','gd','ex'],\n",
    "    'GarageCond':['na','po','fa','ta','gd','ex'], \n",
    "    'PoolQC':['na','fa','ta','gd','ex'], \n",
    "    'Fence':['na','mnww','gdwo','mnprv','gdprv']\n",
    "}"
   ]
  },
  {
   "cell_type": "code",
   "execution_count": null,
   "metadata": {},
   "outputs": [],
   "source": [
    "cat_type_cols=set(cat_cols)-cat_ordinal_cols.keys()"
   ]
  },
  {
   "cell_type": "code",
   "execution_count": null,
   "metadata": {
    "collapsed": true
   },
   "outputs": [],
   "source": [
    "cat_pipelines=[FeaturePipeline(c,'',Pipeline([('onehot',LabelBinarizerEx([c]))])) for c in cat_summary.columns]\n",
    "num_pipelines=[FeaturePipeline(c,c,Pipeline([('impute',Imputer(strategy='median')),('scale',StandardScaler())])) for c in num_summary.columns]\n",
    "full_pipeline=DataFramePipeline(cat_pipelines+num_pipelines)\n",
    "prepared_house_train=full_pipeline.fit_transform(house_train)\n",
    "prepared_house_train.head()\n",
    "prepared_house_train.drop(cat_summary.columns,axis=1,inplace=True)"
   ]
  },
  {
   "cell_type": "markdown",
   "metadata": {},
   "source": [
    "## train"
   ]
  },
  {
   "cell_type": "code",
   "execution_count": null,
   "metadata": {
    "collapsed": true
   },
   "outputs": [],
   "source": [
    "from sklearn.linear_model import SGDClassifier,LinearRegression\n",
    "from sklearn.svm import SVC\n",
    "from sklearn.ensemble import RandomForestRegressor,ExtraTreesRegressor,AdaBoostRegressor,GradientBoostingRegressor\n",
    "from xgboost import XGBRegressor\n",
    "\n",
    "base_regs=[\n",
    "#     LinearRegression(n_jobs=-1),\n",
    "#     SVC(probability=True),\n",
    "    RandomForestRegressor(n_jobs=-1),\n",
    "#     ExtraTreesRegressor(n_jobs=-1),\n",
    "    GradientBoostingRegressor(),\n",
    "    XGBRegressor(),\n",
    "]"
   ]
  },
  {
   "cell_type": "code",
   "execution_count": null,
   "metadata": {
    "collapsed": true
   },
   "outputs": [],
   "source": [
    "from sklearn.model_selection import cross_val_score\n",
    "from math import sqrt,log10\n",
    "\n",
    "%matplotlib inline\n",
    "import matplotlib.pyplot as plt\n",
    "from pylab import *\n",
    "\n",
    "def trainModels(train_data, target):\n",
    "    scores=[log10(sqrt(-cross_val_score(reg,train_data,target,scoring='neg_mean_squared_error',cv=5,n_jobs=-1,verbose=1).mean())) \n",
    "            for reg in base_regs]\n",
    "\n",
    "    labels=[c.__class__.__name__[:3] for c in base_regs]\n",
    "    X=np.arange(len(base_regs))\n",
    "    bar(X,scores,tick_label=labels,color='rgb')\n",
    "#     ylim(0.5,1.0)\n",
    "    show()\n",
    "    print(sorted(zip(labels,scores),key=lambda x:x[1],reverse=True))"
   ]
  },
  {
   "cell_type": "code",
   "execution_count": null,
   "metadata": {
    "collapsed": true
   },
   "outputs": [],
   "source": [
    "trainModels(prepared_house_train,target)"
   ]
  },
  {
   "cell_type": "code",
   "execution_count": null,
   "metadata": {
    "collapsed": true
   },
   "outputs": [],
   "source": [
    "best_reg=GradientBoostingRegressor()\n",
    "best_reg.fit(prepared_house_train,target)\n"
   ]
  },
  {
   "cell_type": "markdown",
   "metadata": {},
   "source": [
    "## tuning"
   ]
  },
  {
   "cell_type": "code",
   "execution_count": null,
   "metadata": {
    "collapsed": true
   },
   "outputs": [],
   "source": [
    "from sklearn.model_selection import GridSearchCV\n",
    "\n",
    "param_grid_set=[\n",
    "#                 {'C':[0.01,0.1,0.5,1.]},\n",
    "#                 {'C':[1.,10.,],'kernel':['rbf','poly'],'gamma':[0.01,0.1,1.],'coef0':[1.,10.,]},\n",
    "                {'n_estimators':[50,100,200,300],'max_depth':[5,10,15]},\n",
    "                {'learning_rate':[0.01,0.1,1.0],'n_estimators':[100,200,300],'max_depth':[3,5,8]},\n",
    "#                 {'learning_rate':[0.01,0.1,1.0],'n_estimators':[100,200,300]},\n",
    "#                 {'n_estimators':[50,100,200,300],'max_depth':[5,10,15]},\n",
    "                {'learning_rate':[0.01,0.1,1.0],'n_estimators':[100,200,300],'max_depth':[5,10,15],'gamma':[0.01,0.1,0.5]},\n",
    "               ]\n",
    "\n",
    "def tuneModels(train_data,target):\n",
    "    results=[]\n",
    "    for i in range(len(base_regs)):\n",
    "        gs=GridSearchCV(estimator=base_regs[i],param_grid=param_grid_set[i],scoring='neg_mean_squared_error',n_jobs=-1,verbose=1,cv=5)\n",
    "        gs.fit(train_data,target)\n",
    "        results.append((gs.best_estimator_,gs.best_score_))\n",
    "    print(sorted(results,key=lambda x:x[1],reverse=True))\n",
    "    return results"
   ]
  },
  {
   "cell_type": "code",
   "execution_count": null,
   "metadata": {
    "collapsed": true
   },
   "outputs": [],
   "source": [
    "results=tuneModels(prepared_house_train,target)"
   ]
  },
  {
   "cell_type": "markdown",
   "metadata": {},
   "source": [
    "## test"
   ]
  },
  {
   "cell_type": "code",
   "execution_count": null,
   "metadata": {},
   "outputs": [],
   "source": [
    "house_test=pd.read_csv('test.csv')\n",
    "house_test.describe()[['YrSold',id_col]]"
   ]
  },
  {
   "cell_type": "code",
   "execution_count": null,
   "metadata": {
    "collapsed": true
   },
   "outputs": [],
   "source": [
    "test_id=house_test[id_col]\n",
    "prepared_house_test=full_pipeline.transform(house_test)\n",
    "prepared_house_test.drop([id_col]+list(cat_summary.columns),axis=1,inplace=True)\n",
    "prices=best_reg.predict(prepared_house_test)\n",
    "df=pd.DataFrame({'Id':test_id,'SalePrice':prices})\n",
    "df.to_csv('result.csv',index=False)"
   ]
  }
 ],
 "metadata": {
  "kernelspec": {
   "display_name": "Python 3",
   "language": "python",
   "name": "python3"
  },
  "language_info": {
   "codemirror_mode": {
    "name": "ipython",
    "version": 3
   },
   "file_extension": ".py",
   "mimetype": "text/x-python",
   "name": "python",
   "nbconvert_exporter": "python",
   "pygments_lexer": "ipython3",
   "version": "3.5.3"
  }
 },
 "nbformat": 4,
 "nbformat_minor": 2
}
