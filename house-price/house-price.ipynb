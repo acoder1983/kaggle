{
 "cells": [
  {
   "cell_type": "code",
   "execution_count": 1,
   "metadata": {},
   "outputs": [],
   "source": [
    "import pandas as pd\n",
    "house=pd.read_csv('train.csv')\n",
    "target_col='SalePrice'\n",
    "id_col='Id'\n",
    "target=house[target_col]\n",
    "total_num=len(house)"
   ]
  },
  {
   "cell_type": "code",
   "execution_count": 2,
   "metadata": {},
   "outputs": [],
   "source": [
    "# drop heavy missing cols\n",
    "c=house.count()\n",
    "drop_cols=c[c*2<len(house)].index\n",
    "drop_cols=list(drop_cols)\n",
    "drop_cols+=[id_col,target_col]\n",
    "house.drop(drop_cols,axis=1,inplace=True)"
   ]
  },
  {
   "cell_type": "code",
   "execution_count": 3,
   "metadata": {},
   "outputs": [],
   "source": [
    "import sys\n",
    "sys.path.append('../')\n",
    "from util import *"
   ]
  },
  {
   "cell_type": "code",
   "execution_count": 22,
   "metadata": {},
   "outputs": [
    {
     "data": {
      "text/plain": [
       "1460"
      ]
     },
     "execution_count": 22,
     "metadata": {},
     "output_type": "execute_result"
    }
   ],
   "source": [
    "from sklearn.preprocessing import Imputer, StandardScaler, LabelBinarizer,LabelEncoder\n",
    "from sklearn.pipeline import Pipeline, FeatureUnion\n",
    "\n",
    "summary=house.describe()\n",
    "num_imputer=Imputer(strategy='median')\n",
    "# p=Pipeline([\n",
    "#     ('select',DataFrameSelecter(summary.columns)),\n",
    "#     ('fill',Imputer(strategy='median')),\n",
    "# ])\n",
    "# p.fit(house)\n",
    "num_pl=Pipeline([\n",
    "    ('select',DataFrameSelecter(summary.columns)),\n",
    "    ('fill',Imputer(strategy='median')),\n",
    "    ('scale',StandardScaler()),\n",
    "])\n",
    "num_pl.fit(house)\n",
    "\n",
    "cat_cols=list(set(house.columns)-set(summary.columns))\n",
    "pls=[Pipeline([\n",
    "    ('select',DataFrameSelecter2(c)),\n",
    "    ('drop',NanDropper()),\n",
    "    ('encode',LabelBinarizer()),\n",
    "]) for c in cat_cols ]\n",
    "\n",
    "[pls[i].fit_transform(house) for i in range(len(cat_cols))]\n",
    "\n",
    "cat_pls=[(cat_cols[i],Pipeline([\n",
    "    ('select',DataFrameSelecter3(cat_cols[i])),\n",
    "    ('encode',pls[i].named_steps['encode']),\n",
    "])) for i in range(len(cat_cols))]\n",
    "\n",
    "full_pl=FeatureUnion(transformer_list=[('num',num_pl)]+cat_pls)\n",
    "\n",
    "# full_pl=FeatureUnion(transformer_list=cat_pls)\n",
    "prepared_house=full_pl.transform(house)\n"
   ]
  },
  {
   "cell_type": "code",
   "execution_count": 24,
   "metadata": {},
   "outputs": [
    {
     "name": "stdout",
     "output_type": "stream",
     "text": [
      "570774997965484.2\n"
     ]
    }
   ],
   "source": [
    "from sklearn import linear_model\n",
    "reg=linear_model.LinearRegression()\n",
    "\n",
    "from math import sqrt\n",
    "from sklearn.model_selection import cross_val_score\n",
    "reg.fit(prepared_house,target)\n",
    "scores=cross_val_score(reg,prepared_house,target,scoring='neg_mean_squared_error',cv=10)\n",
    "print(sqrt(-scores.mean()))"
   ]
  },
  {
   "cell_type": "code",
   "execution_count": 32,
   "metadata": {},
   "outputs": [],
   "source": [
    "house_test=pd.read_csv('test.csv')\n",
    "test_id=house_test[id_col]\n",
    "drop_cols.pop()\n",
    "house_test.drop(drop_cols,axis=1,inplace=True)\n",
    "prepared_house_test=full_pl.transform(house_test)"
   ]
  },
  {
   "cell_type": "code",
   "execution_count": 33,
   "metadata": {},
   "outputs": [],
   "source": [
    "prices=reg.predict(prepared_house_test)\n",
    "df=pd.DataFrame({'Id':test_id,'SalePrice':prices})\n",
    "df.to_csv('result.csv',index=False)"
   ]
  },
  {
   "cell_type": "markdown",
   "metadata": {},
   "source": [
    "kaggle score: 0.25832, rank: 1666"
   ]
  },
  {
   "cell_type": "code",
   "execution_count": 25,
   "metadata": {},
   "outputs": [
    {
     "name": "stdout",
     "output_type": "stream",
     "text": [
      "31455.31597592617\n"
     ]
    }
   ],
   "source": [
    "#use rf reg\n",
    "from sklearn.ensemble import RandomForestRegressor\n",
    "reg=RandomForestRegressor()\n",
    "\n",
    "from math import sqrt\n",
    "from sklearn.model_selection import cross_val_score\n",
    "reg.fit(prepared_house,target)\n",
    "scores=cross_val_score(reg,prepared_house,target,scoring='neg_mean_squared_error',cv=10)\n",
    "print(sqrt(-scores.mean()))"
   ]
  },
  {
   "cell_type": "code",
   "execution_count": 29,
   "metadata": {
    "collapsed": true
   },
   "outputs": [],
   "source": [
    "prices=reg.predict(test_data)\n",
    "df=pd.DataFrame({'Id':test_id,'SalePrice':prices})\n",
    "df.to_csv('result.csv',index=False)"
   ]
  },
  {
   "cell_type": "markdown",
   "metadata": {},
   "source": [
    "kaggle score: 0.16006, rank: 1360"
   ]
  },
  {
   "cell_type": "code",
   "execution_count": 28,
   "metadata": {},
   "outputs": [
    {
     "name": "stdout",
     "output_type": "stream",
     "text": [
      "26671.074237621673\n"
     ]
    }
   ],
   "source": [
    "from sklearn.ensemble import GradientBoostingRegressor\n",
    "reg=GradientBoostingRegressor()\n",
    "\n",
    "from math import sqrt\n",
    "from sklearn.model_selection import cross_val_score\n",
    "reg.fit(prepared_house,target)\n",
    "scores=cross_val_score(reg,prepared_house,target,scoring='neg_mean_squared_error',cv=10)\n",
    "print(sqrt(-scores.mean()))"
   ]
  },
  {
   "cell_type": "code",
   "execution_count": 34,
   "metadata": {},
   "outputs": [],
   "source": [
    "prices=reg.predict(prepared_house_test)\n",
    "df=pd.DataFrame({'Id':test_id,'SalePrice':prices})\n",
    "df.to_csv('result.csv',index=False)"
   ]
  },
  {
   "cell_type": "markdown",
   "metadata": {},
   "source": [
    "kaggle score: 0.14196, rank: 1116"
   ]
  },
  {
   "cell_type": "markdown",
   "metadata": {},
   "source": [
    "encode all category cols\n",
    "\n",
    "kaggle score: 0.13303, rank: 877"
   ]
  },
  {
   "cell_type": "markdown",
   "metadata": {},
   "source": []
  },
  {
   "cell_type": "code",
   "execution_count": 7,
   "metadata": {},
   "outputs": [],
   "source": [
    "# # check cols have missing values\n",
    "# total_num=len(house)\n",
    "# missing_value_cols=list(filter(lambda c: house[c].count()<total_num, house.columns))\n",
    "# # calc missing percent\n",
    "# missing_percents=list(map(lambda c:((total_num-house[c].count())*100/total_num,c),missing_value_cols))\n",
    "# heavy_missings=list(filter(lambda x:x[0]>50, missing_percents))\n",
    "# heavy_missings.sort(reverse=True)\n",
    "# heavy_missings"
   ]
  },
  {
   "cell_type": "code",
   "execution_count": 8,
   "metadata": {},
   "outputs": [],
   "source": [
    "# drop these heavy-missing cols\n",
    "# [house.drop(x[1],axis=1,inplace=True) for x in heavy_missings]\n",
    "# drop_missing_cols=[x[1] for x in missing_percents]\n",
    "# house.drop(drop_missing_cols,axis=1,inplace=True)\n",
    "# print(len(house.columns))"
   ]
  },
  {
   "cell_type": "code",
   "execution_count": 9,
   "metadata": {},
   "outputs": [],
   "source": [
    "%matplotlib inline\n",
    "#plt=house.hist(figsize=(20,15))"
   ]
  }
 ],
 "metadata": {
  "kernelspec": {
   "display_name": "Python 3",
   "language": "python",
   "name": "python3"
  },
  "language_info": {
   "codemirror_mode": {
    "name": "ipython",
    "version": 3
   },
   "file_extension": ".py",
   "mimetype": "text/x-python",
   "name": "python",
   "nbconvert_exporter": "python",
   "pygments_lexer": "ipython3",
   "version": "3.5.3"
  }
 },
 "nbformat": 4,
 "nbformat_minor": 2
}
