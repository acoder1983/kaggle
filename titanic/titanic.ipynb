{
 "cells": [
  {
   "cell_type": "markdown",
   "metadata": {},
   "source": [
    "## load train data"
   ]
  },
  {
   "cell_type": "code",
   "execution_count": null,
   "metadata": {
    "collapsed": true
   },
   "outputs": [],
   "source": [
    "import pandas as pd\n",
    "passenger_train=pd.read_csv('train.csv')\n",
    "target_col='Survived'\n",
    "id_col='PassengerId'\n",
    "target=passenger_train[target_col]\n",
    "total_num=len(passenger_train)"
   ]
  },
  {
   "cell_type": "markdown",
   "metadata": {},
   "source": [
    "## drop too-variant cols and target cols"
   ]
  },
  {
   "cell_type": "code",
   "execution_count": null,
   "metadata": {
    "collapsed": true
   },
   "outputs": [],
   "source": [
    "c=passenger_train.count()\n",
    "drop_cols=c[c*2<len(passenger_train)].index\n",
    "drop_cols=list(drop_cols)\n",
    "drop_cols+=[id_col,target_col,'Name','Ticket']\n",
    "passenger_train.drop(drop_cols,axis=1,inplace=True)"
   ]
  },
  {
   "cell_type": "markdown",
   "metadata": {},
   "source": [
    "## explore the data"
   ]
  },
  {
   "cell_type": "code",
   "execution_count": null,
   "metadata": {
    "collapsed": true
   },
   "outputs": [],
   "source": [
    "%matplotlib inline\n",
    "from matplotlib import pyplot\n",
    "\n",
    "pyplot.hist(passenger_train['Age'].dropna())\n",
    "pyplot.show()"
   ]
  },
  {
   "cell_type": "code",
   "execution_count": null,
   "metadata": {
    "collapsed": true
   },
   "outputs": [],
   "source": [
    "%matplotlib inline\n",
    "from matplotlib import pyplot\n",
    "\n",
    "pyplot.hist(passenger_train[passenger_train['Fare']<200]['Fare'].dropna())\n",
    "pyplot.show()"
   ]
  },
  {
   "cell_type": "markdown",
   "metadata": {},
   "source": [
    "## feature engineering"
   ]
  },
  {
   "cell_type": "code",
   "execution_count": null,
   "metadata": {
    "collapsed": true
   },
   "outputs": [],
   "source": [
    "import sys\n",
    "sys.path.append('../')\n",
    "from util import *\n",
    "from label_binary import LabelBinarizerEx\n",
    "from df_pipeline import DfPipeline"
   ]
  },
  {
   "cell_type": "code",
   "execution_count": null,
   "metadata": {
    "collapsed": true
   },
   "outputs": [],
   "source": [
    "passenger_train=pd.DataFrame({'id':[1,2,np.nan],'sex':['male','female',np.nan]})\n",
    "passenger_train.describe()"
   ]
  },
  {
   "cell_type": "code",
   "execution_count": null,
   "metadata": {},
   "outputs": [],
   "source": [
    "from sklearn.preprocessing import Imputer,StandardScaler\n",
    "summary=passenger_train.describe()\n",
    "\n",
    "num_pipelines=[(c,Pipeline([\n",
    "    ('select',DataFrameSelecter([c])),\n",
    "    ('fill',Imputer(strategy='median')),\n",
    "    ('scale',StandardScaler()),\n",
    "])) for c in summary.columns]\n",
    "\n",
    "cat_cols=list(set(passenger_train.columns)-set(summary.columns))\n",
    "cat_pipelines=[(c, Pipeline([\n",
    "    ('select',DataFrameSelecter([c])),\n",
    "    ('encode',LabelBinarizerEx()),\n",
    "])) for c in cat_cols ]\n",
    "\n",
    "full_pipeline=DfPipeline(num_pipelines+cat_pipelines)\n",
    "\n",
    "prepared_passenger_train=full_pipeline.fit_transform(passenger_train)\n",
    "\n",
    "prepared_passenger_train.head()\n"
   ]
  },
  {
   "cell_type": "markdown",
   "metadata": {},
   "source": [
    "## model selection"
   ]
  },
  {
   "cell_type": "markdown",
   "metadata": {},
   "source": [
    "### run with raw models"
   ]
  },
  {
   "cell_type": "code",
   "execution_count": null,
   "metadata": {},
   "outputs": [],
   "source": [
    "from sklearn.linear_model import LogisticRegression,SGDClassifier\n",
    "from sklearn.neighbors import KNeighborsClassifier\n",
    "from sklearn.naive_bayes import GaussianNB\n",
    "from sklearn.svm import SVC\n",
    "from sklearn.neural_network import MLPClassifier\n",
    "from sklearn.ensemble import RandomForestClassifier\n",
    "from sklearn.ensemble import GradientBoostingClassifier\n",
    "from xgboost import XGBClassifier\n",
    "from sklearn.model_selection import cross_val_score\n",
    "\n",
    "clfs=[LogisticRegression(),SGDClassifier(), KNeighborsClassifier(), SVC(),GaussianNB(),MLPClassifier(),\n",
    "      RandomForestClassifier(),GradientBoostingClassifier(),XGBClassifier()]\n",
    "scores=[cross_val_score(clf,prepared_passenger_train,target,scoring='accuracy',cv=10,n_jobs=-1).mean() for clf in clfs]\n",
    "%matplotlib inline\n",
    "import matplotlib.pyplot as plt\n",
    "from pylab import *\n",
    "\n",
    "labels=[c.__class__.__name__[:3] for c in clfs]\n",
    "X=np.arange(len(clfs))\n",
    "bar(X,scores,tick_label=labels,color='rgb')\n",
    "ylim(0.5,1.0)\n",
    "show()\n",
    "sorted(zip(labels,scores),key=lambda x:x[1],reverse=True)[:3]"
   ]
  },
  {
   "cell_type": "markdown",
   "metadata": {},
   "source": [
    "## test it"
   ]
  },
  {
   "cell_type": "code",
   "execution_count": null,
   "metadata": {
    "collapsed": true
   },
   "outputs": [],
   "source": [
    "passenger_test=pd.read_csv('test.csv')\n",
    "test_id=passenger_test[id_col]\n",
    "drop_cols.remove(target_col)\n",
    "passenger_test.drop(drop_cols,axis=1,inplace=True)\n",
    "prepared_passenger_test=full_pl.transform(passenger_test)"
   ]
  }
 ],
 "metadata": {
  "kernelspec": {
   "display_name": "Python 3",
   "language": "python",
   "name": "python3"
  },
  "language_info": {
   "codemirror_mode": {
    "name": "ipython",
    "version": 3
   },
   "file_extension": ".py",
   "mimetype": "text/x-python",
   "name": "python",
   "nbconvert_exporter": "python",
   "pygments_lexer": "ipython3",
   "version": "3.5.3"
  }
 },
 "nbformat": 4,
 "nbformat_minor": 2
}
