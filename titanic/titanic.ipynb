{
 "cells": [
  {
   "cell_type": "markdown",
   "metadata": {},
   "source": [
    "## load train data"
   ]
  },
  {
   "cell_type": "code",
   "execution_count": null,
   "metadata": {
    "collapsed": true
   },
   "outputs": [],
   "source": [
    "import pandas as pd\n",
    "passenger_train=pd.read_csv('train.csv')\n",
    "target_col='Survived'\n",
    "id_col='PassengerId'\n",
    "target=passenger_train[target_col]\n",
    "total_num=len(passenger_train)"
   ]
  },
  {
   "cell_type": "markdown",
   "metadata": {},
   "source": [
    "## drop too-variant cols and target cols"
   ]
  },
  {
   "cell_type": "code",
   "execution_count": null,
   "metadata": {
    "collapsed": true
   },
   "outputs": [],
   "source": [
    "c=passenger_train.count()\n",
    "drop_cols=c[c*2<len(passenger_train)].index\n",
    "drop_cols=list(drop_cols)\n",
    "drop_cols+=[id_col,target_col,'Name','Ticket']\n",
    "passenger_train.drop(drop_cols,axis=1,inplace=True)"
   ]
  },
  {
   "cell_type": "markdown",
   "metadata": {},
   "source": [
    "## explore the data"
   ]
  },
  {
   "cell_type": "code",
   "execution_count": null,
   "metadata": {},
   "outputs": [],
   "source": [
    "%matplotlib inline\n",
    "from matplotlib import pyplot\n",
    "\n",
    "passenger_train.hist(bins=20,figsize=(20,15))\n",
    "pyplot.show()"
   ]
  },
  {
   "cell_type": "code",
   "execution_count": null,
   "metadata": {},
   "outputs": [],
   "source": [
    "import sys\n",
    "sys.path.append('../')\n",
    "from util import *\n",
    "from label_binary import LabelBinarizerEx\n",
    "from df_pipeline import DfPipeline\n",
    "from binning import Binner"
   ]
  },
  {
   "cell_type": "markdown",
   "metadata": {},
   "source": [
    "## feature engineering"
   ]
  },
  {
   "cell_type": "code",
   "execution_count": null,
   "metadata": {
    "collapsed": true
   },
   "outputs": [],
   "source": [
    "from sklearn.preprocessing import Imputer,StandardScaler\n",
    "\n",
    "def featuring(df, num_cols, cat_cols, bin_cols):\n",
    "    num_pipelines=[(c,Pipeline([\n",
    "        ('select',DataFrameSelecter([c])),\n",
    "        ('fill',Imputer(strategy='median')),\n",
    "        ('scale',StandardScaler()),\n",
    "    ])) for c in num_cols]\n",
    "\n",
    "    cat_pipelines=[(c, Pipeline([\n",
    "        ('select',DataFrameSelecter([c])),\n",
    "        ('encode',LabelBinarizerEx()),\n",
    "    ])) for c in cat_cols ]\n",
    "    \n",
    "    bin_pipelines=[(c[0], Pipeline([\n",
    "        ('select',DataFrameSelecter([c[0]])),\n",
    "        ('fill',Imputer(strategy='median')),\n",
    "        ('bin',c[1]),\n",
    "    ])) for c in bin_cols ]\n",
    "\n",
    "    full_pipeline=DfPipeline(num_pipelines+cat_pipelines+bin_pipelines)\n",
    "#     full_pipeline=DfPipeline(bin_pipelines)\n",
    "\n",
    "    prepared_df=full_pipeline.fit_transform(df)\n",
    "\n",
    "    return prepared_df"
   ]
  },
  {
   "cell_type": "markdown",
   "metadata": {},
   "source": [
    "### train with raw models"
   ]
  },
  {
   "cell_type": "code",
   "execution_count": null,
   "metadata": {},
   "outputs": [],
   "source": [
    "from sklearn.linear_model import LogisticRegression,SGDClassifier\n",
    "from sklearn.neighbors import KNeighborsClassifier\n",
    "from sklearn.naive_bayes import GaussianNB\n",
    "from sklearn.svm import SVC\n",
    "from sklearn.neural_network import MLPClassifier\n",
    "from sklearn.ensemble import RandomForestClassifier\n",
    "from sklearn.ensemble import GradientBoostingClassifier\n",
    "from xgboost import XGBClassifier\n",
    "\n",
    "from sklearn.model_selection import cross_val_score\n",
    "\n",
    "%matplotlib inline\n",
    "import matplotlib.pyplot as plt\n",
    "from pylab import *\n",
    "\n",
    "def trainRawModels(train_data, target):\n",
    "    clfs=[LogisticRegression(),SGDClassifier(), KNeighborsClassifier(), SVC(),GaussianNB(),MLPClassifier(),\n",
    "          RandomForestClassifier(),GradientBoostingClassifier(),XGBClassifier()]\n",
    "    scores=[cross_val_score(clf,prepared_passenger_train,target,scoring='accuracy',cv=10,n_jobs=-1).mean() for clf in clfs]\n",
    "\n",
    "    labels=[c.__class__.__name__[:3] for c in clfs]\n",
    "    X=np.arange(len(clfs))\n",
    "    bar(X,scores,tick_label=labels,color='rgb')\n",
    "    ylim(0.5,1.0)\n",
    "    show()\n",
    "    print(sorted(zip(labels,scores),key=lambda x:x[1],reverse=True)[:3])"
   ]
  },
  {
   "cell_type": "markdown",
   "metadata": {},
   "source": [
    "## just use num features"
   ]
  },
  {
   "cell_type": "code",
   "execution_count": null,
   "metadata": {},
   "outputs": [],
   "source": [
    "summary=passenger_train.describe()\n",
    "\n",
    "prepared_passenger_train = featuring(passenger_train,summary.columns,[])\n",
    "prepared_passenger_train.head()"
   ]
  },
  {
   "cell_type": "code",
   "execution_count": null,
   "metadata": {},
   "outputs": [],
   "source": [
    "trainRawModels(prepared_passenger_train,target)"
   ]
  },
  {
   "cell_type": "markdown",
   "metadata": {},
   "source": [
    "## binarize category features"
   ]
  },
  {
   "cell_type": "code",
   "execution_count": null,
   "metadata": {},
   "outputs": [],
   "source": [
    "summary=passenger_train.describe()\n",
    "cat_cols=list(set(passenger_train.columns)-set(summary.columns))\n",
    "prepared_passenger_train = featuring(passenger_train,summary.columns,cat_cols)\n",
    "prepared_passenger_train.head()"
   ]
  },
  {
   "cell_type": "code",
   "execution_count": null,
   "metadata": {},
   "outputs": [],
   "source": [
    "trainRawModels(prepared_passenger_train,target)"
   ]
  },
  {
   "cell_type": "markdown",
   "metadata": {},
   "source": [
    "### binarize Pclass "
   ]
  },
  {
   "cell_type": "code",
   "execution_count": null,
   "metadata": {},
   "outputs": [],
   "source": [
    "summary=passenger_train.describe()\n",
    "num_cols=list(summary.columns)\n",
    "num_cols.remove('Pclass')\n",
    "\n",
    "passenger_train2=passenger_train.copy()\n",
    "passenger_train2['Pclass']=passenger_train2['Pclass'].astype(str)\n",
    "\n",
    "cat_cols=list(set(passenger_train2.columns)-set(num_cols))\n",
    "\n",
    "prepared_passenger_train=featuring(passenger_train2,num_cols,cat_cols)\n",
    "\n",
    "prepared_passenger_train.head()\n"
   ]
  },
  {
   "cell_type": "code",
   "execution_count": null,
   "metadata": {},
   "outputs": [],
   "source": [
    "trainRawModels(prepared_passenger_train,target)"
   ]
  },
  {
   "cell_type": "markdown",
   "metadata": {},
   "source": [
    "## discretize num features"
   ]
  },
  {
   "cell_type": "code",
   "execution_count": null,
   "metadata": {},
   "outputs": [],
   "source": [
    "passenger_train.info()"
   ]
  },
  {
   "cell_type": "code",
   "execution_count": null,
   "metadata": {},
   "outputs": [],
   "source": [
    "pyplot.hist(np.ceil(np.log10(passenger_train['Fare']+10)))\n",
    "pyplot.show()"
   ]
  },
  {
   "cell_type": "code",
   "execution_count": null,
   "metadata": {},
   "outputs": [],
   "source": [
    "ages=passenger_train['Age'].quantile(np.linspace(0.1,1,7))\n",
    "ages"
   ]
  },
  {
   "cell_type": "code",
   "execution_count": null,
   "metadata": {},
   "outputs": [],
   "source": [
    "fares=passenger_train['Fare'].quantile(np.linspace(0.1,1,5))\n",
    "fares"
   ]
  },
  {
   "cell_type": "code",
   "execution_count": null,
   "metadata": {},
   "outputs": [],
   "source": [
    "bin_cols=[('Age',Binner([14.,35.,50.])),\n",
    "          ('Fare',Binner([8.,14.,31.,66.])),\n",
    "         ]\n",
    "                                      \n",
    "summary=passenger_train.describe()\n",
    "num_cols=list(summary.columns)\n",
    "cat_cols=list(set(passenger_train.columns)-set(num_cols))\n",
    "[num_cols.remove(c[0]) for c in bin_cols]\n",
    "\n",
    "prepared_passenger_train = featuring(passenger_train,num_cols,cat_cols,bin_cols)\n",
    "prepared_passenger_train.head()"
   ]
  },
  {
   "cell_type": "code",
   "execution_count": null,
   "metadata": {},
   "outputs": [],
   "source": [
    "trainRawModels(prepared_passenger_train,target)"
   ]
  },
  {
   "cell_type": "markdown",
   "metadata": {},
   "source": [
    "## test it"
   ]
  },
  {
   "cell_type": "code",
   "execution_count": null,
   "metadata": {
    "collapsed": true
   },
   "outputs": [],
   "source": [
    "passenger_test=pd.read_csv('test.csv')\n",
    "test_id=passenger_test[id_col]\n",
    "drop_cols.remove(target_col)\n",
    "passenger_test.drop(drop_cols,axis=1,inplace=True)\n",
    "prepared_passenger_test=full_pl.transform(passenger_test)"
   ]
  }
 ],
 "metadata": {
  "kernelspec": {
   "display_name": "Python 3",
   "language": "python",
   "name": "python3"
  },
  "language_info": {
   "codemirror_mode": {
    "name": "ipython",
    "version": 3
   },
   "file_extension": ".py",
   "mimetype": "text/x-python",
   "name": "python",
   "nbconvert_exporter": "python",
   "pygments_lexer": "ipython3",
   "version": "3.5.3"
  }
 },
 "nbformat": 4,
 "nbformat_minor": 2
}
