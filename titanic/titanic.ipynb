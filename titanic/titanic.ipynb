{
 "cells": [
  {
   "cell_type": "markdown",
   "metadata": {},
   "source": [
    "## load train data"
   ]
  },
  {
   "cell_type": "code",
   "execution_count": null,
   "metadata": {
    "collapsed": true
   },
   "outputs": [],
   "source": [
    "import pandas as pd\n",
    "passenger_train=pd.read_csv('train.csv')\n",
    "target_col='Survived'\n",
    "id_col='PassengerId'\n",
    "target=passenger_train[target_col]\n",
    "total_num=len(passenger_train)"
   ]
  },
  {
   "cell_type": "markdown",
   "metadata": {},
   "source": [
    "## drop too-variant cols and target cols"
   ]
  },
  {
   "cell_type": "code",
   "execution_count": null,
   "metadata": {
    "collapsed": true
   },
   "outputs": [],
   "source": [
    "c=passenger_train.count()\n",
    "drop_cols=c[c*2<len(passenger_train)].index\n",
    "drop_cols=list(drop_cols)\n",
    "drop_cols+=[id_col,target_col,'Name','Ticket']\n",
    "passenger_train.drop(drop_cols,axis=1,inplace=True)"
   ]
  },
  {
   "cell_type": "markdown",
   "metadata": {},
   "source": [
    "## explore the data"
   ]
  },
  {
   "cell_type": "code",
   "execution_count": null,
   "metadata": {},
   "outputs": [],
   "source": [
    "%matplotlib inline\n",
    "from matplotlib import pyplot\n",
    "\n",
    "pyplot.hist(passenger_train['Age'].dropna())\n",
    "pyplot.show()"
   ]
  },
  {
   "cell_type": "code",
   "execution_count": null,
   "metadata": {},
   "outputs": [],
   "source": [
    "%matplotlib inline\n",
    "from matplotlib import pyplot\n",
    "\n",
    "pyplot.hist(passenger_train[passenger_train['Fare']<200]['Fare'].dropna())\n",
    "pyplot.show()"
   ]
  },
  {
   "cell_type": "markdown",
   "metadata": {},
   "source": [
    "## feature engineering"
   ]
  },
  {
   "cell_type": "code",
   "execution_count": null,
   "metadata": {
    "collapsed": true
   },
   "outputs": [],
   "source": [
    "import sys\n",
    "sys.path.append('../')\n",
    "from util import *\n",
    "from label_binary import LabelBinarizerEx\n",
    "from df_pipeline import DfPipeline"
   ]
  },
  {
   "cell_type": "code",
   "execution_count": null,
   "metadata": {},
   "outputs": [],
   "source": [
    "passenger_train=pd.DataFrame({'id':[1,2,np.nan],'sex':['male','female',np.nan]})\n",
    "passenger_train.describe()"
   ]
  },
  {
   "cell_type": "code",
   "execution_count": null,
   "metadata": {},
   "outputs": [],
   "source": [
    "from sklearn.preprocessing import Imputer,StandardScaler\n",
    "summary=passenger_train.describe()\n",
    "\n",
    "num_pipelines=[(c,Pipeline([\n",
    "    ('select',DataFrameSelecter([c])),\n",
    "    ('fill',Imputer(strategy='median')),\n",
    "    ('scale',StandardScaler()),\n",
    "])) for c in summary.columns]\n",
    "\n",
    "cat_cols=list(set(passenger_train.columns)-set(summary.columns))\n",
    "cat_pipelines=[(c, Pipeline([\n",
    "    ('select',DataFrameSelecter([c])),\n",
    "    ('encode',LabelBinarizerEx()),\n",
    "])) for c in cat_cols ]\n",
    "\n",
    "full_pipeline=DfPipeline(num_pipelines+cat_pipelines)\n",
    "\n",
    "prepared_passenger_train=full_pipeline.fit_transform(passenger_train)\n",
    "\n",
    "prepared_passenger_train.head()\n"
   ]
  },
  {
   "cell_type": "code",
   "execution_count": null,
   "metadata": {
    "collapsed": true
   },
   "outputs": [],
   "source": [
    "passenger_test=pd.read_csv('test.csv')\n",
    "test_id=passenger_test[id_col]\n",
    "drop_cols.remove(target_col)\n",
    "passenger_test.drop(drop_cols,axis=1,inplace=True)\n",
    "prepared_passenger_test=full_pl.transform(passenger_test)"
   ]
  },
  {
   "cell_type": "markdown",
   "metadata": {},
   "source": [
    "## gradient boosting tree"
   ]
  },
  {
   "cell_type": "code",
   "execution_count": null,
   "metadata": {},
   "outputs": [],
   "source": [
    "from sklearn.ensemble import GradientBoostingClassifier\n",
    "gbc=GradientBoostingClassifier()\n",
    "\n",
    "from sklearn.model_selection import cross_val_score\n",
    "\n",
    "scores=cross_val_score(gbc,prepared_passenger_train,target,scoring='accuracy',cv=10)\n",
    "scores.mean()\n"
   ]
  },
  {
   "cell_type": "code",
   "execution_count": null,
   "metadata": {
    "collapsed": true
   },
   "outputs": [],
   "source": [
    "help(gbc)"
   ]
  },
  {
   "cell_type": "code",
   "execution_count": null,
   "metadata": {},
   "outputs": [],
   "source": [
    "from sklearn.model_selection import validation_curve\n",
    "\n",
    "train_scores,test_scores=validation_curve(gbc,prepared_passenger_train,target,\n",
    "                                          scoring='accuracy',param_name='learning_rate',param_range=[0.1],cv=10)\n",
    "print(train_scores.mean(), test_scores.mean())\n",
    "plotValidationCurve(train_scores,test_scores)"
   ]
  },
  {
   "cell_type": "code",
   "execution_count": null,
   "metadata": {
    "collapsed": true
   },
   "outputs": [],
   "source": [
    "survived=clf.predict(prepared_passenger_test)\n",
    "df=pd.DataFrame({id_col:test_id,target_col:survived})\n",
    "df.to_csv('result.csv',index=False)"
   ]
  },
  {
   "cell_type": "markdown",
   "metadata": {},
   "source": [
    "kaggle score:0.78469 rank: 3086"
   ]
  },
  {
   "cell_type": "code",
   "execution_count": null,
   "metadata": {},
   "outputs": [],
   "source": [
    "import time\n",
    "time.time()"
   ]
  },
  {
   "cell_type": "markdown",
   "metadata": {},
   "source": [
    "### tune params"
   ]
  },
  {
   "cell_type": "code",
   "execution_count": null,
   "metadata": {
    "collapsed": true
   },
   "outputs": [],
   "source": [
    "# from sklearn.model_selection import GridSearchCV\n",
    "# t1=time.time()\n",
    "# param_grid={'max_depth':[2,3,5,8],'n_estimators':[50,100,150],'learning_rate':[0.1,0.01]}\n",
    "# clf=GridSearchCV(GradientBoostingClassifier(),param_grid,scoring='accuracy',cv=10,n_jobs=4)\n",
    "# clf.fit(prepared_passenger_train,target)\n",
    "# print(clf.best_score_,clf.best_params_,time.time()-t1)"
   ]
  },
  {
   "cell_type": "code",
   "execution_count": null,
   "metadata": {
    "collapsed": true
   },
   "outputs": [],
   "source": [
    "# survived=clf.predict(prepared_passenger_test)\n",
    "# df=pd.DataFrame({id_col:test_id,target_col:survived})\n",
    "# df.to_csv('result.csv',index=False)"
   ]
  },
  {
   "cell_type": "markdown",
   "metadata": {},
   "source": [
    "kaggle score:0.78469 rank: 3073"
   ]
  },
  {
   "cell_type": "markdown",
   "metadata": {},
   "source": [
    "## random forest"
   ]
  },
  {
   "cell_type": "code",
   "execution_count": null,
   "metadata": {},
   "outputs": [],
   "source": [
    "from sklearn.ensemble import RandomForestClassifier\n",
    "rfc=RandomForestClassifier()\n",
    "\n",
    "from sklearn.model_selection import cross_val_score\n",
    "\n",
    "scores=cross_val_score(rfc,prepared_passenger_train,target,scoring='accuracy',cv=10)\n",
    "scores.mean()\n",
    "\n"
   ]
  },
  {
   "cell_type": "code",
   "execution_count": null,
   "metadata": {
    "collapsed": true
   },
   "outputs": [],
   "source": [
    "help(rfc)"
   ]
  },
  {
   "cell_type": "markdown",
   "metadata": {},
   "source": [
    "### tune params"
   ]
  },
  {
   "cell_type": "code",
   "execution_count": null,
   "metadata": {},
   "outputs": [],
   "source": [
    "from sklearn.model_selection import GridSearchCV\n",
    "\n",
    "params={'n_estimators':[10,30,50,100],'max_features':[4,6,8],'max_depth':[4,8,16]}\n",
    "gs=GridSearchCV(RandomForestClassifier(),params,scoring='accuracy',cv=10,n_jobs=-1)\n",
    "gs.fit(prepared_passenger_train,target)\n",
    "rfc=gs.best_estimator_\n",
    "print(gs.best_score_,gs.best_params_)"
   ]
  },
  {
   "cell_type": "code",
   "execution_count": null,
   "metadata": {},
   "outputs": [],
   "source": [
    "from sklearn.model_selection import validation_curve\n",
    "\n",
    "train_scores,test_scores=validation_curve(rfc,prepared_passenger_train,target,\n",
    "                                          scoring='accuracy',param_name='n_estimators',param_range=[50],cv=20)\n",
    "print(train_scores.mean(), test_scores.mean())\n",
    "plotValidationCurve(train_scores,test_scores)"
   ]
  },
  {
   "cell_type": "code",
   "execution_count": null,
   "metadata": {},
   "outputs": [],
   "source": [
    "feature_scores=zip( rfc.feature_importances_,prepared_passenger_train.columns)\n",
    "np.sort(list(feature_scores),0)"
   ]
  },
  {
   "cell_type": "code",
   "execution_count": null,
   "metadata": {
    "collapsed": true
   },
   "outputs": [],
   "source": [
    "survived=rfc.predict(prepared_passenger_test)\n",
    "df=pd.DataFrame({id_col:test_id,target_col:survived})\n",
    "df.to_csv('result.csv',index=False)"
   ]
  },
  {
   "cell_type": "markdown",
   "metadata": {},
   "source": [
    "kaggle score:0.79904 rank: 1381"
   ]
  },
  {
   "cell_type": "markdown",
   "metadata": {},
   "source": [
    "## SVM"
   ]
  },
  {
   "cell_type": "code",
   "execution_count": null,
   "metadata": {},
   "outputs": [],
   "source": [
    "from sklearn.svm import SVC\n",
    "# clf=LinearSVC(C=1,loss='hinge')\n",
    "svc=SVC(kernel='poly',probability=True)\n",
    "\n",
    "from sklearn.model_selection import cross_val_score\n",
    "scores=cross_val_score(svc,prepared_passenger_train,target,scoring='accuracy',cv=10)\n",
    "scores.mean()"
   ]
  },
  {
   "cell_type": "markdown",
   "metadata": {},
   "source": [
    "## draw validation curve"
   ]
  },
  {
   "cell_type": "code",
   "execution_count": null,
   "metadata": {
    "collapsed": true
   },
   "outputs": [],
   "source": [
    "from sklearn.model_selection import validation_curve\n",
    "\n",
    "train_scores,test_scores=validation_curve(svc,prepared_passenger_train,target,scoring='roc_auc',param_name='C',param_range=[1],cv=20)\n",
    "plotValidationCurve(train_scores,test_scores)"
   ]
  },
  {
   "cell_type": "code",
   "execution_count": null,
   "metadata": {
    "collapsed": true
   },
   "outputs": [],
   "source": [
    "%matplotlib inline\n",
    "def plotValidationCurve(train_scores,test_scores):\n",
    "    from matplotlib import pyplot\n",
    "\n",
    "    xaxis=[i for i in range(1,len(train_scores[0])+1)]\n",
    "    pyplot.plot(xaxis,train_scores[0],label='train scores')\n",
    "    pyplot.plot(xaxis,test_scores[0],label='test scores')\n",
    "    pyplot.legend()\n",
    "    pyplot.show()"
   ]
  },
  {
   "cell_type": "code",
   "execution_count": null,
   "metadata": {},
   "outputs": [],
   "source": [
    "import matplotlib.pyplot as plt\n",
    "param_range = np.logspace(-6, -1, 5)\n",
    "train_scores, test_scores = validation_curve(\n",
    "    SVC(), prepared_passenger_train, target, param_name=\"gamma\", param_range=param_range,\n",
    "    cv=10, scoring=\"accuracy\", n_jobs=1)\n",
    "train_scores_mean = np.mean(train_scores, axis=1)\n",
    "train_scores_std = np.std(train_scores, axis=1)\n",
    "test_scores_mean = np.mean(test_scores, axis=1)\n",
    "test_scores_std = np.std(test_scores, axis=1)\n",
    "\n",
    "plt.title(\"Validation Curve with SVM\")\n",
    "plt.xlabel(\"$\\gamma$\")\n",
    "plt.ylabel(\"Score\")\n",
    "plt.ylim(0.0, 1.1)\n",
    "lw = 2\n",
    "plt.semilogx(param_range, train_scores_mean, label=\"Training score\",\n",
    "             color=\"darkorange\", lw=lw)\n",
    "plt.fill_between(param_range, train_scores_mean - train_scores_std,\n",
    "                 train_scores_mean + train_scores_std, alpha=0.2,\n",
    "                 color=\"darkorange\", lw=lw)\n",
    "plt.semilogx(param_range, test_scores_mean, label=\"Cross-validation score\",\n",
    "             color=\"navy\", lw=lw)\n",
    "plt.fill_between(param_range, test_scores_mean - test_scores_std,\n",
    "                 test_scores_mean + test_scores_std, alpha=0.2,\n",
    "                 color=\"navy\", lw=lw)\n",
    "plt.legend(loc=\"best\")\n",
    "plt.show()"
   ]
  },
  {
   "cell_type": "markdown",
   "metadata": {},
   "source": [
    "use ensemble methods"
   ]
  },
  {
   "cell_type": "code",
   "execution_count": null,
   "metadata": {},
   "outputs": [],
   "source": [
    "from sklearn.ensemble import VotingClassifier\n",
    "from sklearn.model_selection import cross_val_score\n",
    "\n",
    "vote=VotingClassifier(estimators=[('gbc',gbc),('rfc',rfc),('svc',svc)],voting='soft')\n",
    "scores=cross_val_score(vote,prepared_passenger_train,target,scoring='accuracy',cv=10)\n",
    "scores.mean()"
   ]
  },
  {
   "cell_type": "markdown",
   "metadata": {},
   "source": [
    "## stacking"
   ]
  },
  {
   "cell_type": "code",
   "execution_count": null,
   "metadata": {},
   "outputs": [],
   "source": [
    "from brew.base import Ensemble, EnsembleClassifier\n",
    "from brew.stacking.stacker import EnsembleStack, EnsembleStackClassifier\n",
    "from brew.combination.combiner import Combiner\n",
    "\n",
    "# Creating Ensemble\n",
    "ensemble = Ensemble([gbc, rfc, svc])\n",
    "eclf = EnsembleClassifier(ensemble=ensemble, combiner=Combiner('mean'))\n",
    "\n",
    "# from sklearn.model_selection import cross_val_score\n",
    "# scores=cross_val_score(eclf,prepared_passenger_train,target,scoring='accuracy',cv=10)\n",
    "eclf.fit(prepared_passenger_train,target)\n",
    "eclf.score(prepared_passenger_train,target)"
   ]
  },
  {
   "cell_type": "code",
   "execution_count": null,
   "metadata": {
    "collapsed": true
   },
   "outputs": [],
   "source": [
    "survived=eclf.predict(prepared_passenger_test)\n",
    "survived=[int(s) for s in survived]\n",
    "df=pd.DataFrame({id_col:test_id,target_col:survived})\n",
    "df.to_csv('result.csv',index=False)"
   ]
  },
  {
   "cell_type": "markdown",
   "metadata": {},
   "source": [
    "not better"
   ]
  },
  {
   "cell_type": "code",
   "execution_count": null,
   "metadata": {
    "collapsed": true
   },
   "outputs": [],
   "source": [
    "# Creating Stacking\n",
    "layer_1 = Ensemble([gbc, rfc, svc])\n",
    "layer_2 = Ensemble([sklearn.clone(gbc)])\n",
    "\n",
    "stack = EnsembleStack(cv=3)\n",
    "\n",
    "stack.add_layer(layer_1)\n",
    "stack.add_layer(layer_2)\n",
    "\n",
    "sclf = EnsembleStackClassifier(stack)\n",
    "sclf.fit(prepared_passenger_train_data,target)\n",
    "\n",
    "survived=sclf.predict(prepared_passenger_test)\n",
    "survived=[int(s) for s in survived]\n",
    "df=pd.DataFrame({id_col:test_id,target_col:survived})\n",
    "df.to_csv('result.csv',index=False)"
   ]
  },
  {
   "cell_type": "markdown",
   "metadata": {},
   "source": [
    "not better"
   ]
  },
  {
   "cell_type": "markdown",
   "metadata": {},
   "source": [
    "## xgboost"
   ]
  },
  {
   "cell_type": "code",
   "execution_count": null,
   "metadata": {},
   "outputs": [],
   "source": [
    "from xgboost import XGBClassifier\n",
    "from sklearn.model_selection import cross_val_score\n",
    "\n",
    "xgb=XGBClassifier()\n",
    "scores=cross_val_score(xgb,prepared_passenger_train,target,scoring='accuracy',cv=10)\n",
    "scores.mean()"
   ]
  }
 ],
 "metadata": {
  "kernelspec": {
   "display_name": "Python 3",
   "language": "python",
   "name": "python3"
  },
  "language_info": {
   "codemirror_mode": {
    "name": "ipython",
    "version": 3
   },
   "file_extension": ".py",
   "mimetype": "text/x-python",
   "name": "python",
   "nbconvert_exporter": "python",
   "pygments_lexer": "ipython3",
   "version": "3.5.3"
  }
 },
 "nbformat": 4,
 "nbformat_minor": 2
}
