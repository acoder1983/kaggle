{
 "cells": [
  {
   "cell_type": "code",
   "execution_count": null,
   "metadata": {
    "collapsed": true
   },
   "outputs": [],
   "source": [
    "import numpy as np\n",
    "import pandas as pd\n",
    "import matplotlib.pyplot as plt\n",
    "from time import time\n",
    "from sklearn.model_selection import GridSearchCV\n",
    "\n",
    "%matplotlib inline"
   ]
  },
  {
   "cell_type": "code",
   "execution_count": null,
   "metadata": {},
   "outputs": [],
   "source": [
    "from sklearn.model_selection import train_test_split\n",
    "np.random.seed(1)\n",
    "ratings=pd.read_csv('raw_data/ratings.csv')\n",
    "ratings_train,ratings_test=train_test_split(ratings,test_size=0.1,random_state=42)\n",
    "\n",
    "users_train=set(ratings_train.userId.unique())\n",
    "items_train=set(ratings_train.movieId.unique())\n",
    "ratings_test=ratings_test[lambda df:df.movieId.apply(lambda i: i in items_train)]\n",
    "len(ratings_train),len(ratings_test)"
   ]
  },
  {
   "cell_type": "code",
   "execution_count": null,
   "metadata": {
    "collapsed": true
   },
   "outputs": [],
   "source": [
    "y_true=ratings_test.rating\n",
    "x_test=ratings_test[['userId','movieId']]"
   ]
  },
  {
   "cell_type": "code",
   "execution_count": null,
   "metadata": {
    "collapsed": true
   },
   "outputs": [],
   "source": [
    "def predict_rand(x):\n",
    "    return [np.random.rand()*5 for i in range(len(x))]"
   ]
  },
  {
   "cell_type": "code",
   "execution_count": null,
   "metadata": {},
   "outputs": [],
   "source": [
    "from sklearn.metrics import mean_squared_error\n",
    "\n",
    "y_pred=predict_rand(x_test)\n",
    "mean_squared_error(y_true,y_pred)"
   ]
  },
  {
   "cell_type": "markdown",
   "metadata": {},
   "source": [
    "## iicf \n",
    "\n",
    "calc item-item similarity by ratings\n",
    "\n",
    "choose neighbor k\n",
    "\n",
    "average the k's ratings for i\n",
    "\n",
    "formula 4.18\n",
    "\n",
    "use z-score normalization"
   ]
  },
  {
   "cell_type": "code",
   "execution_count": null,
   "metadata": {
    "collapsed": true
   },
   "outputs": [],
   "source": [
    "class IIcf:\n",
    "    def __init__(self,k=3):\n",
    "        self.k=k\n",
    "        \n",
    "    \n",
    "    def get_params(self,deep=True):\n",
    "        return {'k':self.k}\n",
    "    \n",
    "    def set_params(self,**params):\n",
    "        self.k=params['k']\n",
    "        \n",
    "    def fit(self,X,y):\n",
    "        self.ratings_matrix = X[['userId','movieId','rating']].pivot_table(index='userId',columns='movieId')\n",
    "        self.ratings_matrix.columns = self.ratings_matrix.columns.levels[1]\n",
    "        \n",
    "        self.item_sims = self.ratings_matrix.corr(min_periods=5)\n",
    "        ratings_summ = self.ratings_matrix.describe().T\n",
    "        self.r_items_mean = ratings_summ['mean']\n",
    "        self.r_items_std = ratings_summ['std']\n",
    "        \n",
    "        self.users_train=set(self.ratings_matrix.index)\n",
    "        self.items_train=set(self.ratings_matrix.columns)\n",
    "        \n",
    "        return self\n",
    "    \n",
    "    def predict(self,X):\n",
    "        \n",
    "        y_pred=[]\n",
    "\n",
    "        for i in X.index:\n",
    "            item=X.loc[i,'movieId']\n",
    "            user=X.loc[i,'userId']\n",
    "            \n",
    "            pred = 0\n",
    "            if item in self.items_train and user in self.users_train:\n",
    "                pred=self.r_items_mean[item]\n",
    "                sim_items=self.item_sims[item].sort_values(ascending=False)[1:self.k+1]\n",
    "\n",
    "                r_sum=0\n",
    "                r_w=0\n",
    "                for j in sim_items.index:\n",
    "                    w=sim_items[j]\n",
    "                    if not np.isnan(w) and not np.isnan(self.ratings_matrix.loc[user,j]) and self.r_items_std[j] != 0.:\n",
    "                        r_j_norm=(self.ratings_matrix.loc[user,j]-self.r_items_mean[j])/self.r_items_std[j]\n",
    "                        r_sum+=r_j_norm*w\n",
    "                        r_w+=np.abs(w)\n",
    "\n",
    "                if r_w != 0:\n",
    "                    pred+= r_sum*self.r_items_std[item]/r_w\n",
    "                \n",
    "            y_pred.append(pred)\n",
    "\n",
    "        return y_pred\n",
    "    \n"
   ]
  },
  {
   "cell_type": "code",
   "execution_count": null,
   "metadata": {
    "collapsed": true
   },
   "outputs": [],
   "source": [
    "# iicf=IIcf(1)\n",
    "# iicf.fit(ratings_train,ratings_train.rating)\n",
    "# for k in (5,10,20,50,100):\n",
    "#     t=time()\n",
    "#     iicf.k=k\n",
    "#     s=mean_squared_error(y_true,iicf.predict(x_test))\n",
    "#     print('time %.2f, error %.3f'%(time()-t,s))\n"
   ]
  },
  {
   "cell_type": "code",
   "execution_count": null,
   "metadata": {},
   "outputs": [],
   "source": [
    "import cf\n",
    "t=time()\n",
    "param_grid={'k':[5]}\n",
    "gs=GridSearchCV(estimator=cf.IIcf(),param_grid=param_grid,scoring='neg_mean_squared_error',n_jobs=4,verbose=1,cv=5)\n",
    "gs.fit(ratings_train,ratings_train.rating)\n",
    "print('time cost %.2f'%(time()-t))\n",
    "gs.grid_scores_,gs.best_estimator_,gs.best_score_"
   ]
  },
  {
   "cell_type": "code",
   "execution_count": null,
   "metadata": {},
   "outputs": [],
   "source": [
    "gs.grid_scores_"
   ]
  }
 ],
 "metadata": {
  "kernelspec": {
   "display_name": "Python 3",
   "language": "python",
   "name": "python3"
  },
  "language_info": {
   "codemirror_mode": {
    "name": "ipython",
    "version": 3
   },
   "file_extension": ".py",
   "mimetype": "text/x-python",
   "name": "python",
   "nbconvert_exporter": "python",
   "pygments_lexer": "ipython3",
   "version": "3.5.3"
  }
 },
 "nbformat": 4,
 "nbformat_minor": 2
}
