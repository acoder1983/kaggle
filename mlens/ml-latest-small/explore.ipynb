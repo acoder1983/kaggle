{
 "cells": [
  {
   "cell_type": "code",
   "execution_count": null,
   "metadata": {
    "collapsed": true
   },
   "outputs": [],
   "source": [
    "import numpy as np\n",
    "import pandas as pd\n",
    "import matplotlib.pyplot as plt\n",
    "\n",
    "%matplotlib inline"
   ]
  },
  {
   "cell_type": "code",
   "execution_count": null,
   "metadata": {
    "collapsed": true
   },
   "outputs": [],
   "source": [
    "movies=pd.read_csv('raw_data/movies.csv')\n",
    "ratings=pd.read_csv('raw_data/ratings.csv')"
   ]
  },
  {
   "cell_type": "code",
   "execution_count": null,
   "metadata": {},
   "outputs": [],
   "source": [
    "movies.describe(include=['O'])"
   ]
  },
  {
   "cell_type": "code",
   "execution_count": null,
   "metadata": {},
   "outputs": [],
   "source": [
    "genres={}\n",
    "for i in movies.index:\n",
    "    gs=str(movies.at[i,'genres']).split('|')\n",
    "    for g in gs:\n",
    "        if g != '(no genres listed)':\n",
    "            if 'genre_'+g not in movies.columns:\n",
    "                movies['genre_'+g]=0\n",
    "                genres[g]=0\n",
    "            movies.at[i,'genre_'+g]=1\n",
    "        \n",
    "movies.columns"
   ]
  },
  {
   "cell_type": "code",
   "execution_count": null,
   "metadata": {},
   "outputs": [],
   "source": [
    "movies.describe().transpose().sort_values('mean',ascending=False)"
   ]
  },
  {
   "cell_type": "code",
   "execution_count": null,
   "metadata": {},
   "outputs": [],
   "source": [
    "movies.drop(['title','genres'],axis=1).sum().sort_values()"
   ]
  },
  {
   "cell_type": "code",
   "execution_count": null,
   "metadata": {
    "collapsed": true
   },
   "outputs": [],
   "source": [
    "help()"
   ]
  },
  {
   "cell_type": "code",
   "execution_count": null,
   "metadata": {},
   "outputs": [],
   "source": [
    "np.random.seed(1)\n",
    "\n",
    "test_ids=set([-1])\n",
    "for g in genres:\n",
    "    g_movies=movies[movies['genre_'+g]==1]\n",
    "    m_ids=np.random.choice(g_movies.index,int(len(g_movies)*0.05))\n",
    "    test_ids |= set(m_ids)\n",
    "    \n",
    "test_ids.discard(-1)\n",
    "movies_test=movies.loc[test_ids]\n",
    "movies_test.describe().transpose().sort_values('mean',ascending=False)\n",
    "movies_train=movies.loc[set(movies.index)-test_ids]\n",
    "len(movies_train),len(movies_test)"
   ]
  },
  {
   "cell_type": "code",
   "execution_count": null,
   "metadata": {},
   "outputs": [],
   "source": [
    "ratings.head()"
   ]
  },
  {
   "cell_type": "code",
   "execution_count": null,
   "metadata": {
    "collapsed": true
   },
   "outputs": [],
   "source": [
    "ratings_train=ratings.merge(movies_train[['movieId']],on='movieId',how='inner')\n",
    "ratings_test=ratings.merge(movies_test[['movieId']],on='movieId',how='inner')\n",
    "\n",
    "# ratings_train.to_csv('raw_data/ratings_train.csv',index=False)\n",
    "# ratings_test.to_csv('raw_data/ratings_test.csv',index=False)"
   ]
  },
  {
   "cell_type": "code",
   "execution_count": null,
   "metadata": {},
   "outputs": [],
   "source": [
    "n=0\n",
    "for u in ratings_test.movieId.unique():\n",
    "    if u not in ratings_train.movieId.unique():\n",
    "        n+=1\n",
    "n"
   ]
  },
  {
   "cell_type": "code",
   "execution_count": null,
   "metadata": {},
   "outputs": [],
   "source": [
    "len(ratings_test.movieId.unique())"
   ]
  }
 ],
 "metadata": {
  "kernelspec": {
   "display_name": "Python 3",
   "language": "python",
   "name": "python3"
  },
  "language_info": {
   "codemirror_mode": {
    "name": "ipython",
    "version": 3
   },
   "file_extension": ".py",
   "mimetype": "text/x-python",
   "name": "python",
   "nbconvert_exporter": "python",
   "pygments_lexer": "ipython3",
   "version": "3.5.3"
  }
 },
 "nbformat": 4,
 "nbformat_minor": 2
}
