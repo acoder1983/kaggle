{
 "cells": [
  {
   "cell_type": "code",
   "execution_count": null,
   "metadata": {
    "collapsed": true
   },
   "outputs": [],
   "source": [
    "import numpy as np\n",
    "import pandas as pd\n",
    "import matplotlib.pyplot as plt\n",
    "from time import time\n",
    "from sklearn.metrics import mean_squared_error\n",
    "%matplotlib inline\n",
    "\n",
    "from util import split_train_test\n",
    "\n",
    "np.random.seed(1)\n",
    "ratings=pd.read_csv('raw_data/ratings.csv')\n",
    "\n",
    "X_train,y_train,X_test,y_test=split_train_test(ratings)"
   ]
  },
  {
   "cell_type": "markdown",
   "metadata": {},
   "source": [
    "## base predictor"
   ]
  },
  {
   "cell_type": "code",
   "execution_count": null,
   "metadata": {},
   "outputs": [],
   "source": [
    "from base import BasePredictor\n",
    "t=time()\n",
    "bp=BasePredictor(learning_rate=0.01,alpha=0.01,max_iter=100,epsilon=100)\n",
    "bp.fit(X_train,y_train)\n",
    "print('time cost %d'%int(time()-t))\n",
    "'error %.2f'%mean_squared_error(y_test,bp.predict(X_test))"
   ]
  }
 ],
 "metadata": {
  "kernelspec": {
   "display_name": "Python 3",
   "language": "python",
   "name": "python3"
  },
  "language_info": {
   "codemirror_mode": {
    "name": "ipython",
    "version": 3
   },
   "file_extension": ".py",
   "mimetype": "text/x-python",
   "name": "python",
   "nbconvert_exporter": "python",
   "pygments_lexer": "ipython3",
   "version": "3.5.3"
  }
 },
 "nbformat": 4,
 "nbformat_minor": 2
}
