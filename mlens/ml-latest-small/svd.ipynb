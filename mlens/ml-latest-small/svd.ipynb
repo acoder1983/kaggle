{
 "cells": [
  {
   "cell_type": "code",
   "execution_count": null,
   "metadata": {
    "collapsed": true
   },
   "outputs": [],
   "source": [
    "import numpy as np\n",
    "import pandas as pd\n",
    "import matplotlib.pyplot as plt\n",
    "from time import time\n",
    "from sklearn.metrics import mean_squared_error\n",
    "%matplotlib inline\n",
    "\n",
    "from util import split_train_test\n",
    "\n",
    "np.random.seed(1)\n",
    "ratings=pd.read_csv('raw_data/ratings.csv')\n",
    "\n",
    "X_train,y_train,X_test,y_test=split_train_test(ratings)"
   ]
  },
  {
   "cell_type": "markdown",
   "metadata": {},
   "source": [
    "## svd"
   ]
  },
  {
   "cell_type": "markdown",
   "metadata": {},
   "source": [
    "### fit all latent factors at once"
   ]
  },
  {
   "cell_type": "code",
   "execution_count": null,
   "metadata": {},
   "outputs": [],
   "source": [
    "from svd import Svd\n",
    "t=time()\n",
    "svd1=Svd(factors=10,learning_rate=0.01,alpha=0.01,max_iter=200,epsilon=1e2)\n",
    "# svd1.fit_factors_all(X_train,y_train)\n",
    "print('time cost %d'%int(time()-t))\n",
    "# 'error %.3f'%mean_squared_error(y_test,svd1.predict(X_test))"
   ]
  },
  {
   "cell_type": "markdown",
   "metadata": {},
   "source": [
    "### fit latent factors one by one"
   ]
  },
  {
   "cell_type": "code",
   "execution_count": null,
   "metadata": {},
   "outputs": [],
   "source": [
    "t=time()\n",
    "svd2=Svd(factors=10,learning_rate=0.01,alpha=0.01,max_iter=100,epsilon=1e2)\n",
    "svd2.fit_factors_onebyone(X_train,y_train)\n",
    "print('time cost %d'%int(time()-t))\n",
    "'error %.3f'%mean_squared_error(y_test,svd2.predict(X_test))"
   ]
  }
 ],
 "metadata": {
  "kernelspec": {
   "display_name": "Python 3",
   "language": "python",
   "name": "python3"
  },
  "language_info": {
   "codemirror_mode": {
    "name": "ipython",
    "version": 3
   },
   "file_extension": ".py",
   "mimetype": "text/x-python",
   "name": "python",
   "nbconvert_exporter": "python",
   "pygments_lexer": "ipython3",
   "version": "3.5.3"
  }
 },
 "nbformat": 4,
 "nbformat_minor": 2
}
