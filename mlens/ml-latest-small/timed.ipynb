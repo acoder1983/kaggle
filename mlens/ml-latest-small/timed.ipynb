{
 "cells": [
  {
   "cell_type": "code",
   "execution_count": 1,
   "metadata": {
    "collapsed": true
   },
   "outputs": [],
   "source": [
    "import numpy as np\n",
    "import pandas as pd\n",
    "import matplotlib.pyplot as plt\n",
    "from time import time\n",
    "from sklearn.metrics import mean_squared_error\n",
    "%matplotlib inline\n",
    "\n",
    "from util import split_train_test\n",
    "\n",
    "X_train,y_train,X_test,y_test=split_train_test()"
   ]
  },
  {
   "cell_type": "markdown",
   "metadata": {},
   "source": [
    "## timed base predictor"
   ]
  },
  {
   "cell_type": "code",
   "execution_count": null,
   "metadata": {
    "collapsed": true
   },
   "outputs": [],
   "source": [
    "from sklearn.base import BaseEstimator\n",
    "\n",
    "class TimedBasePredictor(BaseEstimator):\n",
    "    \n",
    "    def __init__(self,epsilon=100,alpha=0.01,learning_rate=0.01,max_iter=100):\n",
    "        self.epsilon=epsilon\n",
    "        self.alpha=alpha\n",
    "        self.learning_rate=learning_rate\n",
    "        self.max_iter=max_iter\n",
    "        \n",
    "        self.init_fit=False\n",
    "\n",
    "    def init_fitting(self,X,y):\n",
    "        print(str(self.get_params()))\n",
    "        \n",
    "        if not self.init_fit:\n",
    "            users_train=set(X.userId.unique())\n",
    "            items_train=set(X.movieId.unique())\n",
    "            \n",
    "            self.b_users=pd.Series(np.random.randn(len(users_train)),index=users_train)\n",
    "            self.b_items=pd.Series(np.random.randn(len(items_train)),index=items_train)\n",
    "\n",
    "            self.g_mean=np.mean(y)\n",
    "\n",
    "            self.init_fit = True\n",
    "\n",
    "              \n",
    "    def fit(self, X, y):\n",
    "        self.init_fitting(X,y)\n",
    "\n",
    "        last_cost = np.inf    \n",
    "        for it in range(self.max_iter):\n",
    "            cost=np.sum(self.b_users**2)+np.sum(self.b_items**2)\n",
    "                    \n",
    "            for idx in X.index:\n",
    "                u=X.loc[idx,'userId']\n",
    "                i=X.loc[idx,'movieId']\n",
    "                e_ui=y[idx]-self.g_mean-self.b_users[u]-self.b_items[i]\n",
    "                cost+=(e_ui)**2\n",
    "                \n",
    "                self.b_users[u] += self.learning_rate*(e_ui - self.alpha*self.b_users[u])\n",
    "                self.b_items[i] += self.learning_rate*(e_ui - self.alpha*self.b_items[i])\n",
    "            \n",
    "            print('iter %d, cost %.2f'%(it+1,cost))\n",
    "\n",
    "            if np.isnan(cost) or (last_cost > cost and last_cost-cost < self.epsilon) or last_cost<cost:\n",
    "                break\n",
    "\n",
    "            last_cost = cost\n",
    "                \n",
    "            self.learning_rate*=0.9\n",
    "              \n",
    "        return self\n",
    "\n",
    "    def predict(self,X):\n",
    "        y_pred=[self.g_mean for i in range(len(X))]\n",
    "\n",
    "        for i in range(len(X)):\n",
    "            u=X.iloc[i]['userId']\n",
    "            m=X.iloc[i]['movieId']\n",
    "            if u in self.b_users.index and m in self.b_items.index:\n",
    "                y_pred[i] += self.b_users[u] + self.b_items[m]\n",
    "                    \n",
    "        return y_pred\n",
    "                \n",
    "    def get_params(self,deep=True):\n",
    "        return {'epsilon':self.epsilon,\n",
    "                'alpha':self.alpha,'learning_rate':self.learning_rate,'max_iter':self.max_iter}\n",
    "    \n",
    "    def set_params(self,**params):\n",
    "        self.epsilon=params['epsilon']\n",
    "        self.alpha=params['alpha']\n",
    "        self.learning_rate=params['learning_rate']\n",
    "        self.max_iter=params['max_iter']"
   ]
  },
  {
   "cell_type": "code",
   "execution_count": 3,
   "metadata": {},
   "outputs": [
    {
     "name": "stdout",
     "output_type": "stream",
     "text": [
      "{'epsilon': 10, 'alpha': 0.01, 'learning_rate': 0.01, 'max_iter': 200}\n",
      "iter 1, cost 173957.52\n",
      "iter 2, cost 122886.41\n",
      "iter 3, cost 108045.95\n",
      "iter 4, cost 100349.66\n",
      "iter 5, cost 95571.05\n",
      "iter 6, cost 92303.54\n",
      "iter 7, cost 89927.54\n",
      "iter 8, cost 88124.38\n",
      "iter 9, cost 86712.44\n",
      "iter 10, cost 85580.13\n",
      "iter 11, cost 84654.89\n",
      "iter 12, cost 83887.28\n",
      "iter 13, cost 83242.42\n",
      "iter 14, cost 82694.94\n",
      "iter 15, cost 82225.96\n",
      "iter 16, cost 81821.13\n",
      "iter 17, cost 81469.40\n",
      "iter 18, cost 81162.10\n",
      "iter 19, cost 80892.36\n",
      "iter 20, cost 80654.66\n",
      "iter 21, cost 80444.49\n",
      "iter 22, cost 80258.16\n",
      "iter 23, cost 80092.60\n",
      "iter 24, cost 79945.20\n",
      "iter 25, cost 79813.78\n",
      "iter 26, cost 79696.45\n",
      "iter 27, cost 79591.58\n",
      "iter 28, cost 79497.77\n",
      "iter 29, cost 79413.78\n",
      "iter 30, cost 79338.54\n",
      "iter 31, cost 79271.09\n",
      "iter 32, cost 79210.61\n",
      "iter 33, cost 79156.35\n",
      "iter 34, cost 79107.65\n",
      "iter 35, cost 79063.93\n",
      "iter 36, cost 79024.67\n",
      "iter 37, cost 78989.41\n",
      "iter 38, cost 78957.73\n",
      "iter 39, cost 78929.26\n",
      "iter 40, cost 78903.68\n",
      "iter 41, cost 78880.68\n",
      "iter 42, cost 78860.00\n",
      "iter 43, cost 78841.42\n",
      "iter 44, cost 78824.70\n",
      "iter 45, cost 78809.67\n",
      "iter 46, cost 78796.16\n",
      "iter 47, cost 78784.00\n",
      "iter 48, cost 78773.06\n",
      "iter 49, cost 78763.23\n",
      "time cost 379\n"
     ]
    },
    {
     "data": {
      "text/plain": [
       "'error 0.99'"
      ]
     },
     "execution_count": 3,
     "metadata": {},
     "output_type": "execute_result"
    }
   ],
   "source": [
    "from base import BasePredictor\n",
    "t=time()\n",
    "bp=BasePredictor(learning_rate=0.01,alpha=0.01,max_iter=100,epsilon=10)\n",
    "bp.fit(X_train,y_train)\n",
    "print('time cost %d'%int(time()-t))\n",
    "'error %.2f'%mean_squared_error(y_test,bp.predict(X_test))"
   ]
  }
 ],
 "metadata": {
  "kernelspec": {
   "display_name": "Python 3",
   "language": "python",
   "name": "python3"
  },
  "language_info": {
   "codemirror_mode": {
    "name": "ipython",
    "version": 3
   },
   "file_extension": ".py",
   "mimetype": "text/x-python",
   "name": "python",
   "nbconvert_exporter": "python",
   "pygments_lexer": "ipython3",
   "version": "3.5.3"
  }
 },
 "nbformat": 4,
 "nbformat_minor": 2
}
