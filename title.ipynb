{
 "cells": [
  {
   "cell_type": "code",
   "execution_count": 9,
   "metadata": {},
   "outputs": [
    {
     "name": "stderr",
     "output_type": "stream",
     "text": [
      "testRange (__main__.Test) ... ok\n",
      "\n",
      "----------------------------------------------------------------------\n",
      "Ran 1 test in 0.004s\n",
      "\n",
      "OK\n"
     ]
    }
   ],
   "source": [
    "import pandas as pd\n",
    "import numpy as np\n",
    "from sklearn.base import BaseEstimator, TransformerMixin\n",
    "\n",
    "import re\n",
    "\n",
    "class TitleExtractor(BaseEstimator,TransformerMixin):\n",
    "    \n",
    "    def fit(self,X,y=None):\n",
    "        return self\n",
    "    \n",
    "    def transform(self,X,y=None):\n",
    "        titles=np.array([['Rare'] for i in range(len(X))])\n",
    "        for i in range(len(X)):\n",
    "            \n",
    "            m = re.search(' \\w+\\\\.',X[i][0])\n",
    "            if m:\n",
    "                t=m.group()[1:-1]\n",
    "                if t in {'Mr','Miss','Mrs','Master'}:\n",
    "                    titles[i] = t\n",
    "        return titles\n",
    "    \n",
    "    def fit_transform(self,X,y=None):\n",
    "        self.fit(X)\n",
    "        return self.transform(X)\n",
    "    \n",
    "import unittest as ut\n",
    "\n",
    "from sklearn.pipeline import Pipeline\n",
    "\n",
    "class Test(ut.TestCase):\n",
    "    def testRange(self):\n",
    "        t=TitleExtractor()\n",
    "        \n",
    "        df=pd.DataFrame({'name':['Braund, Mr. Owen Harris','Cumings, Don. John Bradley (Florence Briggs Thayer)']})\n",
    "        data=t.transform(df[['name']].values)  \n",
    "        \n",
    "        self.assertTrue(np.array_equal(np.array([['Mr'],['Rare']]), data))\n",
    "        \n",
    "                \n",
    "if __name__ == '__main__':\n",
    "    ut.main(argv=['ignored', '-v'], exit=False)"
   ]
  }
 ],
 "metadata": {
  "kernelspec": {
   "display_name": "Python 3",
   "language": "python",
   "name": "python3"
  },
  "language_info": {
   "codemirror_mode": {
    "name": "ipython",
    "version": 3
   },
   "file_extension": ".py",
   "mimetype": "text/x-python",
   "name": "python",
   "nbconvert_exporter": "python",
   "pygments_lexer": "ipython3",
   "version": "3.5.3"
  }
 },
 "nbformat": 4,
 "nbformat_minor": 2
}
