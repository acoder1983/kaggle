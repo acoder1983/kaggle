{
 "cells": [
  {
   "cell_type": "code",
   "execution_count": 15,
   "metadata": {},
   "outputs": [
    {
     "name": "stderr",
     "output_type": "stream",
     "text": [
      "testRange (__main__.Test) ... ok\n",
      "\n",
      "----------------------------------------------------------------------\n",
      "Ran 1 test in 0.002s\n",
      "\n",
      "OK\n"
     ]
    }
   ],
   "source": [
    "import pandas as pd\n",
    "import numpy as np\n",
    "from sklearn.base import BaseEstimator, TransformerMixin\n",
    "\n",
    "class Binner(BaseEstimator,TransformerMixin):\n",
    "    '''\n",
    "    binner for continuous num array\n",
    "    '''\n",
    "    def __init__(self,strategy):\n",
    "        self.strategy=strategy\n",
    "        \n",
    "    def fit(self, X, y=None):\n",
    "        return self\n",
    "            \n",
    "    \n",
    "    def transform(self, X, y=None):\n",
    "        if isinstance(self.strategy,list):\n",
    "            arr=np.zeros((len(X),1), dtype=np.int)\n",
    "            for i in range(len(X)):\n",
    "                arr[i][0]=len(self.strategy)\n",
    "                for j in range(len(self.strategy)):\n",
    "                    if X[i][0] < self.strategy[j]:\n",
    "                        arr[i][0]=j\n",
    "                        break\n",
    "                \n",
    "            return arr\n",
    "        \n",
    "    \n",
    "    def fit_transform(self, X, y=None):\n",
    "        self.fit(X)\n",
    "        return self.transform(X)\n",
    "    \n",
    "import unittest as ut\n",
    "\n",
    "from sklearn.pipeline import Pipeline\n",
    "\n",
    "class Test(ut.TestCase):\n",
    "    def testRange(self):\n",
    "        b=Binner(strategy=list(np.linspace(10,100,10)))\n",
    "        \n",
    "        df=pd.DataFrame({'age':[3.,17.,66.]})\n",
    "        data=b.transform(df[['age']].values)  \n",
    "        \n",
    "        self.assertTrue(np.array_equal(np.array([[0],[1],[6]]), data))\n",
    "        \n",
    "                \n",
    "if __name__ == '__main__':\n",
    "    ut.main(argv=['ignored', '-v'], exit=False)"
   ]
  }
 ],
 "metadata": {
  "kernelspec": {
   "display_name": "Python 3",
   "language": "python",
   "name": "python3"
  },
  "language_info": {
   "codemirror_mode": {
    "name": "ipython",
    "version": 3
   },
   "file_extension": ".py",
   "mimetype": "text/x-python",
   "name": "python",
   "nbconvert_exporter": "python",
   "pygments_lexer": "ipython3",
   "version": "3.5.3"
  }
 },
 "nbformat": 4,
 "nbformat_minor": 2
}
