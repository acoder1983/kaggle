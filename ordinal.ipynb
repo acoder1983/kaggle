{
 "cells": [
  {
   "cell_type": "code",
   "execution_count": 2,
   "metadata": {},
   "outputs": [
    {
     "name": "stderr",
     "output_type": "stream",
     "text": [
      "test (__main__.Test) ... ERROR\n",
      "\n",
      "======================================================================\n",
      "ERROR: test (__main__.Test)\n",
      "----------------------------------------------------------------------\n",
      "Traceback (most recent call last):\n",
      "  File \"<ipython-input-2-4f9e073b3d00>\", line 42, in test\n",
      "    data=o.fit_transform(df[['level']].values)\n",
      "  File \"<ipython-input-2-4f9e073b3d00>\", line 31, in fit_transform\n",
      "    return self.transform(X)\n",
      "  File \"<ipython-input-2-4f9e073b3d00>\", line 24, in transform\n",
      "    if not np.isnan(X[i][0]) and self.cat_list[j].lower() == X[i][0].lower() :\n",
      "TypeError: ufunc 'isnan' not supported for the input types, and the inputs could not be safely coerced to any supported types according to the casting rule ''safe''\n",
      "\n",
      "----------------------------------------------------------------------\n",
      "Ran 1 test in 0.003s\n",
      "\n",
      "FAILED (errors=1)\n"
     ]
    }
   ],
   "source": [
    "import pandas as pd\n",
    "import numpy as np\n",
    "from sklearn.base import BaseEstimator, TransformerMixin\n",
    "\n",
    "class Ordinar(BaseEstimator,TransformerMixin):\n",
    "    '''\n",
    "    transform category value to ordinal\n",
    "    '''\n",
    "    def __init__(self,cat_list):\n",
    "        '''\n",
    "        list of category values, index means ordinal\n",
    "        '''\n",
    "        self.cat_list=cat_list\n",
    "        \n",
    "    def fit(self, X, y=None):\n",
    "        return self\n",
    "            \n",
    "    \n",
    "    def transform(self, X, y=None):\n",
    "        new_X=X.copy()\n",
    "        nwe_X=-1\n",
    "        for i in range(X.shape[0]):\n",
    "            for j in range(len(self.cat_list)):\n",
    "                if not np.isnan(X[i][0]) and self.cat_list[j].lower() == X[i][0].lower() :\n",
    "                    new_X[i][0] = j\n",
    "                \n",
    "        return new_X\n",
    "                    \n",
    "    def fit_transform(self, X, y=None):\n",
    "        self.fit(X)\n",
    "        return self.transform(X)\n",
    "    \n",
    "import unittest as ut\n",
    "\n",
    "from sklearn.pipeline import Pipeline\n",
    "\n",
    "class Test(ut.TestCase):\n",
    "    def test(self):\n",
    "        df=pd.DataFrame({'level':['ex','gd','ex',np.nan]})\n",
    "        \n",
    "        o=Ordinar(['GD','ex'])\n",
    "        data=o.fit_transform(df[['level']].values)\n",
    "        \n",
    "        self.assertTrue(np.array_equal(np.array([1,0,1,-1]), data))\n",
    "        \n",
    "if __name__ == '__main__':\n",
    "    ut.main(argv=['ignored', '-v'], exit=False)"
   ]
  }
 ],
 "metadata": {
  "kernelspec": {
   "display_name": "Python 3",
   "language": "python",
   "name": "python3"
  },
  "language_info": {
   "codemirror_mode": {
    "name": "ipython",
    "version": 3
   },
   "file_extension": ".py",
   "mimetype": "text/x-python",
   "name": "python",
   "nbconvert_exporter": "python",
   "pygments_lexer": "ipython3",
   "version": "3.5.3"
  }
 },
 "nbformat": 4,
 "nbformat_minor": 2
}
