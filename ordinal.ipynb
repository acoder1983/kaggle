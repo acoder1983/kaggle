{
 "cells": [
  {
   "cell_type": "code",
   "execution_count": 30,
   "metadata": {},
   "outputs": [
    {
     "name": "stderr",
     "output_type": "stream",
     "text": [
      "test (__main__.Test) ... ok\n",
      "\n",
      "----------------------------------------------------------------------\n",
      "Ran 1 test in 0.004s\n",
      "\n",
      "OK\n"
     ]
    }
   ],
   "source": [
    "import pandas as pd\n",
    "import numpy as np\n",
    "from sklearn.base import BaseEstimator, TransformerMixin\n",
    "\n",
    "class Ordinar(BaseEstimator,TransformerMixin):\n",
    "    '''\n",
    "    transform category value to ordinal\n",
    "    '''\n",
    "    def __init__(self,cat_list):\n",
    "        '''\n",
    "        list of category values, index means ordinal\n",
    "        '''\n",
    "        self.cat_list=cat_list\n",
    "        \n",
    "    def fit(self, X, y=None):\n",
    "        return self\n",
    "            \n",
    "    \n",
    "    def transform(self, X, y=None):\n",
    "        df=pd.DataFrame(X,columns=['x'])\n",
    "        not_missing_index=df[np.logical_not(df['x'].isnull())].index\n",
    "        \n",
    "        df[df['x'].isnull()]=-1\n",
    "        for i in not_missing_index:\n",
    "            for j in range(len(self.cat_list)):\n",
    "                if self.cat_list[j].lower() == X[i][0].lower() :\n",
    "                    df.loc[i,'x'] = j\n",
    "                    break\n",
    "                \n",
    "        return df.astype(float).values\n",
    "                    \n",
    "    def fit_transform(self, X, y=None):\n",
    "        self.fit(X)\n",
    "        return self.transform(X)\n",
    "    \n",
    "import unittest as ut\n",
    "\n",
    "from sklearn.pipeline import Pipeline\n",
    "\n",
    "class Test(ut.TestCase):\n",
    "    def test(self):\n",
    "        df=pd.DataFrame({'level':['ex','gd','ex',np.nan]})\n",
    "        \n",
    "        o=Ordinar(['GD','ex'])\n",
    "        data=o.fit_transform(df[['level']].values)\n",
    "        \n",
    "        self.assertTrue(np.array_equal(np.array([[1],[0],[1],[-1]]), data))\n",
    "        \n",
    "if __name__ == '__main__':\n",
    "    ut.main(argv=['ignored', '-v'], exit=False)"
   ]
  }
 ],
 "metadata": {
  "kernelspec": {
   "display_name": "Python 3",
   "language": "python",
   "name": "python3"
  },
  "language_info": {
   "codemirror_mode": {
    "name": "ipython",
    "version": 3
   },
   "file_extension": ".py",
   "mimetype": "text/x-python",
   "name": "python",
   "nbconvert_exporter": "python",
   "pygments_lexer": "ipython3",
   "version": "3.5.3"
  }
 },
 "nbformat": 4,
 "nbformat_minor": 2
}
